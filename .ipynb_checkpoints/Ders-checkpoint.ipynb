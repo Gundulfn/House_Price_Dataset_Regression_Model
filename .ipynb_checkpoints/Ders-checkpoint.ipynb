{
 "cells": [
  {
   "cell_type": "code",
   "execution_count": 1,
   "id": "2961ca6d-f0b3-4816-a5a5-6deb8d8f4074",
   "metadata": {},
   "outputs": [],
   "source": [
    "import pandas as pd\n",
    "import numpy as np\n",
    "import seaborn as sns\n",
    "import matplotlib.pyplot as plt\n",
    "import plotly.express as px\n",
    "import plotly as pt\n",
    "import warnings\n",
    "warnings.simplefilter(action=\"ignore\", category=Warning)"
   ]
  },
  {
   "cell_type": "code",
   "execution_count": 2,
   "id": "8399c440-4e53-4f1d-9401-02a82fa9c560",
   "metadata": {},
   "outputs": [
    {
     "data": {
      "text/html": [
       "<div>\n",
       "<style scoped>\n",
       "    .dataframe tbody tr th:only-of-type {\n",
       "        vertical-align: middle;\n",
       "    }\n",
       "\n",
       "    .dataframe tbody tr th {\n",
       "        vertical-align: top;\n",
       "    }\n",
       "\n",
       "    .dataframe thead th {\n",
       "        text-align: right;\n",
       "    }\n",
       "</style>\n",
       "<table border=\"1\" class=\"dataframe\">\n",
       "  <thead>\n",
       "    <tr style=\"text-align: right;\">\n",
       "      <th></th>\n",
       "      <th>#</th>\n",
       "      <th>Name</th>\n",
       "      <th>Type 1</th>\n",
       "      <th>Type 2</th>\n",
       "      <th>Total</th>\n",
       "      <th>HP</th>\n",
       "      <th>Attack</th>\n",
       "      <th>Defense</th>\n",
       "      <th>Sp. Atk</th>\n",
       "      <th>Sp. Def</th>\n",
       "      <th>Speed</th>\n",
       "      <th>Generation</th>\n",
       "      <th>Legendary</th>\n",
       "    </tr>\n",
       "  </thead>\n",
       "  <tbody>\n",
       "    <tr>\n",
       "      <th>0</th>\n",
       "      <td>1</td>\n",
       "      <td>Bulbasaur</td>\n",
       "      <td>Grass</td>\n",
       "      <td>Poison</td>\n",
       "      <td>318</td>\n",
       "      <td>45</td>\n",
       "      <td>49</td>\n",
       "      <td>49</td>\n",
       "      <td>65</td>\n",
       "      <td>65</td>\n",
       "      <td>45</td>\n",
       "      <td>1</td>\n",
       "      <td>False</td>\n",
       "    </tr>\n",
       "    <tr>\n",
       "      <th>1</th>\n",
       "      <td>2</td>\n",
       "      <td>Ivysaur</td>\n",
       "      <td>Grass</td>\n",
       "      <td>Poison</td>\n",
       "      <td>405</td>\n",
       "      <td>60</td>\n",
       "      <td>62</td>\n",
       "      <td>63</td>\n",
       "      <td>80</td>\n",
       "      <td>80</td>\n",
       "      <td>60</td>\n",
       "      <td>1</td>\n",
       "      <td>False</td>\n",
       "    </tr>\n",
       "    <tr>\n",
       "      <th>2</th>\n",
       "      <td>3</td>\n",
       "      <td>Venusaur</td>\n",
       "      <td>Grass</td>\n",
       "      <td>Poison</td>\n",
       "      <td>525</td>\n",
       "      <td>80</td>\n",
       "      <td>82</td>\n",
       "      <td>83</td>\n",
       "      <td>100</td>\n",
       "      <td>100</td>\n",
       "      <td>80</td>\n",
       "      <td>1</td>\n",
       "      <td>False</td>\n",
       "    </tr>\n",
       "    <tr>\n",
       "      <th>3</th>\n",
       "      <td>3</td>\n",
       "      <td>VenusaurMega Venusaur</td>\n",
       "      <td>Grass</td>\n",
       "      <td>Poison</td>\n",
       "      <td>625</td>\n",
       "      <td>80</td>\n",
       "      <td>100</td>\n",
       "      <td>123</td>\n",
       "      <td>122</td>\n",
       "      <td>120</td>\n",
       "      <td>80</td>\n",
       "      <td>1</td>\n",
       "      <td>False</td>\n",
       "    </tr>\n",
       "    <tr>\n",
       "      <th>4</th>\n",
       "      <td>4</td>\n",
       "      <td>Charmander</td>\n",
       "      <td>Fire</td>\n",
       "      <td>NaN</td>\n",
       "      <td>309</td>\n",
       "      <td>39</td>\n",
       "      <td>52</td>\n",
       "      <td>43</td>\n",
       "      <td>60</td>\n",
       "      <td>50</td>\n",
       "      <td>65</td>\n",
       "      <td>1</td>\n",
       "      <td>False</td>\n",
       "    </tr>\n",
       "    <tr>\n",
       "      <th>...</th>\n",
       "      <td>...</td>\n",
       "      <td>...</td>\n",
       "      <td>...</td>\n",
       "      <td>...</td>\n",
       "      <td>...</td>\n",
       "      <td>...</td>\n",
       "      <td>...</td>\n",
       "      <td>...</td>\n",
       "      <td>...</td>\n",
       "      <td>...</td>\n",
       "      <td>...</td>\n",
       "      <td>...</td>\n",
       "      <td>...</td>\n",
       "    </tr>\n",
       "    <tr>\n",
       "      <th>795</th>\n",
       "      <td>719</td>\n",
       "      <td>Diancie</td>\n",
       "      <td>Rock</td>\n",
       "      <td>Fairy</td>\n",
       "      <td>600</td>\n",
       "      <td>50</td>\n",
       "      <td>100</td>\n",
       "      <td>150</td>\n",
       "      <td>100</td>\n",
       "      <td>150</td>\n",
       "      <td>50</td>\n",
       "      <td>6</td>\n",
       "      <td>True</td>\n",
       "    </tr>\n",
       "    <tr>\n",
       "      <th>796</th>\n",
       "      <td>719</td>\n",
       "      <td>DiancieMega Diancie</td>\n",
       "      <td>Rock</td>\n",
       "      <td>Fairy</td>\n",
       "      <td>700</td>\n",
       "      <td>50</td>\n",
       "      <td>160</td>\n",
       "      <td>110</td>\n",
       "      <td>160</td>\n",
       "      <td>110</td>\n",
       "      <td>110</td>\n",
       "      <td>6</td>\n",
       "      <td>True</td>\n",
       "    </tr>\n",
       "    <tr>\n",
       "      <th>797</th>\n",
       "      <td>720</td>\n",
       "      <td>HoopaHoopa Confined</td>\n",
       "      <td>Psychic</td>\n",
       "      <td>Ghost</td>\n",
       "      <td>600</td>\n",
       "      <td>80</td>\n",
       "      <td>110</td>\n",
       "      <td>60</td>\n",
       "      <td>150</td>\n",
       "      <td>130</td>\n",
       "      <td>70</td>\n",
       "      <td>6</td>\n",
       "      <td>True</td>\n",
       "    </tr>\n",
       "    <tr>\n",
       "      <th>798</th>\n",
       "      <td>720</td>\n",
       "      <td>HoopaHoopa Unbound</td>\n",
       "      <td>Psychic</td>\n",
       "      <td>Dark</td>\n",
       "      <td>680</td>\n",
       "      <td>80</td>\n",
       "      <td>160</td>\n",
       "      <td>60</td>\n",
       "      <td>170</td>\n",
       "      <td>130</td>\n",
       "      <td>80</td>\n",
       "      <td>6</td>\n",
       "      <td>True</td>\n",
       "    </tr>\n",
       "    <tr>\n",
       "      <th>799</th>\n",
       "      <td>721</td>\n",
       "      <td>Volcanion</td>\n",
       "      <td>Fire</td>\n",
       "      <td>Water</td>\n",
       "      <td>600</td>\n",
       "      <td>80</td>\n",
       "      <td>110</td>\n",
       "      <td>120</td>\n",
       "      <td>130</td>\n",
       "      <td>90</td>\n",
       "      <td>70</td>\n",
       "      <td>6</td>\n",
       "      <td>True</td>\n",
       "    </tr>\n",
       "  </tbody>\n",
       "</table>\n",
       "<p>800 rows × 13 columns</p>\n",
       "</div>"
      ],
      "text/plain": [
       "       #                   Name   Type 1  Type 2  Total  HP  Attack  Defense  \\\n",
       "0      1              Bulbasaur    Grass  Poison    318  45      49       49   \n",
       "1      2                Ivysaur    Grass  Poison    405  60      62       63   \n",
       "2      3               Venusaur    Grass  Poison    525  80      82       83   \n",
       "3      3  VenusaurMega Venusaur    Grass  Poison    625  80     100      123   \n",
       "4      4             Charmander     Fire     NaN    309  39      52       43   \n",
       "..   ...                    ...      ...     ...    ...  ..     ...      ...   \n",
       "795  719                Diancie     Rock   Fairy    600  50     100      150   \n",
       "796  719    DiancieMega Diancie     Rock   Fairy    700  50     160      110   \n",
       "797  720    HoopaHoopa Confined  Psychic   Ghost    600  80     110       60   \n",
       "798  720     HoopaHoopa Unbound  Psychic    Dark    680  80     160       60   \n",
       "799  721              Volcanion     Fire   Water    600  80     110      120   \n",
       "\n",
       "     Sp. Atk  Sp. Def  Speed  Generation  Legendary  \n",
       "0         65       65     45           1      False  \n",
       "1         80       80     60           1      False  \n",
       "2        100      100     80           1      False  \n",
       "3        122      120     80           1      False  \n",
       "4         60       50     65           1      False  \n",
       "..       ...      ...    ...         ...        ...  \n",
       "795      100      150     50           6       True  \n",
       "796      160      110    110           6       True  \n",
       "797      150      130     70           6       True  \n",
       "798      170      130     80           6       True  \n",
       "799      130       90     70           6       True  \n",
       "\n",
       "[800 rows x 13 columns]"
      ]
     },
     "execution_count": 2,
     "metadata": {},
     "output_type": "execute_result"
    }
   ],
   "source": [
    "df = pd.read_csv(r\"Pokemon.csv\")\n",
    "df"
   ]
  },
  {
   "cell_type": "code",
   "execution_count": 3,
   "id": "82f56f45-e248-4c37-b297-94e71557d9e6",
   "metadata": {},
   "outputs": [
    {
     "data": {
      "text/plain": [
       "#               0\n",
       "Name            0\n",
       "Type 1          0\n",
       "Type 2        386\n",
       "Total           0\n",
       "HP              0\n",
       "Attack          0\n",
       "Defense         0\n",
       "Sp. Atk         0\n",
       "Sp. Def         0\n",
       "Speed           0\n",
       "Generation      0\n",
       "Legendary       0\n",
       "dtype: int64"
      ]
     },
     "execution_count": 3,
     "metadata": {},
     "output_type": "execute_result"
    }
   ],
   "source": [
    "df.isnull().sum()"
   ]
  },
  {
   "cell_type": "code",
   "execution_count": 4,
   "id": "80552871-2c5d-4167-adc9-b339e6c5cd51",
   "metadata": {},
   "outputs": [
    {
     "data": {
      "text/html": [
       "<div>\n",
       "<style scoped>\n",
       "    .dataframe tbody tr th:only-of-type {\n",
       "        vertical-align: middle;\n",
       "    }\n",
       "\n",
       "    .dataframe tbody tr th {\n",
       "        vertical-align: top;\n",
       "    }\n",
       "\n",
       "    .dataframe thead th {\n",
       "        text-align: right;\n",
       "    }\n",
       "</style>\n",
       "<table border=\"1\" class=\"dataframe\">\n",
       "  <thead>\n",
       "    <tr style=\"text-align: right;\">\n",
       "      <th></th>\n",
       "      <th>#</th>\n",
       "      <th>Name</th>\n",
       "      <th>Type 1</th>\n",
       "      <th>Type 2</th>\n",
       "      <th>Total</th>\n",
       "      <th>HP</th>\n",
       "      <th>Attack</th>\n",
       "      <th>Defense</th>\n",
       "      <th>Sp. Atk</th>\n",
       "      <th>Sp. Def</th>\n",
       "      <th>Speed</th>\n",
       "      <th>Generation</th>\n",
       "      <th>Legendary</th>\n",
       "    </tr>\n",
       "  </thead>\n",
       "  <tbody>\n",
       "    <tr>\n",
       "      <th>0</th>\n",
       "      <td>1</td>\n",
       "      <td>Bulbasaur</td>\n",
       "      <td>Grass</td>\n",
       "      <td>Poison</td>\n",
       "      <td>318</td>\n",
       "      <td>45</td>\n",
       "      <td>49</td>\n",
       "      <td>49</td>\n",
       "      <td>65</td>\n",
       "      <td>65</td>\n",
       "      <td>45</td>\n",
       "      <td>1</td>\n",
       "      <td>False</td>\n",
       "    </tr>\n",
       "    <tr>\n",
       "      <th>1</th>\n",
       "      <td>2</td>\n",
       "      <td>Ivysaur</td>\n",
       "      <td>Grass</td>\n",
       "      <td>Poison</td>\n",
       "      <td>405</td>\n",
       "      <td>60</td>\n",
       "      <td>62</td>\n",
       "      <td>63</td>\n",
       "      <td>80</td>\n",
       "      <td>80</td>\n",
       "      <td>60</td>\n",
       "      <td>1</td>\n",
       "      <td>False</td>\n",
       "    </tr>\n",
       "    <tr>\n",
       "      <th>2</th>\n",
       "      <td>3</td>\n",
       "      <td>Venusaur</td>\n",
       "      <td>Grass</td>\n",
       "      <td>Poison</td>\n",
       "      <td>525</td>\n",
       "      <td>80</td>\n",
       "      <td>82</td>\n",
       "      <td>83</td>\n",
       "      <td>100</td>\n",
       "      <td>100</td>\n",
       "      <td>80</td>\n",
       "      <td>1</td>\n",
       "      <td>False</td>\n",
       "    </tr>\n",
       "    <tr>\n",
       "      <th>3</th>\n",
       "      <td>3</td>\n",
       "      <td>VenusaurMega Venusaur</td>\n",
       "      <td>Grass</td>\n",
       "      <td>Poison</td>\n",
       "      <td>625</td>\n",
       "      <td>80</td>\n",
       "      <td>100</td>\n",
       "      <td>123</td>\n",
       "      <td>122</td>\n",
       "      <td>120</td>\n",
       "      <td>80</td>\n",
       "      <td>1</td>\n",
       "      <td>False</td>\n",
       "    </tr>\n",
       "    <tr>\n",
       "      <th>4</th>\n",
       "      <td>4</td>\n",
       "      <td>Charmander</td>\n",
       "      <td>Fire</td>\n",
       "      <td>NaN</td>\n",
       "      <td>309</td>\n",
       "      <td>39</td>\n",
       "      <td>52</td>\n",
       "      <td>43</td>\n",
       "      <td>60</td>\n",
       "      <td>50</td>\n",
       "      <td>65</td>\n",
       "      <td>1</td>\n",
       "      <td>False</td>\n",
       "    </tr>\n",
       "    <tr>\n",
       "      <th>5</th>\n",
       "      <td>5</td>\n",
       "      <td>Charmeleon</td>\n",
       "      <td>Fire</td>\n",
       "      <td>NaN</td>\n",
       "      <td>405</td>\n",
       "      <td>58</td>\n",
       "      <td>64</td>\n",
       "      <td>58</td>\n",
       "      <td>80</td>\n",
       "      <td>65</td>\n",
       "      <td>80</td>\n",
       "      <td>1</td>\n",
       "      <td>False</td>\n",
       "    </tr>\n",
       "    <tr>\n",
       "      <th>6</th>\n",
       "      <td>6</td>\n",
       "      <td>Charizard</td>\n",
       "      <td>Fire</td>\n",
       "      <td>Flying</td>\n",
       "      <td>534</td>\n",
       "      <td>78</td>\n",
       "      <td>84</td>\n",
       "      <td>78</td>\n",
       "      <td>109</td>\n",
       "      <td>85</td>\n",
       "      <td>100</td>\n",
       "      <td>1</td>\n",
       "      <td>False</td>\n",
       "    </tr>\n",
       "    <tr>\n",
       "      <th>7</th>\n",
       "      <td>6</td>\n",
       "      <td>CharizardMega Charizard X</td>\n",
       "      <td>Fire</td>\n",
       "      <td>Dragon</td>\n",
       "      <td>634</td>\n",
       "      <td>78</td>\n",
       "      <td>130</td>\n",
       "      <td>111</td>\n",
       "      <td>130</td>\n",
       "      <td>85</td>\n",
       "      <td>100</td>\n",
       "      <td>1</td>\n",
       "      <td>False</td>\n",
       "    </tr>\n",
       "    <tr>\n",
       "      <th>8</th>\n",
       "      <td>6</td>\n",
       "      <td>CharizardMega Charizard Y</td>\n",
       "      <td>Fire</td>\n",
       "      <td>Flying</td>\n",
       "      <td>634</td>\n",
       "      <td>78</td>\n",
       "      <td>104</td>\n",
       "      <td>78</td>\n",
       "      <td>159</td>\n",
       "      <td>115</td>\n",
       "      <td>100</td>\n",
       "      <td>1</td>\n",
       "      <td>False</td>\n",
       "    </tr>\n",
       "    <tr>\n",
       "      <th>9</th>\n",
       "      <td>7</td>\n",
       "      <td>Squirtle</td>\n",
       "      <td>Water</td>\n",
       "      <td>NaN</td>\n",
       "      <td>314</td>\n",
       "      <td>44</td>\n",
       "      <td>48</td>\n",
       "      <td>65</td>\n",
       "      <td>50</td>\n",
       "      <td>64</td>\n",
       "      <td>43</td>\n",
       "      <td>1</td>\n",
       "      <td>False</td>\n",
       "    </tr>\n",
       "  </tbody>\n",
       "</table>\n",
       "</div>"
      ],
      "text/plain": [
       "   #                       Name Type 1  Type 2  Total  HP  Attack  Defense  \\\n",
       "0  1                  Bulbasaur  Grass  Poison    318  45      49       49   \n",
       "1  2                    Ivysaur  Grass  Poison    405  60      62       63   \n",
       "2  3                   Venusaur  Grass  Poison    525  80      82       83   \n",
       "3  3      VenusaurMega Venusaur  Grass  Poison    625  80     100      123   \n",
       "4  4                 Charmander   Fire     NaN    309  39      52       43   \n",
       "5  5                 Charmeleon   Fire     NaN    405  58      64       58   \n",
       "6  6                  Charizard   Fire  Flying    534  78      84       78   \n",
       "7  6  CharizardMega Charizard X   Fire  Dragon    634  78     130      111   \n",
       "8  6  CharizardMega Charizard Y   Fire  Flying    634  78     104       78   \n",
       "9  7                   Squirtle  Water     NaN    314  44      48       65   \n",
       "\n",
       "   Sp. Atk  Sp. Def  Speed  Generation  Legendary  \n",
       "0       65       65     45           1      False  \n",
       "1       80       80     60           1      False  \n",
       "2      100      100     80           1      False  \n",
       "3      122      120     80           1      False  \n",
       "4       60       50     65           1      False  \n",
       "5       80       65     80           1      False  \n",
       "6      109       85    100           1      False  \n",
       "7      130       85    100           1      False  \n",
       "8      159      115    100           1      False  \n",
       "9       50       64     43           1      False  "
      ]
     },
     "execution_count": 4,
     "metadata": {},
     "output_type": "execute_result"
    }
   ],
   "source": [
    "df.head(10)"
   ]
  },
  {
   "cell_type": "code",
   "execution_count": 210,
   "id": "18bcd0e7-e181-471c-9f3a-ad90a35c6ae9",
   "metadata": {},
   "outputs": [
    {
     "name": "stdout",
     "output_type": "stream",
     "text": [
      "<class 'pandas.core.frame.DataFrame'>\n",
      "RangeIndex: 800 entries, 0 to 799\n",
      "Data columns (total 13 columns):\n",
      " #   Column      Non-Null Count  Dtype \n",
      "---  ------      --------------  ----- \n",
      " 0   #           800 non-null    int64 \n",
      " 1   Name        800 non-null    object\n",
      " 2   Type 1      800 non-null    object\n",
      " 3   Type 2      414 non-null    object\n",
      " 4   Total       800 non-null    int64 \n",
      " 5   HP          800 non-null    int64 \n",
      " 6   Attack      800 non-null    int64 \n",
      " 7   Defense     800 non-null    int64 \n",
      " 8   Sp. Atk     800 non-null    int64 \n",
      " 9   Sp. Def     800 non-null    int64 \n",
      " 10  Speed       800 non-null    int64 \n",
      " 11  Generation  800 non-null    int64 \n",
      " 12  Legendary   800 non-null    bool  \n",
      "dtypes: bool(1), int64(9), object(3)\n",
      "memory usage: 75.9+ KB\n"
     ]
    }
   ],
   "source": [
    "df.info()"
   ]
  },
  {
   "cell_type": "code",
   "execution_count": 211,
   "id": "07605419-aa46-4717-bd4c-5d45389d4094",
   "metadata": {},
   "outputs": [
    {
     "data": {
      "text/html": [
       "<div>\n",
       "<style scoped>\n",
       "    .dataframe tbody tr th:only-of-type {\n",
       "        vertical-align: middle;\n",
       "    }\n",
       "\n",
       "    .dataframe tbody tr th {\n",
       "        vertical-align: top;\n",
       "    }\n",
       "\n",
       "    .dataframe thead th {\n",
       "        text-align: right;\n",
       "    }\n",
       "</style>\n",
       "<table border=\"1\" class=\"dataframe\">\n",
       "  <thead>\n",
       "    <tr style=\"text-align: right;\">\n",
       "      <th></th>\n",
       "      <th>#</th>\n",
       "      <th>Total</th>\n",
       "      <th>HP</th>\n",
       "      <th>Attack</th>\n",
       "      <th>Defense</th>\n",
       "      <th>Sp. Atk</th>\n",
       "      <th>Sp. Def</th>\n",
       "      <th>Speed</th>\n",
       "      <th>Generation</th>\n",
       "    </tr>\n",
       "  </thead>\n",
       "  <tbody>\n",
       "    <tr>\n",
       "      <th>count</th>\n",
       "      <td>800.000000</td>\n",
       "      <td>800.00000</td>\n",
       "      <td>800.000000</td>\n",
       "      <td>800.000000</td>\n",
       "      <td>800.000000</td>\n",
       "      <td>800.000000</td>\n",
       "      <td>800.000000</td>\n",
       "      <td>800.000000</td>\n",
       "      <td>800.00000</td>\n",
       "    </tr>\n",
       "    <tr>\n",
       "      <th>mean</th>\n",
       "      <td>362.813750</td>\n",
       "      <td>435.10250</td>\n",
       "      <td>69.258750</td>\n",
       "      <td>79.001250</td>\n",
       "      <td>73.842500</td>\n",
       "      <td>72.820000</td>\n",
       "      <td>71.902500</td>\n",
       "      <td>68.277500</td>\n",
       "      <td>3.32375</td>\n",
       "    </tr>\n",
       "    <tr>\n",
       "      <th>std</th>\n",
       "      <td>208.343798</td>\n",
       "      <td>119.96304</td>\n",
       "      <td>25.534669</td>\n",
       "      <td>32.457366</td>\n",
       "      <td>31.183501</td>\n",
       "      <td>32.722294</td>\n",
       "      <td>27.828916</td>\n",
       "      <td>29.060474</td>\n",
       "      <td>1.66129</td>\n",
       "    </tr>\n",
       "    <tr>\n",
       "      <th>min</th>\n",
       "      <td>1.000000</td>\n",
       "      <td>180.00000</td>\n",
       "      <td>1.000000</td>\n",
       "      <td>5.000000</td>\n",
       "      <td>5.000000</td>\n",
       "      <td>10.000000</td>\n",
       "      <td>20.000000</td>\n",
       "      <td>5.000000</td>\n",
       "      <td>1.00000</td>\n",
       "    </tr>\n",
       "    <tr>\n",
       "      <th>25%</th>\n",
       "      <td>184.750000</td>\n",
       "      <td>330.00000</td>\n",
       "      <td>50.000000</td>\n",
       "      <td>55.000000</td>\n",
       "      <td>50.000000</td>\n",
       "      <td>49.750000</td>\n",
       "      <td>50.000000</td>\n",
       "      <td>45.000000</td>\n",
       "      <td>2.00000</td>\n",
       "    </tr>\n",
       "    <tr>\n",
       "      <th>50%</th>\n",
       "      <td>364.500000</td>\n",
       "      <td>450.00000</td>\n",
       "      <td>65.000000</td>\n",
       "      <td>75.000000</td>\n",
       "      <td>70.000000</td>\n",
       "      <td>65.000000</td>\n",
       "      <td>70.000000</td>\n",
       "      <td>65.000000</td>\n",
       "      <td>3.00000</td>\n",
       "    </tr>\n",
       "    <tr>\n",
       "      <th>75%</th>\n",
       "      <td>539.250000</td>\n",
       "      <td>515.00000</td>\n",
       "      <td>80.000000</td>\n",
       "      <td>100.000000</td>\n",
       "      <td>90.000000</td>\n",
       "      <td>95.000000</td>\n",
       "      <td>90.000000</td>\n",
       "      <td>90.000000</td>\n",
       "      <td>5.00000</td>\n",
       "    </tr>\n",
       "    <tr>\n",
       "      <th>max</th>\n",
       "      <td>721.000000</td>\n",
       "      <td>780.00000</td>\n",
       "      <td>255.000000</td>\n",
       "      <td>190.000000</td>\n",
       "      <td>230.000000</td>\n",
       "      <td>194.000000</td>\n",
       "      <td>230.000000</td>\n",
       "      <td>180.000000</td>\n",
       "      <td>6.00000</td>\n",
       "    </tr>\n",
       "  </tbody>\n",
       "</table>\n",
       "</div>"
      ],
      "text/plain": [
       "                #      Total          HP      Attack     Defense     Sp. Atk  \\\n",
       "count  800.000000  800.00000  800.000000  800.000000  800.000000  800.000000   \n",
       "mean   362.813750  435.10250   69.258750   79.001250   73.842500   72.820000   \n",
       "std    208.343798  119.96304   25.534669   32.457366   31.183501   32.722294   \n",
       "min      1.000000  180.00000    1.000000    5.000000    5.000000   10.000000   \n",
       "25%    184.750000  330.00000   50.000000   55.000000   50.000000   49.750000   \n",
       "50%    364.500000  450.00000   65.000000   75.000000   70.000000   65.000000   \n",
       "75%    539.250000  515.00000   80.000000  100.000000   90.000000   95.000000   \n",
       "max    721.000000  780.00000  255.000000  190.000000  230.000000  194.000000   \n",
       "\n",
       "          Sp. Def       Speed  Generation  \n",
       "count  800.000000  800.000000   800.00000  \n",
       "mean    71.902500   68.277500     3.32375  \n",
       "std     27.828916   29.060474     1.66129  \n",
       "min     20.000000    5.000000     1.00000  \n",
       "25%     50.000000   45.000000     2.00000  \n",
       "50%     70.000000   65.000000     3.00000  \n",
       "75%     90.000000   90.000000     5.00000  \n",
       "max    230.000000  180.000000     6.00000  "
      ]
     },
     "execution_count": 211,
     "metadata": {},
     "output_type": "execute_result"
    }
   ],
   "source": [
    "df.describe()"
   ]
  },
  {
   "cell_type": "markdown",
   "id": "56a894df-5291-4fd6-a09c-5fb459774113",
   "metadata": {},
   "source": [
    "* Korelasyon da benzerlik var ama nedensellik yok."
   ]
  },
  {
   "cell_type": "code",
   "execution_count": 212,
   "id": "cecda1c1-4df6-4bbf-a4e8-f35622ba220a",
   "metadata": {},
   "outputs": [
    {
     "data": {
      "text/html": [
       "<div>\n",
       "<style scoped>\n",
       "    .dataframe tbody tr th:only-of-type {\n",
       "        vertical-align: middle;\n",
       "    }\n",
       "\n",
       "    .dataframe tbody tr th {\n",
       "        vertical-align: top;\n",
       "    }\n",
       "\n",
       "    .dataframe thead th {\n",
       "        text-align: right;\n",
       "    }\n",
       "</style>\n",
       "<table border=\"1\" class=\"dataframe\">\n",
       "  <thead>\n",
       "    <tr style=\"text-align: right;\">\n",
       "      <th></th>\n",
       "      <th>#</th>\n",
       "      <th>Total</th>\n",
       "      <th>HP</th>\n",
       "      <th>Attack</th>\n",
       "      <th>Defense</th>\n",
       "      <th>Sp. Atk</th>\n",
       "      <th>Sp. Def</th>\n",
       "      <th>Speed</th>\n",
       "      <th>Generation</th>\n",
       "      <th>Legendary</th>\n",
       "    </tr>\n",
       "  </thead>\n",
       "  <tbody>\n",
       "    <tr>\n",
       "      <th>#</th>\n",
       "      <td>1.000000</td>\n",
       "      <td>0.119813</td>\n",
       "      <td>0.097614</td>\n",
       "      <td>0.102298</td>\n",
       "      <td>0.094786</td>\n",
       "      <td>0.088759</td>\n",
       "      <td>0.085817</td>\n",
       "      <td>0.010733</td>\n",
       "      <td>0.982516</td>\n",
       "      <td>0.153396</td>\n",
       "    </tr>\n",
       "    <tr>\n",
       "      <th>Total</th>\n",
       "      <td>0.119813</td>\n",
       "      <td>1.000000</td>\n",
       "      <td>0.618748</td>\n",
       "      <td>0.736211</td>\n",
       "      <td>0.612787</td>\n",
       "      <td>0.747250</td>\n",
       "      <td>0.717609</td>\n",
       "      <td>0.575943</td>\n",
       "      <td>0.048384</td>\n",
       "      <td>0.501758</td>\n",
       "    </tr>\n",
       "    <tr>\n",
       "      <th>HP</th>\n",
       "      <td>0.097614</td>\n",
       "      <td>0.618748</td>\n",
       "      <td>1.000000</td>\n",
       "      <td>0.422386</td>\n",
       "      <td>0.239622</td>\n",
       "      <td>0.362380</td>\n",
       "      <td>0.378718</td>\n",
       "      <td>0.175952</td>\n",
       "      <td>0.058683</td>\n",
       "      <td>0.273620</td>\n",
       "    </tr>\n",
       "    <tr>\n",
       "      <th>Attack</th>\n",
       "      <td>0.102298</td>\n",
       "      <td>0.736211</td>\n",
       "      <td>0.422386</td>\n",
       "      <td>1.000000</td>\n",
       "      <td>0.438687</td>\n",
       "      <td>0.396362</td>\n",
       "      <td>0.263990</td>\n",
       "      <td>0.381240</td>\n",
       "      <td>0.051451</td>\n",
       "      <td>0.345408</td>\n",
       "    </tr>\n",
       "    <tr>\n",
       "      <th>Defense</th>\n",
       "      <td>0.094786</td>\n",
       "      <td>0.612787</td>\n",
       "      <td>0.239622</td>\n",
       "      <td>0.438687</td>\n",
       "      <td>1.000000</td>\n",
       "      <td>0.223549</td>\n",
       "      <td>0.510747</td>\n",
       "      <td>0.015227</td>\n",
       "      <td>0.042419</td>\n",
       "      <td>0.246377</td>\n",
       "    </tr>\n",
       "    <tr>\n",
       "      <th>Sp. Atk</th>\n",
       "      <td>0.088759</td>\n",
       "      <td>0.747250</td>\n",
       "      <td>0.362380</td>\n",
       "      <td>0.396362</td>\n",
       "      <td>0.223549</td>\n",
       "      <td>1.000000</td>\n",
       "      <td>0.506121</td>\n",
       "      <td>0.473018</td>\n",
       "      <td>0.036437</td>\n",
       "      <td>0.448907</td>\n",
       "    </tr>\n",
       "    <tr>\n",
       "      <th>Sp. Def</th>\n",
       "      <td>0.085817</td>\n",
       "      <td>0.717609</td>\n",
       "      <td>0.378718</td>\n",
       "      <td>0.263990</td>\n",
       "      <td>0.510747</td>\n",
       "      <td>0.506121</td>\n",
       "      <td>1.000000</td>\n",
       "      <td>0.259133</td>\n",
       "      <td>0.028486</td>\n",
       "      <td>0.363937</td>\n",
       "    </tr>\n",
       "    <tr>\n",
       "      <th>Speed</th>\n",
       "      <td>0.010733</td>\n",
       "      <td>0.575943</td>\n",
       "      <td>0.175952</td>\n",
       "      <td>0.381240</td>\n",
       "      <td>0.015227</td>\n",
       "      <td>0.473018</td>\n",
       "      <td>0.259133</td>\n",
       "      <td>1.000000</td>\n",
       "      <td>-0.023121</td>\n",
       "      <td>0.326715</td>\n",
       "    </tr>\n",
       "    <tr>\n",
       "      <th>Generation</th>\n",
       "      <td>0.982516</td>\n",
       "      <td>0.048384</td>\n",
       "      <td>0.058683</td>\n",
       "      <td>0.051451</td>\n",
       "      <td>0.042419</td>\n",
       "      <td>0.036437</td>\n",
       "      <td>0.028486</td>\n",
       "      <td>-0.023121</td>\n",
       "      <td>1.000000</td>\n",
       "      <td>0.079794</td>\n",
       "    </tr>\n",
       "    <tr>\n",
       "      <th>Legendary</th>\n",
       "      <td>0.153396</td>\n",
       "      <td>0.501758</td>\n",
       "      <td>0.273620</td>\n",
       "      <td>0.345408</td>\n",
       "      <td>0.246377</td>\n",
       "      <td>0.448907</td>\n",
       "      <td>0.363937</td>\n",
       "      <td>0.326715</td>\n",
       "      <td>0.079794</td>\n",
       "      <td>1.000000</td>\n",
       "    </tr>\n",
       "  </tbody>\n",
       "</table>\n",
       "</div>"
      ],
      "text/plain": [
       "                   #     Total        HP    Attack   Defense   Sp. Atk  \\\n",
       "#           1.000000  0.119813  0.097614  0.102298  0.094786  0.088759   \n",
       "Total       0.119813  1.000000  0.618748  0.736211  0.612787  0.747250   \n",
       "HP          0.097614  0.618748  1.000000  0.422386  0.239622  0.362380   \n",
       "Attack      0.102298  0.736211  0.422386  1.000000  0.438687  0.396362   \n",
       "Defense     0.094786  0.612787  0.239622  0.438687  1.000000  0.223549   \n",
       "Sp. Atk     0.088759  0.747250  0.362380  0.396362  0.223549  1.000000   \n",
       "Sp. Def     0.085817  0.717609  0.378718  0.263990  0.510747  0.506121   \n",
       "Speed       0.010733  0.575943  0.175952  0.381240  0.015227  0.473018   \n",
       "Generation  0.982516  0.048384  0.058683  0.051451  0.042419  0.036437   \n",
       "Legendary   0.153396  0.501758  0.273620  0.345408  0.246377  0.448907   \n",
       "\n",
       "             Sp. Def     Speed  Generation  Legendary  \n",
       "#           0.085817  0.010733    0.982516   0.153396  \n",
       "Total       0.717609  0.575943    0.048384   0.501758  \n",
       "HP          0.378718  0.175952    0.058683   0.273620  \n",
       "Attack      0.263990  0.381240    0.051451   0.345408  \n",
       "Defense     0.510747  0.015227    0.042419   0.246377  \n",
       "Sp. Atk     0.506121  0.473018    0.036437   0.448907  \n",
       "Sp. Def     1.000000  0.259133    0.028486   0.363937  \n",
       "Speed       0.259133  1.000000   -0.023121   0.326715  \n",
       "Generation  0.028486 -0.023121    1.000000   0.079794  \n",
       "Legendary   0.363937  0.326715    0.079794   1.000000  "
      ]
     },
     "execution_count": 212,
     "metadata": {},
     "output_type": "execute_result"
    }
   ],
   "source": [
    "corelation = df.corr() #korelasyon\n",
    "corelation"
   ]
  },
  {
   "cell_type": "code",
   "execution_count": 213,
   "id": "d59ab82f-aae3-4ed0-8a0b-94b05e676872",
   "metadata": {},
   "outputs": [
    {
     "data": {
      "text/plain": [
       "<AxesSubplot:>"
      ]
     },
     "execution_count": 213,
     "metadata": {},
     "output_type": "execute_result"
    },
    {
     "data": {
      "image/png": "[encoded data removed]",
      "text/plain": [
       "<Figure size 640x480 with 2 Axes>"
      ]
     },
     "metadata": {},
     "output_type": "display_data"
    }
   ],
   "source": [
    "sns.heatmap(corelation)"
   ]
  },
  {
   "cell_type": "code",
   "execution_count": 214,
   "id": "e5fca99c-c5a3-4433-8eab-6be11fdb1ae9",
   "metadata": {},
   "outputs": [
    {
     "data": {
      "image/png": "[encoded data removed]",
      "text/plain": [
       "<Figure size 1800x1800 with 2 Axes>"
      ]
     },
     "metadata": {},
     "output_type": "display_data"
    }
   ],
   "source": [
    "#correlation map\n",
    "f,ax = plt.subplots(figsize=(18, 18))\n",
    "sns.heatmap(df.corr(), annot=True, linewidths=.5, fmt= '.1f',ax=ax)\n",
    "plt.show()"
   ]
  },
  {
   "cell_type": "code",
   "execution_count": 215,
   "id": "5f80dc21-17a8-485f-95d8-63d6aebf245c",
   "metadata": {},
   "outputs": [
    {
     "data": {
      "text/plain": [
       "<AxesSubplot:xlabel='Attack', ylabel='Defense'>"
      ]
     },
     "execution_count": 215,
     "metadata": {},
     "output_type": "execute_result"
    },
    {
     "data": {
      "image/png": "[encoded data removed]",
      "text/plain": [
       "<Figure size 640x480 with 1 Axes>"
      ]
     },
     "metadata": {},
     "output_type": "display_data"
    }
   ],
   "source": [
    "sns.scatterplot(data=df, x=\"Attack\", y=\"Defense\", label = \"Type 1\")"
   ]
  },
  {
   "cell_type": "code",
   "execution_count": 216,
   "id": "7c6aae03-1e45-4350-a615-53079643dae2",
   "metadata": {},
   "outputs": [
    {
     "data": {
      "application/vnd.plotly.v1+json": {
       "config": {
        "plotlyServerURL": "https://plot.ly"
       },
       "data": [
        {
         "hovertemplate": "Type 1=Grass<br>Attack=%{x}<br>Defense=%{y}<extra></extra>",
         "legendgroup": "Grass",
         "marker": {
          "color": "#636efa",
          "symbol": "circle"
         },
         "mode": "markers",
         "name": "Grass",
         "orientation": "v",
         "showlegend": true,
         "type": "scatter",
         "x": [
          49,
          62,
          82,
          100,
          50,
          65,
          80,
          75,
          90,
          105,
          40,
          95,
          55,
          49,
          62,
          82,
          80,
          35,
          45,
          55,
          30,
          75,
          45,
          65,
          85,
          110,
          40,
          70,
          100,
          40,
          130,
          60,
          85,
          115,
          68,
          68,
          89,
          109,
          30,
          70,
          35,
          60,
          100,
          62,
          92,
          132,
          100,
          110,
          100,
          103,
          45,
          60,
          75,
          53,
          98,
          27,
          67,
          35,
          60,
          86,
          55,
          85,
          50,
          94,
          90,
          61,
          78,
          107,
          65,
          100
         ],
         "xaxis": "x",
         "y": [
          49,
          63,
          83,
          123,
          55,
          70,
          85,
          35,
          50,
          65,
          80,
          85,
          115,
          65,
          80,
          100,
          95,
          40,
          50,
          70,
          30,
          55,
          35,
          45,
          65,
          75,
          50,
          40,
          60,
          60,
          80,
          45,
          40,
          60,
          83,
          64,
          85,
          105,
          35,
          65,
          45,
          70,
          72,
          50,
          75,
          105,
          125,
          130,
          100,
          75,
          55,
          75,
          95,
          48,
          63,
          60,
          85,
          50,
          75,
          67,
          45,
          70,
          91,
          131,
          72,
          65,
          95,
          122,
          48,
          62
         ],
         "yaxis": "y"
        },
        {
         "hovertemplate": "Type 1=Fire<br>Attack=%{x}<br>Defense=%{y}<extra></extra>",
         "legendgroup": "Fire",
         "marker": {
          "color": "#EF553B",
          "symbol": "circle"
         },
         "mode": "markers",
         "name": "Fire",
         "orientation": "v",
         "showlegend": true,
         "type": "scatter",
         "x": [
          52,
          64,
          84,
          130,
          104,
          41,
          76,
          70,
          110,
          85,
          100,
          95,
          130,
          100,
          52,
          64,
          84,
          40,
          50,
          75,
          115,
          130,
          60,
          85,
          120,
          160,
          60,
          100,
          120,
          85,
          58,
          78,
          104,
          95,
          90,
          63,
          93,
          123,
          53,
          98,
          90,
          140,
          30,
          97,
          45,
          59,
          69,
          73,
          81,
          50,
          68,
          110
         ],
         "xaxis": "x",
         "y": [
          43,
          58,
          78,
          111,
          78,
          40,
          75,
          45,
          80,
          55,
          70,
          57,
          60,
          90,
          43,
          58,
          78,
          40,
          120,
          37,
          85,
          90,
          40,
          60,
          70,
          80,
          40,
          70,
          100,
          140,
          44,
          52,
          71,
          67,
          106,
          45,
          55,
          65,
          48,
          63,
          45,
          55,
          105,
          66,
          40,
          58,
          72,
          55,
          71,
          58,
          72,
          120
         ],
         "yaxis": "y"
        },
        {
         "hovertemplate": "Type 1=Water<br>Attack=%{x}<br>Defense=%{y}<extra></extra>",
         "legendgroup": "Water",
         "marker": {
          "color": "#00cc96",
          "symbol": "circle"
         },
         "mode": "markers",
         "name": "Water",
         "orientation": "v",
         "showlegend": true,
         "type": "scatter",
         "x": [
          48,
          63,
          83,
          103,
          52,
          82,
          50,
          65,
          95,
          40,
          70,
          65,
          75,
          75,
          45,
          70,
          65,
          95,
          105,
          130,
          40,
          65,
          67,
          92,
          45,
          75,
          10,
          125,
          155,
          85,
          65,
          65,
          80,
          105,
          38,
          58,
          20,
          50,
          75,
          45,
          85,
          75,
          95,
          55,
          65,
          105,
          40,
          95,
          75,
          70,
          85,
          110,
          150,
          30,
          50,
          70,
          30,
          50,
          90,
          120,
          140,
          70,
          90,
          48,
          78,
          80,
          120,
          15,
          60,
          64,
          104,
          84,
          90,
          30,
          100,
          150,
          51,
          66,
          86,
          65,
          105,
          48,
          83,
          49,
          69,
          20,
          120,
          80,
          100,
          55,
          75,
          100,
          53,
          98,
          50,
          65,
          95,
          92,
          78,
          108,
          44,
          87,
          40,
          60,
          75,
          72,
          72,
          56,
          63,
          95,
          53,
          73
         ],
         "xaxis": "x",
         "y": [
          65,
          80,
          100,
          120,
          48,
          78,
          40,
          65,
          95,
          35,
          65,
          65,
          110,
          180,
          55,
          80,
          100,
          180,
          90,
          115,
          70,
          95,
          60,
          65,
          55,
          85,
          55,
          79,
          109,
          80,
          60,
          64,
          80,
          100,
          38,
          58,
          50,
          80,
          75,
          45,
          85,
          80,
          75,
          85,
          35,
          75,
          70,
          95,
          115,
          50,
          70,
          90,
          110,
          30,
          50,
          70,
          30,
          100,
          20,
          40,
          70,
          35,
          45,
          43,
          73,
          65,
          85,
          20,
          79,
          85,
          105,
          105,
          130,
          55,
          90,
          90,
          53,
          68,
          88,
          35,
          55,
          48,
          68,
          56,
          76,
          50,
          100,
          80,
          100,
          45,
          60,
          85,
          48,
          63,
          40,
          55,
          75,
          65,
          103,
          133,
          50,
          63,
          50,
          70,
          80,
          90,
          90,
          40,
          52,
          67,
          62,
          88
         ],
         "yaxis": "y"
        },
        {
         "hovertemplate": "Type 1=Bug<br>Attack=%{x}<br>Defense=%{y}<extra></extra>",
         "legendgroup": "Bug",
         "marker": {
          "color": "#ab63fa",
          "symbol": "circle"
         },
         "mode": "markers",
         "name": "Bug",
         "orientation": "v",
         "showlegend": true,
         "type": "scatter",
         "x": [
          30,
          20,
          45,
          35,
          25,
          90,
          150,
          70,
          95,
          55,
          65,
          110,
          125,
          155,
          20,
          35,
          60,
          90,
          65,
          65,
          90,
          130,
          150,
          10,
          125,
          185,
          45,
          35,
          70,
          35,
          50,
          30,
          60,
          45,
          90,
          90,
          73,
          47,
          25,
          85,
          29,
          59,
          79,
          69,
          94,
          30,
          80,
          76,
          53,
          63,
          103,
          45,
          55,
          100,
          65,
          95,
          75,
          135,
          47,
          77,
          40,
          70,
          109,
          85,
          60,
          120,
          35,
          22,
          52
         ],
         "xaxis": "x",
         "y": [
          35,
          55,
          50,
          30,
          50,
          40,
          40,
          55,
          80,
          50,
          60,
          80,
          100,
          120,
          30,
          50,
          40,
          70,
          45,
          90,
          140,
          100,
          140,
          230,
          75,
          115,
          35,
          55,
          50,
          55,
          70,
          32,
          62,
          90,
          45,
          45,
          55,
          55,
          41,
          51,
          45,
          85,
          105,
          95,
          50,
          42,
          102,
          86,
          70,
          90,
          80,
          59,
          99,
          89,
          85,
          125,
          45,
          105,
          50,
          60,
          85,
          40,
          112,
          55,
          65,
          95,
          40,
          60,
          50
         ],
         "yaxis": "y"
        },
        {
         "hovertemplate": "Type 1=Normal<br>Attack=%{x}<br>Defense=%{y}<extra></extra>",
         "legendgroup": "Normal",
         "marker": {
          "color": "#FFA15A",
          "symbol": "circle"
         },
         "mode": "markers",
         "name": "Normal",
         "orientation": "v",
         "showlegend": true,
         "type": "scatter",
         "x": [
          45,
          60,
          80,
          80,
          56,
          81,
          60,
          90,
          45,
          70,
          45,
          70,
          65,
          85,
          110,
          55,
          5,
          95,
          125,
          100,
          48,
          55,
          60,
          110,
          46,
          76,
          30,
          50,
          30,
          70,
          80,
          70,
          80,
          130,
          80,
          95,
          20,
          80,
          10,
          30,
          70,
          55,
          85,
          60,
          80,
          160,
          51,
          71,
          91,
          20,
          45,
          65,
          60,
          40,
          115,
          70,
          90,
          55,
          75,
          120,
          45,
          85,
          100,
          66,
          76,
          136,
          55,
          82,
          5,
          65,
          85,
          85,
          80,
          160,
          120,
          55,
          85,
          60,
          80,
          110,
          55,
          77,
          115,
          60,
          60,
          50,
          95,
          60,
          100,
          110,
          83,
          123,
          77,
          128,
          36,
          56,
          50,
          80
         ],
         "xaxis": "x",
         "y": [
          40,
          55,
          75,
          80,
          35,
          60,
          30,
          65,
          20,
          45,
          35,
          60,
          55,
          45,
          70,
          75,
          5,
          80,
          100,
          95,
          48,
          50,
          70,
          65,
          34,
          64,
          30,
          50,
          15,
          55,
          65,
          70,
          50,
          75,
          90,
          62,
          35,
          105,
          10,
          41,
          61,
          30,
          60,
          60,
          80,
          100,
          23,
          43,
          63,
          40,
          45,
          65,
          60,
          60,
          60,
          70,
          70,
          30,
          50,
          70,
          40,
          60,
          66,
          44,
          84,
          94,
          42,
          64,
          5,
          45,
          40,
          95,
          70,
          110,
          120,
          39,
          69,
          45,
          65,
          90,
          50,
          62,
          80,
          86,
          126,
          40,
          60,
          50,
          70,
          95,
          50,
          75,
          77,
          90,
          38,
          77,
          43,
          60
         ],
         "yaxis": "y"
        },
        {
         "hovertemplate": "Type 1=Poison<br>Attack=%{x}<br>Defense=%{y}<extra></extra>",
         "legendgroup": "Poison",
         "marker": {
          "color": "#19d3f3",
          "symbol": "circle"
         },
         "mode": "markers",
         "name": "Poison",
         "orientation": "v",
         "showlegend": true,
         "type": "scatter",
         "x": [
          60,
          85,
          47,
          62,
          92,
          57,
          72,
          102,
          45,
          80,
          80,
          105,
          65,
          90,
          90,
          43,
          73,
          100,
          63,
          93,
          50,
          90,
          61,
          106,
          50,
          95,
          60,
          75
         ],
         "xaxis": "x",
         "y": [
          44,
          69,
          52,
          67,
          87,
          40,
          57,
          77,
          35,
          70,
          50,
          75,
          95,
          120,
          80,
          53,
          83,
          60,
          47,
          67,
          90,
          110,
          40,
          65,
          62,
          82,
          60,
          90
         ],
         "yaxis": "y"
        },
        {
         "hovertemplate": "Type 1=Electric<br>Attack=%{x}<br>Defense=%{y}<extra></extra>",
         "legendgroup": "Electric",
         "marker": {
          "color": "#FF6692",
          "symbol": "circle"
         },
         "mode": "markers",
         "name": "Electric",
         "orientation": "v",
         "showlegend": true,
         "type": "scatter",
         "x": [
          55,
          90,
          35,
          60,
          30,
          50,
          83,
          65,
          90,
          40,
          40,
          55,
          75,
          95,
          63,
          85,
          45,
          75,
          75,
          50,
          40,
          65,
          85,
          120,
          45,
          70,
          123,
          50,
          65,
          65,
          65,
          65,
          65,
          60,
          100,
          75,
          55,
          85,
          115,
          115,
          105,
          38,
          55,
          58
         ],
         "xaxis": "x",
         "y": [
          40,
          55,
          70,
          95,
          50,
          70,
          57,
          60,
          85,
          15,
          40,
          55,
          85,
          105,
          37,
          75,
          40,
          60,
          80,
          40,
          50,
          34,
          49,
          79,
          70,
          115,
          67,
          77,
          107,
          107,
          107,
          107,
          107,
          32,
          63,
          60,
          40,
          70,
          80,
          70,
          70,
          33,
          52,
          57
         ],
         "yaxis": "y"
        },
        {
         "hovertemplate": "Type 1=Ground<br>Attack=%{x}<br>Defense=%{y}<extra></extra>",
         "legendgroup": "Ground",
         "marker": {
          "color": "#B6E880",
          "symbol": "circle"
         },
         "mode": "markers",
         "name": "Ground",
         "orientation": "v",
         "showlegend": true,
         "type": "scatter",
         "x": [
          75,
          100,
          55,
          80,
          50,
          80,
          85,
          130,
          75,
          60,
          120,
          100,
          70,
          100,
          40,
          70,
          150,
          180,
          72,
          112,
          140,
          95,
          85,
          135,
          72,
          82,
          117,
          66,
          74,
          124,
          125,
          145
         ],
         "xaxis": "x",
         "y": [
          85,
          110,
          25,
          50,
          95,
          110,
          95,
          120,
          105,
          60,
          120,
          45,
          50,
          80,
          55,
          105,
          140,
          160,
          78,
          118,
          130,
          125,
          40,
          60,
          35,
          45,
          80,
          84,
          50,
          80,
          90,
          90
         ],
         "yaxis": "y"
        },
        {
         "hovertemplate": "Type 1=Fairy<br>Attack=%{x}<br>Defense=%{y}<extra></extra>",
         "legendgroup": "Fairy",
         "marker": {
          "color": "#FF97FF",
          "symbol": "circle"
         },
         "mode": "markers",
         "name": "Fairy",
         "orientation": "v",
         "showlegend": true,
         "type": "scatter",
         "x": [
          45,
          70,
          25,
          20,
          40,
          80,
          120,
          50,
          38,
          45,
          65,
          52,
          72,
          48,
          80,
          65,
          131
         ],
         "xaxis": "x",
         "y": [
          48,
          73,
          28,
          65,
          85,
          50,
          75,
          95,
          39,
          47,
          68,
          60,
          72,
          66,
          86,
          65,
          95
         ],
         "yaxis": "y"
        },
        {
         "hovertemplate": "Type 1=Fighting<br>Attack=%{x}<br>Defense=%{y}<extra></extra>",
         "legendgroup": "Fighting",
         "marker": {
          "color": "#FECB52",
          "symbol": "circle"
         },
         "mode": "markers",
         "name": "Fighting",
         "orientation": "v",
         "showlegend": true,
         "type": "scatter",
         "x": [
          80,
          105,
          80,
          100,
          130,
          120,
          105,
          35,
          95,
          60,
          120,
          40,
          60,
          100,
          70,
          110,
          145,
          80,
          105,
          140,
          100,
          125,
          85,
          125,
          82,
          124,
          92
         ],
         "xaxis": "x",
         "y": [
          35,
          60,
          50,
          70,
          80,
          53,
          79,
          35,
          95,
          30,
          60,
          55,
          75,
          85,
          40,
          70,
          88,
          55,
          85,
          95,
          85,
          75,
          50,
          60,
          62,
          78,
          75
         ],
         "yaxis": "y"
        },
        {
         "hovertemplate": "Type 1=Psychic<br>Attack=%{x}<br>Defense=%{y}<extra></extra>",
         "legendgroup": "Psychic",
         "marker": {
          "color": "#636efa",
          "symbol": "circle"
         },
         "mode": "markers",
         "name": "Psychic",
         "orientation": "v",
         "showlegend": true,
         "type": "scatter",
         "x": [
          20,
          35,
          50,
          50,
          48,
          73,
          45,
          110,
          190,
          150,
          100,
          50,
          75,
          65,
          72,
          33,
          90,
          100,
          25,
          35,
          65,
          85,
          25,
          45,
          50,
          23,
          150,
          180,
          70,
          95,
          30,
          25,
          125,
          165,
          75,
          105,
          125,
          70,
          100,
          25,
          55,
          45,
          57,
          58,
          30,
          45,
          55,
          30,
          40,
          65,
          55,
          75,
          48,
          48,
          48,
          110,
          160
         ],
         "xaxis": "x",
         "y": [
          15,
          30,
          45,
          65,
          45,
          70,
          65,
          90,
          100,
          70,
          100,
          45,
          70,
          60,
          48,
          58,
          130,
          100,
          25,
          35,
          65,
          65,
          35,
          65,
          70,
          48,
          50,
          20,
          160,
          90,
          50,
          45,
          65,
          95,
          130,
          105,
          70,
          120,
          100,
          45,
          85,
          43,
          55,
          80,
          50,
          70,
          95,
          40,
          50,
          75,
          55,
          75,
          54,
          76,
          76,
          60,
          60
         ],
         "yaxis": "y"
        },
        {
         "hovertemplate": "Type 1=Rock<br>Attack=%{x}<br>Defense=%{y}<extra></extra>",
         "legendgroup": "Rock",
         "marker": {
          "color": "#EF553B",
          "symbol": "circle"
         },
         "mode": "markers",
         "name": "Rock",
         "orientation": "v",
         "showlegend": true,
         "type": "scatter",
         "x": [
          80,
          95,
          120,
          45,
          40,
          60,
          80,
          115,
          105,
          135,
          100,
          64,
          84,
          134,
          164,
          45,
          55,
          95,
          41,
          81,
          95,
          125,
          100,
          125,
          165,
          42,
          52,
          80,
          55,
          75,
          105,
          135,
          112,
          140,
          129,
          52,
          105,
          89,
          121,
          59,
          77,
          50,
          100,
          160
         ],
         "xaxis": "x",
         "y": [
          100,
          115,
          130,
          160,
          100,
          125,
          90,
          105,
          65,
          85,
          115,
          50,
          70,
          110,
          150,
          135,
          65,
          85,
          77,
          97,
          50,
          100,
          200,
          40,
          60,
          118,
          168,
          95,
          145,
          85,
          105,
          130,
          45,
          65,
          90,
          67,
          115,
          77,
          119,
          50,
          72,
          150,
          150,
          110
         ],
         "yaxis": "y"
        },
        {
         "hovertemplate": "Type 1=Ghost<br>Attack=%{x}<br>Defense=%{y}<extra></extra>",
         "legendgroup": "Ghost",
         "marker": {
          "color": "#00cc96",
          "symbol": "circle"
         },
         "mode": "markers",
         "name": "Ghost",
         "orientation": "v",
         "showlegend": true,
         "type": "scatter",
         "x": [
          35,
          50,
          65,
          65,
          60,
          75,
          115,
          165,
          40,
          70,
          50,
          80,
          60,
          92,
          100,
          100,
          120,
          30,
          50,
          30,
          40,
          55,
          70,
          110,
          66,
          66,
          66,
          66,
          90,
          85,
          95,
          100
         ],
         "xaxis": "x",
         "y": [
          30,
          45,
          60,
          80,
          60,
          35,
          65,
          75,
          90,
          130,
          34,
          44,
          60,
          108,
          135,
          120,
          100,
          85,
          145,
          55,
          60,
          90,
          48,
          76,
          70,
          70,
          70,
          70,
          122,
          122,
          122,
          122
         ],
         "yaxis": "y"
        },
        {
         "hovertemplate": "Type 1=Ice<br>Attack=%{x}<br>Defense=%{y}<extra></extra>",
         "legendgroup": "Ice",
         "marker": {
          "color": "#ab63fa",
          "symbol": "circle"
         },
         "mode": "markers",
         "name": "Ice",
         "orientation": "v",
         "showlegend": true,
         "type": "scatter",
         "x": [
          50,
          85,
          50,
          100,
          55,
          30,
          50,
          80,
          120,
          40,
          60,
          80,
          50,
          60,
          130,
          80,
          50,
          65,
          95,
          70,
          110,
          50,
          69,
          117
         ],
         "xaxis": "x",
         "y": [
          35,
          100,
          40,
          80,
          45,
          15,
          50,
          80,
          80,
          50,
          70,
          90,
          100,
          110,
          80,
          70,
          50,
          65,
          85,
          40,
          80,
          30,
          85,
          184
         ],
         "yaxis": "y"
        },
        {
         "hovertemplate": "Type 1=Dragon<br>Attack=%{x}<br>Defense=%{y}<extra></extra>",
         "legendgroup": "Dragon",
         "marker": {
          "color": "#FFA15A",
          "symbol": "circle"
         },
         "mode": "markers",
         "name": "Dragon",
         "orientation": "v",
         "showlegend": true,
         "type": "scatter",
         "x": [
          64,
          84,
          134,
          70,
          110,
          75,
          95,
          135,
          145,
          80,
          100,
          90,
          130,
          150,
          180,
          70,
          90,
          130,
          170,
          87,
          117,
          147,
          120,
          120,
          150,
          130,
          170,
          120,
          50,
          75,
          100,
          100
         ],
         "xaxis": "x",
         "y": [
          45,
          65,
          95,
          90,
          110,
          60,
          100,
          80,
          130,
          90,
          120,
          80,
          100,
          90,
          100,
          45,
          65,
          95,
          115,
          60,
          70,
          90,
          90,
          100,
          120,
          90,
          100,
          90,
          35,
          53,
          70,
          121
         ],
         "yaxis": "y"
        },
        {
         "hovertemplate": "Type 1=Dark<br>Attack=%{x}<br>Defense=%{y}<extra></extra>",
         "legendgroup": "Dark",
         "marker": {
          "color": "#19d3f3",
          "symbol": "circle"
         },
         "mode": "markers",
         "name": "Dark",
         "orientation": "v",
         "showlegend": true,
         "type": "scatter",
         "x": [
          65,
          85,
          95,
          60,
          90,
          90,
          55,
          90,
          75,
          85,
          130,
          150,
          125,
          120,
          90,
          50,
          88,
          75,
          90,
          65,
          105,
          85,
          125,
          55,
          65,
          65,
          85,
          105,
          54,
          92,
          131
         ],
         "xaxis": "x",
         "y": [
          110,
          42,
          55,
          30,
          50,
          90,
          35,
          70,
          75,
          125,
          60,
          60,
          52,
          65,
          90,
          37,
          50,
          70,
          115,
          40,
          60,
          70,
          100,
          75,
          105,
          50,
          70,
          90,
          53,
          88,
          95
         ],
         "yaxis": "y"
        },
        {
         "hovertemplate": "Type 1=Steel<br>Attack=%{x}<br>Defense=%{y}<extra></extra>",
         "legendgroup": "Steel",
         "marker": {
          "color": "#FF6692",
          "symbol": "circle"
         },
         "mode": "markers",
         "name": "Steel",
         "orientation": "v",
         "showlegend": true,
         "type": "scatter",
         "x": [
          85,
          125,
          80,
          85,
          105,
          70,
          90,
          110,
          140,
          55,
          75,
          135,
          145,
          75,
          100,
          24,
          89,
          120,
          55,
          80,
          100,
          90,
          80,
          110,
          150,
          50,
          80
         ],
         "xaxis": "x",
         "y": [
          200,
          230,
          140,
          85,
          125,
          100,
          140,
          180,
          230,
          80,
          100,
          130,
          150,
          150,
          100,
          86,
          116,
          120,
          70,
          95,
          115,
          129,
          100,
          150,
          50,
          150,
          91
         ],
         "yaxis": "y"
        },
        {
         "hovertemplate": "Type 1=Flying<br>Attack=%{x}<br>Defense=%{y}<extra></extra>",
         "legendgroup": "Flying",
         "marker": {
          "color": "#B6E880",
          "symbol": "circle"
         },
         "mode": "markers",
         "name": "Flying",
         "orientation": "v",
         "showlegend": true,
         "type": "scatter",
         "x": [
          115,
          100,
          30,
          70
         ],
         "xaxis": "x",
         "y": [
          70,
          80,
          35,
          80
         ],
         "yaxis": "y"
        }
       ],
       "layout": {
        "autosize": true,
        "legend": {
         "title": {
          "text": "Type 1"
         },
         "tracegroupgap": 0
        },
        "margin": {
         "t": 60
        },
        "template": {
         "data": {
          "bar": [
           {
            "error_x": {
             "color": "#2a3f5f"
            },
            "error_y": {
             "color": "#2a3f5f"
            },
            "marker": {
             "line": {
              "color": "#E5ECF6",
              "width": 0.5
             },
             "pattern": {
              "fillmode": "overlay",
              "size": 10,
              "solidity": 0.2
             }
            },
            "type": "bar"
           }
          ],
          "barpolar": [
           {
            "marker": {
             "line": {
              "color": "#E5ECF6",
              "width": 0.5
             },
             "pattern": {
              "fillmode": "overlay",
              "size": 10,
              "solidity": 0.2
             }
            },
            "type": "barpolar"
           }
          ],
          "carpet": [
           {
            "aaxis": {
             "endlinecolor": "#2a3f5f",
             "gridcolor": "white",
             "linecolor": "white",
             "minorgridcolor": "white",
             "startlinecolor": "#2a3f5f"
            },
            "baxis": {
             "endlinecolor": "#2a3f5f",
             "gridcolor": "white",
             "linecolor": "white",
             "minorgridcolor": "white",
             "startlinecolor": "#2a3f5f"
            },
            "type": "carpet"
           }
          ],
          "choropleth": [
           {
            "colorbar": {
             "outlinewidth": 0,
             "ticks": ""
            },
            "type": "choropleth"
           }
          ],
          "contour": [
           {
            "colorbar": {
             "outlinewidth": 0,
             "ticks": ""
            },
            "colorscale": [
             [
              0,
              "#0d0887"
             ],
             [
              0.1111111111111111,
              "#46039f"
             ],
             [
              0.2222222222222222,
              "#7201a8"
             ],
             [
              0.3333333333333333,
              "#9c179e"
             ],
             [
              0.4444444444444444,
              "#bd3786"
             ],
             [
              0.5555555555555556,
              "#d8576b"
             ],
             [
              0.6666666666666666,
              "#ed7953"
             ],
             [
              0.7777777777777778,
              "#fb9f3a"
             ],
             [
              0.8888888888888888,
              "#fdca26"
             ],
             [
              1,
              "#f0f921"
             ]
            ],
            "type": "contour"
           }
          ],
          "contourcarpet": [
           {
            "colorbar": {
             "outlinewidth": 0,
             "ticks": ""
            },
            "type": "contourcarpet"
           }
          ],
          "heatmap": [
           {
            "colorbar": {
             "outlinewidth": 0,
             "ticks": ""
            },
            "colorscale": [
             [
              0,
              "#0d0887"
             ],
             [
              0.1111111111111111,
              "#46039f"
             ],
             [
              0.2222222222222222,
              "#7201a8"
             ],
             [
              0.3333333333333333,
              "#9c179e"
             ],
             [
              0.4444444444444444,
              "#bd3786"
             ],
             [
              0.5555555555555556,
              "#d8576b"
             ],
             [
              0.6666666666666666,
              "#ed7953"
             ],
             [
              0.7777777777777778,
              "#fb9f3a"
             ],
             [
              0.8888888888888888,
              "#fdca26"
             ],
             [
              1,
              "#f0f921"
             ]
            ],
            "type": "heatmap"
           }
          ],
          "heatmapgl": [
           {
            "colorbar": {
             "outlinewidth": 0,
             "ticks": ""
            },
            "colorscale": [
             [
              0,
              "#0d0887"
             ],
             [
              0.1111111111111111,
              "#46039f"
             ],
             [
              0.2222222222222222,
              "#7201a8"
             ],
             [
              0.3333333333333333,
              "#9c179e"
             ],
             [
              0.4444444444444444,
              "#bd3786"
             ],
             [
              0.5555555555555556,
              "#d8576b"
             ],
             [
              0.6666666666666666,
              "#ed7953"
             ],
             [
              0.7777777777777778,
              "#fb9f3a"
             ],
             [
              0.8888888888888888,
              "#fdca26"
             ],
             [
              1,
              "#f0f921"
             ]
            ],
            "type": "heatmapgl"
           }
          ],
          "histogram": [
           {
            "marker": {
             "pattern": {
              "fillmode": "overlay",
              "size": 10,
              "solidity": 0.2
             }
            },
            "type": "histogram"
           }
          ],
          "histogram2d": [
           {
            "colorbar": {
             "outlinewidth": 0,
             "ticks": ""
            },
            "colorscale": [
             [
              0,
              "#0d0887"
             ],
             [
              0.1111111111111111,
              "#46039f"
             ],
             [
              0.2222222222222222,
              "#7201a8"
             ],
             [
              0.3333333333333333,
              "#9c179e"
             ],
             [
              0.4444444444444444,
              "#bd3786"
             ],
             [
              0.5555555555555556,
              "#d8576b"
             ],
             [
              0.6666666666666666,
              "#ed7953"
             ],
             [
              0.7777777777777778,
              "#fb9f3a"
             ],
             [
              0.8888888888888888,
              "#fdca26"
             ],
             [
              1,
              "#f0f921"
             ]
            ],
            "type": "histogram2d"
           }
          ],
          "histogram2dcontour": [
           {
            "colorbar": {
             "outlinewidth": 0,
             "ticks": ""
            },
            "colorscale": [
             [
              0,
              "#0d0887"
             ],
             [
              0.1111111111111111,
              "#46039f"
             ],
             [
              0.2222222222222222,
              "#7201a8"
             ],
             [
              0.3333333333333333,
              "#9c179e"
             ],
             [
              0.4444444444444444,
              "#bd3786"
             ],
             [
              0.5555555555555556,
              "#d8576b"
             ],
             [
              0.6666666666666666,
              "#ed7953"
             ],
             [
              0.7777777777777778,
              "#fb9f3a"
             ],
             [
              0.8888888888888888,
              "#fdca26"
             ],
             [
              1,
              "#f0f921"
             ]
            ],
            "type": "histogram2dcontour"
           }
          ],
          "mesh3d": [
           {
            "colorbar": {
             "outlinewidth": 0,
             "ticks": ""
            },
            "type": "mesh3d"
           }
          ],
          "parcoords": [
           {
            "line": {
             "colorbar": {
              "outlinewidth": 0,
              "ticks": ""
             }
            },
            "type": "parcoords"
           }
          ],
          "pie": [
           {
            "automargin": true,
            "type": "pie"
           }
          ],
          "scatter": [
           {
            "marker": {
             "colorbar": {
              "outlinewidth": 0,
              "ticks": ""
             }
            },
            "type": "scatter"
           }
          ],
          "scatter3d": [
           {
            "line": {
             "colorbar": {
              "outlinewidth": 0,
              "ticks": ""
             }
            },
            "marker": {
             "colorbar": {
              "outlinewidth": 0,
              "ticks": ""
             }
            },
            "type": "scatter3d"
           }
          ],
          "scattercarpet": [
           {
            "marker": {
             "colorbar": {
              "outlinewidth": 0,
              "ticks": ""
             }
            },
            "type": "scattercarpet"
           }
          ],
          "scattergeo": [
           {
            "marker": {
             "colorbar": {
              "outlinewidth": 0,
              "ticks": ""
             }
            },
            "type": "scattergeo"
           }
          ],
          "scattergl": [
           {
            "marker": {
             "colorbar": {
              "outlinewidth": 0,
              "ticks": ""
             }
            },
            "type": "scattergl"
           }
          ],
          "scattermapbox": [
           {
            "marker": {
             "colorbar": {
              "outlinewidth": 0,
              "ticks": ""
             }
            },
            "type": "scattermapbox"
           }
          ],
          "scatterpolar": [
           {
            "marker": {
             "colorbar": {
              "outlinewidth": 0,
              "ticks": ""
             }
            },
            "type": "scatterpolar"
           }
          ],
          "scatterpolargl": [
           {
            "marker": {
             "colorbar": {
              "outlinewidth": 0,
              "ticks": ""
             }
            },
            "type": "scatterpolargl"
           }
          ],
          "scatterternary": [
           {
            "marker": {
             "colorbar": {
              "outlinewidth": 0,
              "ticks": ""
             }
            },
            "type": "scatterternary"
           }
          ],
          "surface": [
           {
            "colorbar": {
             "outlinewidth": 0,
             "ticks": ""
            },
            "colorscale": [
             [
              0,
              "#0d0887"
             ],
             [
              0.1111111111111111,
              "#46039f"
             ],
             [
              0.2222222222222222,
              "#7201a8"
             ],
             [
              0.3333333333333333,
              "#9c179e"
             ],
             [
              0.4444444444444444,
              "#bd3786"
             ],
             [
              0.5555555555555556,
              "#d8576b"
             ],
             [
              0.6666666666666666,
              "#ed7953"
             ],
             [
              0.7777777777777778,
              "#fb9f3a"
             ],
             [
              0.8888888888888888,
              "#fdca26"
             ],
             [
              1,
              "#f0f921"
             ]
            ],
            "type": "surface"
           }
          ],
          "table": [
           {
            "cells": {
             "fill": {
              "color": "#EBF0F8"
             },
             "line": {
              "color": "white"
             }
            },
            "header": {
             "fill": {
              "color": "#C8D4E3"
             },
             "line": {
              "color": "white"
             }
            },
            "type": "table"
           }
          ]
         },
         "layout": {
          "annotationdefaults": {
           "arrowcolor": "#2a3f5f",
           "arrowhead": 0,
           "arrowwidth": 1
          },
          "autotypenumbers": "strict",
          "coloraxis": {
           "colorbar": {
            "outlinewidth": 0,
            "ticks": ""
           }
          },
          "colorscale": {
           "diverging": [
            [
             0,
             "#8e0152"
            ],
            [
             0.1,
             "#c51b7d"
            ],
            [
             0.2,
             "#de77ae"
            ],
            [
             0.3,
             "#f1b6da"
            ],
            [
             0.4,
             "#fde0ef"
            ],
            [
             0.5,
             "#f7f7f7"
            ],
            [
             0.6,
             "#e6f5d0"
            ],
            [
             0.7,
             "#b8e186"
            ],
            [
             0.8,
             "#7fbc41"
            ],
            [
             0.9,
             "#4d9221"
            ],
            [
             1,
             "#276419"
            ]
           ],
           "sequential": [
            [
             0,
             "#0d0887"
            ],
            [
             0.1111111111111111,
             "#46039f"
            ],
            [
             0.2222222222222222,
             "#7201a8"
            ],
            [
             0.3333333333333333,
             "#9c179e"
            ],
            [
             0.4444444444444444,
             "#bd3786"
            ],
            [
             0.5555555555555556,
             "#d8576b"
            ],
            [
             0.6666666666666666,
             "#ed7953"
            ],
            [
             0.7777777777777778,
             "#fb9f3a"
            ],
            [
             0.8888888888888888,
             "#fdca26"
            ],
            [
             1,
             "#f0f921"
            ]
           ],
           "sequentialminus": [
            [
             0,
             "#0d0887"
            ],
            [
             0.1111111111111111,
             "#46039f"
            ],
            [
             0.2222222222222222,
             "#7201a8"
            ],
            [
             0.3333333333333333,
             "#9c179e"
            ],
            [
             0.4444444444444444,
             "#bd3786"
            ],
            [
             0.5555555555555556,
             "#d8576b"
            ],
            [
             0.6666666666666666,
             "#ed7953"
            ],
            [
             0.7777777777777778,
             "#fb9f3a"
            ],
            [
             0.8888888888888888,
             "#fdca26"
            ],
            [
             1,
             "#f0f921"
            ]
           ]
          },
          "colorway": [
           "#636efa",
           "#EF553B",
           "#00cc96",
           "#ab63fa",
           "#FFA15A",
           "#19d3f3",
           "#FF6692",
           "#B6E880",
           "#FF97FF",
           "#FECB52"
          ],
          "font": {
           "color": "#2a3f5f"
          },
          "geo": {
           "bgcolor": "white",
           "lakecolor": "white",
           "landcolor": "#E5ECF6",
           "showlakes": true,
           "showland": true,
           "subunitcolor": "white"
          },
          "hoverlabel": {
           "align": "left"
          },
          "hovermode": "closest",
          "mapbox": {
           "style": "light"
          },
          "paper_bgcolor": "white",
          "plot_bgcolor": "#E5ECF6",
          "polar": {
           "angularaxis": {
            "gridcolor": "white",
            "linecolor": "white",
            "ticks": ""
           },
           "bgcolor": "#E5ECF6",
           "radialaxis": {
            "gridcolor": "white",
            "linecolor": "white",
            "ticks": ""
           }
          },
          "scene": {
           "xaxis": {
            "backgroundcolor": "#E5ECF6",
            "gridcolor": "white",
            "gridwidth": 2,
            "linecolor": "white",
            "showbackground": true,
            "ticks": "",
            "zerolinecolor": "white"
           },
           "yaxis": {
            "backgroundcolor": "#E5ECF6",
            "gridcolor": "white",
            "gridwidth": 2,
            "linecolor": "white",
            "showbackground": true,
            "ticks": "",
            "zerolinecolor": "white"
           },
           "zaxis": {
            "backgroundcolor": "#E5ECF6",
            "gridcolor": "white",
            "gridwidth": 2,
            "linecolor": "white",
            "showbackground": true,
            "ticks": "",
            "zerolinecolor": "white"
           }
          },
          "shapedefaults": {
           "line": {
            "color": "#2a3f5f"
           }
          },
          "ternary": {
           "aaxis": {
            "gridcolor": "white",
            "linecolor": "white",
            "ticks": ""
           },
           "baxis": {
            "gridcolor": "white",
            "linecolor": "white",
            "ticks": ""
           },
           "bgcolor": "#E5ECF6",
           "caxis": {
            "gridcolor": "white",
            "linecolor": "white",
            "ticks": ""
           }
          },
          "title": {
           "x": 0.05
          },
          "xaxis": {
           "automargin": true,
           "gridcolor": "white",
           "linecolor": "white",
           "ticks": "",
           "title": {
            "standoff": 15
           },
           "zerolinecolor": "white",
           "zerolinewidth": 2
          },
          "yaxis": {
           "automargin": true,
           "gridcolor": "white",
           "linecolor": "white",
           "ticks": "",
           "title": {
            "standoff": 15
           },
           "zerolinecolor": "white",
           "zerolinewidth": 2
          }
         }
        },
        "xaxis": {
         "anchor": "y",
         "autorange": true,
         "domain": [
          0,
          1
         ],
         "range": [
          -6.486359360301037,
          201.48635936030104
         ],
         "title": {
          "text": "Attack"
         },
         "type": "linear"
        },
        "yaxis": {
         "anchor": "x",
         "autorange": true,
         "domain": [
          0,
          1
         ],
         "range": [
          -12.421259842519685,
          247.42125984251967
         ],
         "title": {
          "text": "Defense"
         },
         "type": "linear"
        }
       }
      },
      "image/png": "[encoded data removed]",
      "text/html": [
       "<div>                            <div id=\"c8bde1ff-db38-4187-9bf8-1ef3987d2354\" class=\"plotly-graph-div\" style=\"height:525px; width:100%;\"></div>            <script type=\"text/javascript\">                require([\"plotly\"], function(Plotly) {                    window.PLOTLYENV=window.PLOTLYENV || {};                                    if (document.getElementById(\"c8bde1ff-db38-4187-9bf8-1ef3987d2354\")) {                    Plotly.newPlot(                        \"c8bde1ff-db38-4187-9bf8-1ef3987d2354\",                        [{\"hovertemplate\":\"Type 1=Grass<br>Attack=%{x}<br>Defense=%{y}<extra></extra>\",\"legendgroup\":\"Grass\",\"marker\":{\"color\":\"#636efa\",\"symbol\":\"circle\"},\"mode\":\"markers\",\"name\":\"Grass\",\"orientation\":\"v\",\"showlegend\":true,\"x\":[49,62,82,100,50,65,80,75,90,105,40,95,55,49,62,82,80,35,45,55,30,75,45,65,85,110,40,70,100,40,130,60,85,115,68,68,89,109,30,70,35,60,100,62,92,132,100,110,100,103,45,60,75,53,98,27,67,35,60,86,55,85,50,94,90,61,78,107,65,100],\"xaxis\":\"x\",\"y\":[49,63,83,123,55,70,85,35,50,65,80,85,115,65,80,100,95,40,50,70,30,55,35,45,65,75,50,40,60,60,80,45,40,60,83,64,85,105,35,65,45,70,72,50,75,105,125,130,100,75,55,75,95,48,63,60,85,50,75,67,45,70,91,131,72,65,95,122,48,62],\"yaxis\":\"y\",\"type\":\"scatter\"},{\"hovertemplate\":\"Type 1=Fire<br>Attack=%{x}<br>Defense=%{y}<extra></extra>\",\"legendgroup\":\"Fire\",\"marker\":{\"color\":\"#EF553B\",\"symbol\":\"circle\"},\"mode\":\"markers\",\"name\":\"Fire\",\"orientation\":\"v\",\"showlegend\":true,\"x\":[52,64,84,130,104,41,76,70,110,85,100,95,130,100,52,64,84,40,50,75,115,130,60,85,120,160,60,100,120,85,58,78,104,95,90,63,93,123,53,98,90,140,30,97,45,59,69,73,81,50,68,110],\"xaxis\":\"x\",\"y\":[43,58,78,111,78,40,75,45,80,55,70,57,60,90,43,58,78,40,120,37,85,90,40,60,70,80,40,70,100,140,44,52,71,67,106,45,55,65,48,63,45,55,105,66,40,58,72,55,71,58,72,120],\"yaxis\":\"y\",\"type\":\"scatter\"},{\"hovertemplate\":\"Type 1=Water<br>Attack=%{x}<br>Defense=%{y}<extra></extra>\",\"legendgroup\":\"Water\",\"marker\":{\"color\":\"#00cc96\",\"symbol\":\"circle\"},\"mode\":\"markers\",\"name\":\"Water\",\"orientation\":\"v\",\"showlegend\":true,\"x\":[48,63,83,103,52,82,50,65,95,40,70,65,75,75,45,70,65,95,105,130,40,65,67,92,45,75,10,125,155,85,65,65,80,105,38,58,20,50,75,45,85,75,95,55,65,105,40,95,75,70,85,110,150,30,50,70,30,50,90,120,140,70,90,48,78,80,120,15,60,64,104,84,90,30,100,150,51,66,86,65,105,48,83,49,69,20,120,80,100,55,75,100,53,98,50,65,95,92,78,108,44,87,40,60,75,72,72,56,63,95,53,73],\"xaxis\":\"x\",\"y\":[65,80,100,120,48,78,40,65,95,35,65,65,110,180,55,80,100,180,90,115,70,95,60,65,55,85,55,79,109,80,60,64,80,100,38,58,50,80,75,45,85,80,75,85,35,75,70,95,115,50,70,90,110,30,50,70,30,100,20,40,70,35,45,43,73,65,85,20,79,85,105,105,130,55,90,90,53,68,88,35,55,48,68,56,76,50,100,80,100,45,60,85,48,63,40,55,75,65,103,133,50,63,50,70,80,90,90,40,52,67,62,88],\"yaxis\":\"y\",\"type\":\"scatter\"},{\"hovertemplate\":\"Type 1=Bug<br>Attack=%{x}<br>Defense=%{y}<extra></extra>\",\"legendgroup\":\"Bug\",\"marker\":{\"color\":\"#ab63fa\",\"symbol\":\"circle\"},\"mode\":\"markers\",\"name\":\"Bug\",\"orientation\":\"v\",\"showlegend\":true,\"x\":[30,20,45,35,25,90,150,70,95,55,65,110,125,155,20,35,60,90,65,65,90,130,150,10,125,185,45,35,70,35,50,30,60,45,90,90,73,47,25,85,29,59,79,69,94,30,80,76,53,63,103,45,55,100,65,95,75,135,47,77,40,70,109,85,60,120,35,22,52],\"xaxis\":\"x\",\"y\":[35,55,50,30,50,40,40,55,80,50,60,80,100,120,30,50,40,70,45,90,140,100,140,230,75,115,35,55,50,55,70,32,62,90,45,45,55,55,41,51,45,85,105,95,50,42,102,86,70,90,80,59,99,89,85,125,45,105,50,60,85,40,112,55,65,95,40,60,50],\"yaxis\":\"y\",\"type\":\"scatter\"},{\"hovertemplate\":\"Type 1=Normal<br>Attack=%{x}<br>Defense=%{y}<extra></extra>\",\"legendgroup\":\"Normal\",\"marker\":{\"color\":\"#FFA15A\",\"symbol\":\"circle\"},\"mode\":\"markers\",\"name\":\"Normal\",\"orientation\":\"v\",\"showlegend\":true,\"x\":[45,60,80,80,56,81,60,90,45,70,45,70,65,85,110,55,5,95,125,100,48,55,60,110,46,76,30,50,30,70,80,70,80,130,80,95,20,80,10,30,70,55,85,60,80,160,51,71,91,20,45,65,60,40,115,70,90,55,75,120,45,85,100,66,76,136,55,82,5,65,85,85,80,160,120,55,85,60,80,110,55,77,115,60,60,50,95,60,100,110,83,123,77,128,36,56,50,80],\"xaxis\":\"x\",\"y\":[40,55,75,80,35,60,30,65,20,45,35,60,55,45,70,75,5,80,100,95,48,50,70,65,34,64,30,50,15,55,65,70,50,75,90,62,35,105,10,41,61,30,60,60,80,100,23,43,63,40,45,65,60,60,60,70,70,30,50,70,40,60,66,44,84,94,42,64,5,45,40,95,70,110,120,39,69,45,65,90,50,62,80,86,126,40,60,50,70,95,50,75,77,90,38,77,43,60],\"yaxis\":\"y\",\"type\":\"scatter\"},{\"hovertemplate\":\"Type 1=Poison<br>Attack=%{x}<br>Defense=%{y}<extra></extra>\",\"legendgroup\":\"Poison\",\"marker\":{\"color\":\"#19d3f3\",\"symbol\":\"circle\"},\"mode\":\"markers\",\"name\":\"Poison\",\"orientation\":\"v\",\"showlegend\":true,\"x\":[60,85,47,62,92,57,72,102,45,80,80,105,65,90,90,43,73,100,63,93,50,90,61,106,50,95,60,75],\"xaxis\":\"x\",\"y\":[44,69,52,67,87,40,57,77,35,70,50,75,95,120,80,53,83,60,47,67,90,110,40,65,62,82,60,90],\"yaxis\":\"y\",\"type\":\"scatter\"},{\"hovertemplate\":\"Type 1=Electric<br>Attack=%{x}<br>Defense=%{y}<extra></extra>\",\"legendgroup\":\"Electric\",\"marker\":{\"color\":\"#FF6692\",\"symbol\":\"circle\"},\"mode\":\"markers\",\"name\":\"Electric\",\"orientation\":\"v\",\"showlegend\":true,\"x\":[55,90,35,60,30,50,83,65,90,40,40,55,75,95,63,85,45,75,75,50,40,65,85,120,45,70,123,50,65,65,65,65,65,60,100,75,55,85,115,115,105,38,55,58],\"xaxis\":\"x\",\"y\":[40,55,70,95,50,70,57,60,85,15,40,55,85,105,37,75,40,60,80,40,50,34,49,79,70,115,67,77,107,107,107,107,107,32,63,60,40,70,80,70,70,33,52,57],\"yaxis\":\"y\",\"type\":\"scatter\"},{\"hovertemplate\":\"Type 1=Ground<br>Attack=%{x}<br>Defense=%{y}<extra></extra>\",\"legendgroup\":\"Ground\",\"marker\":{\"color\":\"#B6E880\",\"symbol\":\"circle\"},\"mode\":\"markers\",\"name\":\"Ground\",\"orientation\":\"v\",\"showlegend\":true,\"x\":[75,100,55,80,50,80,85,130,75,60,120,100,70,100,40,70,150,180,72,112,140,95,85,135,72,82,117,66,74,124,125,145],\"xaxis\":\"x\",\"y\":[85,110,25,50,95,110,95,120,105,60,120,45,50,80,55,105,140,160,78,118,130,125,40,60,35,45,80,84,50,80,90,90],\"yaxis\":\"y\",\"type\":\"scatter\"},{\"hovertemplate\":\"Type 1=Fairy<br>Attack=%{x}<br>Defense=%{y}<extra></extra>\",\"legendgroup\":\"Fairy\",\"marker\":{\"color\":\"#FF97FF\",\"symbol\":\"circle\"},\"mode\":\"markers\",\"name\":\"Fairy\",\"orientation\":\"v\",\"showlegend\":true,\"x\":[45,70,25,20,40,80,120,50,38,45,65,52,72,48,80,65,131],\"xaxis\":\"x\",\"y\":[48,73,28,65,85,50,75,95,39,47,68,60,72,66,86,65,95],\"yaxis\":\"y\",\"type\":\"scatter\"},{\"hovertemplate\":\"Type 1=Fighting<br>Attack=%{x}<br>Defense=%{y}<extra></extra>\",\"legendgroup\":\"Fighting\",\"marker\":{\"color\":\"#FECB52\",\"symbol\":\"circle\"},\"mode\":\"markers\",\"name\":\"Fighting\",\"orientation\":\"v\",\"showlegend\":true,\"x\":[80,105,80,100,130,120,105,35,95,60,120,40,60,100,70,110,145,80,105,140,100,125,85,125,82,124,92],\"xaxis\":\"x\",\"y\":[35,60,50,70,80,53,79,35,95,30,60,55,75,85,40,70,88,55,85,95,85,75,50,60,62,78,75],\"yaxis\":\"y\",\"type\":\"scatter\"},{\"hovertemplate\":\"Type 1=Psychic<br>Attack=%{x}<br>Defense=%{y}<extra></extra>\",\"legendgroup\":\"Psychic\",\"marker\":{\"color\":\"#636efa\",\"symbol\":\"circle\"},\"mode\":\"markers\",\"name\":\"Psychic\",\"orientation\":\"v\",\"showlegend\":true,\"x\":[20,35,50,50,48,73,45,110,190,150,100,50,75,65,72,33,90,100,25,35,65,85,25,45,50,23,150,180,70,95,30,25,125,165,75,105,125,70,100,25,55,45,57,58,30,45,55,30,40,65,55,75,48,48,48,110,160],\"xaxis\":\"x\",\"y\":[15,30,45,65,45,70,65,90,100,70,100,45,70,60,48,58,130,100,25,35,65,65,35,65,70,48,50,20,160,90,50,45,65,95,130,105,70,120,100,45,85,43,55,80,50,70,95,40,50,75,55,75,54,76,76,60,60],\"yaxis\":\"y\",\"type\":\"scatter\"},{\"hovertemplate\":\"Type 1=Rock<br>Attack=%{x}<br>Defense=%{y}<extra></extra>\",\"legendgroup\":\"Rock\",\"marker\":{\"color\":\"#EF553B\",\"symbol\":\"circle\"},\"mode\":\"markers\",\"name\":\"Rock\",\"orientation\":\"v\",\"showlegend\":true,\"x\":[80,95,120,45,40,60,80,115,105,135,100,64,84,134,164,45,55,95,41,81,95,125,100,125,165,42,52,80,55,75,105,135,112,140,129,52,105,89,121,59,77,50,100,160],\"xaxis\":\"x\",\"y\":[100,115,130,160,100,125,90,105,65,85,115,50,70,110,150,135,65,85,77,97,50,100,200,40,60,118,168,95,145,85,105,130,45,65,90,67,115,77,119,50,72,150,150,110],\"yaxis\":\"y\",\"type\":\"scatter\"},{\"hovertemplate\":\"Type 1=Ghost<br>Attack=%{x}<br>Defense=%{y}<extra></extra>\",\"legendgroup\":\"Ghost\",\"marker\":{\"color\":\"#00cc96\",\"symbol\":\"circle\"},\"mode\":\"markers\",\"name\":\"Ghost\",\"orientation\":\"v\",\"showlegend\":true,\"x\":[35,50,65,65,60,75,115,165,40,70,50,80,60,92,100,100,120,30,50,30,40,55,70,110,66,66,66,66,90,85,95,100],\"xaxis\":\"x\",\"y\":[30,45,60,80,60,35,65,75,90,130,34,44,60,108,135,120,100,85,145,55,60,90,48,76,70,70,70,70,122,122,122,122],\"yaxis\":\"y\",\"type\":\"scatter\"},{\"hovertemplate\":\"Type 1=Ice<br>Attack=%{x}<br>Defense=%{y}<extra></extra>\",\"legendgroup\":\"Ice\",\"marker\":{\"color\":\"#ab63fa\",\"symbol\":\"circle\"},\"mode\":\"markers\",\"name\":\"Ice\",\"orientation\":\"v\",\"showlegend\":true,\"x\":[50,85,50,100,55,30,50,80,120,40,60,80,50,60,130,80,50,65,95,70,110,50,69,117],\"xaxis\":\"x\",\"y\":[35,100,40,80,45,15,50,80,80,50,70,90,100,110,80,70,50,65,85,40,80,30,85,184],\"yaxis\":\"y\",\"type\":\"scatter\"},{\"hovertemplate\":\"Type 1=Dragon<br>Attack=%{x}<br>Defense=%{y}<extra></extra>\",\"legendgroup\":\"Dragon\",\"marker\":{\"color\":\"#FFA15A\",\"symbol\":\"circle\"},\"mode\":\"markers\",\"name\":\"Dragon\",\"orientation\":\"v\",\"showlegend\":true,\"x\":[64,84,134,70,110,75,95,135,145,80,100,90,130,150,180,70,90,130,170,87,117,147,120,120,150,130,170,120,50,75,100,100],\"xaxis\":\"x\",\"y\":[45,65,95,90,110,60,100,80,130,90,120,80,100,90,100,45,65,95,115,60,70,90,90,100,120,90,100,90,35,53,70,121],\"yaxis\":\"y\",\"type\":\"scatter\"},{\"hovertemplate\":\"Type 1=Dark<br>Attack=%{x}<br>Defense=%{y}<extra></extra>\",\"legendgroup\":\"Dark\",\"marker\":{\"color\":\"#19d3f3\",\"symbol\":\"circle\"},\"mode\":\"markers\",\"name\":\"Dark\",\"orientation\":\"v\",\"showlegend\":true,\"x\":[65,85,95,60,90,90,55,90,75,85,130,150,125,120,90,50,88,75,90,65,105,85,125,55,65,65,85,105,54,92,131],\"xaxis\":\"x\",\"y\":[110,42,55,30,50,90,35,70,75,125,60,60,52,65,90,37,50,70,115,40,60,70,100,75,105,50,70,90,53,88,95],\"yaxis\":\"y\",\"type\":\"scatter\"},{\"hovertemplate\":\"Type 1=Steel<br>Attack=%{x}<br>Defense=%{y}<extra></extra>\",\"legendgroup\":\"Steel\",\"marker\":{\"color\":\"#FF6692\",\"symbol\":\"circle\"},\"mode\":\"markers\",\"name\":\"Steel\",\"orientation\":\"v\",\"showlegend\":true,\"x\":[85,125,80,85,105,70,90,110,140,55,75,135,145,75,100,24,89,120,55,80,100,90,80,110,150,50,80],\"xaxis\":\"x\",\"y\":[200,230,140,85,125,100,140,180,230,80,100,130,150,150,100,86,116,120,70,95,115,129,100,150,50,150,91],\"yaxis\":\"y\",\"type\":\"scatter\"},{\"hovertemplate\":\"Type 1=Flying<br>Attack=%{x}<br>Defense=%{y}<extra></extra>\",\"legendgroup\":\"Flying\",\"marker\":{\"color\":\"#B6E880\",\"symbol\":\"circle\"},\"mode\":\"markers\",\"name\":\"Flying\",\"orientation\":\"v\",\"showlegend\":true,\"x\":[115,100,30,70],\"xaxis\":\"x\",\"y\":[70,80,35,80],\"yaxis\":\"y\",\"type\":\"scatter\"}],                        {\"template\":{\"data\":{\"bar\":[{\"error_x\":{\"color\":\"#2a3f5f\"},\"error_y\":{\"color\":\"#2a3f5f\"},\"marker\":{\"line\":{\"color\":\"#E5ECF6\",\"width\":0.5},\"pattern\":{\"fillmode\":\"overlay\",\"size\":10,\"solidity\":0.2}},\"type\":\"bar\"}],\"barpolar\":[{\"marker\":{\"line\":{\"color\":\"#E5ECF6\",\"width\":0.5},\"pattern\":{\"fillmode\":\"overlay\",\"size\":10,\"solidity\":0.2}},\"type\":\"barpolar\"}],\"carpet\":[{\"aaxis\":{\"endlinecolor\":\"#2a3f5f\",\"gridcolor\":\"white\",\"linecolor\":\"white\",\"minorgridcolor\":\"white\",\"startlinecolor\":\"#2a3f5f\"},\"baxis\":{\"endlinecolor\":\"#2a3f5f\",\"gridcolor\":\"white\",\"linecolor\":\"white\",\"minorgridcolor\":\"white\",\"startlinecolor\":\"#2a3f5f\"},\"type\":\"carpet\"}],\"choropleth\":[{\"colorbar\":{\"outlinewidth\":0,\"ticks\":\"\"},\"type\":\"choropleth\"}],\"contour\":[{\"colorbar\":{\"outlinewidth\":0,\"ticks\":\"\"},\"colorscale\":[[0.0,\"#0d0887\"],[0.1111111111111111,\"#46039f\"],[0.2222222222222222,\"#7201a8\"],[0.3333333333333333,\"#9c179e\"],[0.4444444444444444,\"#bd3786\"],[0.5555555555555556,\"#d8576b\"],[0.6666666666666666,\"#ed7953\"],[0.7777777777777778,\"#fb9f3a\"],[0.8888888888888888,\"#fdca26\"],[1.0,\"#f0f921\"]],\"type\":\"contour\"}],\"contourcarpet\":[{\"colorbar\":{\"outlinewidth\":0,\"ticks\":\"\"},\"type\":\"contourcarpet\"}],\"heatmap\":[{\"colorbar\":{\"outlinewidth\":0,\"ticks\":\"\"},\"colorscale\":[[0.0,\"#0d0887\"],[0.1111111111111111,\"#46039f\"],[0.2222222222222222,\"#7201a8\"],[0.3333333333333333,\"#9c179e\"],[0.4444444444444444,\"#bd3786\"],[0.5555555555555556,\"#d8576b\"],[0.6666666666666666,\"#ed7953\"],[0.7777777777777778,\"#fb9f3a\"],[0.8888888888888888,\"#fdca26\"],[1.0,\"#f0f921\"]],\"type\":\"heatmap\"}],\"heatmapgl\":[{\"colorbar\":{\"outlinewidth\":0,\"ticks\":\"\"},\"colorscale\":[[0.0,\"#0d0887\"],[0.1111111111111111,\"#46039f\"],[0.2222222222222222,\"#7201a8\"],[0.3333333333333333,\"#9c179e\"],[0.4444444444444444,\"#bd3786\"],[0.5555555555555556,\"#d8576b\"],[0.6666666666666666,\"#ed7953\"],[0.7777777777777778,\"#fb9f3a\"],[0.8888888888888888,\"#fdca26\"],[1.0,\"#f0f921\"]],\"type\":\"heatmapgl\"}],\"histogram\":[{\"marker\":{\"pattern\":{\"fillmode\":\"overlay\",\"size\":10,\"solidity\":0.2}},\"type\":\"histogram\"}],\"histogram2d\":[{\"colorbar\":{\"outlinewidth\":0,\"ticks\":\"\"},\"colorscale\":[[0.0,\"#0d0887\"],[0.1111111111111111,\"#46039f\"],[0.2222222222222222,\"#7201a8\"],[0.3333333333333333,\"#9c179e\"],[0.4444444444444444,\"#bd3786\"],[0.5555555555555556,\"#d8576b\"],[0.6666666666666666,\"#ed7953\"],[0.7777777777777778,\"#fb9f3a\"],[0.8888888888888888,\"#fdca26\"],[1.0,\"#f0f921\"]],\"type\":\"histogram2d\"}],\"histogram2dcontour\":[{\"colorbar\":{\"outlinewidth\":0,\"ticks\":\"\"},\"colorscale\":[[0.0,\"#0d0887\"],[0.1111111111111111,\"#46039f\"],[0.2222222222222222,\"#7201a8\"],[0.3333333333333333,\"#9c179e\"],[0.4444444444444444,\"#bd3786\"],[0.5555555555555556,\"#d8576b\"],[0.6666666666666666,\"#ed7953\"],[0.7777777777777778,\"#fb9f3a\"],[0.8888888888888888,\"#fdca26\"],[1.0,\"#f0f921\"]],\"type\":\"histogram2dcontour\"}],\"mesh3d\":[{\"colorbar\":{\"outlinewidth\":0,\"ticks\":\"\"},\"type\":\"mesh3d\"}],\"parcoords\":[{\"line\":{\"colorbar\":{\"outlinewidth\":0,\"ticks\":\"\"}},\"type\":\"parcoords\"}],\"pie\":[{\"automargin\":true,\"type\":\"pie\"}],\"scatter\":[{\"marker\":{\"colorbar\":{\"outlinewidth\":0,\"ticks\":\"\"}},\"type\":\"scatter\"}],\"scatter3d\":[{\"line\":{\"colorbar\":{\"outlinewidth\":0,\"ticks\":\"\"}},\"marker\":{\"colorbar\":{\"outlinewidth\":0,\"ticks\":\"\"}},\"type\":\"scatter3d\"}],\"scattercarpet\":[{\"marker\":{\"colorbar\":{\"outlinewidth\":0,\"ticks\":\"\"}},\"type\":\"scattercarpet\"}],\"scattergeo\":[{\"marker\":{\"colorbar\":{\"outlinewidth\":0,\"ticks\":\"\"}},\"type\":\"scattergeo\"}],\"scattergl\":[{\"marker\":{\"colorbar\":{\"outlinewidth\":0,\"ticks\":\"\"}},\"type\":\"scattergl\"}],\"scattermapbox\":[{\"marker\":{\"colorbar\":{\"outlinewidth\":0,\"ticks\":\"\"}},\"type\":\"scattermapbox\"}],\"scatterpolar\":[{\"marker\":{\"colorbar\":{\"outlinewidth\":0,\"ticks\":\"\"}},\"type\":\"scatterpolar\"}],\"scatterpolargl\":[{\"marker\":{\"colorbar\":{\"outlinewidth\":0,\"ticks\":\"\"}},\"type\":\"scatterpolargl\"}],\"scatterternary\":[{\"marker\":{\"colorbar\":{\"outlinewidth\":0,\"ticks\":\"\"}},\"type\":\"scatterternary\"}],\"surface\":[{\"colorbar\":{\"outlinewidth\":0,\"ticks\":\"\"},\"colorscale\":[[0.0,\"#0d0887\"],[0.1111111111111111,\"#46039f\"],[0.2222222222222222,\"#7201a8\"],[0.3333333333333333,\"#9c179e\"],[0.4444444444444444,\"#bd3786\"],[0.5555555555555556,\"#d8576b\"],[0.6666666666666666,\"#ed7953\"],[0.7777777777777778,\"#fb9f3a\"],[0.8888888888888888,\"#fdca26\"],[1.0,\"#f0f921\"]],\"type\":\"surface\"}],\"table\":[{\"cells\":{\"fill\":{\"color\":\"#EBF0F8\"},\"line\":{\"color\":\"white\"}},\"header\":{\"fill\":{\"color\":\"#C8D4E3\"},\"line\":{\"color\":\"white\"}},\"type\":\"table\"}]},\"layout\":{\"annotationdefaults\":{\"arrowcolor\":\"#2a3f5f\",\"arrowhead\":0,\"arrowwidth\":1},\"autotypenumbers\":\"strict\",\"coloraxis\":{\"colorbar\":{\"outlinewidth\":0,\"ticks\":\"\"}},\"colorscale\":{\"diverging\":[[0,\"#8e0152\"],[0.1,\"#c51b7d\"],[0.2,\"#de77ae\"],[0.3,\"#f1b6da\"],[0.4,\"#fde0ef\"],[0.5,\"#f7f7f7\"],[0.6,\"#e6f5d0\"],[0.7,\"#b8e186\"],[0.8,\"#7fbc41\"],[0.9,\"#4d9221\"],[1,\"#276419\"]],\"sequential\":[[0.0,\"#0d0887\"],[0.1111111111111111,\"#46039f\"],[0.2222222222222222,\"#7201a8\"],[0.3333333333333333,\"#9c179e\"],[0.4444444444444444,\"#bd3786\"],[0.5555555555555556,\"#d8576b\"],[0.6666666666666666,\"#ed7953\"],[0.7777777777777778,\"#fb9f3a\"],[0.8888888888888888,\"#fdca26\"],[1.0,\"#f0f921\"]],\"sequentialminus\":[[0.0,\"#0d0887\"],[0.1111111111111111,\"#46039f\"],[0.2222222222222222,\"#7201a8\"],[0.3333333333333333,\"#9c179e\"],[0.4444444444444444,\"#bd3786\"],[0.5555555555555556,\"#d8576b\"],[0.6666666666666666,\"#ed7953\"],[0.7777777777777778,\"#fb9f3a\"],[0.8888888888888888,\"#fdca26\"],[1.0,\"#f0f921\"]]},\"colorway\":[\"#636efa\",\"#EF553B\",\"#00cc96\",\"#ab63fa\",\"#FFA15A\",\"#19d3f3\",\"#FF6692\",\"#B6E880\",\"#FF97FF\",\"#FECB52\"],\"font\":{\"color\":\"#2a3f5f\"},\"geo\":{\"bgcolor\":\"white\",\"lakecolor\":\"white\",\"landcolor\":\"#E5ECF6\",\"showlakes\":true,\"showland\":true,\"subunitcolor\":\"white\"},\"hoverlabel\":{\"align\":\"left\"},\"hovermode\":\"closest\",\"mapbox\":{\"style\":\"light\"},\"paper_bgcolor\":\"white\",\"plot_bgcolor\":\"#E5ECF6\",\"polar\":{\"angularaxis\":{\"gridcolor\":\"white\",\"linecolor\":\"white\",\"ticks\":\"\"},\"bgcolor\":\"#E5ECF6\",\"radialaxis\":{\"gridcolor\":\"white\",\"linecolor\":\"white\",\"ticks\":\"\"}},\"scene\":{\"xaxis\":{\"backgroundcolor\":\"#E5ECF6\",\"gridcolor\":\"white\",\"gridwidth\":2,\"linecolor\":\"white\",\"showbackground\":true,\"ticks\":\"\",\"zerolinecolor\":\"white\"},\"yaxis\":{\"backgroundcolor\":\"#E5ECF6\",\"gridcolor\":\"white\",\"gridwidth\":2,\"linecolor\":\"white\",\"showbackground\":true,\"ticks\":\"\",\"zerolinecolor\":\"white\"},\"zaxis\":{\"backgroundcolor\":\"#E5ECF6\",\"gridcolor\":\"white\",\"gridwidth\":2,\"linecolor\":\"white\",\"showbackground\":true,\"ticks\":\"\",\"zerolinecolor\":\"white\"}},\"shapedefaults\":{\"line\":{\"color\":\"#2a3f5f\"}},\"ternary\":{\"aaxis\":{\"gridcolor\":\"white\",\"linecolor\":\"white\",\"ticks\":\"\"},\"baxis\":{\"gridcolor\":\"white\",\"linecolor\":\"white\",\"ticks\":\"\"},\"bgcolor\":\"#E5ECF6\",\"caxis\":{\"gridcolor\":\"white\",\"linecolor\":\"white\",\"ticks\":\"\"}},\"title\":{\"x\":0.05},\"xaxis\":{\"automargin\":true,\"gridcolor\":\"white\",\"linecolor\":\"white\",\"ticks\":\"\",\"title\":{\"standoff\":15},\"zerolinecolor\":\"white\",\"zerolinewidth\":2},\"yaxis\":{\"automargin\":true,\"gridcolor\":\"white\",\"linecolor\":\"white\",\"ticks\":\"\",\"title\":{\"standoff\":15},\"zerolinecolor\":\"white\",\"zerolinewidth\":2}}},\"xaxis\":{\"anchor\":\"y\",\"domain\":[0.0,1.0],\"title\":{\"text\":\"Attack\"}},\"yaxis\":{\"anchor\":\"x\",\"domain\":[0.0,1.0],\"title\":{\"text\":\"Defense\"}},\"legend\":{\"title\":{\"text\":\"Type 1\"},\"tracegroupgap\":0},\"margin\":{\"t\":60}},                        {\"responsive\": true}                    ).then(function(){\n",
       "                            \n",
       "var gd = document.getElementById('c8bde1ff-db38-4187-9bf8-1ef3987d2354');\n",
       "var x = new MutationObserver(function (mutations, observer) {{\n",
       "        var display = window.getComputedStyle(gd).display;\n",
       "        if (!display || display === 'none') {{\n",
       "            console.log([gd, 'removed!']);\n",
       "            Plotly.purge(gd);\n",
       "            observer.disconnect();\n",
       "        }}\n",
       "}});\n",
       "\n",
       "// Listen for the removal of the full notebook cells\n",
       "var notebookContainer = gd.closest('#notebook-container');\n",
       "if (notebookContainer) {{\n",
       "    x.observe(notebookContainer, {childList: true});\n",
       "}}\n",
       "\n",
       "// Listen for the clearing of the current output cell\n",
       "var outputEl = gd.closest('.output');\n",
       "if (outputEl) {{\n",
       "    x.observe(outputEl, {childList: true});\n",
       "}}\n",
       "\n",
       "                        })                };                });            </script>        </div>"
      ]
     },
     "metadata": {},
     "output_type": "display_data"
    }
   ],
   "source": [
    "px.scatter(data_frame=df, x=\"Attack\", y=\"Defense\", color = \"Type 1\")"
   ]
  },
  {
   "cell_type": "code",
   "execution_count": 217,
   "id": "a2c1781c-318f-42fe-ac01-a5c22d40545e",
   "metadata": {},
   "outputs": [
    {
     "data": {
      "application/vnd.plotly.v1+json": {
       "config": {
        "plotlyServerURL": "https://plot.ly"
       },
       "data": [
        {
         "alignmentgroup": "True",
         "bingroup": "x",
         "hovertemplate": "Type 1=Grass<br>Speed=%{x}<br>count=%{y}<extra></extra>",
         "legendgroup": "Grass",
         "marker": {
          "color": "#636efa",
          "pattern": {
           "shape": ""
          }
         },
         "name": "Grass",
         "offsetgroup": "Grass",
         "orientation": "v",
         "showlegend": true,
         "type": "histogram",
         "x": [
          45,
          60,
          80,
          80,
          30,
          40,
          50,
          40,
          55,
          70,
          40,
          55,
          60,
          45,
          60,
          80,
          50,
          50,
          80,
          110,
          30,
          30,
          70,
          95,
          120,
          145,
          30,
          60,
          80,
          35,
          70,
          65,
          35,
          55,
          51,
          31,
          36,
          56,
          55,
          90,
          35,
          85,
          46,
          40,
          60,
          30,
          50,
          95,
          100,
          127,
          63,
          83,
          113,
          64,
          101,
          66,
          116,
          30,
          90,
          60,
          15,
          30,
          10,
          20,
          108,
          38,
          57,
          64,
          52,
          68
         ],
         "xaxis": "x",
         "yaxis": "y"
        },
        {
         "alignmentgroup": "True",
         "bingroup": "x",
         "hovertemplate": "Type 1=Fire<br>Speed=%{x}<br>count=%{y}<extra></extra>",
         "legendgroup": "Fire",
         "marker": {
          "color": "#EF553B",
          "pattern": {
           "shape": ""
          }
         },
         "name": "Fire",
         "offsetgroup": "Fire",
         "orientation": "v",
         "showlegend": true,
         "type": "histogram",
         "x": [
          65,
          80,
          100,
          100,
          100,
          65,
          100,
          60,
          95,
          90,
          105,
          93,
          65,
          90,
          65,
          80,
          100,
          20,
          30,
          83,
          100,
          90,
          45,
          55,
          80,
          100,
          35,
          40,
          20,
          20,
          61,
          81,
          108,
          83,
          77,
          45,
          55,
          65,
          64,
          101,
          50,
          95,
          55,
          65,
          60,
          73,
          104,
          84,
          126,
          72,
          106,
          70
         ],
         "xaxis": "x",
         "yaxis": "y"
        },
        {
         "alignmentgroup": "True",
         "bingroup": "x",
         "hovertemplate": "Type 1=Water<br>Speed=%{x}<br>count=%{y}<extra></extra>",
         "legendgroup": "Water",
         "marker": {
          "color": "#00cc96",
          "pattern": {
           "shape": ""
          }
         },
         "name": "Water",
         "offsetgroup": "Water",
         "orientation": "v",
         "showlegend": true,
         "type": "histogram",
         "x": [
          43,
          58,
          78,
          78,
          55,
          85,
          90,
          90,
          70,
          70,
          100,
          15,
          30,
          30,
          45,
          70,
          40,
          70,
          50,
          75,
          60,
          85,
          63,
          68,
          85,
          115,
          80,
          81,
          81,
          60,
          65,
          43,
          58,
          78,
          67,
          67,
          40,
          50,
          70,
          15,
          35,
          30,
          85,
          35,
          65,
          45,
          70,
          85,
          85,
          40,
          50,
          60,
          70,
          30,
          50,
          70,
          85,
          65,
          65,
          95,
          105,
          60,
          60,
          60,
          60,
          35,
          55,
          80,
          81,
          32,
          52,
          52,
          55,
          97,
          90,
          90,
          40,
          50,
          60,
          85,
          115,
          34,
          39,
          66,
          91,
          50,
          100,
          80,
          100,
          45,
          60,
          70,
          64,
          101,
          64,
          69,
          74,
          98,
          22,
          32,
          55,
          98,
          40,
          60,
          65,
          108,
          108,
          71,
          97,
          122,
          44,
          59
         ],
         "xaxis": "x",
         "yaxis": "y"
        },
        {
         "alignmentgroup": "True",
         "bingroup": "x",
         "hovertemplate": "Type 1=Bug<br>Speed=%{x}<br>count=%{y}<extra></extra>",
         "legendgroup": "Bug",
         "marker": {
          "color": "#ab63fa",
          "pattern": {
           "shape": ""
          }
         },
         "name": "Bug",
         "offsetgroup": "Bug",
         "orientation": "v",
         "showlegend": true,
         "type": "histogram",
         "x": [
          45,
          30,
          70,
          50,
          35,
          75,
          145,
          25,
          30,
          45,
          90,
          105,
          85,
          105,
          55,
          85,
          30,
          40,
          95,
          15,
          40,
          65,
          75,
          5,
          85,
          75,
          20,
          15,
          65,
          15,
          65,
          65,
          60,
          40,
          160,
          40,
          85,
          85,
          25,
          65,
          36,
          36,
          36,
          36,
          66,
          70,
          40,
          95,
          42,
          42,
          92,
          57,
          47,
          112,
          55,
          45,
          60,
          20,
          65,
          108,
          25,
          145,
          109,
          60,
          100,
          99,
          35,
          29,
          89
         ],
         "xaxis": "x",
         "yaxis": "y"
        },
        {
         "alignmentgroup": "True",
         "bingroup": "x",
         "hovertemplate": "Type 1=Normal<br>Speed=%{x}<br>count=%{y}<extra></extra>",
         "legendgroup": "Normal",
         "marker": {
          "color": "#FFA15A",
          "pattern": {
           "shape": ""
          }
         },
         "name": "Normal",
         "offsetgroup": "Normal",
         "orientation": "v",
         "showlegend": true,
         "type": "histogram",
         "x": [
          56,
          71,
          101,
          121,
          72,
          97,
          70,
          100,
          20,
          45,
          90,
          115,
          60,
          75,
          100,
          30,
          50,
          90,
          100,
          110,
          48,
          55,
          40,
          30,
          20,
          90,
          50,
          70,
          15,
          85,
          85,
          45,
          40,
          55,
          60,
          85,
          75,
          100,
          55,
          60,
          100,
          85,
          125,
          30,
          90,
          100,
          28,
          48,
          68,
          20,
          50,
          70,
          60,
          50,
          90,
          70,
          40,
          60,
          80,
          100,
          31,
          71,
          115,
          85,
          105,
          135,
          85,
          112,
          30,
          91,
          5,
          50,
          90,
          100,
          120,
          42,
          77,
          55,
          60,
          80,
          43,
          65,
          93,
          50,
          50,
          75,
          115,
          75,
          95,
          55,
          60,
          80,
          90,
          128,
          57,
          78,
          62,
          102
         ],
         "xaxis": "x",
         "yaxis": "y"
        },
        {
         "alignmentgroup": "True",
         "bingroup": "x",
         "hovertemplate": "Type 1=Poison<br>Speed=%{x}<br>count=%{y}<extra></extra>",
         "legendgroup": "Poison",
         "marker": {
          "color": "#19d3f3",
          "pattern": {
           "shape": ""
          }
         },
         "name": "Poison",
         "offsetgroup": "Poison",
         "orientation": "v",
         "showlegend": true,
         "type": "histogram",
         "x": [
          55,
          80,
          41,
          56,
          76,
          50,
          65,
          85,
          55,
          90,
          25,
          50,
          35,
          60,
          130,
          40,
          55,
          65,
          74,
          84,
          65,
          95,
          50,
          85,
          65,
          75,
          30,
          44
         ],
         "xaxis": "x",
         "yaxis": "y"
        },
        {
         "alignmentgroup": "True",
         "bingroup": "x",
         "hovertemplate": "Type 1=Electric<br>Speed=%{x}<br>count=%{y}<extra></extra>",
         "legendgroup": "Electric",
         "marker": {
          "color": "#FF6692",
          "pattern": {
           "shape": ""
          }
         },
         "name": "Electric",
         "offsetgroup": "Electric",
         "orientation": "v",
         "showlegend": true,
         "type": "histogram",
         "x": [
          90,
          110,
          45,
          70,
          100,
          140,
          105,
          130,
          100,
          60,
          35,
          45,
          55,
          45,
          95,
          115,
          65,
          105,
          135,
          95,
          95,
          45,
          60,
          70,
          95,
          60,
          95,
          91,
          86,
          86,
          86,
          86,
          86,
          76,
          116,
          103,
          60,
          40,
          50,
          111,
          101,
          70,
          109,
          101
         ],
         "xaxis": "x",
         "yaxis": "y"
        },
        {
         "alignmentgroup": "True",
         "bingroup": "x",
         "hovertemplate": "Type 1=Ground<br>Speed=%{x}<br>count=%{y}<extra></extra>",
         "legendgroup": "Ground",
         "marker": {
          "color": "#B6E880",
          "pattern": {
           "shape": ""
          }
         },
         "name": "Ground",
         "offsetgroup": "Ground",
         "orientation": "v",
         "showlegend": true,
         "type": "histogram",
         "x": [
          40,
          65,
          95,
          120,
          35,
          45,
          25,
          40,
          85,
          40,
          50,
          10,
          70,
          100,
          55,
          75,
          90,
          90,
          32,
          47,
          40,
          95,
          68,
          88,
          65,
          74,
          92,
          32,
          35,
          55,
          101,
          91
         ],
         "xaxis": "x",
         "yaxis": "y"
        },
        {
         "alignmentgroup": "True",
         "bingroup": "x",
         "hovertemplate": "Type 1=Fairy<br>Speed=%{x}<br>count=%{y}<extra></extra>",
         "legendgroup": "Fairy",
         "marker": {
          "color": "#FF97FF",
          "pattern": {
           "shape": ""
          }
         },
         "name": "Fairy",
         "offsetgroup": "Fairy",
         "orientation": "v",
         "showlegend": true,
         "type": "histogram",
         "x": [
          35,
          60,
          15,
          20,
          40,
          30,
          45,
          80,
          42,
          52,
          75,
          23,
          29,
          49,
          72,
          60,
          99
         ],
         "xaxis": "x",
         "yaxis": "y"
        },
        {
         "alignmentgroup": "True",
         "bingroup": "x",
         "hovertemplate": "Type 1=Fighting<br>Speed=%{x}<br>count=%{y}<extra></extra>",
         "legendgroup": "Fighting",
         "marker": {
          "color": "#FECB52",
          "pattern": {
           "shape": ""
          }
         },
         "name": "Fighting",
         "offsetgroup": "Fighting",
         "orientation": "v",
         "showlegend": true,
         "type": "histogram",
         "x": [
          70,
          95,
          35,
          45,
          55,
          87,
          76,
          35,
          70,
          25,
          50,
          60,
          80,
          100,
          60,
          90,
          112,
          35,
          40,
          45,
          45,
          85,
          65,
          105,
          43,
          58,
          118
         ],
         "xaxis": "x",
         "yaxis": "y"
        },
        {
         "alignmentgroup": "True",
         "bingroup": "x",
         "hovertemplate": "Type 1=Psychic<br>Speed=%{x}<br>count=%{y}<extra></extra>",
         "legendgroup": "Psychic",
         "marker": {
          "color": "#636efa",
          "pattern": {
           "shape": ""
          }
         },
         "name": "Psychic",
         "offsetgroup": "Psychic",
         "orientation": "v",
         "showlegend": true,
         "type": "histogram",
         "x": [
          90,
          105,
          120,
          150,
          42,
          67,
          90,
          130,
          130,
          140,
          100,
          70,
          95,
          110,
          48,
          33,
          110,
          100,
          40,
          50,
          80,
          100,
          60,
          80,
          65,
          23,
          150,
          150,
          90,
          180,
          45,
          60,
          80,
          110,
          95,
          80,
          115,
          85,
          100,
          24,
          29,
          72,
          114,
          97,
          45,
          55,
          65,
          20,
          30,
          30,
          30,
          40,
          68,
          104,
          104,
          70,
          80
         ],
         "xaxis": "x",
         "yaxis": "y"
        },
        {
         "alignmentgroup": "True",
         "bingroup": "x",
         "hovertemplate": "Type 1=Rock<br>Speed=%{x}<br>count=%{y}<extra></extra>",
         "legendgroup": "Rock",
         "marker": {
          "color": "#EF553B",
          "pattern": {
           "shape": ""
          }
         },
         "name": "Rock",
         "offsetgroup": "Rock",
         "orientation": "v",
         "showlegend": true,
         "type": "histogram",
         "x": [
          20,
          35,
          45,
          70,
          35,
          55,
          55,
          80,
          130,
          150,
          30,
          41,
          51,
          61,
          71,
          30,
          70,
          70,
          23,
          43,
          75,
          45,
          50,
          58,
          58,
          30,
          30,
          10,
          40,
          15,
          20,
          25,
          70,
          110,
          108,
          50,
          68,
          48,
          71,
          46,
          58,
          50,
          50,
          110
         ],
         "xaxis": "x",
         "yaxis": "y"
        },
        {
         "alignmentgroup": "True",
         "bingroup": "x",
         "hovertemplate": "Type 1=Ghost<br>Speed=%{x}<br>count=%{y}<extra></extra>",
         "legendgroup": "Ghost",
         "marker": {
          "color": "#00cc96",
          "pattern": {
           "shape": ""
          }
         },
         "name": "Ghost",
         "offsetgroup": "Ghost",
         "orientation": "v",
         "showlegend": true,
         "type": "histogram",
         "x": [
          80,
          95,
          110,
          130,
          85,
          45,
          65,
          75,
          25,
          25,
          70,
          80,
          105,
          35,
          45,
          90,
          90,
          30,
          30,
          20,
          55,
          80,
          38,
          56,
          51,
          56,
          46,
          41,
          84,
          99,
          69,
          54
         ],
         "xaxis": "x",
         "yaxis": "y"
        },
        {
         "alignmentgroup": "True",
         "bingroup": "x",
         "hovertemplate": "Type 1=Ice<br>Speed=%{x}<br>count=%{y}<extra></extra>",
         "legendgroup": "Ice",
         "marker": {
          "color": "#ab63fa",
          "pattern": {
           "shape": ""
          }
         },
         "name": "Ice",
         "offsetgroup": "Ice",
         "orientation": "v",
         "showlegend": true,
         "type": "histogram",
         "x": [
          95,
          85,
          50,
          50,
          75,
          65,
          50,
          80,
          100,
          25,
          45,
          65,
          50,
          65,
          80,
          110,
          44,
          59,
          79,
          40,
          50,
          105,
          28,
          28
         ],
         "xaxis": "x",
         "yaxis": "y"
        },
        {
         "alignmentgroup": "True",
         "bingroup": "x",
         "hovertemplate": "Type 1=Dragon<br>Speed=%{x}<br>count=%{y}<extra></extra>",
         "legendgroup": "Dragon",
         "marker": {
          "color": "#FFA15A",
          "pattern": {
           "shape": ""
          }
         },
         "name": "Dragon",
         "offsetgroup": "Dragon",
         "orientation": "v",
         "showlegend": true,
         "type": "histogram",
         "x": [
          50,
          70,
          80,
          80,
          80,
          50,
          50,
          100,
          120,
          110,
          110,
          110,
          110,
          95,
          115,
          42,
          82,
          102,
          92,
          57,
          67,
          97,
          48,
          90,
          90,
          95,
          95,
          95,
          40,
          60,
          80,
          95
         ],
         "xaxis": "x",
         "yaxis": "y"
        },
        {
         "alignmentgroup": "True",
         "bingroup": "x",
         "hovertemplate": "Type 1=Dark<br>Speed=%{x}<br>count=%{y}<extra></extra>",
         "legendgroup": "Dark",
         "marker": {
          "color": "#19d3f3",
          "pattern": {
           "shape": ""
          }
         },
         "name": "Dark",
         "offsetgroup": "Dark",
         "orientation": "v",
         "showlegend": true,
         "type": "histogram",
         "x": [
          65,
          91,
          115,
          65,
          95,
          115,
          35,
          70,
          50,
          20,
          75,
          115,
          71,
          125,
          125,
          66,
          106,
          48,
          58,
          65,
          105,
          60,
          70,
          60,
          80,
          38,
          58,
          98,
          45,
          73,
          99
         ],
         "xaxis": "x",
         "yaxis": "y"
        },
        {
         "alignmentgroup": "True",
         "bingroup": "x",
         "hovertemplate": "Type 1=Steel<br>Speed=%{x}<br>count=%{y}<extra></extra>",
         "legendgroup": "Steel",
         "marker": {
          "color": "#FF6692",
          "pattern": {
           "shape": ""
          }
         },
         "name": "Steel",
         "offsetgroup": "Steel",
         "orientation": "v",
         "showlegend": true,
         "type": "histogram",
         "x": [
          30,
          30,
          70,
          50,
          50,
          30,
          40,
          50,
          50,
          30,
          50,
          70,
          110,
          50,
          100,
          23,
          33,
          90,
          30,
          50,
          90,
          108,
          28,
          35,
          60,
          60,
          75
         ],
         "xaxis": "x",
         "yaxis": "y"
        },
        {
         "alignmentgroup": "True",
         "bingroup": "x",
         "hovertemplate": "Type 1=Flying<br>Speed=%{x}<br>count=%{y}<extra></extra>",
         "legendgroup": "Flying",
         "marker": {
          "color": "#B6E880",
          "pattern": {
           "shape": ""
          }
         },
         "name": "Flying",
         "offsetgroup": "Flying",
         "orientation": "v",
         "showlegend": true,
         "type": "histogram",
         "x": [
          111,
          121,
          55,
          123
         ],
         "xaxis": "x",
         "yaxis": "y"
        }
       ],
       "layout": {
        "autosize": true,
        "barmode": "relative",
        "legend": {
         "title": {
          "text": "Type 1"
         },
         "tracegroupgap": 0
        },
        "margin": {
         "t": 60
        },
        "template": {
         "data": {
          "bar": [
           {
            "error_x": {
             "color": "#2a3f5f"
            },
            "error_y": {
             "color": "#2a3f5f"
            },
            "marker": {
             "line": {
              "color": "#E5ECF6",
              "width": 0.5
             },
             "pattern": {
              "fillmode": "overlay",
              "size": 10,
              "solidity": 0.2
             }
            },
            "type": "bar"
           }
          ],
          "barpolar": [
           {
            "marker": {
             "line": {
              "color": "#E5ECF6",
              "width": 0.5
             },
             "pattern": {
              "fillmode": "overlay",
              "size": 10,
              "solidity": 0.2
             }
            },
            "type": "barpolar"
           }
          ],
          "carpet": [
           {
            "aaxis": {
             "endlinecolor": "#2a3f5f",
             "gridcolor": "white",
             "linecolor": "white",
             "minorgridcolor": "white",
             "startlinecolor": "#2a3f5f"
            },
            "baxis": {
             "endlinecolor": "#2a3f5f",
             "gridcolor": "white",
             "linecolor": "white",
             "minorgridcolor": "white",
             "startlinecolor": "#2a3f5f"
            },
            "type": "carpet"
           }
          ],
          "choropleth": [
           {
            "colorbar": {
             "outlinewidth": 0,
             "ticks": ""
            },
            "type": "choropleth"
           }
          ],
          "contour": [
           {
            "colorbar": {
             "outlinewidth": 0,
             "ticks": ""
            },
            "colorscale": [
             [
              0,
              "#0d0887"
             ],
             [
              0.1111111111111111,
              "#46039f"
             ],
             [
              0.2222222222222222,
              "#7201a8"
             ],
             [
              0.3333333333333333,
              "#9c179e"
             ],
             [
              0.4444444444444444,
              "#bd3786"
             ],
             [
              0.5555555555555556,
              "#d8576b"
             ],
             [
              0.6666666666666666,
              "#ed7953"
             ],
             [
              0.7777777777777778,
              "#fb9f3a"
             ],
             [
              0.8888888888888888,
              "#fdca26"
             ],
             [
              1,
              "#f0f921"
             ]
            ],
            "type": "contour"
           }
          ],
          "contourcarpet": [
           {
            "colorbar": {
             "outlinewidth": 0,
             "ticks": ""
            },
            "type": "contourcarpet"
           }
          ],
          "heatmap": [
           {
            "colorbar": {
             "outlinewidth": 0,
             "ticks": ""
            },
            "colorscale": [
             [
              0,
              "#0d0887"
             ],
             [
              0.1111111111111111,
              "#46039f"
             ],
             [
              0.2222222222222222,
              "#7201a8"
             ],
             [
              0.3333333333333333,
              "#9c179e"
             ],
             [
              0.4444444444444444,
              "#bd3786"
             ],
             [
              0.5555555555555556,
              "#d8576b"
             ],
             [
              0.6666666666666666,
              "#ed7953"
             ],
             [
              0.7777777777777778,
              "#fb9f3a"
             ],
             [
              0.8888888888888888,
              "#fdca26"
             ],
             [
              1,
              "#f0f921"
             ]
            ],
            "type": "heatmap"
           }
          ],
          "heatmapgl": [
           {
            "colorbar": {
             "outlinewidth": 0,
             "ticks": ""
            },
            "colorscale": [
             [
              0,
              "#0d0887"
             ],
             [
              0.1111111111111111,
              "#46039f"
             ],
             [
              0.2222222222222222,
              "#7201a8"
             ],
             [
              0.3333333333333333,
              "#9c179e"
             ],
             [
              0.4444444444444444,
              "#bd3786"
             ],
             [
              0.5555555555555556,
              "#d8576b"
             ],
             [
              0.6666666666666666,
              "#ed7953"
             ],
             [
              0.7777777777777778,
              "#fb9f3a"
             ],
             [
              0.8888888888888888,
              "#fdca26"
             ],
             [
              1,
              "#f0f921"
             ]
            ],
            "type": "heatmapgl"
           }
          ],
          "histogram": [
           {
            "marker": {
             "pattern": {
              "fillmode": "overlay",
              "size": 10,
              "solidity": 0.2
             }
            },
            "type": "histogram"
           }
          ],
          "histogram2d": [
           {
            "colorbar": {
             "outlinewidth": 0,
             "ticks": ""
            },
            "colorscale": [
             [
              0,
              "#0d0887"
             ],
             [
              0.1111111111111111,
              "#46039f"
             ],
             [
              0.2222222222222222,
              "#7201a8"
             ],
             [
              0.3333333333333333,
              "#9c179e"
             ],
             [
              0.4444444444444444,
              "#bd3786"
             ],
             [
              0.5555555555555556,
              "#d8576b"
             ],
             [
              0.6666666666666666,
              "#ed7953"
             ],
             [
              0.7777777777777778,
              "#fb9f3a"
             ],
             [
              0.8888888888888888,
              "#fdca26"
             ],
             [
              1,
              "#f0f921"
             ]
            ],
            "type": "histogram2d"
           }
          ],
          "histogram2dcontour": [
           {
            "colorbar": {
             "outlinewidth": 0,
             "ticks": ""
            },
            "colorscale": [
             [
              0,
              "#0d0887"
             ],
             [
              0.1111111111111111,
              "#46039f"
             ],
             [
              0.2222222222222222,
              "#7201a8"
             ],
             [
              0.3333333333333333,
              "#9c179e"
             ],
             [
              0.4444444444444444,
              "#bd3786"
             ],
             [
              0.5555555555555556,
              "#d8576b"
             ],
             [
              0.6666666666666666,
              "#ed7953"
             ],
             [
              0.7777777777777778,
              "#fb9f3a"
             ],
             [
              0.8888888888888888,
              "#fdca26"
             ],
             [
              1,
              "#f0f921"
             ]
            ],
            "type": "histogram2dcontour"
           }
          ],
          "mesh3d": [
           {
            "colorbar": {
             "outlinewidth": 0,
             "ticks": ""
            },
            "type": "mesh3d"
           }
          ],
          "parcoords": [
           {
            "line": {
             "colorbar": {
              "outlinewidth": 0,
              "ticks": ""
             }
            },
            "type": "parcoords"
           }
          ],
          "pie": [
           {
            "automargin": true,
            "type": "pie"
           }
          ],
          "scatter": [
           {
            "marker": {
             "colorbar": {
              "outlinewidth": 0,
              "ticks": ""
             }
            },
            "type": "scatter"
           }
          ],
          "scatter3d": [
           {
            "line": {
             "colorbar": {
              "outlinewidth": 0,
              "ticks": ""
             }
            },
            "marker": {
             "colorbar": {
              "outlinewidth": 0,
              "ticks": ""
             }
            },
            "type": "scatter3d"
           }
          ],
          "scattercarpet": [
           {
            "marker": {
             "colorbar": {
              "outlinewidth": 0,
              "ticks": ""
             }
            },
            "type": "scattercarpet"
           }
          ],
          "scattergeo": [
           {
            "marker": {
             "colorbar": {
              "outlinewidth": 0,
              "ticks": ""
             }
            },
            "type": "scattergeo"
           }
          ],
          "scattergl": [
           {
            "marker": {
             "colorbar": {
              "outlinewidth": 0,
              "ticks": ""
             }
            },
            "type": "scattergl"
           }
          ],
          "scattermapbox": [
           {
            "marker": {
             "colorbar": {
              "outlinewidth": 0,
              "ticks": ""
             }
            },
            "type": "scattermapbox"
           }
          ],
          "scatterpolar": [
           {
            "marker": {
             "colorbar": {
              "outlinewidth": 0,
              "ticks": ""
             }
            },
            "type": "scatterpolar"
           }
          ],
          "scatterpolargl": [
           {
            "marker": {
             "colorbar": {
              "outlinewidth": 0,
              "ticks": ""
             }
            },
            "type": "scatterpolargl"
           }
          ],
          "scatterternary": [
           {
            "marker": {
             "colorbar": {
              "outlinewidth": 0,
              "ticks": ""
             }
            },
            "type": "scatterternary"
           }
          ],
          "surface": [
           {
            "colorbar": {
             "outlinewidth": 0,
             "ticks": ""
            },
            "colorscale": [
             [
              0,
              "#0d0887"
             ],
             [
              0.1111111111111111,
              "#46039f"
             ],
             [
              0.2222222222222222,
              "#7201a8"
             ],
             [
              0.3333333333333333,
              "#9c179e"
             ],
             [
              0.4444444444444444,
              "#bd3786"
             ],
             [
              0.5555555555555556,
              "#d8576b"
             ],
             [
              0.6666666666666666,
              "#ed7953"
             ],
             [
              0.7777777777777778,
              "#fb9f3a"
             ],
             [
              0.8888888888888888,
              "#fdca26"
             ],
             [
              1,
              "#f0f921"
             ]
            ],
            "type": "surface"
           }
          ],
          "table": [
           {
            "cells": {
             "fill": {
              "color": "#EBF0F8"
             },
             "line": {
              "color": "white"
             }
            },
            "header": {
             "fill": {
              "color": "#C8D4E3"
             },
             "line": {
              "color": "white"
             }
            },
            "type": "table"
           }
          ]
         },
         "layout": {
          "annotationdefaults": {
           "arrowcolor": "#2a3f5f",
           "arrowhead": 0,
           "arrowwidth": 1
          },
          "autotypenumbers": "strict",
          "coloraxis": {
           "colorbar": {
            "outlinewidth": 0,
            "ticks": ""
           }
          },
          "colorscale": {
           "diverging": [
            [
             0,
             "#8e0152"
            ],
            [
             0.1,
             "#c51b7d"
            ],
            [
             0.2,
             "#de77ae"
            ],
            [
             0.3,
             "#f1b6da"
            ],
            [
             0.4,
             "#fde0ef"
            ],
            [
             0.5,
             "#f7f7f7"
            ],
            [
             0.6,
             "#e6f5d0"
            ],
            [
             0.7,
             "#b8e186"
            ],
            [
             0.8,
             "#7fbc41"
            ],
            [
             0.9,
             "#4d9221"
            ],
            [
             1,
             "#276419"
            ]
           ],
           "sequential": [
            [
             0,
             "#0d0887"
            ],
            [
             0.1111111111111111,
             "#46039f"
            ],
            [
             0.2222222222222222,
             "#7201a8"
            ],
            [
             0.3333333333333333,
             "#9c179e"
            ],
            [
             0.4444444444444444,
             "#bd3786"
            ],
            [
             0.5555555555555556,
             "#d8576b"
            ],
            [
             0.6666666666666666,
             "#ed7953"
            ],
            [
             0.7777777777777778,
             "#fb9f3a"
            ],
            [
             0.8888888888888888,
             "#fdca26"
            ],
            [
             1,
             "#f0f921"
            ]
           ],
           "sequentialminus": [
            [
             0,
             "#0d0887"
            ],
            [
             0.1111111111111111,
             "#46039f"
            ],
            [
             0.2222222222222222,
             "#7201a8"
            ],
            [
             0.3333333333333333,
             "#9c179e"
            ],
            [
             0.4444444444444444,
             "#bd3786"
            ],
            [
             0.5555555555555556,
             "#d8576b"
            ],
            [
             0.6666666666666666,
             "#ed7953"
            ],
            [
             0.7777777777777778,
             "#fb9f3a"
            ],
            [
             0.8888888888888888,
             "#fdca26"
            ],
            [
             1,
             "#f0f921"
            ]
           ]
          },
          "colorway": [
           "#636efa",
           "#EF553B",
           "#00cc96",
           "#ab63fa",
           "#FFA15A",
           "#19d3f3",
           "#FF6692",
           "#B6E880",
           "#FF97FF",
           "#FECB52"
          ],
          "font": {
           "color": "#2a3f5f"
          },
          "geo": {
           "bgcolor": "white",
           "lakecolor": "white",
           "landcolor": "#E5ECF6",
           "showlakes": true,
           "showland": true,
           "subunitcolor": "white"
          },
          "hoverlabel": {
           "align": "left"
          },
          "hovermode": "closest",
          "mapbox": {
           "style": "light"
          },
          "paper_bgcolor": "white",
          "plot_bgcolor": "#E5ECF6",
          "polar": {
           "angularaxis": {
            "gridcolor": "white",
            "linecolor": "white",
            "ticks": ""
           },
           "bgcolor": "#E5ECF6",
           "radialaxis": {
            "gridcolor": "white",
            "linecolor": "white",
            "ticks": ""
           }
          },
          "scene": {
           "xaxis": {
            "backgroundcolor": "#E5ECF6",
            "gridcolor": "white",
            "gridwidth": 2,
            "linecolor": "white",
            "showbackground": true,
            "ticks": "",
            "zerolinecolor": "white"
           },
           "yaxis": {
            "backgroundcolor": "#E5ECF6",
            "gridcolor": "white",
            "gridwidth": 2,
            "linecolor": "white",
            "showbackground": true,
            "ticks": "",
            "zerolinecolor": "white"
           },
           "zaxis": {
            "backgroundcolor": "#E5ECF6",
            "gridcolor": "white",
            "gridwidth": 2,
            "linecolor": "white",
            "showbackground": true,
            "ticks": "",
            "zerolinecolor": "white"
           }
          },
          "shapedefaults": {
           "line": {
            "color": "#2a3f5f"
           }
          },
          "ternary": {
           "aaxis": {
            "gridcolor": "white",
            "linecolor": "white",
            "ticks": ""
           },
           "baxis": {
            "gridcolor": "white",
            "linecolor": "white",
            "ticks": ""
           },
           "bgcolor": "#E5ECF6",
           "caxis": {
            "gridcolor": "white",
            "linecolor": "white",
            "ticks": ""
           }
          },
          "title": {
           "x": 0.05
          },
          "xaxis": {
           "automargin": true,
           "gridcolor": "white",
           "linecolor": "white",
           "ticks": "",
           "title": {
            "standoff": 15
           },
           "zerolinecolor": "white",
           "zerolinewidth": 2
          },
          "yaxis": {
           "automargin": true,
           "gridcolor": "white",
           "linecolor": "white",
           "ticks": "",
           "title": {
            "standoff": 15
           },
           "zerolinecolor": "white",
           "zerolinewidth": 2
          }
         }
        },
        "xaxis": {
         "anchor": "y",
         "autorange": true,
         "domain": [
          0,
          1
         ],
         "range": [
          4.5,
          184.5
         ],
         "title": {
          "text": "Speed"
         },
         "type": "linear"
        },
        "yaxis": {
         "anchor": "x",
         "autorange": true,
         "domain": [
          0,
          1
         ],
         "range": [
          0,
          56.8421052631579
         ],
         "title": {
          "text": "count"
         }
        }
       }
      },
      "image/png": "[encoded data removed]",
      "text/html": [
       "<div>                            <div id=\"9ff982c1-aad9-4284-9509-e17649b397b8\" class=\"plotly-graph-div\" style=\"height:525px; width:100%;\"></div>            <script type=\"text/javascript\">                require([\"plotly\"], function(Plotly) {                    window.PLOTLYENV=window.PLOTLYENV || {};                                    if (document.getElementById(\"9ff982c1-aad9-4284-9509-e17649b397b8\")) {                    Plotly.newPlot(                        \"9ff982c1-aad9-4284-9509-e17649b397b8\",                        [{\"alignmentgroup\":\"True\",\"bingroup\":\"x\",\"hovertemplate\":\"Type 1=Grass<br>Speed=%{x}<br>count=%{y}<extra></extra>\",\"legendgroup\":\"Grass\",\"marker\":{\"color\":\"#636efa\",\"pattern\":{\"shape\":\"\"}},\"name\":\"Grass\",\"offsetgroup\":\"Grass\",\"orientation\":\"v\",\"showlegend\":true,\"x\":[45,60,80,80,30,40,50,40,55,70,40,55,60,45,60,80,50,50,80,110,30,30,70,95,120,145,30,60,80,35,70,65,35,55,51,31,36,56,55,90,35,85,46,40,60,30,50,95,100,127,63,83,113,64,101,66,116,30,90,60,15,30,10,20,108,38,57,64,52,68],\"xaxis\":\"x\",\"yaxis\":\"y\",\"type\":\"histogram\"},{\"alignmentgroup\":\"True\",\"bingroup\":\"x\",\"hovertemplate\":\"Type 1=Fire<br>Speed=%{x}<br>count=%{y}<extra></extra>\",\"legendgroup\":\"Fire\",\"marker\":{\"color\":\"#EF553B\",\"pattern\":{\"shape\":\"\"}},\"name\":\"Fire\",\"offsetgroup\":\"Fire\",\"orientation\":\"v\",\"showlegend\":true,\"x\":[65,80,100,100,100,65,100,60,95,90,105,93,65,90,65,80,100,20,30,83,100,90,45,55,80,100,35,40,20,20,61,81,108,83,77,45,55,65,64,101,50,95,55,65,60,73,104,84,126,72,106,70],\"xaxis\":\"x\",\"yaxis\":\"y\",\"type\":\"histogram\"},{\"alignmentgroup\":\"True\",\"bingroup\":\"x\",\"hovertemplate\":\"Type 1=Water<br>Speed=%{x}<br>count=%{y}<extra></extra>\",\"legendgroup\":\"Water\",\"marker\":{\"color\":\"#00cc96\",\"pattern\":{\"shape\":\"\"}},\"name\":\"Water\",\"offsetgroup\":\"Water\",\"orientation\":\"v\",\"showlegend\":true,\"x\":[43,58,78,78,55,85,90,90,70,70,100,15,30,30,45,70,40,70,50,75,60,85,63,68,85,115,80,81,81,60,65,43,58,78,67,67,40,50,70,15,35,30,85,35,65,45,70,85,85,40,50,60,70,30,50,70,85,65,65,95,105,60,60,60,60,35,55,80,81,32,52,52,55,97,90,90,40,50,60,85,115,34,39,66,91,50,100,80,100,45,60,70,64,101,64,69,74,98,22,32,55,98,40,60,65,108,108,71,97,122,44,59],\"xaxis\":\"x\",\"yaxis\":\"y\",\"type\":\"histogram\"},{\"alignmentgroup\":\"True\",\"bingroup\":\"x\",\"hovertemplate\":\"Type 1=Bug<br>Speed=%{x}<br>count=%{y}<extra></extra>\",\"legendgroup\":\"Bug\",\"marker\":{\"color\":\"#ab63fa\",\"pattern\":{\"shape\":\"\"}},\"name\":\"Bug\",\"offsetgroup\":\"Bug\",\"orientation\":\"v\",\"showlegend\":true,\"x\":[45,30,70,50,35,75,145,25,30,45,90,105,85,105,55,85,30,40,95,15,40,65,75,5,85,75,20,15,65,15,65,65,60,40,160,40,85,85,25,65,36,36,36,36,66,70,40,95,42,42,92,57,47,112,55,45,60,20,65,108,25,145,109,60,100,99,35,29,89],\"xaxis\":\"x\",\"yaxis\":\"y\",\"type\":\"histogram\"},{\"alignmentgroup\":\"True\",\"bingroup\":\"x\",\"hovertemplate\":\"Type 1=Normal<br>Speed=%{x}<br>count=%{y}<extra></extra>\",\"legendgroup\":\"Normal\",\"marker\":{\"color\":\"#FFA15A\",\"pattern\":{\"shape\":\"\"}},\"name\":\"Normal\",\"offsetgroup\":\"Normal\",\"orientation\":\"v\",\"showlegend\":true,\"x\":[56,71,101,121,72,97,70,100,20,45,90,115,60,75,100,30,50,90,100,110,48,55,40,30,20,90,50,70,15,85,85,45,40,55,60,85,75,100,55,60,100,85,125,30,90,100,28,48,68,20,50,70,60,50,90,70,40,60,80,100,31,71,115,85,105,135,85,112,30,91,5,50,90,100,120,42,77,55,60,80,43,65,93,50,50,75,115,75,95,55,60,80,90,128,57,78,62,102],\"xaxis\":\"x\",\"yaxis\":\"y\",\"type\":\"histogram\"},{\"alignmentgroup\":\"True\",\"bingroup\":\"x\",\"hovertemplate\":\"Type 1=Poison<br>Speed=%{x}<br>count=%{y}<extra></extra>\",\"legendgroup\":\"Poison\",\"marker\":{\"color\":\"#19d3f3\",\"pattern\":{\"shape\":\"\"}},\"name\":\"Poison\",\"offsetgroup\":\"Poison\",\"orientation\":\"v\",\"showlegend\":true,\"x\":[55,80,41,56,76,50,65,85,55,90,25,50,35,60,130,40,55,65,74,84,65,95,50,85,65,75,30,44],\"xaxis\":\"x\",\"yaxis\":\"y\",\"type\":\"histogram\"},{\"alignmentgroup\":\"True\",\"bingroup\":\"x\",\"hovertemplate\":\"Type 1=Electric<br>Speed=%{x}<br>count=%{y}<extra></extra>\",\"legendgroup\":\"Electric\",\"marker\":{\"color\":\"#FF6692\",\"pattern\":{\"shape\":\"\"}},\"name\":\"Electric\",\"offsetgroup\":\"Electric\",\"orientation\":\"v\",\"showlegend\":true,\"x\":[90,110,45,70,100,140,105,130,100,60,35,45,55,45,95,115,65,105,135,95,95,45,60,70,95,60,95,91,86,86,86,86,86,76,116,103,60,40,50,111,101,70,109,101],\"xaxis\":\"x\",\"yaxis\":\"y\",\"type\":\"histogram\"},{\"alignmentgroup\":\"True\",\"bingroup\":\"x\",\"hovertemplate\":\"Type 1=Ground<br>Speed=%{x}<br>count=%{y}<extra></extra>\",\"legendgroup\":\"Ground\",\"marker\":{\"color\":\"#B6E880\",\"pattern\":{\"shape\":\"\"}},\"name\":\"Ground\",\"offsetgroup\":\"Ground\",\"orientation\":\"v\",\"showlegend\":true,\"x\":[40,65,95,120,35,45,25,40,85,40,50,10,70,100,55,75,90,90,32,47,40,95,68,88,65,74,92,32,35,55,101,91],\"xaxis\":\"x\",\"yaxis\":\"y\",\"type\":\"histogram\"},{\"alignmentgroup\":\"True\",\"bingroup\":\"x\",\"hovertemplate\":\"Type 1=Fairy<br>Speed=%{x}<br>count=%{y}<extra></extra>\",\"legendgroup\":\"Fairy\",\"marker\":{\"color\":\"#FF97FF\",\"pattern\":{\"shape\":\"\"}},\"name\":\"Fairy\",\"offsetgroup\":\"Fairy\",\"orientation\":\"v\",\"showlegend\":true,\"x\":[35,60,15,20,40,30,45,80,42,52,75,23,29,49,72,60,99],\"xaxis\":\"x\",\"yaxis\":\"y\",\"type\":\"histogram\"},{\"alignmentgroup\":\"True\",\"bingroup\":\"x\",\"hovertemplate\":\"Type 1=Fighting<br>Speed=%{x}<br>count=%{y}<extra></extra>\",\"legendgroup\":\"Fighting\",\"marker\":{\"color\":\"#FECB52\",\"pattern\":{\"shape\":\"\"}},\"name\":\"Fighting\",\"offsetgroup\":\"Fighting\",\"orientation\":\"v\",\"showlegend\":true,\"x\":[70,95,35,45,55,87,76,35,70,25,50,60,80,100,60,90,112,35,40,45,45,85,65,105,43,58,118],\"xaxis\":\"x\",\"yaxis\":\"y\",\"type\":\"histogram\"},{\"alignmentgroup\":\"True\",\"bingroup\":\"x\",\"hovertemplate\":\"Type 1=Psychic<br>Speed=%{x}<br>count=%{y}<extra></extra>\",\"legendgroup\":\"Psychic\",\"marker\":{\"color\":\"#636efa\",\"pattern\":{\"shape\":\"\"}},\"name\":\"Psychic\",\"offsetgroup\":\"Psychic\",\"orientation\":\"v\",\"showlegend\":true,\"x\":[90,105,120,150,42,67,90,130,130,140,100,70,95,110,48,33,110,100,40,50,80,100,60,80,65,23,150,150,90,180,45,60,80,110,95,80,115,85,100,24,29,72,114,97,45,55,65,20,30,30,30,40,68,104,104,70,80],\"xaxis\":\"x\",\"yaxis\":\"y\",\"type\":\"histogram\"},{\"alignmentgroup\":\"True\",\"bingroup\":\"x\",\"hovertemplate\":\"Type 1=Rock<br>Speed=%{x}<br>count=%{y}<extra></extra>\",\"legendgroup\":\"Rock\",\"marker\":{\"color\":\"#EF553B\",\"pattern\":{\"shape\":\"\"}},\"name\":\"Rock\",\"offsetgroup\":\"Rock\",\"orientation\":\"v\",\"showlegend\":true,\"x\":[20,35,45,70,35,55,55,80,130,150,30,41,51,61,71,30,70,70,23,43,75,45,50,58,58,30,30,10,40,15,20,25,70,110,108,50,68,48,71,46,58,50,50,110],\"xaxis\":\"x\",\"yaxis\":\"y\",\"type\":\"histogram\"},{\"alignmentgroup\":\"True\",\"bingroup\":\"x\",\"hovertemplate\":\"Type 1=Ghost<br>Speed=%{x}<br>count=%{y}<extra></extra>\",\"legendgroup\":\"Ghost\",\"marker\":{\"color\":\"#00cc96\",\"pattern\":{\"shape\":\"\"}},\"name\":\"Ghost\",\"offsetgroup\":\"Ghost\",\"orientation\":\"v\",\"showlegend\":true,\"x\":[80,95,110,130,85,45,65,75,25,25,70,80,105,35,45,90,90,30,30,20,55,80,38,56,51,56,46,41,84,99,69,54],\"xaxis\":\"x\",\"yaxis\":\"y\",\"type\":\"histogram\"},{\"alignmentgroup\":\"True\",\"bingroup\":\"x\",\"hovertemplate\":\"Type 1=Ice<br>Speed=%{x}<br>count=%{y}<extra></extra>\",\"legendgroup\":\"Ice\",\"marker\":{\"color\":\"#ab63fa\",\"pattern\":{\"shape\":\"\"}},\"name\":\"Ice\",\"offsetgroup\":\"Ice\",\"orientation\":\"v\",\"showlegend\":true,\"x\":[95,85,50,50,75,65,50,80,100,25,45,65,50,65,80,110,44,59,79,40,50,105,28,28],\"xaxis\":\"x\",\"yaxis\":\"y\",\"type\":\"histogram\"},{\"alignmentgroup\":\"True\",\"bingroup\":\"x\",\"hovertemplate\":\"Type 1=Dragon<br>Speed=%{x}<br>count=%{y}<extra></extra>\",\"legendgroup\":\"Dragon\",\"marker\":{\"color\":\"#FFA15A\",\"pattern\":{\"shape\":\"\"}},\"name\":\"Dragon\",\"offsetgroup\":\"Dragon\",\"orientation\":\"v\",\"showlegend\":true,\"x\":[50,70,80,80,80,50,50,100,120,110,110,110,110,95,115,42,82,102,92,57,67,97,48,90,90,95,95,95,40,60,80,95],\"xaxis\":\"x\",\"yaxis\":\"y\",\"type\":\"histogram\"},{\"alignmentgroup\":\"True\",\"bingroup\":\"x\",\"hovertemplate\":\"Type 1=Dark<br>Speed=%{x}<br>count=%{y}<extra></extra>\",\"legendgroup\":\"Dark\",\"marker\":{\"color\":\"#19d3f3\",\"pattern\":{\"shape\":\"\"}},\"name\":\"Dark\",\"offsetgroup\":\"Dark\",\"orientation\":\"v\",\"showlegend\":true,\"x\":[65,91,115,65,95,115,35,70,50,20,75,115,71,125,125,66,106,48,58,65,105,60,70,60,80,38,58,98,45,73,99],\"xaxis\":\"x\",\"yaxis\":\"y\",\"type\":\"histogram\"},{\"alignmentgroup\":\"True\",\"bingroup\":\"x\",\"hovertemplate\":\"Type 1=Steel<br>Speed=%{x}<br>count=%{y}<extra></extra>\",\"legendgroup\":\"Steel\",\"marker\":{\"color\":\"#FF6692\",\"pattern\":{\"shape\":\"\"}},\"name\":\"Steel\",\"offsetgroup\":\"Steel\",\"orientation\":\"v\",\"showlegend\":true,\"x\":[30,30,70,50,50,30,40,50,50,30,50,70,110,50,100,23,33,90,30,50,90,108,28,35,60,60,75],\"xaxis\":\"x\",\"yaxis\":\"y\",\"type\":\"histogram\"},{\"alignmentgroup\":\"True\",\"bingroup\":\"x\",\"hovertemplate\":\"Type 1=Flying<br>Speed=%{x}<br>count=%{y}<extra></extra>\",\"legendgroup\":\"Flying\",\"marker\":{\"color\":\"#B6E880\",\"pattern\":{\"shape\":\"\"}},\"name\":\"Flying\",\"offsetgroup\":\"Flying\",\"orientation\":\"v\",\"showlegend\":true,\"x\":[111,121,55,123],\"xaxis\":\"x\",\"yaxis\":\"y\",\"type\":\"histogram\"}],                        {\"template\":{\"data\":{\"bar\":[{\"error_x\":{\"color\":\"#2a3f5f\"},\"error_y\":{\"color\":\"#2a3f5f\"},\"marker\":{\"line\":{\"color\":\"#E5ECF6\",\"width\":0.5},\"pattern\":{\"fillmode\":\"overlay\",\"size\":10,\"solidity\":0.2}},\"type\":\"bar\"}],\"barpolar\":[{\"marker\":{\"line\":{\"color\":\"#E5ECF6\",\"width\":0.5},\"pattern\":{\"fillmode\":\"overlay\",\"size\":10,\"solidity\":0.2}},\"type\":\"barpolar\"}],\"carpet\":[{\"aaxis\":{\"endlinecolor\":\"#2a3f5f\",\"gridcolor\":\"white\",\"linecolor\":\"white\",\"minorgridcolor\":\"white\",\"startlinecolor\":\"#2a3f5f\"},\"baxis\":{\"endlinecolor\":\"#2a3f5f\",\"gridcolor\":\"white\",\"linecolor\":\"white\",\"minorgridcolor\":\"white\",\"startlinecolor\":\"#2a3f5f\"},\"type\":\"carpet\"}],\"choropleth\":[{\"colorbar\":{\"outlinewidth\":0,\"ticks\":\"\"},\"type\":\"choropleth\"}],\"contour\":[{\"colorbar\":{\"outlinewidth\":0,\"ticks\":\"\"},\"colorscale\":[[0.0,\"#0d0887\"],[0.1111111111111111,\"#46039f\"],[0.2222222222222222,\"#7201a8\"],[0.3333333333333333,\"#9c179e\"],[0.4444444444444444,\"#bd3786\"],[0.5555555555555556,\"#d8576b\"],[0.6666666666666666,\"#ed7953\"],[0.7777777777777778,\"#fb9f3a\"],[0.8888888888888888,\"#fdca26\"],[1.0,\"#f0f921\"]],\"type\":\"contour\"}],\"contourcarpet\":[{\"colorbar\":{\"outlinewidth\":0,\"ticks\":\"\"},\"type\":\"contourcarpet\"}],\"heatmap\":[{\"colorbar\":{\"outlinewidth\":0,\"ticks\":\"\"},\"colorscale\":[[0.0,\"#0d0887\"],[0.1111111111111111,\"#46039f\"],[0.2222222222222222,\"#7201a8\"],[0.3333333333333333,\"#9c179e\"],[0.4444444444444444,\"#bd3786\"],[0.5555555555555556,\"#d8576b\"],[0.6666666666666666,\"#ed7953\"],[0.7777777777777778,\"#fb9f3a\"],[0.8888888888888888,\"#fdca26\"],[1.0,\"#f0f921\"]],\"type\":\"heatmap\"}],\"heatmapgl\":[{\"colorbar\":{\"outlinewidth\":0,\"ticks\":\"\"},\"colorscale\":[[0.0,\"#0d0887\"],[0.1111111111111111,\"#46039f\"],[0.2222222222222222,\"#7201a8\"],[0.3333333333333333,\"#9c179e\"],[0.4444444444444444,\"#bd3786\"],[0.5555555555555556,\"#d8576b\"],[0.6666666666666666,\"#ed7953\"],[0.7777777777777778,\"#fb9f3a\"],[0.8888888888888888,\"#fdca26\"],[1.0,\"#f0f921\"]],\"type\":\"heatmapgl\"}],\"histogram\":[{\"marker\":{\"pattern\":{\"fillmode\":\"overlay\",\"size\":10,\"solidity\":0.2}},\"type\":\"histogram\"}],\"histogram2d\":[{\"colorbar\":{\"outlinewidth\":0,\"ticks\":\"\"},\"colorscale\":[[0.0,\"#0d0887\"],[0.1111111111111111,\"#46039f\"],[0.2222222222222222,\"#7201a8\"],[0.3333333333333333,\"#9c179e\"],[0.4444444444444444,\"#bd3786\"],[0.5555555555555556,\"#d8576b\"],[0.6666666666666666,\"#ed7953\"],[0.7777777777777778,\"#fb9f3a\"],[0.8888888888888888,\"#fdca26\"],[1.0,\"#f0f921\"]],\"type\":\"histogram2d\"}],\"histogram2dcontour\":[{\"colorbar\":{\"outlinewidth\":0,\"ticks\":\"\"},\"colorscale\":[[0.0,\"#0d0887\"],[0.1111111111111111,\"#46039f\"],[0.2222222222222222,\"#7201a8\"],[0.3333333333333333,\"#9c179e\"],[0.4444444444444444,\"#bd3786\"],[0.5555555555555556,\"#d8576b\"],[0.6666666666666666,\"#ed7953\"],[0.7777777777777778,\"#fb9f3a\"],[0.8888888888888888,\"#fdca26\"],[1.0,\"#f0f921\"]],\"type\":\"histogram2dcontour\"}],\"mesh3d\":[{\"colorbar\":{\"outlinewidth\":0,\"ticks\":\"\"},\"type\":\"mesh3d\"}],\"parcoords\":[{\"line\":{\"colorbar\":{\"outlinewidth\":0,\"ticks\":\"\"}},\"type\":\"parcoords\"}],\"pie\":[{\"automargin\":true,\"type\":\"pie\"}],\"scatter\":[{\"marker\":{\"colorbar\":{\"outlinewidth\":0,\"ticks\":\"\"}},\"type\":\"scatter\"}],\"scatter3d\":[{\"line\":{\"colorbar\":{\"outlinewidth\":0,\"ticks\":\"\"}},\"marker\":{\"colorbar\":{\"outlinewidth\":0,\"ticks\":\"\"}},\"type\":\"scatter3d\"}],\"scattercarpet\":[{\"marker\":{\"colorbar\":{\"outlinewidth\":0,\"ticks\":\"\"}},\"type\":\"scattercarpet\"}],\"scattergeo\":[{\"marker\":{\"colorbar\":{\"outlinewidth\":0,\"ticks\":\"\"}},\"type\":\"scattergeo\"}],\"scattergl\":[{\"marker\":{\"colorbar\":{\"outlinewidth\":0,\"ticks\":\"\"}},\"type\":\"scattergl\"}],\"scattermapbox\":[{\"marker\":{\"colorbar\":{\"outlinewidth\":0,\"ticks\":\"\"}},\"type\":\"scattermapbox\"}],\"scatterpolar\":[{\"marker\":{\"colorbar\":{\"outlinewidth\":0,\"ticks\":\"\"}},\"type\":\"scatterpolar\"}],\"scatterpolargl\":[{\"marker\":{\"colorbar\":{\"outlinewidth\":0,\"ticks\":\"\"}},\"type\":\"scatterpolargl\"}],\"scatterternary\":[{\"marker\":{\"colorbar\":{\"outlinewidth\":0,\"ticks\":\"\"}},\"type\":\"scatterternary\"}],\"surface\":[{\"colorbar\":{\"outlinewidth\":0,\"ticks\":\"\"},\"colorscale\":[[0.0,\"#0d0887\"],[0.1111111111111111,\"#46039f\"],[0.2222222222222222,\"#7201a8\"],[0.3333333333333333,\"#9c179e\"],[0.4444444444444444,\"#bd3786\"],[0.5555555555555556,\"#d8576b\"],[0.6666666666666666,\"#ed7953\"],[0.7777777777777778,\"#fb9f3a\"],[0.8888888888888888,\"#fdca26\"],[1.0,\"#f0f921\"]],\"type\":\"surface\"}],\"table\":[{\"cells\":{\"fill\":{\"color\":\"#EBF0F8\"},\"line\":{\"color\":\"white\"}},\"header\":{\"fill\":{\"color\":\"#C8D4E3\"},\"line\":{\"color\":\"white\"}},\"type\":\"table\"}]},\"layout\":{\"annotationdefaults\":{\"arrowcolor\":\"#2a3f5f\",\"arrowhead\":0,\"arrowwidth\":1},\"autotypenumbers\":\"strict\",\"coloraxis\":{\"colorbar\":{\"outlinewidth\":0,\"ticks\":\"\"}},\"colorscale\":{\"diverging\":[[0,\"#8e0152\"],[0.1,\"#c51b7d\"],[0.2,\"#de77ae\"],[0.3,\"#f1b6da\"],[0.4,\"#fde0ef\"],[0.5,\"#f7f7f7\"],[0.6,\"#e6f5d0\"],[0.7,\"#b8e186\"],[0.8,\"#7fbc41\"],[0.9,\"#4d9221\"],[1,\"#276419\"]],\"sequential\":[[0.0,\"#0d0887\"],[0.1111111111111111,\"#46039f\"],[0.2222222222222222,\"#7201a8\"],[0.3333333333333333,\"#9c179e\"],[0.4444444444444444,\"#bd3786\"],[0.5555555555555556,\"#d8576b\"],[0.6666666666666666,\"#ed7953\"],[0.7777777777777778,\"#fb9f3a\"],[0.8888888888888888,\"#fdca26\"],[1.0,\"#f0f921\"]],\"sequentialminus\":[[0.0,\"#0d0887\"],[0.1111111111111111,\"#46039f\"],[0.2222222222222222,\"#7201a8\"],[0.3333333333333333,\"#9c179e\"],[0.4444444444444444,\"#bd3786\"],[0.5555555555555556,\"#d8576b\"],[0.6666666666666666,\"#ed7953\"],[0.7777777777777778,\"#fb9f3a\"],[0.8888888888888888,\"#fdca26\"],[1.0,\"#f0f921\"]]},\"colorway\":[\"#636efa\",\"#EF553B\",\"#00cc96\",\"#ab63fa\",\"#FFA15A\",\"#19d3f3\",\"#FF6692\",\"#B6E880\",\"#FF97FF\",\"#FECB52\"],\"font\":{\"color\":\"#2a3f5f\"},\"geo\":{\"bgcolor\":\"white\",\"lakecolor\":\"white\",\"landcolor\":\"#E5ECF6\",\"showlakes\":true,\"showland\":true,\"subunitcolor\":\"white\"},\"hoverlabel\":{\"align\":\"left\"},\"hovermode\":\"closest\",\"mapbox\":{\"style\":\"light\"},\"paper_bgcolor\":\"white\",\"plot_bgcolor\":\"#E5ECF6\",\"polar\":{\"angularaxis\":{\"gridcolor\":\"white\",\"linecolor\":\"white\",\"ticks\":\"\"},\"bgcolor\":\"#E5ECF6\",\"radialaxis\":{\"gridcolor\":\"white\",\"linecolor\":\"white\",\"ticks\":\"\"}},\"scene\":{\"xaxis\":{\"backgroundcolor\":\"#E5ECF6\",\"gridcolor\":\"white\",\"gridwidth\":2,\"linecolor\":\"white\",\"showbackground\":true,\"ticks\":\"\",\"zerolinecolor\":\"white\"},\"yaxis\":{\"backgroundcolor\":\"#E5ECF6\",\"gridcolor\":\"white\",\"gridwidth\":2,\"linecolor\":\"white\",\"showbackground\":true,\"ticks\":\"\",\"zerolinecolor\":\"white\"},\"zaxis\":{\"backgroundcolor\":\"#E5ECF6\",\"gridcolor\":\"white\",\"gridwidth\":2,\"linecolor\":\"white\",\"showbackground\":true,\"ticks\":\"\",\"zerolinecolor\":\"white\"}},\"shapedefaults\":{\"line\":{\"color\":\"#2a3f5f\"}},\"ternary\":{\"aaxis\":{\"gridcolor\":\"white\",\"linecolor\":\"white\",\"ticks\":\"\"},\"baxis\":{\"gridcolor\":\"white\",\"linecolor\":\"white\",\"ticks\":\"\"},\"bgcolor\":\"#E5ECF6\",\"caxis\":{\"gridcolor\":\"white\",\"linecolor\":\"white\",\"ticks\":\"\"}},\"title\":{\"x\":0.05},\"xaxis\":{\"automargin\":true,\"gridcolor\":\"white\",\"linecolor\":\"white\",\"ticks\":\"\",\"title\":{\"standoff\":15},\"zerolinecolor\":\"white\",\"zerolinewidth\":2},\"yaxis\":{\"automargin\":true,\"gridcolor\":\"white\",\"linecolor\":\"white\",\"ticks\":\"\",\"title\":{\"standoff\":15},\"zerolinecolor\":\"white\",\"zerolinewidth\":2}}},\"xaxis\":{\"anchor\":\"y\",\"domain\":[0.0,1.0],\"title\":{\"text\":\"Speed\"}},\"yaxis\":{\"anchor\":\"x\",\"domain\":[0.0,1.0],\"title\":{\"text\":\"count\"}},\"legend\":{\"title\":{\"text\":\"Type 1\"},\"tracegroupgap\":0},\"margin\":{\"t\":60},\"barmode\":\"relative\"},                        {\"responsive\": true}                    ).then(function(){\n",
       "                            \n",
       "var gd = document.getElementById('9ff982c1-aad9-4284-9509-e17649b397b8');\n",
       "var x = new MutationObserver(function (mutations, observer) {{\n",
       "        var display = window.getComputedStyle(gd).display;\n",
       "        if (!display || display === 'none') {{\n",
       "            console.log([gd, 'removed!']);\n",
       "            Plotly.purge(gd);\n",
       "            observer.disconnect();\n",
       "        }}\n",
       "}});\n",
       "\n",
       "// Listen for the removal of the full notebook cells\n",
       "var notebookContainer = gd.closest('#notebook-container');\n",
       "if (notebookContainer) {{\n",
       "    x.observe(notebookContainer, {childList: true});\n",
       "}}\n",
       "\n",
       "// Listen for the clearing of the current output cell\n",
       "var outputEl = gd.closest('.output');\n",
       "if (outputEl) {{\n",
       "    x.observe(outputEl, {childList: true});\n",
       "}}\n",
       "\n",
       "                        })                };                });            </script>        </div>"
      ]
     },
     "metadata": {},
     "output_type": "display_data"
    }
   ],
   "source": [
    "px.histogram(data_frame=df, x=\"Speed\", color=\"Type 1\" )"
   ]
  },
  {
   "cell_type": "markdown",
   "id": "6eac0b1e-5c6f-4760-bb9d-ed56b6517882",
   "metadata": {},
   "source": [
    "Pareto sistemiyle bu histogramı anlamlandırbiliriz. Mesela dünyanın %20'sinin dünya sevetiin %80'ine sahip olması bir paretodur."
   ]
  },
  {
   "cell_type": "code",
   "execution_count": 218,
   "id": "04e1300d-b321-4fa2-a4ba-8fde36650bd5",
   "metadata": {},
   "outputs": [
    {
     "data": {
      "text/html": [
       "<div>\n",
       "<style scoped>\n",
       "    .dataframe tbody tr th:only-of-type {\n",
       "        vertical-align: middle;\n",
       "    }\n",
       "\n",
       "    .dataframe tbody tr th {\n",
       "        vertical-align: top;\n",
       "    }\n",
       "\n",
       "    .dataframe thead th {\n",
       "        text-align: right;\n",
       "    }\n",
       "</style>\n",
       "<table border=\"1\" class=\"dataframe\">\n",
       "  <thead>\n",
       "    <tr style=\"text-align: right;\">\n",
       "      <th></th>\n",
       "      <th>#</th>\n",
       "      <th>Name</th>\n",
       "      <th>Type 2</th>\n",
       "      <th>Total</th>\n",
       "      <th>HP</th>\n",
       "      <th>Attack</th>\n",
       "      <th>Defense</th>\n",
       "      <th>Sp. Atk</th>\n",
       "      <th>Sp. Def</th>\n",
       "      <th>Speed</th>\n",
       "      <th>Generation</th>\n",
       "      <th>Legendary</th>\n",
       "    </tr>\n",
       "    <tr>\n",
       "      <th>Type 1</th>\n",
       "      <th></th>\n",
       "      <th></th>\n",
       "      <th></th>\n",
       "      <th></th>\n",
       "      <th></th>\n",
       "      <th></th>\n",
       "      <th></th>\n",
       "      <th></th>\n",
       "      <th></th>\n",
       "      <th></th>\n",
       "      <th></th>\n",
       "      <th></th>\n",
       "    </tr>\n",
       "  </thead>\n",
       "  <tbody>\n",
       "    <tr>\n",
       "      <th>Bug</th>\n",
       "      <td>69</td>\n",
       "      <td>69</td>\n",
       "      <td>52</td>\n",
       "      <td>69</td>\n",
       "      <td>69</td>\n",
       "      <td>69</td>\n",
       "      <td>69</td>\n",
       "      <td>69</td>\n",
       "      <td>69</td>\n",
       "      <td>69</td>\n",
       "      <td>69</td>\n",
       "      <td>69</td>\n",
       "    </tr>\n",
       "    <tr>\n",
       "      <th>Dark</th>\n",
       "      <td>31</td>\n",
       "      <td>31</td>\n",
       "      <td>21</td>\n",
       "      <td>31</td>\n",
       "      <td>31</td>\n",
       "      <td>31</td>\n",
       "      <td>31</td>\n",
       "      <td>31</td>\n",
       "      <td>31</td>\n",
       "      <td>31</td>\n",
       "      <td>31</td>\n",
       "      <td>31</td>\n",
       "    </tr>\n",
       "    <tr>\n",
       "      <th>Dragon</th>\n",
       "      <td>32</td>\n",
       "      <td>32</td>\n",
       "      <td>21</td>\n",
       "      <td>32</td>\n",
       "      <td>32</td>\n",
       "      <td>32</td>\n",
       "      <td>32</td>\n",
       "      <td>32</td>\n",
       "      <td>32</td>\n",
       "      <td>32</td>\n",
       "      <td>32</td>\n",
       "      <td>32</td>\n",
       "    </tr>\n",
       "    <tr>\n",
       "      <th>Electric</th>\n",
       "      <td>44</td>\n",
       "      <td>44</td>\n",
       "      <td>17</td>\n",
       "      <td>44</td>\n",
       "      <td>44</td>\n",
       "      <td>44</td>\n",
       "      <td>44</td>\n",
       "      <td>44</td>\n",
       "      <td>44</td>\n",
       "      <td>44</td>\n",
       "      <td>44</td>\n",
       "      <td>44</td>\n",
       "    </tr>\n",
       "    <tr>\n",
       "      <th>Fairy</th>\n",
       "      <td>17</td>\n",
       "      <td>17</td>\n",
       "      <td>2</td>\n",
       "      <td>17</td>\n",
       "      <td>17</td>\n",
       "      <td>17</td>\n",
       "      <td>17</td>\n",
       "      <td>17</td>\n",
       "      <td>17</td>\n",
       "      <td>17</td>\n",
       "      <td>17</td>\n",
       "      <td>17</td>\n",
       "    </tr>\n",
       "    <tr>\n",
       "      <th>Fighting</th>\n",
       "      <td>27</td>\n",
       "      <td>27</td>\n",
       "      <td>7</td>\n",
       "      <td>27</td>\n",
       "      <td>27</td>\n",
       "      <td>27</td>\n",
       "      <td>27</td>\n",
       "      <td>27</td>\n",
       "      <td>27</td>\n",
       "      <td>27</td>\n",
       "      <td>27</td>\n",
       "      <td>27</td>\n",
       "    </tr>\n",
       "    <tr>\n",
       "      <th>Fire</th>\n",
       "      <td>52</td>\n",
       "      <td>52</td>\n",
       "      <td>24</td>\n",
       "      <td>52</td>\n",
       "      <td>52</td>\n",
       "      <td>52</td>\n",
       "      <td>52</td>\n",
       "      <td>52</td>\n",
       "      <td>52</td>\n",
       "      <td>52</td>\n",
       "      <td>52</td>\n",
       "      <td>52</td>\n",
       "    </tr>\n",
       "    <tr>\n",
       "      <th>Flying</th>\n",
       "      <td>4</td>\n",
       "      <td>4</td>\n",
       "      <td>2</td>\n",
       "      <td>4</td>\n",
       "      <td>4</td>\n",
       "      <td>4</td>\n",
       "      <td>4</td>\n",
       "      <td>4</td>\n",
       "      <td>4</td>\n",
       "      <td>4</td>\n",
       "      <td>4</td>\n",
       "      <td>4</td>\n",
       "    </tr>\n",
       "    <tr>\n",
       "      <th>Ghost</th>\n",
       "      <td>32</td>\n",
       "      <td>32</td>\n",
       "      <td>22</td>\n",
       "      <td>32</td>\n",
       "      <td>32</td>\n",
       "      <td>32</td>\n",
       "      <td>32</td>\n",
       "      <td>32</td>\n",
       "      <td>32</td>\n",
       "      <td>32</td>\n",
       "      <td>32</td>\n",
       "      <td>32</td>\n",
       "    </tr>\n",
       "    <tr>\n",
       "      <th>Grass</th>\n",
       "      <td>70</td>\n",
       "      <td>70</td>\n",
       "      <td>37</td>\n",
       "      <td>70</td>\n",
       "      <td>70</td>\n",
       "      <td>70</td>\n",
       "      <td>70</td>\n",
       "      <td>70</td>\n",
       "      <td>70</td>\n",
       "      <td>70</td>\n",
       "      <td>70</td>\n",
       "      <td>70</td>\n",
       "    </tr>\n",
       "    <tr>\n",
       "      <th>Ground</th>\n",
       "      <td>32</td>\n",
       "      <td>32</td>\n",
       "      <td>19</td>\n",
       "      <td>32</td>\n",
       "      <td>32</td>\n",
       "      <td>32</td>\n",
       "      <td>32</td>\n",
       "      <td>32</td>\n",
       "      <td>32</td>\n",
       "      <td>32</td>\n",
       "      <td>32</td>\n",
       "      <td>32</td>\n",
       "    </tr>\n",
       "    <tr>\n",
       "      <th>Ice</th>\n",
       "      <td>24</td>\n",
       "      <td>24</td>\n",
       "      <td>11</td>\n",
       "      <td>24</td>\n",
       "      <td>24</td>\n",
       "      <td>24</td>\n",
       "      <td>24</td>\n",
       "      <td>24</td>\n",
       "      <td>24</td>\n",
       "      <td>24</td>\n",
       "      <td>24</td>\n",
       "      <td>24</td>\n",
       "    </tr>\n",
       "    <tr>\n",
       "      <th>Normal</th>\n",
       "      <td>98</td>\n",
       "      <td>98</td>\n",
       "      <td>37</td>\n",
       "      <td>98</td>\n",
       "      <td>98</td>\n",
       "      <td>98</td>\n",
       "      <td>98</td>\n",
       "      <td>98</td>\n",
       "      <td>98</td>\n",
       "      <td>98</td>\n",
       "      <td>98</td>\n",
       "      <td>98</td>\n",
       "    </tr>\n",
       "    <tr>\n",
       "      <th>Poison</th>\n",
       "      <td>28</td>\n",
       "      <td>28</td>\n",
       "      <td>13</td>\n",
       "      <td>28</td>\n",
       "      <td>28</td>\n",
       "      <td>28</td>\n",
       "      <td>28</td>\n",
       "      <td>28</td>\n",
       "      <td>28</td>\n",
       "      <td>28</td>\n",
       "      <td>28</td>\n",
       "      <td>28</td>\n",
       "    </tr>\n",
       "    <tr>\n",
       "      <th>Psychic</th>\n",
       "      <td>57</td>\n",
       "      <td>57</td>\n",
       "      <td>19</td>\n",
       "      <td>57</td>\n",
       "      <td>57</td>\n",
       "      <td>57</td>\n",
       "      <td>57</td>\n",
       "      <td>57</td>\n",
       "      <td>57</td>\n",
       "      <td>57</td>\n",
       "      <td>57</td>\n",
       "      <td>57</td>\n",
       "    </tr>\n",
       "    <tr>\n",
       "      <th>Rock</th>\n",
       "      <td>44</td>\n",
       "      <td>44</td>\n",
       "      <td>35</td>\n",
       "      <td>44</td>\n",
       "      <td>44</td>\n",
       "      <td>44</td>\n",
       "      <td>44</td>\n",
       "      <td>44</td>\n",
       "      <td>44</td>\n",
       "      <td>44</td>\n",
       "      <td>44</td>\n",
       "      <td>44</td>\n",
       "    </tr>\n",
       "    <tr>\n",
       "      <th>Steel</th>\n",
       "      <td>27</td>\n",
       "      <td>27</td>\n",
       "      <td>22</td>\n",
       "      <td>27</td>\n",
       "      <td>27</td>\n",
       "      <td>27</td>\n",
       "      <td>27</td>\n",
       "      <td>27</td>\n",
       "      <td>27</td>\n",
       "      <td>27</td>\n",
       "      <td>27</td>\n",
       "      <td>27</td>\n",
       "    </tr>\n",
       "    <tr>\n",
       "      <th>Water</th>\n",
       "      <td>112</td>\n",
       "      <td>112</td>\n",
       "      <td>53</td>\n",
       "      <td>112</td>\n",
       "      <td>112</td>\n",
       "      <td>112</td>\n",
       "      <td>112</td>\n",
       "      <td>112</td>\n",
       "      <td>112</td>\n",
       "      <td>112</td>\n",
       "      <td>112</td>\n",
       "      <td>112</td>\n",
       "    </tr>\n",
       "  </tbody>\n",
       "</table>\n",
       "</div>"
      ],
      "text/plain": [
       "            #  Name  Type 2  Total   HP  Attack  Defense  Sp. Atk  Sp. Def  \\\n",
       "Type 1                                                                       \n",
       "Bug        69    69      52     69   69      69       69       69       69   \n",
       "Dark       31    31      21     31   31      31       31       31       31   \n",
       "Dragon     32    32      21     32   32      32       32       32       32   \n",
       "Electric   44    44      17     44   44      44       44       44       44   \n",
       "Fairy      17    17       2     17   17      17       17       17       17   \n",
       "Fighting   27    27       7     27   27      27       27       27       27   \n",
       "Fire       52    52      24     52   52      52       52       52       52   \n",
       "Flying      4     4       2      4    4       4        4        4        4   \n",
       "Ghost      32    32      22     32   32      32       32       32       32   \n",
       "Grass      70    70      37     70   70      70       70       70       70   \n",
       "Ground     32    32      19     32   32      32       32       32       32   \n",
       "Ice        24    24      11     24   24      24       24       24       24   \n",
       "Normal     98    98      37     98   98      98       98       98       98   \n",
       "Poison     28    28      13     28   28      28       28       28       28   \n",
       "Psychic    57    57      19     57   57      57       57       57       57   \n",
       "Rock       44    44      35     44   44      44       44       44       44   \n",
       "Steel      27    27      22     27   27      27       27       27       27   \n",
       "Water     112   112      53    112  112     112      112      112      112   \n",
       "\n",
       "          Speed  Generation  Legendary  \n",
       "Type 1                                  \n",
       "Bug          69          69         69  \n",
       "Dark         31          31         31  \n",
       "Dragon       32          32         32  \n",
       "Electric     44          44         44  \n",
       "Fairy        17          17         17  \n",
       "Fighting     27          27         27  \n",
       "Fire         52          52         52  \n",
       "Flying        4           4          4  \n",
       "Ghost        32          32         32  \n",
       "Grass        70          70         70  \n",
       "Ground       32          32         32  \n",
       "Ice          24          24         24  \n",
       "Normal       98          98         98  \n",
       "Poison       28          28         28  \n",
       "Psychic      57          57         57  \n",
       "Rock         44          44         44  \n",
       "Steel        27          27         27  \n",
       "Water       112         112        112  "
      ]
     },
     "execution_count": 218,
     "metadata": {},
     "output_type": "execute_result"
    }
   ],
   "source": [
    "df.groupby(\"Type 1\").count()"
   ]
  },
  {
   "cell_type": "code",
   "execution_count": 219,
   "id": "f37a311b-646f-4a79-a8d7-bef653c5c671",
   "metadata": {},
   "outputs": [
    {
     "data": {
      "text/plain": [
       "Type 1\n",
       "Bug          69\n",
       "Dark         31\n",
       "Dragon       32\n",
       "Electric     44\n",
       "Fairy        17\n",
       "Fighting     27\n",
       "Fire         52\n",
       "Flying        4\n",
       "Ghost        32\n",
       "Grass        70\n",
       "Ground       32\n",
       "Ice          24\n",
       "Normal       98\n",
       "Poison       28\n",
       "Psychic      57\n",
       "Rock         44\n",
       "Steel        27\n",
       "Water       112\n",
       "Name: Name, dtype: int64"
      ]
     },
     "execution_count": 219,
     "metadata": {},
     "output_type": "execute_result"
    }
   ],
   "source": [
    "df.groupby(\"Type 1\")[\"Name\"].count() # tek köşeli parantezle alırsak seri olur -> [\"Name\"]"
   ]
  },
  {
   "cell_type": "code",
   "execution_count": 220,
   "id": "dbc5f6f2-844a-4192-a282-6c5809755fc0",
   "metadata": {},
   "outputs": [
    {
     "data": {
      "text/html": [
       "<div>\n",
       "<style scoped>\n",
       "    .dataframe tbody tr th:only-of-type {\n",
       "        vertical-align: middle;\n",
       "    }\n",
       "\n",
       "    .dataframe tbody tr th {\n",
       "        vertical-align: top;\n",
       "    }\n",
       "\n",
       "    .dataframe thead th {\n",
       "        text-align: right;\n",
       "    }\n",
       "</style>\n",
       "<table border=\"1\" class=\"dataframe\">\n",
       "  <thead>\n",
       "    <tr style=\"text-align: right;\">\n",
       "      <th></th>\n",
       "      <th>Name</th>\n",
       "    </tr>\n",
       "    <tr>\n",
       "      <th>Type 1</th>\n",
       "      <th></th>\n",
       "    </tr>\n",
       "  </thead>\n",
       "  <tbody>\n",
       "    <tr>\n",
       "      <th>Bug</th>\n",
       "      <td>69</td>\n",
       "    </tr>\n",
       "    <tr>\n",
       "      <th>Dark</th>\n",
       "      <td>31</td>\n",
       "    </tr>\n",
       "    <tr>\n",
       "      <th>Dragon</th>\n",
       "      <td>32</td>\n",
       "    </tr>\n",
       "    <tr>\n",
       "      <th>Electric</th>\n",
       "      <td>44</td>\n",
       "    </tr>\n",
       "    <tr>\n",
       "      <th>Fairy</th>\n",
       "      <td>17</td>\n",
       "    </tr>\n",
       "    <tr>\n",
       "      <th>Fighting</th>\n",
       "      <td>27</td>\n",
       "    </tr>\n",
       "    <tr>\n",
       "      <th>Fire</th>\n",
       "      <td>52</td>\n",
       "    </tr>\n",
       "    <tr>\n",
       "      <th>Flying</th>\n",
       "      <td>4</td>\n",
       "    </tr>\n",
       "    <tr>\n",
       "      <th>Ghost</th>\n",
       "      <td>32</td>\n",
       "    </tr>\n",
       "    <tr>\n",
       "      <th>Grass</th>\n",
       "      <td>70</td>\n",
       "    </tr>\n",
       "    <tr>\n",
       "      <th>Ground</th>\n",
       "      <td>32</td>\n",
       "    </tr>\n",
       "    <tr>\n",
       "      <th>Ice</th>\n",
       "      <td>24</td>\n",
       "    </tr>\n",
       "    <tr>\n",
       "      <th>Normal</th>\n",
       "      <td>98</td>\n",
       "    </tr>\n",
       "    <tr>\n",
       "      <th>Poison</th>\n",
       "      <td>28</td>\n",
       "    </tr>\n",
       "    <tr>\n",
       "      <th>Psychic</th>\n",
       "      <td>57</td>\n",
       "    </tr>\n",
       "    <tr>\n",
       "      <th>Rock</th>\n",
       "      <td>44</td>\n",
       "    </tr>\n",
       "    <tr>\n",
       "      <th>Steel</th>\n",
       "      <td>27</td>\n",
       "    </tr>\n",
       "    <tr>\n",
       "      <th>Water</th>\n",
       "      <td>112</td>\n",
       "    </tr>\n",
       "  </tbody>\n",
       "</table>\n",
       "</div>"
      ],
      "text/plain": [
       "          Name\n",
       "Type 1        \n",
       "Bug         69\n",
       "Dark        31\n",
       "Dragon      32\n",
       "Electric    44\n",
       "Fairy       17\n",
       "Fighting    27\n",
       "Fire        52\n",
       "Flying       4\n",
       "Ghost       32\n",
       "Grass       70\n",
       "Ground      32\n",
       "Ice         24\n",
       "Normal      98\n",
       "Poison      28\n",
       "Psychic     57\n",
       "Rock        44\n",
       "Steel       27\n",
       "Water      112"
      ]
     },
     "execution_count": 220,
     "metadata": {},
     "output_type": "execute_result"
    }
   ],
   "source": [
    "df.groupby(\"Type 1\")[[\"Name\"]].count() # çift köşeli parantezle alırsak data frame olur -> [[\"Name\"]]"
   ]
  },
  {
   "cell_type": "code",
   "execution_count": 221,
   "id": "ea19e406-077e-40f4-9f28-66ab37888f30",
   "metadata": {},
   "outputs": [
    {
     "data": {
      "text/html": [
       "<div>\n",
       "<style scoped>\n",
       "    .dataframe tbody tr th:only-of-type {\n",
       "        vertical-align: middle;\n",
       "    }\n",
       "\n",
       "    .dataframe tbody tr th {\n",
       "        vertical-align: top;\n",
       "    }\n",
       "\n",
       "    .dataframe thead tr th {\n",
       "        text-align: left;\n",
       "    }\n",
       "\n",
       "    .dataframe thead tr:last-of-type th {\n",
       "        text-align: right;\n",
       "    }\n",
       "</style>\n",
       "<table border=\"1\" class=\"dataframe\">\n",
       "  <thead>\n",
       "    <tr>\n",
       "      <th></th>\n",
       "      <th>Name</th>\n",
       "      <th>Speed</th>\n",
       "      <th colspan=\"3\" halign=\"left\">Defense</th>\n",
       "    </tr>\n",
       "    <tr>\n",
       "      <th></th>\n",
       "      <th>count</th>\n",
       "      <th>sum</th>\n",
       "      <th>sum</th>\n",
       "      <th>median</th>\n",
       "      <th>std</th>\n",
       "    </tr>\n",
       "    <tr>\n",
       "      <th>Type 1</th>\n",
       "      <th></th>\n",
       "      <th></th>\n",
       "      <th></th>\n",
       "      <th></th>\n",
       "      <th></th>\n",
       "    </tr>\n",
       "  </thead>\n",
       "  <tbody>\n",
       "    <tr>\n",
       "      <th>Bug</th>\n",
       "      <td>69</td>\n",
       "      <td>4256</td>\n",
       "      <td>4880</td>\n",
       "      <td>60.0</td>\n",
       "      <td>33.617609</td>\n",
       "    </tr>\n",
       "    <tr>\n",
       "      <th>Dark</th>\n",
       "      <td>31</td>\n",
       "      <td>2361</td>\n",
       "      <td>2177</td>\n",
       "      <td>70.0</td>\n",
       "      <td>25.121982</td>\n",
       "    </tr>\n",
       "    <tr>\n",
       "      <th>Dragon</th>\n",
       "      <td>32</td>\n",
       "      <td>2657</td>\n",
       "      <td>2764</td>\n",
       "      <td>90.0</td>\n",
       "      <td>24.102938</td>\n",
       "    </tr>\n",
       "    <tr>\n",
       "      <th>Electric</th>\n",
       "      <td>44</td>\n",
       "      <td>3718</td>\n",
       "      <td>2917</td>\n",
       "      <td>65.0</td>\n",
       "      <td>24.757033</td>\n",
       "    </tr>\n",
       "    <tr>\n",
       "      <th>Fairy</th>\n",
       "      <td>17</td>\n",
       "      <td>826</td>\n",
       "      <td>1117</td>\n",
       "      <td>66.0</td>\n",
       "      <td>18.979478</td>\n",
       "    </tr>\n",
       "    <tr>\n",
       "      <th>Fighting</th>\n",
       "      <td>27</td>\n",
       "      <td>1784</td>\n",
       "      <td>1780</td>\n",
       "      <td>70.0</td>\n",
       "      <td>18.578163</td>\n",
       "    </tr>\n",
       "    <tr>\n",
       "      <th>Fire</th>\n",
       "      <td>52</td>\n",
       "      <td>3871</td>\n",
       "      <td>3524</td>\n",
       "      <td>64.0</td>\n",
       "      <td>23.658200</td>\n",
       "    </tr>\n",
       "    <tr>\n",
       "      <th>Flying</th>\n",
       "      <td>4</td>\n",
       "      <td>410</td>\n",
       "      <td>265</td>\n",
       "      <td>75.0</td>\n",
       "      <td>21.360009</td>\n",
       "    </tr>\n",
       "    <tr>\n",
       "      <th>Ghost</th>\n",
       "      <td>32</td>\n",
       "      <td>2059</td>\n",
       "      <td>2598</td>\n",
       "      <td>72.5</td>\n",
       "      <td>32.551138</td>\n",
       "    </tr>\n",
       "    <tr>\n",
       "      <th>Grass</th>\n",
       "      <td>70</td>\n",
       "      <td>4335</td>\n",
       "      <td>4956</td>\n",
       "      <td>66.0</td>\n",
       "      <td>24.485192</td>\n",
       "    </tr>\n",
       "    <tr>\n",
       "      <th>Ground</th>\n",
       "      <td>32</td>\n",
       "      <td>2045</td>\n",
       "      <td>2715</td>\n",
       "      <td>84.5</td>\n",
       "      <td>33.786912</td>\n",
       "    </tr>\n",
       "    <tr>\n",
       "      <th>Ice</th>\n",
       "      <td>24</td>\n",
       "      <td>1523</td>\n",
       "      <td>1714</td>\n",
       "      <td>75.0</td>\n",
       "      <td>34.387708</td>\n",
       "    </tr>\n",
       "    <tr>\n",
       "      <th>Normal</th>\n",
       "      <td>98</td>\n",
       "      <td>7012</td>\n",
       "      <td>5865</td>\n",
       "      <td>60.0</td>\n",
       "      <td>23.771833</td>\n",
       "    </tr>\n",
       "    <tr>\n",
       "      <th>Poison</th>\n",
       "      <td>28</td>\n",
       "      <td>1780</td>\n",
       "      <td>1927</td>\n",
       "      <td>67.0</td>\n",
       "      <td>21.066128</td>\n",
       "    </tr>\n",
       "    <tr>\n",
       "      <th>Psychic</th>\n",
       "      <td>57</td>\n",
       "      <td>4645</td>\n",
       "      <td>3858</td>\n",
       "      <td>65.0</td>\n",
       "      <td>28.359401</td>\n",
       "    </tr>\n",
       "    <tr>\n",
       "      <th>Rock</th>\n",
       "      <td>44</td>\n",
       "      <td>2460</td>\n",
       "      <td>4435</td>\n",
       "      <td>100.0</td>\n",
       "      <td>36.447209</td>\n",
       "    </tr>\n",
       "    <tr>\n",
       "      <th>Steel</th>\n",
       "      <td>27</td>\n",
       "      <td>1492</td>\n",
       "      <td>3412</td>\n",
       "      <td>120.0</td>\n",
       "      <td>44.806548</td>\n",
       "    </tr>\n",
       "    <tr>\n",
       "      <th>Water</th>\n",
       "      <td>112</td>\n",
       "      <td>7388</td>\n",
       "      <td>8170</td>\n",
       "      <td>70.0</td>\n",
       "      <td>27.773809</td>\n",
       "    </tr>\n",
       "  </tbody>\n",
       "</table>\n",
       "</div>"
      ],
      "text/plain": [
       "          Name Speed Defense                  \n",
       "         count   sum     sum median        std\n",
       "Type 1                                        \n",
       "Bug         69  4256    4880   60.0  33.617609\n",
       "Dark        31  2361    2177   70.0  25.121982\n",
       "Dragon      32  2657    2764   90.0  24.102938\n",
       "Electric    44  3718    2917   65.0  24.757033\n",
       "Fairy       17   826    1117   66.0  18.979478\n",
       "Fighting    27  1784    1780   70.0  18.578163\n",
       "Fire        52  3871    3524   64.0  23.658200\n",
       "Flying       4   410     265   75.0  21.360009\n",
       "Ghost       32  2059    2598   72.5  32.551138\n",
       "Grass       70  4335    4956   66.0  24.485192\n",
       "Ground      32  2045    2715   84.5  33.786912\n",
       "Ice         24  1523    1714   75.0  34.387708\n",
       "Normal      98  7012    5865   60.0  23.771833\n",
       "Poison      28  1780    1927   67.0  21.066128\n",
       "Psychic     57  4645    3858   65.0  28.359401\n",
       "Rock        44  2460    4435  100.0  36.447209\n",
       "Steel       27  1492    3412  120.0  44.806548\n",
       "Water      112  7388    8170   70.0  27.773809"
      ]
     },
     "execution_count": 221,
     "metadata": {},
     "output_type": "execute_result"
    }
   ],
   "source": [
    "df.groupby(\"Type 1\").agg({\"Name\":\"count\", \"Speed\":\"sum\", \"Defense\":[\"sum\",\"median\",\"std\"]})"
   ]
  },
  {
   "cell_type": "code",
   "execution_count": 222,
   "id": "3c9489ca-e4eb-442d-b7b7-32d12004693c",
   "metadata": {},
   "outputs": [],
   "source": [
    "df3 = df.groupby(\"Type 1\").agg({\"Name\":\"count\", \"Speed\":\"sum\", \"Defense\":[\"sum\",\"median\",\"std\"]}).reset_index()"
   ]
  },
  {
   "cell_type": "code",
   "execution_count": 223,
   "id": "65247dbb-5c56-4a67-8790-2d88e84c4538",
   "metadata": {},
   "outputs": [
    {
     "data": {
      "text/plain": [
       "MultiIndex([( 'Type 1',       ''),\n",
       "            (   'Name',  'count'),\n",
       "            (  'Speed',    'sum'),\n",
       "            ('Defense',    'sum'),\n",
       "            ('Defense', 'median'),\n",
       "            ('Defense',    'std')],\n",
       "           )"
      ]
     },
     "execution_count": 223,
     "metadata": {},
     "output_type": "execute_result"
    }
   ],
   "source": [
    "df3.columns"
   ]
  },
  {
   "cell_type": "code",
   "execution_count": 224,
   "id": "6343afae-9188-4edb-949b-909ffbb7a8e7",
   "metadata": {},
   "outputs": [
    {
     "data": {
      "text/html": [
       "<div>\n",
       "<style scoped>\n",
       "    .dataframe tbody tr th:only-of-type {\n",
       "        vertical-align: middle;\n",
       "    }\n",
       "\n",
       "    .dataframe tbody tr th {\n",
       "        vertical-align: top;\n",
       "    }\n",
       "\n",
       "    .dataframe thead tr th {\n",
       "        text-align: left;\n",
       "    }\n",
       "</style>\n",
       "<table border=\"1\" class=\"dataframe\">\n",
       "  <thead>\n",
       "    <tr>\n",
       "      <th></th>\n",
       "      <th>Type 1</th>\n",
       "      <th>Name</th>\n",
       "      <th>Speed</th>\n",
       "      <th colspan=\"3\" halign=\"left\">Defense</th>\n",
       "    </tr>\n",
       "    <tr>\n",
       "      <th></th>\n",
       "      <th></th>\n",
       "      <th>count</th>\n",
       "      <th>sum</th>\n",
       "      <th>sum</th>\n",
       "      <th>median</th>\n",
       "      <th>std</th>\n",
       "    </tr>\n",
       "  </thead>\n",
       "  <tbody>\n",
       "    <tr>\n",
       "      <th>0</th>\n",
       "      <td>Bug</td>\n",
       "      <td>69</td>\n",
       "      <td>4256</td>\n",
       "      <td>4880</td>\n",
       "      <td>60.0</td>\n",
       "      <td>33.617609</td>\n",
       "    </tr>\n",
       "    <tr>\n",
       "      <th>1</th>\n",
       "      <td>Dark</td>\n",
       "      <td>31</td>\n",
       "      <td>2361</td>\n",
       "      <td>2177</td>\n",
       "      <td>70.0</td>\n",
       "      <td>25.121982</td>\n",
       "    </tr>\n",
       "    <tr>\n",
       "      <th>2</th>\n",
       "      <td>Dragon</td>\n",
       "      <td>32</td>\n",
       "      <td>2657</td>\n",
       "      <td>2764</td>\n",
       "      <td>90.0</td>\n",
       "      <td>24.102938</td>\n",
       "    </tr>\n",
       "    <tr>\n",
       "      <th>3</th>\n",
       "      <td>Electric</td>\n",
       "      <td>44</td>\n",
       "      <td>3718</td>\n",
       "      <td>2917</td>\n",
       "      <td>65.0</td>\n",
       "      <td>24.757033</td>\n",
       "    </tr>\n",
       "    <tr>\n",
       "      <th>4</th>\n",
       "      <td>Fairy</td>\n",
       "      <td>17</td>\n",
       "      <td>826</td>\n",
       "      <td>1117</td>\n",
       "      <td>66.0</td>\n",
       "      <td>18.979478</td>\n",
       "    </tr>\n",
       "    <tr>\n",
       "      <th>5</th>\n",
       "      <td>Fighting</td>\n",
       "      <td>27</td>\n",
       "      <td>1784</td>\n",
       "      <td>1780</td>\n",
       "      <td>70.0</td>\n",
       "      <td>18.578163</td>\n",
       "    </tr>\n",
       "    <tr>\n",
       "      <th>6</th>\n",
       "      <td>Fire</td>\n",
       "      <td>52</td>\n",
       "      <td>3871</td>\n",
       "      <td>3524</td>\n",
       "      <td>64.0</td>\n",
       "      <td>23.658200</td>\n",
       "    </tr>\n",
       "    <tr>\n",
       "      <th>7</th>\n",
       "      <td>Flying</td>\n",
       "      <td>4</td>\n",
       "      <td>410</td>\n",
       "      <td>265</td>\n",
       "      <td>75.0</td>\n",
       "      <td>21.360009</td>\n",
       "    </tr>\n",
       "    <tr>\n",
       "      <th>8</th>\n",
       "      <td>Ghost</td>\n",
       "      <td>32</td>\n",
       "      <td>2059</td>\n",
       "      <td>2598</td>\n",
       "      <td>72.5</td>\n",
       "      <td>32.551138</td>\n",
       "    </tr>\n",
       "    <tr>\n",
       "      <th>9</th>\n",
       "      <td>Grass</td>\n",
       "      <td>70</td>\n",
       "      <td>4335</td>\n",
       "      <td>4956</td>\n",
       "      <td>66.0</td>\n",
       "      <td>24.485192</td>\n",
       "    </tr>\n",
       "    <tr>\n",
       "      <th>10</th>\n",
       "      <td>Ground</td>\n",
       "      <td>32</td>\n",
       "      <td>2045</td>\n",
       "      <td>2715</td>\n",
       "      <td>84.5</td>\n",
       "      <td>33.786912</td>\n",
       "    </tr>\n",
       "    <tr>\n",
       "      <th>11</th>\n",
       "      <td>Ice</td>\n",
       "      <td>24</td>\n",
       "      <td>1523</td>\n",
       "      <td>1714</td>\n",
       "      <td>75.0</td>\n",
       "      <td>34.387708</td>\n",
       "    </tr>\n",
       "    <tr>\n",
       "      <th>12</th>\n",
       "      <td>Normal</td>\n",
       "      <td>98</td>\n",
       "      <td>7012</td>\n",
       "      <td>5865</td>\n",
       "      <td>60.0</td>\n",
       "      <td>23.771833</td>\n",
       "    </tr>\n",
       "    <tr>\n",
       "      <th>13</th>\n",
       "      <td>Poison</td>\n",
       "      <td>28</td>\n",
       "      <td>1780</td>\n",
       "      <td>1927</td>\n",
       "      <td>67.0</td>\n",
       "      <td>21.066128</td>\n",
       "    </tr>\n",
       "    <tr>\n",
       "      <th>14</th>\n",
       "      <td>Psychic</td>\n",
       "      <td>57</td>\n",
       "      <td>4645</td>\n",
       "      <td>3858</td>\n",
       "      <td>65.0</td>\n",
       "      <td>28.359401</td>\n",
       "    </tr>\n",
       "    <tr>\n",
       "      <th>15</th>\n",
       "      <td>Rock</td>\n",
       "      <td>44</td>\n",
       "      <td>2460</td>\n",
       "      <td>4435</td>\n",
       "      <td>100.0</td>\n",
       "      <td>36.447209</td>\n",
       "    </tr>\n",
       "    <tr>\n",
       "      <th>16</th>\n",
       "      <td>Steel</td>\n",
       "      <td>27</td>\n",
       "      <td>1492</td>\n",
       "      <td>3412</td>\n",
       "      <td>120.0</td>\n",
       "      <td>44.806548</td>\n",
       "    </tr>\n",
       "    <tr>\n",
       "      <th>17</th>\n",
       "      <td>Water</td>\n",
       "      <td>112</td>\n",
       "      <td>7388</td>\n",
       "      <td>8170</td>\n",
       "      <td>70.0</td>\n",
       "      <td>27.773809</td>\n",
       "    </tr>\n",
       "  </tbody>\n",
       "</table>\n",
       "</div>"
      ],
      "text/plain": [
       "      Type 1  Name Speed Defense                  \n",
       "             count   sum     sum median        std\n",
       "0        Bug    69  4256    4880   60.0  33.617609\n",
       "1       Dark    31  2361    2177   70.0  25.121982\n",
       "2     Dragon    32  2657    2764   90.0  24.102938\n",
       "3   Electric    44  3718    2917   65.0  24.757033\n",
       "4      Fairy    17   826    1117   66.0  18.979478\n",
       "5   Fighting    27  1784    1780   70.0  18.578163\n",
       "6       Fire    52  3871    3524   64.0  23.658200\n",
       "7     Flying     4   410     265   75.0  21.360009\n",
       "8      Ghost    32  2059    2598   72.5  32.551138\n",
       "9      Grass    70  4335    4956   66.0  24.485192\n",
       "10    Ground    32  2045    2715   84.5  33.786912\n",
       "11       Ice    24  1523    1714   75.0  34.387708\n",
       "12    Normal    98  7012    5865   60.0  23.771833\n",
       "13    Poison    28  1780    1927   67.0  21.066128\n",
       "14   Psychic    57  4645    3858   65.0  28.359401\n",
       "15      Rock    44  2460    4435  100.0  36.447209\n",
       "16     Steel    27  1492    3412  120.0  44.806548\n",
       "17     Water   112  7388    8170   70.0  27.773809"
      ]
     },
     "execution_count": 224,
     "metadata": {},
     "output_type": "execute_result"
    }
   ],
   "source": [
    "df3"
   ]
  },
  {
   "cell_type": "code",
   "execution_count": 225,
   "id": "9d85c55d-f49b-4413-ad8a-b70d03a1f738",
   "metadata": {},
   "outputs": [],
   "source": [
    "df3.columns = [\"Type 1\", \"Name-Count\", \"Speed-Sum\", \"Defense-Sum\", \"Defense-Median\", \"Defense-Std\"]"
   ]
  },
  {
   "cell_type": "code",
   "execution_count": 226,
   "id": "49ae9f1e-a08d-47e1-b1b6-8f61c1b2be53",
   "metadata": {},
   "outputs": [
    {
     "data": {
      "text/html": [
       "<div>\n",
       "<style scoped>\n",
       "    .dataframe tbody tr th:only-of-type {\n",
       "        vertical-align: middle;\n",
       "    }\n",
       "\n",
       "    .dataframe tbody tr th {\n",
       "        vertical-align: top;\n",
       "    }\n",
       "\n",
       "    .dataframe thead th {\n",
       "        text-align: right;\n",
       "    }\n",
       "</style>\n",
       "<table border=\"1\" class=\"dataframe\">\n",
       "  <thead>\n",
       "    <tr style=\"text-align: right;\">\n",
       "      <th></th>\n",
       "      <th>Type 1</th>\n",
       "      <th>Name-Count</th>\n",
       "      <th>Speed-Sum</th>\n",
       "      <th>Defense-Sum</th>\n",
       "      <th>Defense-Median</th>\n",
       "      <th>Defense-Std</th>\n",
       "    </tr>\n",
       "  </thead>\n",
       "  <tbody>\n",
       "    <tr>\n",
       "      <th>0</th>\n",
       "      <td>Bug</td>\n",
       "      <td>69</td>\n",
       "      <td>4256</td>\n",
       "      <td>4880</td>\n",
       "      <td>60.0</td>\n",
       "      <td>33.617609</td>\n",
       "    </tr>\n",
       "    <tr>\n",
       "      <th>1</th>\n",
       "      <td>Dark</td>\n",
       "      <td>31</td>\n",
       "      <td>2361</td>\n",
       "      <td>2177</td>\n",
       "      <td>70.0</td>\n",
       "      <td>25.121982</td>\n",
       "    </tr>\n",
       "    <tr>\n",
       "      <th>2</th>\n",
       "      <td>Dragon</td>\n",
       "      <td>32</td>\n",
       "      <td>2657</td>\n",
       "      <td>2764</td>\n",
       "      <td>90.0</td>\n",
       "      <td>24.102938</td>\n",
       "    </tr>\n",
       "    <tr>\n",
       "      <th>3</th>\n",
       "      <td>Electric</td>\n",
       "      <td>44</td>\n",
       "      <td>3718</td>\n",
       "      <td>2917</td>\n",
       "      <td>65.0</td>\n",
       "      <td>24.757033</td>\n",
       "    </tr>\n",
       "    <tr>\n",
       "      <th>4</th>\n",
       "      <td>Fairy</td>\n",
       "      <td>17</td>\n",
       "      <td>826</td>\n",
       "      <td>1117</td>\n",
       "      <td>66.0</td>\n",
       "      <td>18.979478</td>\n",
       "    </tr>\n",
       "    <tr>\n",
       "      <th>5</th>\n",
       "      <td>Fighting</td>\n",
       "      <td>27</td>\n",
       "      <td>1784</td>\n",
       "      <td>1780</td>\n",
       "      <td>70.0</td>\n",
       "      <td>18.578163</td>\n",
       "    </tr>\n",
       "    <tr>\n",
       "      <th>6</th>\n",
       "      <td>Fire</td>\n",
       "      <td>52</td>\n",
       "      <td>3871</td>\n",
       "      <td>3524</td>\n",
       "      <td>64.0</td>\n",
       "      <td>23.658200</td>\n",
       "    </tr>\n",
       "    <tr>\n",
       "      <th>7</th>\n",
       "      <td>Flying</td>\n",
       "      <td>4</td>\n",
       "      <td>410</td>\n",
       "      <td>265</td>\n",
       "      <td>75.0</td>\n",
       "      <td>21.360009</td>\n",
       "    </tr>\n",
       "    <tr>\n",
       "      <th>8</th>\n",
       "      <td>Ghost</td>\n",
       "      <td>32</td>\n",
       "      <td>2059</td>\n",
       "      <td>2598</td>\n",
       "      <td>72.5</td>\n",
       "      <td>32.551138</td>\n",
       "    </tr>\n",
       "    <tr>\n",
       "      <th>9</th>\n",
       "      <td>Grass</td>\n",
       "      <td>70</td>\n",
       "      <td>4335</td>\n",
       "      <td>4956</td>\n",
       "      <td>66.0</td>\n",
       "      <td>24.485192</td>\n",
       "    </tr>\n",
       "    <tr>\n",
       "      <th>10</th>\n",
       "      <td>Ground</td>\n",
       "      <td>32</td>\n",
       "      <td>2045</td>\n",
       "      <td>2715</td>\n",
       "      <td>84.5</td>\n",
       "      <td>33.786912</td>\n",
       "    </tr>\n",
       "    <tr>\n",
       "      <th>11</th>\n",
       "      <td>Ice</td>\n",
       "      <td>24</td>\n",
       "      <td>1523</td>\n",
       "      <td>1714</td>\n",
       "      <td>75.0</td>\n",
       "      <td>34.387708</td>\n",
       "    </tr>\n",
       "    <tr>\n",
       "      <th>12</th>\n",
       "      <td>Normal</td>\n",
       "      <td>98</td>\n",
       "      <td>7012</td>\n",
       "      <td>5865</td>\n",
       "      <td>60.0</td>\n",
       "      <td>23.771833</td>\n",
       "    </tr>\n",
       "    <tr>\n",
       "      <th>13</th>\n",
       "      <td>Poison</td>\n",
       "      <td>28</td>\n",
       "      <td>1780</td>\n",
       "      <td>1927</td>\n",
       "      <td>67.0</td>\n",
       "      <td>21.066128</td>\n",
       "    </tr>\n",
       "    <tr>\n",
       "      <th>14</th>\n",
       "      <td>Psychic</td>\n",
       "      <td>57</td>\n",
       "      <td>4645</td>\n",
       "      <td>3858</td>\n",
       "      <td>65.0</td>\n",
       "      <td>28.359401</td>\n",
       "    </tr>\n",
       "    <tr>\n",
       "      <th>15</th>\n",
       "      <td>Rock</td>\n",
       "      <td>44</td>\n",
       "      <td>2460</td>\n",
       "      <td>4435</td>\n",
       "      <td>100.0</td>\n",
       "      <td>36.447209</td>\n",
       "    </tr>\n",
       "    <tr>\n",
       "      <th>16</th>\n",
       "      <td>Steel</td>\n",
       "      <td>27</td>\n",
       "      <td>1492</td>\n",
       "      <td>3412</td>\n",
       "      <td>120.0</td>\n",
       "      <td>44.806548</td>\n",
       "    </tr>\n",
       "    <tr>\n",
       "      <th>17</th>\n",
       "      <td>Water</td>\n",
       "      <td>112</td>\n",
       "      <td>7388</td>\n",
       "      <td>8170</td>\n",
       "      <td>70.0</td>\n",
       "      <td>27.773809</td>\n",
       "    </tr>\n",
       "  </tbody>\n",
       "</table>\n",
       "</div>"
      ],
      "text/plain": [
       "      Type 1  Name-Count  Speed-Sum  Defense-Sum  Defense-Median  Defense-Std\n",
       "0        Bug          69       4256         4880            60.0    33.617609\n",
       "1       Dark          31       2361         2177            70.0    25.121982\n",
       "2     Dragon          32       2657         2764            90.0    24.102938\n",
       "3   Electric          44       3718         2917            65.0    24.757033\n",
       "4      Fairy          17        826         1117            66.0    18.979478\n",
       "5   Fighting          27       1784         1780            70.0    18.578163\n",
       "6       Fire          52       3871         3524            64.0    23.658200\n",
       "7     Flying           4        410          265            75.0    21.360009\n",
       "8      Ghost          32       2059         2598            72.5    32.551138\n",
       "9      Grass          70       4335         4956            66.0    24.485192\n",
       "10    Ground          32       2045         2715            84.5    33.786912\n",
       "11       Ice          24       1523         1714            75.0    34.387708\n",
       "12    Normal          98       7012         5865            60.0    23.771833\n",
       "13    Poison          28       1780         1927            67.0    21.066128\n",
       "14   Psychic          57       4645         3858            65.0    28.359401\n",
       "15      Rock          44       2460         4435           100.0    36.447209\n",
       "16     Steel          27       1492         3412           120.0    44.806548\n",
       "17     Water         112       7388         8170            70.0    27.773809"
      ]
     },
     "execution_count": 226,
     "metadata": {},
     "output_type": "execute_result"
    }
   ],
   "source": [
    "df3"
   ]
  },
  {
   "cell_type": "code",
   "execution_count": 5,
   "id": "77a80f60-8934-44c9-8196-b1b52bfa297c",
   "metadata": {},
   "outputs": [],
   "source": [
    "df2 = df.groupby(\"Type 1\").agg({\"Name\":\"count\"})"
   ]
  },
  {
   "cell_type": "code",
   "execution_count": 6,
   "id": "3da70b85-59ce-49ff-a064-953d0027c5c6",
   "metadata": {},
   "outputs": [
    {
     "data": {
      "text/plain": [
       "Index(['Name'], dtype='object')"
      ]
     },
     "execution_count": 6,
     "metadata": {},
     "output_type": "execute_result"
    }
   ],
   "source": [
    "df2.columns"
   ]
  },
  {
   "cell_type": "code",
   "execution_count": 7,
   "id": "c91c34ba-0d9a-4c23-b809-c72610340b99",
   "metadata": {},
   "outputs": [
    {
     "data": {
      "text/html": [
       "<div>\n",
       "<style scoped>\n",
       "    .dataframe tbody tr th:only-of-type {\n",
       "        vertical-align: middle;\n",
       "    }\n",
       "\n",
       "    .dataframe tbody tr th {\n",
       "        vertical-align: top;\n",
       "    }\n",
       "\n",
       "    .dataframe thead th {\n",
       "        text-align: right;\n",
       "    }\n",
       "</style>\n",
       "<table border=\"1\" class=\"dataframe\">\n",
       "  <thead>\n",
       "    <tr style=\"text-align: right;\">\n",
       "      <th></th>\n",
       "      <th>Name</th>\n",
       "    </tr>\n",
       "    <tr>\n",
       "      <th>Type 1</th>\n",
       "      <th></th>\n",
       "    </tr>\n",
       "  </thead>\n",
       "  <tbody>\n",
       "    <tr>\n",
       "      <th>Bug</th>\n",
       "      <td>69</td>\n",
       "    </tr>\n",
       "    <tr>\n",
       "      <th>Dark</th>\n",
       "      <td>31</td>\n",
       "    </tr>\n",
       "    <tr>\n",
       "      <th>Dragon</th>\n",
       "      <td>32</td>\n",
       "    </tr>\n",
       "    <tr>\n",
       "      <th>Electric</th>\n",
       "      <td>44</td>\n",
       "    </tr>\n",
       "    <tr>\n",
       "      <th>Fairy</th>\n",
       "      <td>17</td>\n",
       "    </tr>\n",
       "    <tr>\n",
       "      <th>Fighting</th>\n",
       "      <td>27</td>\n",
       "    </tr>\n",
       "    <tr>\n",
       "      <th>Fire</th>\n",
       "      <td>52</td>\n",
       "    </tr>\n",
       "    <tr>\n",
       "      <th>Flying</th>\n",
       "      <td>4</td>\n",
       "    </tr>\n",
       "    <tr>\n",
       "      <th>Ghost</th>\n",
       "      <td>32</td>\n",
       "    </tr>\n",
       "    <tr>\n",
       "      <th>Grass</th>\n",
       "      <td>70</td>\n",
       "    </tr>\n",
       "    <tr>\n",
       "      <th>Ground</th>\n",
       "      <td>32</td>\n",
       "    </tr>\n",
       "    <tr>\n",
       "      <th>Ice</th>\n",
       "      <td>24</td>\n",
       "    </tr>\n",
       "    <tr>\n",
       "      <th>Normal</th>\n",
       "      <td>98</td>\n",
       "    </tr>\n",
       "    <tr>\n",
       "      <th>Poison</th>\n",
       "      <td>28</td>\n",
       "    </tr>\n",
       "    <tr>\n",
       "      <th>Psychic</th>\n",
       "      <td>57</td>\n",
       "    </tr>\n",
       "    <tr>\n",
       "      <th>Rock</th>\n",
       "      <td>44</td>\n",
       "    </tr>\n",
       "    <tr>\n",
       "      <th>Steel</th>\n",
       "      <td>27</td>\n",
       "    </tr>\n",
       "    <tr>\n",
       "      <th>Water</th>\n",
       "      <td>112</td>\n",
       "    </tr>\n",
       "  </tbody>\n",
       "</table>\n",
       "</div>"
      ],
      "text/plain": [
       "          Name\n",
       "Type 1        \n",
       "Bug         69\n",
       "Dark        31\n",
       "Dragon      32\n",
       "Electric    44\n",
       "Fairy       17\n",
       "Fighting    27\n",
       "Fire        52\n",
       "Flying       4\n",
       "Ghost       32\n",
       "Grass       70\n",
       "Ground      32\n",
       "Ice         24\n",
       "Normal      98\n",
       "Poison      28\n",
       "Psychic     57\n",
       "Rock        44\n",
       "Steel       27\n",
       "Water      112"
      ]
     },
     "execution_count": 7,
     "metadata": {},
     "output_type": "execute_result"
    }
   ],
   "source": [
    "df2"
   ]
  },
  {
   "cell_type": "code",
   "execution_count": 8,
   "id": "efd9f7ec-b3ba-4e10-9c69-e186217de913",
   "metadata": {},
   "outputs": [],
   "source": [
    "df2 = df.groupby(\"Type 1\").agg({\"Name\":\"count\"}).reset_index().sort_values(\"Name\",ascending=False)"
   ]
  },
  {
   "cell_type": "code",
   "execution_count": 9,
   "id": "34d669f4-e5c3-4e0a-8b49-0e5618b215e7",
   "metadata": {},
   "outputs": [
    {
     "data": {
      "text/plain": [
       "Index(['Type 1', 'Name'], dtype='object')"
      ]
     },
     "execution_count": 9,
     "metadata": {},
     "output_type": "execute_result"
    }
   ],
   "source": [
    "df2.columns"
   ]
  },
  {
   "cell_type": "code",
   "execution_count": 10,
   "id": "869154a8-45f5-4495-acd9-e94b32032ac8",
   "metadata": {
    "tags": []
   },
   "outputs": [
    {
     "data": {
      "text/html": [
       "<div>\n",
       "<style scoped>\n",
       "    .dataframe tbody tr th:only-of-type {\n",
       "        vertical-align: middle;\n",
       "    }\n",
       "\n",
       "    .dataframe tbody tr th {\n",
       "        vertical-align: top;\n",
       "    }\n",
       "\n",
       "    .dataframe thead th {\n",
       "        text-align: right;\n",
       "    }\n",
       "</style>\n",
       "<table border=\"1\" class=\"dataframe\">\n",
       "  <thead>\n",
       "    <tr style=\"text-align: right;\">\n",
       "      <th></th>\n",
       "      <th>Type 1</th>\n",
       "      <th>Name</th>\n",
       "    </tr>\n",
       "  </thead>\n",
       "  <tbody>\n",
       "    <tr>\n",
       "      <th>17</th>\n",
       "      <td>Water</td>\n",
       "      <td>112</td>\n",
       "    </tr>\n",
       "    <tr>\n",
       "      <th>12</th>\n",
       "      <td>Normal</td>\n",
       "      <td>98</td>\n",
       "    </tr>\n",
       "    <tr>\n",
       "      <th>9</th>\n",
       "      <td>Grass</td>\n",
       "      <td>70</td>\n",
       "    </tr>\n",
       "    <tr>\n",
       "      <th>0</th>\n",
       "      <td>Bug</td>\n",
       "      <td>69</td>\n",
       "    </tr>\n",
       "    <tr>\n",
       "      <th>14</th>\n",
       "      <td>Psychic</td>\n",
       "      <td>57</td>\n",
       "    </tr>\n",
       "    <tr>\n",
       "      <th>6</th>\n",
       "      <td>Fire</td>\n",
       "      <td>52</td>\n",
       "    </tr>\n",
       "    <tr>\n",
       "      <th>3</th>\n",
       "      <td>Electric</td>\n",
       "      <td>44</td>\n",
       "    </tr>\n",
       "    <tr>\n",
       "      <th>15</th>\n",
       "      <td>Rock</td>\n",
       "      <td>44</td>\n",
       "    </tr>\n",
       "    <tr>\n",
       "      <th>8</th>\n",
       "      <td>Ghost</td>\n",
       "      <td>32</td>\n",
       "    </tr>\n",
       "    <tr>\n",
       "      <th>10</th>\n",
       "      <td>Ground</td>\n",
       "      <td>32</td>\n",
       "    </tr>\n",
       "    <tr>\n",
       "      <th>2</th>\n",
       "      <td>Dragon</td>\n",
       "      <td>32</td>\n",
       "    </tr>\n",
       "    <tr>\n",
       "      <th>1</th>\n",
       "      <td>Dark</td>\n",
       "      <td>31</td>\n",
       "    </tr>\n",
       "    <tr>\n",
       "      <th>13</th>\n",
       "      <td>Poison</td>\n",
       "      <td>28</td>\n",
       "    </tr>\n",
       "    <tr>\n",
       "      <th>5</th>\n",
       "      <td>Fighting</td>\n",
       "      <td>27</td>\n",
       "    </tr>\n",
       "    <tr>\n",
       "      <th>16</th>\n",
       "      <td>Steel</td>\n",
       "      <td>27</td>\n",
       "    </tr>\n",
       "    <tr>\n",
       "      <th>11</th>\n",
       "      <td>Ice</td>\n",
       "      <td>24</td>\n",
       "    </tr>\n",
       "    <tr>\n",
       "      <th>4</th>\n",
       "      <td>Fairy</td>\n",
       "      <td>17</td>\n",
       "    </tr>\n",
       "    <tr>\n",
       "      <th>7</th>\n",
       "      <td>Flying</td>\n",
       "      <td>4</td>\n",
       "    </tr>\n",
       "  </tbody>\n",
       "</table>\n",
       "</div>"
      ],
      "text/plain": [
       "      Type 1  Name\n",
       "17     Water   112\n",
       "12    Normal    98\n",
       "9      Grass    70\n",
       "0        Bug    69\n",
       "14   Psychic    57\n",
       "6       Fire    52\n",
       "3   Electric    44\n",
       "15      Rock    44\n",
       "8      Ghost    32\n",
       "10    Ground    32\n",
       "2     Dragon    32\n",
       "1       Dark    31\n",
       "13    Poison    28\n",
       "5   Fighting    27\n",
       "16     Steel    27\n",
       "11       Ice    24\n",
       "4      Fairy    17\n",
       "7     Flying     4"
      ]
     },
     "execution_count": 10,
     "metadata": {},
     "output_type": "execute_result"
    }
   ],
   "source": [
    "df2"
   ]
  },
  {
   "cell_type": "code",
   "execution_count": 11,
   "id": "449601ce-ae75-4e13-97c9-c38c2565e023",
   "metadata": {},
   "outputs": [
    {
     "data": {
      "text/html": [
       "<div>\n",
       "<style scoped>\n",
       "    .dataframe tbody tr th:only-of-type {\n",
       "        vertical-align: middle;\n",
       "    }\n",
       "\n",
       "    .dataframe tbody tr th {\n",
       "        vertical-align: top;\n",
       "    }\n",
       "\n",
       "    .dataframe thead th {\n",
       "        text-align: right;\n",
       "    }\n",
       "</style>\n",
       "<table border=\"1\" class=\"dataframe\">\n",
       "  <thead>\n",
       "    <tr style=\"text-align: right;\">\n",
       "      <th></th>\n",
       "      <th>Type 1</th>\n",
       "      <th>Name</th>\n",
       "      <th>Name-Percentage</th>\n",
       "    </tr>\n",
       "  </thead>\n",
       "  <tbody>\n",
       "    <tr>\n",
       "      <th>17</th>\n",
       "      <td>Water</td>\n",
       "      <td>112</td>\n",
       "      <td>14.000</td>\n",
       "    </tr>\n",
       "    <tr>\n",
       "      <th>12</th>\n",
       "      <td>Normal</td>\n",
       "      <td>98</td>\n",
       "      <td>12.250</td>\n",
       "    </tr>\n",
       "    <tr>\n",
       "      <th>9</th>\n",
       "      <td>Grass</td>\n",
       "      <td>70</td>\n",
       "      <td>8.750</td>\n",
       "    </tr>\n",
       "    <tr>\n",
       "      <th>0</th>\n",
       "      <td>Bug</td>\n",
       "      <td>69</td>\n",
       "      <td>8.625</td>\n",
       "    </tr>\n",
       "    <tr>\n",
       "      <th>14</th>\n",
       "      <td>Psychic</td>\n",
       "      <td>57</td>\n",
       "      <td>7.125</td>\n",
       "    </tr>\n",
       "    <tr>\n",
       "      <th>6</th>\n",
       "      <td>Fire</td>\n",
       "      <td>52</td>\n",
       "      <td>6.500</td>\n",
       "    </tr>\n",
       "    <tr>\n",
       "      <th>3</th>\n",
       "      <td>Electric</td>\n",
       "      <td>44</td>\n",
       "      <td>5.500</td>\n",
       "    </tr>\n",
       "    <tr>\n",
       "      <th>15</th>\n",
       "      <td>Rock</td>\n",
       "      <td>44</td>\n",
       "      <td>5.500</td>\n",
       "    </tr>\n",
       "    <tr>\n",
       "      <th>8</th>\n",
       "      <td>Ghost</td>\n",
       "      <td>32</td>\n",
       "      <td>4.000</td>\n",
       "    </tr>\n",
       "    <tr>\n",
       "      <th>10</th>\n",
       "      <td>Ground</td>\n",
       "      <td>32</td>\n",
       "      <td>4.000</td>\n",
       "    </tr>\n",
       "    <tr>\n",
       "      <th>2</th>\n",
       "      <td>Dragon</td>\n",
       "      <td>32</td>\n",
       "      <td>4.000</td>\n",
       "    </tr>\n",
       "    <tr>\n",
       "      <th>1</th>\n",
       "      <td>Dark</td>\n",
       "      <td>31</td>\n",
       "      <td>3.875</td>\n",
       "    </tr>\n",
       "    <tr>\n",
       "      <th>13</th>\n",
       "      <td>Poison</td>\n",
       "      <td>28</td>\n",
       "      <td>3.500</td>\n",
       "    </tr>\n",
       "    <tr>\n",
       "      <th>5</th>\n",
       "      <td>Fighting</td>\n",
       "      <td>27</td>\n",
       "      <td>3.375</td>\n",
       "    </tr>\n",
       "    <tr>\n",
       "      <th>16</th>\n",
       "      <td>Steel</td>\n",
       "      <td>27</td>\n",
       "      <td>3.375</td>\n",
       "    </tr>\n",
       "    <tr>\n",
       "      <th>11</th>\n",
       "      <td>Ice</td>\n",
       "      <td>24</td>\n",
       "      <td>3.000</td>\n",
       "    </tr>\n",
       "    <tr>\n",
       "      <th>4</th>\n",
       "      <td>Fairy</td>\n",
       "      <td>17</td>\n",
       "      <td>2.125</td>\n",
       "    </tr>\n",
       "    <tr>\n",
       "      <th>7</th>\n",
       "      <td>Flying</td>\n",
       "      <td>4</td>\n",
       "      <td>0.500</td>\n",
       "    </tr>\n",
       "  </tbody>\n",
       "</table>\n",
       "</div>"
      ],
      "text/plain": [
       "      Type 1  Name  Name-Percentage\n",
       "17     Water   112           14.000\n",
       "12    Normal    98           12.250\n",
       "9      Grass    70            8.750\n",
       "0        Bug    69            8.625\n",
       "14   Psychic    57            7.125\n",
       "6       Fire    52            6.500\n",
       "3   Electric    44            5.500\n",
       "15      Rock    44            5.500\n",
       "8      Ghost    32            4.000\n",
       "10    Ground    32            4.000\n",
       "2     Dragon    32            4.000\n",
       "1       Dark    31            3.875\n",
       "13    Poison    28            3.500\n",
       "5   Fighting    27            3.375\n",
       "16     Steel    27            3.375\n",
       "11       Ice    24            3.000\n",
       "4      Fairy    17            2.125\n",
       "7     Flying     4            0.500"
      ]
     },
     "execution_count": 11,
     "metadata": {},
     "output_type": "execute_result"
    }
   ],
   "source": [
    "df2[\"Name-Percentage\"] = (df2[[\"Name\"]]/df2[[\"Name\"]].sum())*100\n",
    "df2"
   ]
  },
  {
   "cell_type": "code",
   "execution_count": 12,
   "id": "bded9ad8-8ce0-449a-aaf4-02dbd67662c8",
   "metadata": {},
   "outputs": [
    {
     "data": {
      "text/html": [
       "<div>\n",
       "<style scoped>\n",
       "    .dataframe tbody tr th:only-of-type {\n",
       "        vertical-align: middle;\n",
       "    }\n",
       "\n",
       "    .dataframe tbody tr th {\n",
       "        vertical-align: top;\n",
       "    }\n",
       "\n",
       "    .dataframe thead th {\n",
       "        text-align: right;\n",
       "    }\n",
       "</style>\n",
       "<table border=\"1\" class=\"dataframe\">\n",
       "  <thead>\n",
       "    <tr style=\"text-align: right;\">\n",
       "      <th></th>\n",
       "      <th>Name</th>\n",
       "    </tr>\n",
       "  </thead>\n",
       "  <tbody>\n",
       "    <tr>\n",
       "      <th>17</th>\n",
       "      <td>14.000</td>\n",
       "    </tr>\n",
       "    <tr>\n",
       "      <th>12</th>\n",
       "      <td>12.250</td>\n",
       "    </tr>\n",
       "    <tr>\n",
       "      <th>9</th>\n",
       "      <td>8.750</td>\n",
       "    </tr>\n",
       "    <tr>\n",
       "      <th>0</th>\n",
       "      <td>8.625</td>\n",
       "    </tr>\n",
       "    <tr>\n",
       "      <th>14</th>\n",
       "      <td>7.125</td>\n",
       "    </tr>\n",
       "    <tr>\n",
       "      <th>6</th>\n",
       "      <td>6.500</td>\n",
       "    </tr>\n",
       "    <tr>\n",
       "      <th>3</th>\n",
       "      <td>5.500</td>\n",
       "    </tr>\n",
       "    <tr>\n",
       "      <th>15</th>\n",
       "      <td>5.500</td>\n",
       "    </tr>\n",
       "    <tr>\n",
       "      <th>8</th>\n",
       "      <td>4.000</td>\n",
       "    </tr>\n",
       "    <tr>\n",
       "      <th>10</th>\n",
       "      <td>4.000</td>\n",
       "    </tr>\n",
       "    <tr>\n",
       "      <th>2</th>\n",
       "      <td>4.000</td>\n",
       "    </tr>\n",
       "    <tr>\n",
       "      <th>1</th>\n",
       "      <td>3.875</td>\n",
       "    </tr>\n",
       "    <tr>\n",
       "      <th>13</th>\n",
       "      <td>3.500</td>\n",
       "    </tr>\n",
       "    <tr>\n",
       "      <th>5</th>\n",
       "      <td>3.375</td>\n",
       "    </tr>\n",
       "    <tr>\n",
       "      <th>16</th>\n",
       "      <td>3.375</td>\n",
       "    </tr>\n",
       "    <tr>\n",
       "      <th>11</th>\n",
       "      <td>3.000</td>\n",
       "    </tr>\n",
       "    <tr>\n",
       "      <th>4</th>\n",
       "      <td>2.125</td>\n",
       "    </tr>\n",
       "    <tr>\n",
       "      <th>7</th>\n",
       "      <td>0.500</td>\n",
       "    </tr>\n",
       "  </tbody>\n",
       "</table>\n",
       "</div>"
      ],
      "text/plain": [
       "      Name\n",
       "17  14.000\n",
       "12  12.250\n",
       "9    8.750\n",
       "0    8.625\n",
       "14   7.125\n",
       "6    6.500\n",
       "3    5.500\n",
       "15   5.500\n",
       "8    4.000\n",
       "10   4.000\n",
       "2    4.000\n",
       "1    3.875\n",
       "13   3.500\n",
       "5    3.375\n",
       "16   3.375\n",
       "11   3.000\n",
       "4    2.125\n",
       "7    0.500"
      ]
     },
     "execution_count": 12,
     "metadata": {},
     "output_type": "execute_result"
    }
   ],
   "source": [
    "df4 = (df2[[\"Name\"]]/df2[[\"Name\"]].sum())*100\n",
    "df4"
   ]
  },
  {
   "cell_type": "code",
   "execution_count": 180,
   "id": "aa23ab80-305d-4ee3-8c99-f37a32115406",
   "metadata": {
    "collapsed": true,
    "jupyter": {
     "outputs_hidden": true
    },
    "tags": []
   },
   "outputs": [
    {
     "ename": "ValueError",
     "evalue": "Length mismatch: Expected axis has 4 elements, new values have 3 elements",
     "output_type": "error",
     "traceback": [
      "\u001b[1;31m---------------------------------------------------------------------------\u001b[0m",
      "\u001b[1;31mValueError\u001b[0m                                Traceback (most recent call last)",
      "\u001b[1;32m~\\AppData\\Local\\Temp\\ipykernel_2340\\1819780132.py\u001b[0m in \u001b[0;36m<module>\u001b[1;34m\u001b[0m\n\u001b[0;32m      1\u001b[0m \u001b[0mdf2\u001b[0m \u001b[1;33m=\u001b[0m \u001b[0mpd\u001b[0m\u001b[1;33m.\u001b[0m\u001b[0mconcat\u001b[0m\u001b[1;33m(\u001b[0m\u001b[1;33m[\u001b[0m\u001b[0mdf2\u001b[0m\u001b[1;33m,\u001b[0m \u001b[0mdf4\u001b[0m\u001b[1;33m]\u001b[0m\u001b[1;33m,\u001b[0m \u001b[0maxis\u001b[0m\u001b[1;33m=\u001b[0m\u001b[1;36m1\u001b[0m\u001b[1;33m)\u001b[0m\u001b[1;33m\u001b[0m\u001b[1;33m\u001b[0m\u001b[0m\n\u001b[1;32m----> 2\u001b[1;33m \u001b[0mdf2\u001b[0m\u001b[1;33m.\u001b[0m\u001b[0mcolumns\u001b[0m \u001b[1;33m=\u001b[0m \u001b[1;33m[\u001b[0m\u001b[1;34m\"Type 1\"\u001b[0m\u001b[1;33m,\u001b[0m \u001b[1;34m\"Name-Count\"\u001b[0m\u001b[1;33m,\u001b[0m \u001b[1;34m\"Name-Percentage\"\u001b[0m\u001b[1;33m]\u001b[0m\u001b[1;33m\u001b[0m\u001b[1;33m\u001b[0m\u001b[0m\n\u001b[0m\u001b[0;32m      3\u001b[0m \u001b[0mdf2\u001b[0m\u001b[1;33m\u001b[0m\u001b[1;33m\u001b[0m\u001b[0m\n",
      "\u001b[1;32m~\\anaconda3\\envs\\ml\\lib\\site-packages\\pandas\\core\\generic.py\u001b[0m in \u001b[0;36m__setattr__\u001b[1;34m(self, name, value)\u001b[0m\n\u001b[0;32m   5594\u001b[0m         \u001b[1;32mtry\u001b[0m\u001b[1;33m:\u001b[0m\u001b[1;33m\u001b[0m\u001b[1;33m\u001b[0m\u001b[0m\n\u001b[0;32m   5595\u001b[0m             \u001b[0mobject\u001b[0m\u001b[1;33m.\u001b[0m\u001b[0m__getattribute__\u001b[0m\u001b[1;33m(\u001b[0m\u001b[0mself\u001b[0m\u001b[1;33m,\u001b[0m \u001b[0mname\u001b[0m\u001b[1;33m)\u001b[0m\u001b[1;33m\u001b[0m\u001b[1;33m\u001b[0m\u001b[0m\n\u001b[1;32m-> 5596\u001b[1;33m             \u001b[1;32mreturn\u001b[0m \u001b[0mobject\u001b[0m\u001b[1;33m.\u001b[0m\u001b[0m__setattr__\u001b[0m\u001b[1;33m(\u001b[0m\u001b[0mself\u001b[0m\u001b[1;33m,\u001b[0m \u001b[0mname\u001b[0m\u001b[1;33m,\u001b[0m \u001b[0mvalue\u001b[0m\u001b[1;33m)\u001b[0m\u001b[1;33m\u001b[0m\u001b[1;33m\u001b[0m\u001b[0m\n\u001b[0m\u001b[0;32m   5597\u001b[0m         \u001b[1;32mexcept\u001b[0m \u001b[0mAttributeError\u001b[0m\u001b[1;33m:\u001b[0m\u001b[1;33m\u001b[0m\u001b[1;33m\u001b[0m\u001b[0m\n\u001b[0;32m   5598\u001b[0m             \u001b[1;32mpass\u001b[0m\u001b[1;33m\u001b[0m\u001b[1;33m\u001b[0m\u001b[0m\n",
      "\u001b[1;32m~\\anaconda3\\envs\\ml\\lib\\site-packages\\pandas\\_libs\\properties.pyx\u001b[0m in \u001b[0;36mpandas._libs.properties.AxisProperty.__set__\u001b[1;34m()\u001b[0m\n",
      "\u001b[1;32m~\\anaconda3\\envs\\ml\\lib\\site-packages\\pandas\\core\\generic.py\u001b[0m in \u001b[0;36m_set_axis\u001b[1;34m(self, axis, labels)\u001b[0m\n\u001b[0;32m    767\u001b[0m     \u001b[1;32mdef\u001b[0m \u001b[0m_set_axis\u001b[0m\u001b[1;33m(\u001b[0m\u001b[0mself\u001b[0m\u001b[1;33m,\u001b[0m \u001b[0maxis\u001b[0m\u001b[1;33m:\u001b[0m \u001b[0mint\u001b[0m\u001b[1;33m,\u001b[0m \u001b[0mlabels\u001b[0m\u001b[1;33m:\u001b[0m \u001b[0mIndex\u001b[0m\u001b[1;33m)\u001b[0m \u001b[1;33m->\u001b[0m \u001b[1;32mNone\u001b[0m\u001b[1;33m:\u001b[0m\u001b[1;33m\u001b[0m\u001b[1;33m\u001b[0m\u001b[0m\n\u001b[0;32m    768\u001b[0m         \u001b[0mlabels\u001b[0m \u001b[1;33m=\u001b[0m \u001b[0mensure_index\u001b[0m\u001b[1;33m(\u001b[0m\u001b[0mlabels\u001b[0m\u001b[1;33m)\u001b[0m\u001b[1;33m\u001b[0m\u001b[1;33m\u001b[0m\u001b[0m\n\u001b[1;32m--> 769\u001b[1;33m         \u001b[0mself\u001b[0m\u001b[1;33m.\u001b[0m\u001b[0m_mgr\u001b[0m\u001b[1;33m.\u001b[0m\u001b[0mset_axis\u001b[0m\u001b[1;33m(\u001b[0m\u001b[0maxis\u001b[0m\u001b[1;33m,\u001b[0m \u001b[0mlabels\u001b[0m\u001b[1;33m)\u001b[0m\u001b[1;33m\u001b[0m\u001b[1;33m\u001b[0m\u001b[0m\n\u001b[0m\u001b[0;32m    770\u001b[0m         \u001b[0mself\u001b[0m\u001b[1;33m.\u001b[0m\u001b[0m_clear_item_cache\u001b[0m\u001b[1;33m(\u001b[0m\u001b[1;33m)\u001b[0m\u001b[1;33m\u001b[0m\u001b[1;33m\u001b[0m\u001b[0m\n\u001b[0;32m    771\u001b[0m \u001b[1;33m\u001b[0m\u001b[0m\n",
      "\u001b[1;32m~\\anaconda3\\envs\\ml\\lib\\site-packages\\pandas\\core\\internals\\managers.py\u001b[0m in \u001b[0;36mset_axis\u001b[1;34m(self, axis, new_labels)\u001b[0m\n\u001b[0;32m    212\u001b[0m     \u001b[1;32mdef\u001b[0m \u001b[0mset_axis\u001b[0m\u001b[1;33m(\u001b[0m\u001b[0mself\u001b[0m\u001b[1;33m,\u001b[0m \u001b[0maxis\u001b[0m\u001b[1;33m:\u001b[0m \u001b[0mint\u001b[0m\u001b[1;33m,\u001b[0m \u001b[0mnew_labels\u001b[0m\u001b[1;33m:\u001b[0m \u001b[0mIndex\u001b[0m\u001b[1;33m)\u001b[0m \u001b[1;33m->\u001b[0m \u001b[1;32mNone\u001b[0m\u001b[1;33m:\u001b[0m\u001b[1;33m\u001b[0m\u001b[1;33m\u001b[0m\u001b[0m\n\u001b[0;32m    213\u001b[0m         \u001b[1;31m# Caller is responsible for ensuring we have an Index object.\u001b[0m\u001b[1;33m\u001b[0m\u001b[1;33m\u001b[0m\u001b[0m\n\u001b[1;32m--> 214\u001b[1;33m         \u001b[0mself\u001b[0m\u001b[1;33m.\u001b[0m\u001b[0m_validate_set_axis\u001b[0m\u001b[1;33m(\u001b[0m\u001b[0maxis\u001b[0m\u001b[1;33m,\u001b[0m \u001b[0mnew_labels\u001b[0m\u001b[1;33m)\u001b[0m\u001b[1;33m\u001b[0m\u001b[1;33m\u001b[0m\u001b[0m\n\u001b[0m\u001b[0;32m    215\u001b[0m         \u001b[0mself\u001b[0m\u001b[1;33m.\u001b[0m\u001b[0maxes\u001b[0m\u001b[1;33m[\u001b[0m\u001b[0maxis\u001b[0m\u001b[1;33m]\u001b[0m \u001b[1;33m=\u001b[0m \u001b[0mnew_labels\u001b[0m\u001b[1;33m\u001b[0m\u001b[1;33m\u001b[0m\u001b[0m\n\u001b[0;32m    216\u001b[0m \u001b[1;33m\u001b[0m\u001b[0m\n",
      "\u001b[1;32m~\\anaconda3\\envs\\ml\\lib\\site-packages\\pandas\\core\\internals\\base.py\u001b[0m in \u001b[0;36m_validate_set_axis\u001b[1;34m(self, axis, new_labels)\u001b[0m\n\u001b[0;32m     67\u001b[0m \u001b[1;33m\u001b[0m\u001b[0m\n\u001b[0;32m     68\u001b[0m         \u001b[1;32melif\u001b[0m \u001b[0mnew_len\u001b[0m \u001b[1;33m!=\u001b[0m \u001b[0mold_len\u001b[0m\u001b[1;33m:\u001b[0m\u001b[1;33m\u001b[0m\u001b[1;33m\u001b[0m\u001b[0m\n\u001b[1;32m---> 69\u001b[1;33m             raise ValueError(\n\u001b[0m\u001b[0;32m     70\u001b[0m                 \u001b[1;34mf\"Length mismatch: Expected axis has {old_len} elements, new \"\u001b[0m\u001b[1;33m\u001b[0m\u001b[1;33m\u001b[0m\u001b[0m\n\u001b[0;32m     71\u001b[0m                 \u001b[1;34mf\"values have {new_len} elements\"\u001b[0m\u001b[1;33m\u001b[0m\u001b[1;33m\u001b[0m\u001b[0m\n",
      "\u001b[1;31mValueError\u001b[0m: Length mismatch: Expected axis has 4 elements, new values have 3 elements"
     ]
    }
   ],
   "source": [
    "df2 = pd.concat([df2, df4], axis=1)\n",
    "df2.columns = [\"Type 1\", \"Name-Count\", \"Name-Percentage\"]\n",
    "df2"
   ]
  },
  {
   "cell_type": "markdown",
   "id": "c0f66e0d-c572-451a-90e7-cff6bde6f0eb",
   "metadata": {},
   "source": [
    "**11-12 tane değerin toplamı %80'e ulaşabildiği için bu kadar veriyi ayrı ayrı incelemek çok mantıklı değil. Bu yüzden bu paretoya uygun değil. 4-5 tanesi % 80 etseydi incelemek için onları ayrı değerlendirip diğer kalanları bir grup yapabilridik.**"
   ]
  },
  {
   "cell_type": "code",
   "execution_count": 185,
   "id": "3f1476cb-e2bd-4276-86ff-1a3833a928b0",
   "metadata": {},
   "outputs": [
    {
     "data": {
      "application/vnd.plotly.v1+json": {
       "config": {
        "plotlyServerURL": "https://plot.ly"
       },
       "data": [
        {
         "alignmentgroup": "True",
         "hovertemplate": "Type 1=%{x}<br>Speed=%{y}<extra></extra>",
         "legendgroup": "Grass",
         "marker": {
          "color": "#636efa"
         },
         "name": "Grass",
         "notched": false,
         "offsetgroup": "Grass",
         "orientation": "v",
         "showlegend": true,
         "type": "box",
         "x": [
          "Grass",
          "Grass",
          "Grass",
          "Grass",
          "Grass",
          "Grass",
          "Grass",
          "Grass",
          "Grass",
          "Grass",
          "Grass",
          "Grass",
          "Grass",
          "Grass",
          "Grass",
          "Grass",
          "Grass",
          "Grass",
          "Grass",
          "Grass",
          "Grass",
          "Grass",
          "Grass",
          "Grass",
          "Grass",
          "Grass",
          "Grass",
          "Grass",
          "Grass",
          "Grass",
          "Grass",
          "Grass",
          "Grass",
          "Grass",
          "Grass",
          "Grass",
          "Grass",
          "Grass",
          "Grass",
          "Grass",
          "Grass",
          "Grass",
          "Grass",
          "Grass",
          "Grass",
          "Grass",
          "Grass",
          "Grass",
          "Grass",
          "Grass",
          "Grass",
          "Grass",
          "Grass",
          "Grass",
          "Grass",
          "Grass",
          "Grass",
          "Grass",
          "Grass",
          "Grass",
          "Grass",
          "Grass",
          "Grass",
          "Grass",
          "Grass",
          "Grass",
          "Grass",
          "Grass",
          "Grass",
          "Grass"
         ],
         "x0": " ",
         "xaxis": "x",
         "y": [
          45,
          60,
          80,
          80,
          30,
          40,
          50,
          40,
          55,
          70,
          40,
          55,
          60,
          45,
          60,
          80,
          50,
          50,
          80,
          110,
          30,
          30,
          70,
          95,
          120,
          145,
          30,
          60,
          80,
          35,
          70,
          65,
          35,
          55,
          51,
          31,
          36,
          56,
          55,
          90,
          35,
          85,
          46,
          40,
          60,
          30,
          50,
          95,
          100,
          127,
          63,
          83,
          113,
          64,
          101,
          66,
          116,
          30,
          90,
          60,
          15,
          30,
          10,
          20,
          108,
          38,
          57,
          64,
          52,
          68
         ],
         "y0": " ",
         "yaxis": "y"
        },
        {
         "alignmentgroup": "True",
         "hovertemplate": "Type 1=%{x}<br>Speed=%{y}<extra></extra>",
         "legendgroup": "Fire",
         "marker": {
          "color": "#EF553B"
         },
         "name": "Fire",
         "notched": false,
         "offsetgroup": "Fire",
         "orientation": "v",
         "showlegend": true,
         "type": "box",
         "x": [
          "Fire",
          "Fire",
          "Fire",
          "Fire",
          "Fire",
          "Fire",
          "Fire",
          "Fire",
          "Fire",
          "Fire",
          "Fire",
          "Fire",
          "Fire",
          "Fire",
          "Fire",
          "Fire",
          "Fire",
          "Fire",
          "Fire",
          "Fire",
          "Fire",
          "Fire",
          "Fire",
          "Fire",
          "Fire",
          "Fire",
          "Fire",
          "Fire",
          "Fire",
          "Fire",
          "Fire",
          "Fire",
          "Fire",
          "Fire",
          "Fire",
          "Fire",
          "Fire",
          "Fire",
          "Fire",
          "Fire",
          "Fire",
          "Fire",
          "Fire",
          "Fire",
          "Fire",
          "Fire",
          "Fire",
          "Fire",
          "Fire",
          "Fire",
          "Fire",
          "Fire"
         ],
         "x0": " ",
         "xaxis": "x",
         "y": [
          65,
          80,
          100,
          100,
          100,
          65,
          100,
          60,
          95,
          90,
          105,
          93,
          65,
          90,
          65,
          80,
          100,
          20,
          30,
          83,
          100,
          90,
          45,
          55,
          80,
          100,
          35,
          40,
          20,
          20,
          61,
          81,
          108,
          83,
          77,
          45,
          55,
          65,
          64,
          101,
          50,
          95,
          55,
          65,
          60,
          73,
          104,
          84,
          126,
          72,
          106,
          70
         ],
         "y0": " ",
         "yaxis": "y"
        },
        {
         "alignmentgroup": "True",
         "hovertemplate": "Type 1=%{x}<br>Speed=%{y}<extra></extra>",
         "legendgroup": "Water",
         "marker": {
          "color": "#00cc96"
         },
         "name": "Water",
         "notched": false,
         "offsetgroup": "Water",
         "orientation": "v",
         "showlegend": true,
         "type": "box",
         "x": [
          "Water",
          "Water",
          "Water",
          "Water",
          "Water",
          "Water",
          "Water",
          "Water",
          "Water",
          "Water",
          "Water",
          "Water",
          "Water",
          "Water",
          "Water",
          "Water",
          "Water",
          "Water",
          "Water",
          "Water",
          "Water",
          "Water",
          "Water",
          "Water",
          "Water",
          "Water",
          "Water",
          "Water",
          "Water",
          "Water",
          "Water",
          "Water",
          "Water",
          "Water",
          "Water",
          "Water",
          "Water",
          "Water",
          "Water",
          "Water",
          "Water",
          "Water",
          "Water",
          "Water",
          "Water",
          "Water",
          "Water",
          "Water",
          "Water",
          "Water",
          "Water",
          "Water",
          "Water",
          "Water",
          "Water",
          "Water",
          "Water",
          "Water",
          "Water",
          "Water",
          "Water",
          "Water",
          "Water",
          "Water",
          "Water",
          "Water",
          "Water",
          "Water",
          "Water",
          "Water",
          "Water",
          "Water",
          "Water",
          "Water",
          "Water",
          "Water",
          "Water",
          "Water",
          "Water",
          "Water",
          "Water",
          "Water",
          "Water",
          "Water",
          "Water",
          "Water",
          "Water",
          "Water",
          "Water",
          "Water",
          "Water",
          "Water",
          "Water",
          "Water",
          "Water",
          "Water",
          "Water",
          "Water",
          "Water",
          "Water",
          "Water",
          "Water",
          "Water",
          "Water",
          "Water",
          "Water",
          "Water",
          "Water",
          "Water",
          "Water",
          "Water",
          "Water"
         ],
         "x0": " ",
         "xaxis": "x",
         "y": [
          43,
          58,
          78,
          78,
          55,
          85,
          90,
          90,
          70,
          70,
          100,
          15,
          30,
          30,
          45,
          70,
          40,
          70,
          50,
          75,
          60,
          85,
          63,
          68,
          85,
          115,
          80,
          81,
          81,
          60,
          65,
          43,
          58,
          78,
          67,
          67,
          40,
          50,
          70,
          15,
          35,
          30,
          85,
          35,
          65,
          45,
          70,
          85,
          85,
          40,
          50,
          60,
          70,
          30,
          50,
          70,
          85,
          65,
          65,
          95,
          105,
          60,
          60,
          60,
          60,
          35,
          55,
          80,
          81,
          32,
          52,
          52,
          55,
          97,
          90,
          90,
          40,
          50,
          60,
          85,
          115,
          34,
          39,
          66,
          91,
          50,
          100,
          80,
          100,
          45,
          60,
          70,
          64,
          101,
          64,
          69,
          74,
          98,
          22,
          32,
          55,
          98,
          40,
          60,
          65,
          108,
          108,
          71,
          97,
          122,
          44,
          59
         ],
         "y0": " ",
         "yaxis": "y"
        },
        {
         "alignmentgroup": "True",
         "hovertemplate": "Type 1=%{x}<br>Speed=%{y}<extra></extra>",
         "legendgroup": "Bug",
         "marker": {
          "color": "#ab63fa"
         },
         "name": "Bug",
         "notched": false,
         "offsetgroup": "Bug",
         "orientation": "v",
         "showlegend": true,
         "type": "box",
         "x": [
          "Bug",
          "Bug",
          "Bug",
          "Bug",
          "Bug",
          "Bug",
          "Bug",
          "Bug",
          "Bug",
          "Bug",
          "Bug",
          "Bug",
          "Bug",
          "Bug",
          "Bug",
          "Bug",
          "Bug",
          "Bug",
          "Bug",
          "Bug",
          "Bug",
          "Bug",
          "Bug",
          "Bug",
          "Bug",
          "Bug",
          "Bug",
          "Bug",
          "Bug",
          "Bug",
          "Bug",
          "Bug",
          "Bug",
          "Bug",
          "Bug",
          "Bug",
          "Bug",
          "Bug",
          "Bug",
          "Bug",
          "Bug",
          "Bug",
          "Bug",
          "Bug",
          "Bug",
          "Bug",
          "Bug",
          "Bug",
          "Bug",
          "Bug",
          "Bug",
          "Bug",
          "Bug",
          "Bug",
          "Bug",
          "Bug",
          "Bug",
          "Bug",
          "Bug",
          "Bug",
          "Bug",
          "Bug",
          "Bug",
          "Bug",
          "Bug",
          "Bug",
          "Bug",
          "Bug",
          "Bug"
         ],
         "x0": " ",
         "xaxis": "x",
         "y": [
          45,
          30,
          70,
          50,
          35,
          75,
          145,
          25,
          30,
          45,
          90,
          105,
          85,
          105,
          55,
          85,
          30,
          40,
          95,
          15,
          40,
          65,
          75,
          5,
          85,
          75,
          20,
          15,
          65,
          15,
          65,
          65,
          60,
          40,
          160,
          40,
          85,
          85,
          25,
          65,
          36,
          36,
          36,
          36,
          66,
          70,
          40,
          95,
          42,
          42,
          92,
          57,
          47,
          112,
          55,
          45,
          60,
          20,
          65,
          108,
          25,
          145,
          109,
          60,
          100,
          99,
          35,
          29,
          89
         ],
         "y0": " ",
         "yaxis": "y"
        },
        {
         "alignmentgroup": "True",
         "hovertemplate": "Type 1=%{x}<br>Speed=%{y}<extra></extra>",
         "legendgroup": "Normal",
         "marker": {
          "color": "#FFA15A"
         },
         "name": "Normal",
         "notched": false,
         "offsetgroup": "Normal",
         "orientation": "v",
         "showlegend": true,
         "type": "box",
         "x": [
          "Normal",
          "Normal",
          "Normal",
          "Normal",
          "Normal",
          "Normal",
          "Normal",
          "Normal",
          "Normal",
          "Normal",
          "Normal",
          "Normal",
          "Normal",
          "Normal",
          "Normal",
          "Normal",
          "Normal",
          "Normal",
          "Normal",
          "Normal",
          "Normal",
          "Normal",
          "Normal",
          "Normal",
          "Normal",
          "Normal",
          "Normal",
          "Normal",
          "Normal",
          "Normal",
          "Normal",
          "Normal",
          "Normal",
          "Normal",
          "Normal",
          "Normal",
          "Normal",
          "Normal",
          "Normal",
          "Normal",
          "Normal",
          "Normal",
          "Normal",
          "Normal",
          "Normal",
          "Normal",
          "Normal",
          "Normal",
          "Normal",
          "Normal",
          "Normal",
          "Normal",
          "Normal",
          "Normal",
          "Normal",
          "Normal",
          "Normal",
          "Normal",
          "Normal",
          "Normal",
          "Normal",
          "Normal",
          "Normal",
          "Normal",
          "Normal",
          "Normal",
          "Normal",
          "Normal",
          "Normal",
          "Normal",
          "Normal",
          "Normal",
          "Normal",
          "Normal",
          "Normal",
          "Normal",
          "Normal",
          "Normal",
          "Normal",
          "Normal",
          "Normal",
          "Normal",
          "Normal",
          "Normal",
          "Normal",
          "Normal",
          "Normal",
          "Normal",
          "Normal",
          "Normal",
          "Normal",
          "Normal",
          "Normal",
          "Normal",
          "Normal",
          "Normal",
          "Normal",
          "Normal"
         ],
         "x0": " ",
         "xaxis": "x",
         "y": [
          56,
          71,
          101,
          121,
          72,
          97,
          70,
          100,
          20,
          45,
          90,
          115,
          60,
          75,
          100,
          30,
          50,
          90,
          100,
          110,
          48,
          55,
          40,
          30,
          20,
          90,
          50,
          70,
          15,
          85,
          85,
          45,
          40,
          55,
          60,
          85,
          75,
          100,
          55,
          60,
          100,
          85,
          125,
          30,
          90,
          100,
          28,
          48,
          68,
          20,
          50,
          70,
          60,
          50,
          90,
          70,
          40,
          60,
          80,
          100,
          31,
          71,
          115,
          85,
          105,
          135,
          85,
          112,
          30,
          91,
          5,
          50,
          90,
          100,
          120,
          42,
          77,
          55,
          60,
          80,
          43,
          65,
          93,
          50,
          50,
          75,
          115,
          75,
          95,
          55,
          60,
          80,
          90,
          128,
          57,
          78,
          62,
          102
         ],
         "y0": " ",
         "yaxis": "y"
        },
        {
         "alignmentgroup": "True",
         "hovertemplate": "Type 1=%{x}<br>Speed=%{y}<extra></extra>",
         "legendgroup": "Poison",
         "marker": {
          "color": "#19d3f3"
         },
         "name": "Poison",
         "notched": false,
         "offsetgroup": "Poison",
         "orientation": "v",
         "showlegend": true,
         "type": "box",
         "x": [
          "Poison",
          "Poison",
          "Poison",
          "Poison",
          "Poison",
          "Poison",
          "Poison",
          "Poison",
          "Poison",
          "Poison",
          "Poison",
          "Poison",
          "Poison",
          "Poison",
          "Poison",
          "Poison",
          "Poison",
          "Poison",
          "Poison",
          "Poison",
          "Poison",
          "Poison",
          "Poison",
          "Poison",
          "Poison",
          "Poison",
          "Poison",
          "Poison"
         ],
         "x0": " ",
         "xaxis": "x",
         "y": [
          55,
          80,
          41,
          56,
          76,
          50,
          65,
          85,
          55,
          90,
          25,
          50,
          35,
          60,
          130,
          40,
          55,
          65,
          74,
          84,
          65,
          95,
          50,
          85,
          65,
          75,
          30,
          44
         ],
         "y0": " ",
         "yaxis": "y"
        },
        {
         "alignmentgroup": "True",
         "hovertemplate": "Type 1=%{x}<br>Speed=%{y}<extra></extra>",
         "legendgroup": "Electric",
         "marker": {
          "color": "#FF6692"
         },
         "name": "Electric",
         "notched": false,
         "offsetgroup": "Electric",
         "orientation": "v",
         "showlegend": true,
         "type": "box",
         "x": [
          "Electric",
          "Electric",
          "Electric",
          "Electric",
          "Electric",
          "Electric",
          "Electric",
          "Electric",
          "Electric",
          "Electric",
          "Electric",
          "Electric",
          "Electric",
          "Electric",
          "Electric",
          "Electric",
          "Electric",
          "Electric",
          "Electric",
          "Electric",
          "Electric",
          "Electric",
          "Electric",
          "Electric",
          "Electric",
          "Electric",
          "Electric",
          "Electric",
          "Electric",
          "Electric",
          "Electric",
          "Electric",
          "Electric",
          "Electric",
          "Electric",
          "Electric",
          "Electric",
          "Electric",
          "Electric",
          "Electric",
          "Electric",
          "Electric",
          "Electric",
          "Electric"
         ],
         "x0": " ",
         "xaxis": "x",
         "y": [
          90,
          110,
          45,
          70,
          100,
          140,
          105,
          130,
          100,
          60,
          35,
          45,
          55,
          45,
          95,
          115,
          65,
          105,
          135,
          95,
          95,
          45,
          60,
          70,
          95,
          60,
          95,
          91,
          86,
          86,
          86,
          86,
          86,
          76,
          116,
          103,
          60,
          40,
          50,
          111,
          101,
          70,
          109,
          101
         ],
         "y0": " ",
         "yaxis": "y"
        },
        {
         "alignmentgroup": "True",
         "hovertemplate": "Type 1=%{x}<br>Speed=%{y}<extra></extra>",
         "legendgroup": "Ground",
         "marker": {
          "color": "#B6E880"
         },
         "name": "Ground",
         "notched": false,
         "offsetgroup": "Ground",
         "orientation": "v",
         "showlegend": true,
         "type": "box",
         "x": [
          "Ground",
          "Ground",
          "Ground",
          "Ground",
          "Ground",
          "Ground",
          "Ground",
          "Ground",
          "Ground",
          "Ground",
          "Ground",
          "Ground",
          "Ground",
          "Ground",
          "Ground",
          "Ground",
          "Ground",
          "Ground",
          "Ground",
          "Ground",
          "Ground",
          "Ground",
          "Ground",
          "Ground",
          "Ground",
          "Ground",
          "Ground",
          "Ground",
          "Ground",
          "Ground",
          "Ground",
          "Ground"
         ],
         "x0": " ",
         "xaxis": "x",
         "y": [
          40,
          65,
          95,
          120,
          35,
          45,
          25,
          40,
          85,
          40,
          50,
          10,
          70,
          100,
          55,
          75,
          90,
          90,
          32,
          47,
          40,
          95,
          68,
          88,
          65,
          74,
          92,
          32,
          35,
          55,
          101,
          91
         ],
         "y0": " ",
         "yaxis": "y"
        },
        {
         "alignmentgroup": "True",
         "hovertemplate": "Type 1=%{x}<br>Speed=%{y}<extra></extra>",
         "legendgroup": "Fairy",
         "marker": {
          "color": "#FF97FF"
         },
         "name": "Fairy",
         "notched": false,
         "offsetgroup": "Fairy",
         "orientation": "v",
         "showlegend": true,
         "type": "box",
         "x": [
          "Fairy",
          "Fairy",
          "Fairy",
          "Fairy",
          "Fairy",
          "Fairy",
          "Fairy",
          "Fairy",
          "Fairy",
          "Fairy",
          "Fairy",
          "Fairy",
          "Fairy",
          "Fairy",
          "Fairy",
          "Fairy",
          "Fairy"
         ],
         "x0": " ",
         "xaxis": "x",
         "y": [
          35,
          60,
          15,
          20,
          40,
          30,
          45,
          80,
          42,
          52,
          75,
          23,
          29,
          49,
          72,
          60,
          99
         ],
         "y0": " ",
         "yaxis": "y"
        },
        {
         "alignmentgroup": "True",
         "hovertemplate": "Type 1=%{x}<br>Speed=%{y}<extra></extra>",
         "legendgroup": "Fighting",
         "marker": {
          "color": "#FECB52"
         },
         "name": "Fighting",
         "notched": false,
         "offsetgroup": "Fighting",
         "orientation": "v",
         "showlegend": true,
         "type": "box",
         "x": [
          "Fighting",
          "Fighting",
          "Fighting",
          "Fighting",
          "Fighting",
          "Fighting",
          "Fighting",
          "Fighting",
          "Fighting",
          "Fighting",
          "Fighting",
          "Fighting",
          "Fighting",
          "Fighting",
          "Fighting",
          "Fighting",
          "Fighting",
          "Fighting",
          "Fighting",
          "Fighting",
          "Fighting",
          "Fighting",
          "Fighting",
          "Fighting",
          "Fighting",
          "Fighting",
          "Fighting"
         ],
         "x0": " ",
         "xaxis": "x",
         "y": [
          70,
          95,
          35,
          45,
          55,
          87,
          76,
          35,
          70,
          25,
          50,
          60,
          80,
          100,
          60,
          90,
          112,
          35,
          40,
          45,
          45,
          85,
          65,
          105,
          43,
          58,
          118
         ],
         "y0": " ",
         "yaxis": "y"
        },
        {
         "alignmentgroup": "True",
         "hovertemplate": "Type 1=%{x}<br>Speed=%{y}<extra></extra>",
         "legendgroup": "Psychic",
         "marker": {
          "color": "#636efa"
         },
         "name": "Psychic",
         "notched": false,
         "offsetgroup": "Psychic",
         "orientation": "v",
         "showlegend": true,
         "type": "box",
         "x": [
          "Psychic",
          "Psychic",
          "Psychic",
          "Psychic",
          "Psychic",
          "Psychic",
          "Psychic",
          "Psychic",
          "Psychic",
          "Psychic",
          "Psychic",
          "Psychic",
          "Psychic",
          "Psychic",
          "Psychic",
          "Psychic",
          "Psychic",
          "Psychic",
          "Psychic",
          "Psychic",
          "Psychic",
          "Psychic",
          "Psychic",
          "Psychic",
          "Psychic",
          "Psychic",
          "Psychic",
          "Psychic",
          "Psychic",
          "Psychic",
          "Psychic",
          "Psychic",
          "Psychic",
          "Psychic",
          "Psychic",
          "Psychic",
          "Psychic",
          "Psychic",
          "Psychic",
          "Psychic",
          "Psychic",
          "Psychic",
          "Psychic",
          "Psychic",
          "Psychic",
          "Psychic",
          "Psychic",
          "Psychic",
          "Psychic",
          "Psychic",
          "Psychic",
          "Psychic",
          "Psychic",
          "Psychic",
          "Psychic",
          "Psychic",
          "Psychic"
         ],
         "x0": " ",
         "xaxis": "x",
         "y": [
          90,
          105,
          120,
          150,
          42,
          67,
          90,
          130,
          130,
          140,
          100,
          70,
          95,
          110,
          48,
          33,
          110,
          100,
          40,
          50,
          80,
          100,
          60,
          80,
          65,
          23,
          150,
          150,
          90,
          180,
          45,
          60,
          80,
          110,
          95,
          80,
          115,
          85,
          100,
          24,
          29,
          72,
          114,
          97,
          45,
          55,
          65,
          20,
          30,
          30,
          30,
          40,
          68,
          104,
          104,
          70,
          80
         ],
         "y0": " ",
         "yaxis": "y"
        },
        {
         "alignmentgroup": "True",
         "hovertemplate": "Type 1=%{x}<br>Speed=%{y}<extra></extra>",
         "legendgroup": "Rock",
         "marker": {
          "color": "#EF553B"
         },
         "name": "Rock",
         "notched": false,
         "offsetgroup": "Rock",
         "orientation": "v",
         "showlegend": true,
         "type": "box",
         "x": [
          "Rock",
          "Rock",
          "Rock",
          "Rock",
          "Rock",
          "Rock",
          "Rock",
          "Rock",
          "Rock",
          "Rock",
          "Rock",
          "Rock",
          "Rock",
          "Rock",
          "Rock",
          "Rock",
          "Rock",
          "Rock",
          "Rock",
          "Rock",
          "Rock",
          "Rock",
          "Rock",
          "Rock",
          "Rock",
          "Rock",
          "Rock",
          "Rock",
          "Rock",
          "Rock",
          "Rock",
          "Rock",
          "Rock",
          "Rock",
          "Rock",
          "Rock",
          "Rock",
          "Rock",
          "Rock",
          "Rock",
          "Rock",
          "Rock",
          "Rock",
          "Rock"
         ],
         "x0": " ",
         "xaxis": "x",
         "y": [
          20,
          35,
          45,
          70,
          35,
          55,
          55,
          80,
          130,
          150,
          30,
          41,
          51,
          61,
          71,
          30,
          70,
          70,
          23,
          43,
          75,
          45,
          50,
          58,
          58,
          30,
          30,
          10,
          40,
          15,
          20,
          25,
          70,
          110,
          108,
          50,
          68,
          48,
          71,
          46,
          58,
          50,
          50,
          110
         ],
         "y0": " ",
         "yaxis": "y"
        },
        {
         "alignmentgroup": "True",
         "hovertemplate": "Type 1=%{x}<br>Speed=%{y}<extra></extra>",
         "legendgroup": "Ghost",
         "marker": {
          "color": "#00cc96"
         },
         "name": "Ghost",
         "notched": false,
         "offsetgroup": "Ghost",
         "orientation": "v",
         "showlegend": true,
         "type": "box",
         "x": [
          "Ghost",
          "Ghost",
          "Ghost",
          "Ghost",
          "Ghost",
          "Ghost",
          "Ghost",
          "Ghost",
          "Ghost",
          "Ghost",
          "Ghost",
          "Ghost",
          "Ghost",
          "Ghost",
          "Ghost",
          "Ghost",
          "Ghost",
          "Ghost",
          "Ghost",
          "Ghost",
          "Ghost",
          "Ghost",
          "Ghost",
          "Ghost",
          "Ghost",
          "Ghost",
          "Ghost",
          "Ghost",
          "Ghost",
          "Ghost",
          "Ghost",
          "Ghost"
         ],
         "x0": " ",
         "xaxis": "x",
         "y": [
          80,
          95,
          110,
          130,
          85,
          45,
          65,
          75,
          25,
          25,
          70,
          80,
          105,
          35,
          45,
          90,
          90,
          30,
          30,
          20,
          55,
          80,
          38,
          56,
          51,
          56,
          46,
          41,
          84,
          99,
          69,
          54
         ],
         "y0": " ",
         "yaxis": "y"
        },
        {
         "alignmentgroup": "True",
         "hovertemplate": "Type 1=%{x}<br>Speed=%{y}<extra></extra>",
         "legendgroup": "Ice",
         "marker": {
          "color": "#ab63fa"
         },
         "name": "Ice",
         "notched": false,
         "offsetgroup": "Ice",
         "orientation": "v",
         "showlegend": true,
         "type": "box",
         "x": [
          "Ice",
          "Ice",
          "Ice",
          "Ice",
          "Ice",
          "Ice",
          "Ice",
          "Ice",
          "Ice",
          "Ice",
          "Ice",
          "Ice",
          "Ice",
          "Ice",
          "Ice",
          "Ice",
          "Ice",
          "Ice",
          "Ice",
          "Ice",
          "Ice",
          "Ice",
          "Ice",
          "Ice"
         ],
         "x0": " ",
         "xaxis": "x",
         "y": [
          95,
          85,
          50,
          50,
          75,
          65,
          50,
          80,
          100,
          25,
          45,
          65,
          50,
          65,
          80,
          110,
          44,
          59,
          79,
          40,
          50,
          105,
          28,
          28
         ],
         "y0": " ",
         "yaxis": "y"
        },
        {
         "alignmentgroup": "True",
         "hovertemplate": "Type 1=%{x}<br>Speed=%{y}<extra></extra>",
         "legendgroup": "Dragon",
         "marker": {
          "color": "#FFA15A"
         },
         "name": "Dragon",
         "notched": false,
         "offsetgroup": "Dragon",
         "orientation": "v",
         "showlegend": true,
         "type": "box",
         "x": [
          "Dragon",
          "Dragon",
          "Dragon",
          "Dragon",
          "Dragon",
          "Dragon",
          "Dragon",
          "Dragon",
          "Dragon",
          "Dragon",
          "Dragon",
          "Dragon",
          "Dragon",
          "Dragon",
          "Dragon",
          "Dragon",
          "Dragon",
          "Dragon",
          "Dragon",
          "Dragon",
          "Dragon",
          "Dragon",
          "Dragon",
          "Dragon",
          "Dragon",
          "Dragon",
          "Dragon",
          "Dragon",
          "Dragon",
          "Dragon",
          "Dragon",
          "Dragon"
         ],
         "x0": " ",
         "xaxis": "x",
         "y": [
          50,
          70,
          80,
          80,
          80,
          50,
          50,
          100,
          120,
          110,
          110,
          110,
          110,
          95,
          115,
          42,
          82,
          102,
          92,
          57,
          67,
          97,
          48,
          90,
          90,
          95,
          95,
          95,
          40,
          60,
          80,
          95
         ],
         "y0": " ",
         "yaxis": "y"
        },
        {
         "alignmentgroup": "True",
         "hovertemplate": "Type 1=%{x}<br>Speed=%{y}<extra></extra>",
         "legendgroup": "Dark",
         "marker": {
          "color": "#19d3f3"
         },
         "name": "Dark",
         "notched": false,
         "offsetgroup": "Dark",
         "orientation": "v",
         "showlegend": true,
         "type": "box",
         "x": [
          "Dark",
          "Dark",
          "Dark",
          "Dark",
          "Dark",
          "Dark",
          "Dark",
          "Dark",
          "Dark",
          "Dark",
          "Dark",
          "Dark",
          "Dark",
          "Dark",
          "Dark",
          "Dark",
          "Dark",
          "Dark",
          "Dark",
          "Dark",
          "Dark",
          "Dark",
          "Dark",
          "Dark",
          "Dark",
          "Dark",
          "Dark",
          "Dark",
          "Dark",
          "Dark",
          "Dark"
         ],
         "x0": " ",
         "xaxis": "x",
         "y": [
          65,
          91,
          115,
          65,
          95,
          115,
          35,
          70,
          50,
          20,
          75,
          115,
          71,
          125,
          125,
          66,
          106,
          48,
          58,
          65,
          105,
          60,
          70,
          60,
          80,
          38,
          58,
          98,
          45,
          73,
          99
         ],
         "y0": " ",
         "yaxis": "y"
        },
        {
         "alignmentgroup": "True",
         "hovertemplate": "Type 1=%{x}<br>Speed=%{y}<extra></extra>",
         "legendgroup": "Steel",
         "marker": {
          "color": "#FF6692"
         },
         "name": "Steel",
         "notched": false,
         "offsetgroup": "Steel",
         "orientation": "v",
         "showlegend": true,
         "type": "box",
         "x": [
          "Steel",
          "Steel",
          "Steel",
          "Steel",
          "Steel",
          "Steel",
          "Steel",
          "Steel",
          "Steel",
          "Steel",
          "Steel",
          "Steel",
          "Steel",
          "Steel",
          "Steel",
          "Steel",
          "Steel",
          "Steel",
          "Steel",
          "Steel",
          "Steel",
          "Steel",
          "Steel",
          "Steel",
          "Steel",
          "Steel",
          "Steel"
         ],
         "x0": " ",
         "xaxis": "x",
         "y": [
          30,
          30,
          70,
          50,
          50,
          30,
          40,
          50,
          50,
          30,
          50,
          70,
          110,
          50,
          100,
          23,
          33,
          90,
          30,
          50,
          90,
          108,
          28,
          35,
          60,
          60,
          75
         ],
         "y0": " ",
         "yaxis": "y"
        },
        {
         "alignmentgroup": "True",
         "hovertemplate": "Type 1=%{x}<br>Speed=%{y}<extra></extra>",
         "legendgroup": "Flying",
         "marker": {
          "color": "#B6E880"
         },
         "name": "Flying",
         "notched": false,
         "offsetgroup": "Flying",
         "orientation": "v",
         "showlegend": true,
         "type": "box",
         "x": [
          "Flying",
          "Flying",
          "Flying",
          "Flying"
         ],
         "x0": " ",
         "xaxis": "x",
         "y": [
          111,
          121,
          55,
          123
         ],
         "y0": " ",
         "yaxis": "y"
        }
       ],
       "layout": {
        "autosize": true,
        "boxmode": "overlay",
        "legend": {
         "title": {
          "text": "Type 1"
         },
         "tracegroupgap": 0
        },
        "margin": {
         "t": 60
        },
        "template": {
         "data": {
          "bar": [
           {
            "error_x": {
             "color": "#2a3f5f"
            },
            "error_y": {
             "color": "#2a3f5f"
            },
            "marker": {
             "line": {
              "color": "#E5ECF6",
              "width": 0.5
             },
             "pattern": {
              "fillmode": "overlay",
              "size": 10,
              "solidity": 0.2
             }
            },
            "type": "bar"
           }
          ],
          "barpolar": [
           {
            "marker": {
             "line": {
              "color": "#E5ECF6",
              "width": 0.5
             },
             "pattern": {
              "fillmode": "overlay",
              "size": 10,
              "solidity": 0.2
             }
            },
            "type": "barpolar"
           }
          ],
          "carpet": [
           {
            "aaxis": {
             "endlinecolor": "#2a3f5f",
             "gridcolor": "white",
             "linecolor": "white",
             "minorgridcolor": "white",
             "startlinecolor": "#2a3f5f"
            },
            "baxis": {
             "endlinecolor": "#2a3f5f",
             "gridcolor": "white",
             "linecolor": "white",
             "minorgridcolor": "white",
             "startlinecolor": "#2a3f5f"
            },
            "type": "carpet"
           }
          ],
          "choropleth": [
           {
            "colorbar": {
             "outlinewidth": 0,
             "ticks": ""
            },
            "type": "choropleth"
           }
          ],
          "contour": [
           {
            "colorbar": {
             "outlinewidth": 0,
             "ticks": ""
            },
            "colorscale": [
             [
              0,
              "#0d0887"
             ],
             [
              0.1111111111111111,
              "#46039f"
             ],
             [
              0.2222222222222222,
              "#7201a8"
             ],
             [
              0.3333333333333333,
              "#9c179e"
             ],
             [
              0.4444444444444444,
              "#bd3786"
             ],
             [
              0.5555555555555556,
              "#d8576b"
             ],
             [
              0.6666666666666666,
              "#ed7953"
             ],
             [
              0.7777777777777778,
              "#fb9f3a"
             ],
             [
              0.8888888888888888,
              "#fdca26"
             ],
             [
              1,
              "#f0f921"
             ]
            ],
            "type": "contour"
           }
          ],
          "contourcarpet": [
           {
            "colorbar": {
             "outlinewidth": 0,
             "ticks": ""
            },
            "type": "contourcarpet"
           }
          ],
          "heatmap": [
           {
            "colorbar": {
             "outlinewidth": 0,
             "ticks": ""
            },
            "colorscale": [
             [
              0,
              "#0d0887"
             ],
             [
              0.1111111111111111,
              "#46039f"
             ],
             [
              0.2222222222222222,
              "#7201a8"
             ],
             [
              0.3333333333333333,
              "#9c179e"
             ],
             [
              0.4444444444444444,
              "#bd3786"
             ],
             [
              0.5555555555555556,
              "#d8576b"
             ],
             [
              0.6666666666666666,
              "#ed7953"
             ],
             [
              0.7777777777777778,
              "#fb9f3a"
             ],
             [
              0.8888888888888888,
              "#fdca26"
             ],
             [
              1,
              "#f0f921"
             ]
            ],
            "type": "heatmap"
           }
          ],
          "heatmapgl": [
           {
            "colorbar": {
             "outlinewidth": 0,
             "ticks": ""
            },
            "colorscale": [
             [
              0,
              "#0d0887"
             ],
             [
              0.1111111111111111,
              "#46039f"
             ],
             [
              0.2222222222222222,
              "#7201a8"
             ],
             [
              0.3333333333333333,
              "#9c179e"
             ],
             [
              0.4444444444444444,
              "#bd3786"
             ],
             [
              0.5555555555555556,
              "#d8576b"
             ],
             [
              0.6666666666666666,
              "#ed7953"
             ],
             [
              0.7777777777777778,
              "#fb9f3a"
             ],
             [
              0.8888888888888888,
              "#fdca26"
             ],
             [
              1,
              "#f0f921"
             ]
            ],
            "type": "heatmapgl"
           }
          ],
          "histogram": [
           {
            "marker": {
             "pattern": {
              "fillmode": "overlay",
              "size": 10,
              "solidity": 0.2
             }
            },
            "type": "histogram"
           }
          ],
          "histogram2d": [
           {
            "colorbar": {
             "outlinewidth": 0,
             "ticks": ""
            },
            "colorscale": [
             [
              0,
              "#0d0887"
             ],
             [
              0.1111111111111111,
              "#46039f"
             ],
             [
              0.2222222222222222,
              "#7201a8"
             ],
             [
              0.3333333333333333,
              "#9c179e"
             ],
             [
              0.4444444444444444,
              "#bd3786"
             ],
             [
              0.5555555555555556,
              "#d8576b"
             ],
             [
              0.6666666666666666,
              "#ed7953"
             ],
             [
              0.7777777777777778,
              "#fb9f3a"
             ],
             [
              0.8888888888888888,
              "#fdca26"
             ],
             [
              1,
              "#f0f921"
             ]
            ],
            "type": "histogram2d"
           }
          ],
          "histogram2dcontour": [
           {
            "colorbar": {
             "outlinewidth": 0,
             "ticks": ""
            },
            "colorscale": [
             [
              0,
              "#0d0887"
             ],
             [
              0.1111111111111111,
              "#46039f"
             ],
             [
              0.2222222222222222,
              "#7201a8"
             ],
             [
              0.3333333333333333,
              "#9c179e"
             ],
             [
              0.4444444444444444,
              "#bd3786"
             ],
             [
              0.5555555555555556,
              "#d8576b"
             ],
             [
              0.6666666666666666,
              "#ed7953"
             ],
             [
              0.7777777777777778,
              "#fb9f3a"
             ],
             [
              0.8888888888888888,
              "#fdca26"
             ],
             [
              1,
              "#f0f921"
             ]
            ],
            "type": "histogram2dcontour"
           }
          ],
          "mesh3d": [
           {
            "colorbar": {
             "outlinewidth": 0,
             "ticks": ""
            },
            "type": "mesh3d"
           }
          ],
          "parcoords": [
           {
            "line": {
             "colorbar": {
              "outlinewidth": 0,
              "ticks": ""
             }
            },
            "type": "parcoords"
           }
          ],
          "pie": [
           {
            "automargin": true,
            "type": "pie"
           }
          ],
          "scatter": [
           {
            "marker": {
             "colorbar": {
              "outlinewidth": 0,
              "ticks": ""
             }
            },
            "type": "scatter"
           }
          ],
          "scatter3d": [
           {
            "line": {
             "colorbar": {
              "outlinewidth": 0,
              "ticks": ""
             }
            },
            "marker": {
             "colorbar": {
              "outlinewidth": 0,
              "ticks": ""
             }
            },
            "type": "scatter3d"
           }
          ],
          "scattercarpet": [
           {
            "marker": {
             "colorbar": {
              "outlinewidth": 0,
              "ticks": ""
             }
            },
            "type": "scattercarpet"
           }
          ],
          "scattergeo": [
           {
            "marker": {
             "colorbar": {
              "outlinewidth": 0,
              "ticks": ""
             }
            },
            "type": "scattergeo"
           }
          ],
          "scattergl": [
           {
            "marker": {
             "colorbar": {
              "outlinewidth": 0,
              "ticks": ""
             }
            },
            "type": "scattergl"
           }
          ],
          "scattermapbox": [
           {
            "marker": {
             "colorbar": {
              "outlinewidth": 0,
              "ticks": ""
             }
            },
            "type": "scattermapbox"
           }
          ],
          "scatterpolar": [
           {
            "marker": {
             "colorbar": {
              "outlinewidth": 0,
              "ticks": ""
             }
            },
            "type": "scatterpolar"
           }
          ],
          "scatterpolargl": [
           {
            "marker": {
             "colorbar": {
              "outlinewidth": 0,
              "ticks": ""
             }
            },
            "type": "scatterpolargl"
           }
          ],
          "scatterternary": [
           {
            "marker": {
             "colorbar": {
              "outlinewidth": 0,
              "ticks": ""
             }
            },
            "type": "scatterternary"
           }
          ],
          "surface": [
           {
            "colorbar": {
             "outlinewidth": 0,
             "ticks": ""
            },
            "colorscale": [
             [
              0,
              "#0d0887"
             ],
             [
              0.1111111111111111,
              "#46039f"
             ],
             [
              0.2222222222222222,
              "#7201a8"
             ],
             [
              0.3333333333333333,
              "#9c179e"
             ],
             [
              0.4444444444444444,
              "#bd3786"
             ],
             [
              0.5555555555555556,
              "#d8576b"
             ],
             [
              0.6666666666666666,
              "#ed7953"
             ],
             [
              0.7777777777777778,
              "#fb9f3a"
             ],
             [
              0.8888888888888888,
              "#fdca26"
             ],
             [
              1,
              "#f0f921"
             ]
            ],
            "type": "surface"
           }
          ],
          "table": [
           {
            "cells": {
             "fill": {
              "color": "#EBF0F8"
             },
             "line": {
              "color": "white"
             }
            },
            "header": {
             "fill": {
              "color": "#C8D4E3"
             },
             "line": {
              "color": "white"
             }
            },
            "type": "table"
           }
          ]
         },
         "layout": {
          "annotationdefaults": {
           "arrowcolor": "#2a3f5f",
           "arrowhead": 0,
           "arrowwidth": 1
          },
          "autotypenumbers": "strict",
          "coloraxis": {
           "colorbar": {
            "outlinewidth": 0,
            "ticks": ""
           }
          },
          "colorscale": {
           "diverging": [
            [
             0,
             "#8e0152"
            ],
            [
             0.1,
             "#c51b7d"
            ],
            [
             0.2,
             "#de77ae"
            ],
            [
             0.3,
             "#f1b6da"
            ],
            [
             0.4,
             "#fde0ef"
            ],
            [
             0.5,
             "#f7f7f7"
            ],
            [
             0.6,
             "#e6f5d0"
            ],
            [
             0.7,
             "#b8e186"
            ],
            [
             0.8,
             "#7fbc41"
            ],
            [
             0.9,
             "#4d9221"
            ],
            [
             1,
             "#276419"
            ]
           ],
           "sequential": [
            [
             0,
             "#0d0887"
            ],
            [
             0.1111111111111111,
             "#46039f"
            ],
            [
             0.2222222222222222,
             "#7201a8"
            ],
            [
             0.3333333333333333,
             "#9c179e"
            ],
            [
             0.4444444444444444,
             "#bd3786"
            ],
            [
             0.5555555555555556,
             "#d8576b"
            ],
            [
             0.6666666666666666,
             "#ed7953"
            ],
            [
             0.7777777777777778,
             "#fb9f3a"
            ],
            [
             0.8888888888888888,
             "#fdca26"
            ],
            [
             1,
             "#f0f921"
            ]
           ],
           "sequentialminus": [
            [
             0,
             "#0d0887"
            ],
            [
             0.1111111111111111,
             "#46039f"
            ],
            [
             0.2222222222222222,
             "#7201a8"
            ],
            [
             0.3333333333333333,
             "#9c179e"
            ],
            [
             0.4444444444444444,
             "#bd3786"
            ],
            [
             0.5555555555555556,
             "#d8576b"
            ],
            [
             0.6666666666666666,
             "#ed7953"
            ],
            [
             0.7777777777777778,
             "#fb9f3a"
            ],
            [
             0.8888888888888888,
             "#fdca26"
            ],
            [
             1,
             "#f0f921"
            ]
           ]
          },
          "colorway": [
           "#636efa",
           "#EF553B",
           "#00cc96",
           "#ab63fa",
           "#FFA15A",
           "#19d3f3",
           "#FF6692",
           "#B6E880",
           "#FF97FF",
           "#FECB52"
          ],
          "font": {
           "color": "#2a3f5f"
          },
          "geo": {
           "bgcolor": "white",
           "lakecolor": "white",
           "landcolor": "#E5ECF6",
           "showlakes": true,
           "showland": true,
           "subunitcolor": "white"
          },
          "hoverlabel": {
           "align": "left"
          },
          "hovermode": "closest",
          "mapbox": {
           "style": "light"
          },
          "paper_bgcolor": "white",
          "plot_bgcolor": "#E5ECF6",
          "polar": {
           "angularaxis": {
            "gridcolor": "white",
            "linecolor": "white",
            "ticks": ""
           },
           "bgcolor": "#E5ECF6",
           "radialaxis": {
            "gridcolor": "white",
            "linecolor": "white",
            "ticks": ""
           }
          },
          "scene": {
           "xaxis": {
            "backgroundcolor": "#E5ECF6",
            "gridcolor": "white",
            "gridwidth": 2,
            "linecolor": "white",
            "showbackground": true,
            "ticks": "",
            "zerolinecolor": "white"
           },
           "yaxis": {
            "backgroundcolor": "#E5ECF6",
            "gridcolor": "white",
            "gridwidth": 2,
            "linecolor": "white",
            "showbackground": true,
            "ticks": "",
            "zerolinecolor": "white"
           },
           "zaxis": {
            "backgroundcolor": "#E5ECF6",
            "gridcolor": "white",
            "gridwidth": 2,
            "linecolor": "white",
            "showbackground": true,
            "ticks": "",
            "zerolinecolor": "white"
           }
          },
          "shapedefaults": {
           "line": {
            "color": "#2a3f5f"
           }
          },
          "ternary": {
           "aaxis": {
            "gridcolor": "white",
            "linecolor": "white",
            "ticks": ""
           },
           "baxis": {
            "gridcolor": "white",
            "linecolor": "white",
            "ticks": ""
           },
           "bgcolor": "#E5ECF6",
           "caxis": {
            "gridcolor": "white",
            "linecolor": "white",
            "ticks": ""
           }
          },
          "title": {
           "x": 0.05
          },
          "xaxis": {
           "automargin": true,
           "gridcolor": "white",
           "linecolor": "white",
           "ticks": "",
           "title": {
            "standoff": 15
           },
           "zerolinecolor": "white",
           "zerolinewidth": 2
          },
          "yaxis": {
           "automargin": true,
           "gridcolor": "white",
           "linecolor": "white",
           "ticks": "",
           "title": {
            "standoff": 15
           },
           "zerolinecolor": "white",
           "zerolinewidth": 2
          }
         }
        },
        "xaxis": {
         "anchor": "y",
         "autorange": true,
         "categoryarray": [
          "Grass",
          "Fire",
          "Water",
          "Bug",
          "Normal",
          "Poison",
          "Electric",
          "Ground",
          "Fairy",
          "Fighting",
          "Psychic",
          "Rock",
          "Ghost",
          "Ice",
          "Dragon",
          "Dark",
          "Steel",
          "Flying"
         ],
         "categoryorder": "array",
         "domain": [
          0,
          1
         ],
         "range": [
          -0.5,
          17.5
         ],
         "title": {
          "text": "Type 1"
         },
         "type": "category"
        },
        "yaxis": {
         "anchor": "x",
         "autorange": true,
         "domain": [
          0,
          1
         ],
         "range": [
          -4.722222222222223,
          189.72222222222223
         ],
         "title": {
          "text": "Speed"
         },
         "type": "linear"
        }
       }
      },
      "image/png": "[encoded data removed]",
      "text/html": [
       "<div>                            <div id=\"95c44f9d-c845-4e05-89bf-64e29a424b6d\" class=\"plotly-graph-div\" style=\"height:525px; width:100%;\"></div>            <script type=\"text/javascript\">                require([\"plotly\"], function(Plotly) {                    window.PLOTLYENV=window.PLOTLYENV || {};                                    if (document.getElementById(\"95c44f9d-c845-4e05-89bf-64e29a424b6d\")) {                    Plotly.newPlot(                        \"95c44f9d-c845-4e05-89bf-64e29a424b6d\",                        [{\"alignmentgroup\":\"True\",\"hovertemplate\":\"Type 1=%{x}<br>Speed=%{y}<extra></extra>\",\"legendgroup\":\"Grass\",\"marker\":{\"color\":\"#636efa\"},\"name\":\"Grass\",\"notched\":false,\"offsetgroup\":\"Grass\",\"orientation\":\"v\",\"showlegend\":true,\"x\":[\"Grass\",\"Grass\",\"Grass\",\"Grass\",\"Grass\",\"Grass\",\"Grass\",\"Grass\",\"Grass\",\"Grass\",\"Grass\",\"Grass\",\"Grass\",\"Grass\",\"Grass\",\"Grass\",\"Grass\",\"Grass\",\"Grass\",\"Grass\",\"Grass\",\"Grass\",\"Grass\",\"Grass\",\"Grass\",\"Grass\",\"Grass\",\"Grass\",\"Grass\",\"Grass\",\"Grass\",\"Grass\",\"Grass\",\"Grass\",\"Grass\",\"Grass\",\"Grass\",\"Grass\",\"Grass\",\"Grass\",\"Grass\",\"Grass\",\"Grass\",\"Grass\",\"Grass\",\"Grass\",\"Grass\",\"Grass\",\"Grass\",\"Grass\",\"Grass\",\"Grass\",\"Grass\",\"Grass\",\"Grass\",\"Grass\",\"Grass\",\"Grass\",\"Grass\",\"Grass\",\"Grass\",\"Grass\",\"Grass\",\"Grass\",\"Grass\",\"Grass\",\"Grass\",\"Grass\",\"Grass\",\"Grass\"],\"x0\":\" \",\"xaxis\":\"x\",\"y\":[45,60,80,80,30,40,50,40,55,70,40,55,60,45,60,80,50,50,80,110,30,30,70,95,120,145,30,60,80,35,70,65,35,55,51,31,36,56,55,90,35,85,46,40,60,30,50,95,100,127,63,83,113,64,101,66,116,30,90,60,15,30,10,20,108,38,57,64,52,68],\"y0\":\" \",\"yaxis\":\"y\",\"type\":\"box\"},{\"alignmentgroup\":\"True\",\"hovertemplate\":\"Type 1=%{x}<br>Speed=%{y}<extra></extra>\",\"legendgroup\":\"Fire\",\"marker\":{\"color\":\"#EF553B\"},\"name\":\"Fire\",\"notched\":false,\"offsetgroup\":\"Fire\",\"orientation\":\"v\",\"showlegend\":true,\"x\":[\"Fire\",\"Fire\",\"Fire\",\"Fire\",\"Fire\",\"Fire\",\"Fire\",\"Fire\",\"Fire\",\"Fire\",\"Fire\",\"Fire\",\"Fire\",\"Fire\",\"Fire\",\"Fire\",\"Fire\",\"Fire\",\"Fire\",\"Fire\",\"Fire\",\"Fire\",\"Fire\",\"Fire\",\"Fire\",\"Fire\",\"Fire\",\"Fire\",\"Fire\",\"Fire\",\"Fire\",\"Fire\",\"Fire\",\"Fire\",\"Fire\",\"Fire\",\"Fire\",\"Fire\",\"Fire\",\"Fire\",\"Fire\",\"Fire\",\"Fire\",\"Fire\",\"Fire\",\"Fire\",\"Fire\",\"Fire\",\"Fire\",\"Fire\",\"Fire\",\"Fire\"],\"x0\":\" \",\"xaxis\":\"x\",\"y\":[65,80,100,100,100,65,100,60,95,90,105,93,65,90,65,80,100,20,30,83,100,90,45,55,80,100,35,40,20,20,61,81,108,83,77,45,55,65,64,101,50,95,55,65,60,73,104,84,126,72,106,70],\"y0\":\" \",\"yaxis\":\"y\",\"type\":\"box\"},{\"alignmentgroup\":\"True\",\"hovertemplate\":\"Type 1=%{x}<br>Speed=%{y}<extra></extra>\",\"legendgroup\":\"Water\",\"marker\":{\"color\":\"#00cc96\"},\"name\":\"Water\",\"notched\":false,\"offsetgroup\":\"Water\",\"orientation\":\"v\",\"showlegend\":true,\"x\":[\"Water\",\"Water\",\"Water\",\"Water\",\"Water\",\"Water\",\"Water\",\"Water\",\"Water\",\"Water\",\"Water\",\"Water\",\"Water\",\"Water\",\"Water\",\"Water\",\"Water\",\"Water\",\"Water\",\"Water\",\"Water\",\"Water\",\"Water\",\"Water\",\"Water\",\"Water\",\"Water\",\"Water\",\"Water\",\"Water\",\"Water\",\"Water\",\"Water\",\"Water\",\"Water\",\"Water\",\"Water\",\"Water\",\"Water\",\"Water\",\"Water\",\"Water\",\"Water\",\"Water\",\"Water\",\"Water\",\"Water\",\"Water\",\"Water\",\"Water\",\"Water\",\"Water\",\"Water\",\"Water\",\"Water\",\"Water\",\"Water\",\"Water\",\"Water\",\"Water\",\"Water\",\"Water\",\"Water\",\"Water\",\"Water\",\"Water\",\"Water\",\"Water\",\"Water\",\"Water\",\"Water\",\"Water\",\"Water\",\"Water\",\"Water\",\"Water\",\"Water\",\"Water\",\"Water\",\"Water\",\"Water\",\"Water\",\"Water\",\"Water\",\"Water\",\"Water\",\"Water\",\"Water\",\"Water\",\"Water\",\"Water\",\"Water\",\"Water\",\"Water\",\"Water\",\"Water\",\"Water\",\"Water\",\"Water\",\"Water\",\"Water\",\"Water\",\"Water\",\"Water\",\"Water\",\"Water\",\"Water\",\"Water\",\"Water\",\"Water\",\"Water\",\"Water\"],\"x0\":\" \",\"xaxis\":\"x\",\"y\":[43,58,78,78,55,85,90,90,70,70,100,15,30,30,45,70,40,70,50,75,60,85,63,68,85,115,80,81,81,60,65,43,58,78,67,67,40,50,70,15,35,30,85,35,65,45,70,85,85,40,50,60,70,30,50,70,85,65,65,95,105,60,60,60,60,35,55,80,81,32,52,52,55,97,90,90,40,50,60,85,115,34,39,66,91,50,100,80,100,45,60,70,64,101,64,69,74,98,22,32,55,98,40,60,65,108,108,71,97,122,44,59],\"y0\":\" \",\"yaxis\":\"y\",\"type\":\"box\"},{\"alignmentgroup\":\"True\",\"hovertemplate\":\"Type 1=%{x}<br>Speed=%{y}<extra></extra>\",\"legendgroup\":\"Bug\",\"marker\":{\"color\":\"#ab63fa\"},\"name\":\"Bug\",\"notched\":false,\"offsetgroup\":\"Bug\",\"orientation\":\"v\",\"showlegend\":true,\"x\":[\"Bug\",\"Bug\",\"Bug\",\"Bug\",\"Bug\",\"Bug\",\"Bug\",\"Bug\",\"Bug\",\"Bug\",\"Bug\",\"Bug\",\"Bug\",\"Bug\",\"Bug\",\"Bug\",\"Bug\",\"Bug\",\"Bug\",\"Bug\",\"Bug\",\"Bug\",\"Bug\",\"Bug\",\"Bug\",\"Bug\",\"Bug\",\"Bug\",\"Bug\",\"Bug\",\"Bug\",\"Bug\",\"Bug\",\"Bug\",\"Bug\",\"Bug\",\"Bug\",\"Bug\",\"Bug\",\"Bug\",\"Bug\",\"Bug\",\"Bug\",\"Bug\",\"Bug\",\"Bug\",\"Bug\",\"Bug\",\"Bug\",\"Bug\",\"Bug\",\"Bug\",\"Bug\",\"Bug\",\"Bug\",\"Bug\",\"Bug\",\"Bug\",\"Bug\",\"Bug\",\"Bug\",\"Bug\",\"Bug\",\"Bug\",\"Bug\",\"Bug\",\"Bug\",\"Bug\",\"Bug\"],\"x0\":\" \",\"xaxis\":\"x\",\"y\":[45,30,70,50,35,75,145,25,30,45,90,105,85,105,55,85,30,40,95,15,40,65,75,5,85,75,20,15,65,15,65,65,60,40,160,40,85,85,25,65,36,36,36,36,66,70,40,95,42,42,92,57,47,112,55,45,60,20,65,108,25,145,109,60,100,99,35,29,89],\"y0\":\" \",\"yaxis\":\"y\",\"type\":\"box\"},{\"alignmentgroup\":\"True\",\"hovertemplate\":\"Type 1=%{x}<br>Speed=%{y}<extra></extra>\",\"legendgroup\":\"Normal\",\"marker\":{\"color\":\"#FFA15A\"},\"name\":\"Normal\",\"notched\":false,\"offsetgroup\":\"Normal\",\"orientation\":\"v\",\"showlegend\":true,\"x\":[\"Normal\",\"Normal\",\"Normal\",\"Normal\",\"Normal\",\"Normal\",\"Normal\",\"Normal\",\"Normal\",\"Normal\",\"Normal\",\"Normal\",\"Normal\",\"Normal\",\"Normal\",\"Normal\",\"Normal\",\"Normal\",\"Normal\",\"Normal\",\"Normal\",\"Normal\",\"Normal\",\"Normal\",\"Normal\",\"Normal\",\"Normal\",\"Normal\",\"Normal\",\"Normal\",\"Normal\",\"Normal\",\"Normal\",\"Normal\",\"Normal\",\"Normal\",\"Normal\",\"Normal\",\"Normal\",\"Normal\",\"Normal\",\"Normal\",\"Normal\",\"Normal\",\"Normal\",\"Normal\",\"Normal\",\"Normal\",\"Normal\",\"Normal\",\"Normal\",\"Normal\",\"Normal\",\"Normal\",\"Normal\",\"Normal\",\"Normal\",\"Normal\",\"Normal\",\"Normal\",\"Normal\",\"Normal\",\"Normal\",\"Normal\",\"Normal\",\"Normal\",\"Normal\",\"Normal\",\"Normal\",\"Normal\",\"Normal\",\"Normal\",\"Normal\",\"Normal\",\"Normal\",\"Normal\",\"Normal\",\"Normal\",\"Normal\",\"Normal\",\"Normal\",\"Normal\",\"Normal\",\"Normal\",\"Normal\",\"Normal\",\"Normal\",\"Normal\",\"Normal\",\"Normal\",\"Normal\",\"Normal\",\"Normal\",\"Normal\",\"Normal\",\"Normal\",\"Normal\",\"Normal\"],\"x0\":\" \",\"xaxis\":\"x\",\"y\":[56,71,101,121,72,97,70,100,20,45,90,115,60,75,100,30,50,90,100,110,48,55,40,30,20,90,50,70,15,85,85,45,40,55,60,85,75,100,55,60,100,85,125,30,90,100,28,48,68,20,50,70,60,50,90,70,40,60,80,100,31,71,115,85,105,135,85,112,30,91,5,50,90,100,120,42,77,55,60,80,43,65,93,50,50,75,115,75,95,55,60,80,90,128,57,78,62,102],\"y0\":\" \",\"yaxis\":\"y\",\"type\":\"box\"},{\"alignmentgroup\":\"True\",\"hovertemplate\":\"Type 1=%{x}<br>Speed=%{y}<extra></extra>\",\"legendgroup\":\"Poison\",\"marker\":{\"color\":\"#19d3f3\"},\"name\":\"Poison\",\"notched\":false,\"offsetgroup\":\"Poison\",\"orientation\":\"v\",\"showlegend\":true,\"x\":[\"Poison\",\"Poison\",\"Poison\",\"Poison\",\"Poison\",\"Poison\",\"Poison\",\"Poison\",\"Poison\",\"Poison\",\"Poison\",\"Poison\",\"Poison\",\"Poison\",\"Poison\",\"Poison\",\"Poison\",\"Poison\",\"Poison\",\"Poison\",\"Poison\",\"Poison\",\"Poison\",\"Poison\",\"Poison\",\"Poison\",\"Poison\",\"Poison\"],\"x0\":\" \",\"xaxis\":\"x\",\"y\":[55,80,41,56,76,50,65,85,55,90,25,50,35,60,130,40,55,65,74,84,65,95,50,85,65,75,30,44],\"y0\":\" \",\"yaxis\":\"y\",\"type\":\"box\"},{\"alignmentgroup\":\"True\",\"hovertemplate\":\"Type 1=%{x}<br>Speed=%{y}<extra></extra>\",\"legendgroup\":\"Electric\",\"marker\":{\"color\":\"#FF6692\"},\"name\":\"Electric\",\"notched\":false,\"offsetgroup\":\"Electric\",\"orientation\":\"v\",\"showlegend\":true,\"x\":[\"Electric\",\"Electric\",\"Electric\",\"Electric\",\"Electric\",\"Electric\",\"Electric\",\"Electric\",\"Electric\",\"Electric\",\"Electric\",\"Electric\",\"Electric\",\"Electric\",\"Electric\",\"Electric\",\"Electric\",\"Electric\",\"Electric\",\"Electric\",\"Electric\",\"Electric\",\"Electric\",\"Electric\",\"Electric\",\"Electric\",\"Electric\",\"Electric\",\"Electric\",\"Electric\",\"Electric\",\"Electric\",\"Electric\",\"Electric\",\"Electric\",\"Electric\",\"Electric\",\"Electric\",\"Electric\",\"Electric\",\"Electric\",\"Electric\",\"Electric\",\"Electric\"],\"x0\":\" \",\"xaxis\":\"x\",\"y\":[90,110,45,70,100,140,105,130,100,60,35,45,55,45,95,115,65,105,135,95,95,45,60,70,95,60,95,91,86,86,86,86,86,76,116,103,60,40,50,111,101,70,109,101],\"y0\":\" \",\"yaxis\":\"y\",\"type\":\"box\"},{\"alignmentgroup\":\"True\",\"hovertemplate\":\"Type 1=%{x}<br>Speed=%{y}<extra></extra>\",\"legendgroup\":\"Ground\",\"marker\":{\"color\":\"#B6E880\"},\"name\":\"Ground\",\"notched\":false,\"offsetgroup\":\"Ground\",\"orientation\":\"v\",\"showlegend\":true,\"x\":[\"Ground\",\"Ground\",\"Ground\",\"Ground\",\"Ground\",\"Ground\",\"Ground\",\"Ground\",\"Ground\",\"Ground\",\"Ground\",\"Ground\",\"Ground\",\"Ground\",\"Ground\",\"Ground\",\"Ground\",\"Ground\",\"Ground\",\"Ground\",\"Ground\",\"Ground\",\"Ground\",\"Ground\",\"Ground\",\"Ground\",\"Ground\",\"Ground\",\"Ground\",\"Ground\",\"Ground\",\"Ground\"],\"x0\":\" \",\"xaxis\":\"x\",\"y\":[40,65,95,120,35,45,25,40,85,40,50,10,70,100,55,75,90,90,32,47,40,95,68,88,65,74,92,32,35,55,101,91],\"y0\":\" \",\"yaxis\":\"y\",\"type\":\"box\"},{\"alignmentgroup\":\"True\",\"hovertemplate\":\"Type 1=%{x}<br>Speed=%{y}<extra></extra>\",\"legendgroup\":\"Fairy\",\"marker\":{\"color\":\"#FF97FF\"},\"name\":\"Fairy\",\"notched\":false,\"offsetgroup\":\"Fairy\",\"orientation\":\"v\",\"showlegend\":true,\"x\":[\"Fairy\",\"Fairy\",\"Fairy\",\"Fairy\",\"Fairy\",\"Fairy\",\"Fairy\",\"Fairy\",\"Fairy\",\"Fairy\",\"Fairy\",\"Fairy\",\"Fairy\",\"Fairy\",\"Fairy\",\"Fairy\",\"Fairy\"],\"x0\":\" \",\"xaxis\":\"x\",\"y\":[35,60,15,20,40,30,45,80,42,52,75,23,29,49,72,60,99],\"y0\":\" \",\"yaxis\":\"y\",\"type\":\"box\"},{\"alignmentgroup\":\"True\",\"hovertemplate\":\"Type 1=%{x}<br>Speed=%{y}<extra></extra>\",\"legendgroup\":\"Fighting\",\"marker\":{\"color\":\"#FECB52\"},\"name\":\"Fighting\",\"notched\":false,\"offsetgroup\":\"Fighting\",\"orientation\":\"v\",\"showlegend\":true,\"x\":[\"Fighting\",\"Fighting\",\"Fighting\",\"Fighting\",\"Fighting\",\"Fighting\",\"Fighting\",\"Fighting\",\"Fighting\",\"Fighting\",\"Fighting\",\"Fighting\",\"Fighting\",\"Fighting\",\"Fighting\",\"Fighting\",\"Fighting\",\"Fighting\",\"Fighting\",\"Fighting\",\"Fighting\",\"Fighting\",\"Fighting\",\"Fighting\",\"Fighting\",\"Fighting\",\"Fighting\"],\"x0\":\" \",\"xaxis\":\"x\",\"y\":[70,95,35,45,55,87,76,35,70,25,50,60,80,100,60,90,112,35,40,45,45,85,65,105,43,58,118],\"y0\":\" \",\"yaxis\":\"y\",\"type\":\"box\"},{\"alignmentgroup\":\"True\",\"hovertemplate\":\"Type 1=%{x}<br>Speed=%{y}<extra></extra>\",\"legendgroup\":\"Psychic\",\"marker\":{\"color\":\"#636efa\"},\"name\":\"Psychic\",\"notched\":false,\"offsetgroup\":\"Psychic\",\"orientation\":\"v\",\"showlegend\":true,\"x\":[\"Psychic\",\"Psychic\",\"Psychic\",\"Psychic\",\"Psychic\",\"Psychic\",\"Psychic\",\"Psychic\",\"Psychic\",\"Psychic\",\"Psychic\",\"Psychic\",\"Psychic\",\"Psychic\",\"Psychic\",\"Psychic\",\"Psychic\",\"Psychic\",\"Psychic\",\"Psychic\",\"Psychic\",\"Psychic\",\"Psychic\",\"Psychic\",\"Psychic\",\"Psychic\",\"Psychic\",\"Psychic\",\"Psychic\",\"Psychic\",\"Psychic\",\"Psychic\",\"Psychic\",\"Psychic\",\"Psychic\",\"Psychic\",\"Psychic\",\"Psychic\",\"Psychic\",\"Psychic\",\"Psychic\",\"Psychic\",\"Psychic\",\"Psychic\",\"Psychic\",\"Psychic\",\"Psychic\",\"Psychic\",\"Psychic\",\"Psychic\",\"Psychic\",\"Psychic\",\"Psychic\",\"Psychic\",\"Psychic\",\"Psychic\",\"Psychic\"],\"x0\":\" \",\"xaxis\":\"x\",\"y\":[90,105,120,150,42,67,90,130,130,140,100,70,95,110,48,33,110,100,40,50,80,100,60,80,65,23,150,150,90,180,45,60,80,110,95,80,115,85,100,24,29,72,114,97,45,55,65,20,30,30,30,40,68,104,104,70,80],\"y0\":\" \",\"yaxis\":\"y\",\"type\":\"box\"},{\"alignmentgroup\":\"True\",\"hovertemplate\":\"Type 1=%{x}<br>Speed=%{y}<extra></extra>\",\"legendgroup\":\"Rock\",\"marker\":{\"color\":\"#EF553B\"},\"name\":\"Rock\",\"notched\":false,\"offsetgroup\":\"Rock\",\"orientation\":\"v\",\"showlegend\":true,\"x\":[\"Rock\",\"Rock\",\"Rock\",\"Rock\",\"Rock\",\"Rock\",\"Rock\",\"Rock\",\"Rock\",\"Rock\",\"Rock\",\"Rock\",\"Rock\",\"Rock\",\"Rock\",\"Rock\",\"Rock\",\"Rock\",\"Rock\",\"Rock\",\"Rock\",\"Rock\",\"Rock\",\"Rock\",\"Rock\",\"Rock\",\"Rock\",\"Rock\",\"Rock\",\"Rock\",\"Rock\",\"Rock\",\"Rock\",\"Rock\",\"Rock\",\"Rock\",\"Rock\",\"Rock\",\"Rock\",\"Rock\",\"Rock\",\"Rock\",\"Rock\",\"Rock\"],\"x0\":\" \",\"xaxis\":\"x\",\"y\":[20,35,45,70,35,55,55,80,130,150,30,41,51,61,71,30,70,70,23,43,75,45,50,58,58,30,30,10,40,15,20,25,70,110,108,50,68,48,71,46,58,50,50,110],\"y0\":\" \",\"yaxis\":\"y\",\"type\":\"box\"},{\"alignmentgroup\":\"True\",\"hovertemplate\":\"Type 1=%{x}<br>Speed=%{y}<extra></extra>\",\"legendgroup\":\"Ghost\",\"marker\":{\"color\":\"#00cc96\"},\"name\":\"Ghost\",\"notched\":false,\"offsetgroup\":\"Ghost\",\"orientation\":\"v\",\"showlegend\":true,\"x\":[\"Ghost\",\"Ghost\",\"Ghost\",\"Ghost\",\"Ghost\",\"Ghost\",\"Ghost\",\"Ghost\",\"Ghost\",\"Ghost\",\"Ghost\",\"Ghost\",\"Ghost\",\"Ghost\",\"Ghost\",\"Ghost\",\"Ghost\",\"Ghost\",\"Ghost\",\"Ghost\",\"Ghost\",\"Ghost\",\"Ghost\",\"Ghost\",\"Ghost\",\"Ghost\",\"Ghost\",\"Ghost\",\"Ghost\",\"Ghost\",\"Ghost\",\"Ghost\"],\"x0\":\" \",\"xaxis\":\"x\",\"y\":[80,95,110,130,85,45,65,75,25,25,70,80,105,35,45,90,90,30,30,20,55,80,38,56,51,56,46,41,84,99,69,54],\"y0\":\" \",\"yaxis\":\"y\",\"type\":\"box\"},{\"alignmentgroup\":\"True\",\"hovertemplate\":\"Type 1=%{x}<br>Speed=%{y}<extra></extra>\",\"legendgroup\":\"Ice\",\"marker\":{\"color\":\"#ab63fa\"},\"name\":\"Ice\",\"notched\":false,\"offsetgroup\":\"Ice\",\"orientation\":\"v\",\"showlegend\":true,\"x\":[\"Ice\",\"Ice\",\"Ice\",\"Ice\",\"Ice\",\"Ice\",\"Ice\",\"Ice\",\"Ice\",\"Ice\",\"Ice\",\"Ice\",\"Ice\",\"Ice\",\"Ice\",\"Ice\",\"Ice\",\"Ice\",\"Ice\",\"Ice\",\"Ice\",\"Ice\",\"Ice\",\"Ice\"],\"x0\":\" \",\"xaxis\":\"x\",\"y\":[95,85,50,50,75,65,50,80,100,25,45,65,50,65,80,110,44,59,79,40,50,105,28,28],\"y0\":\" \",\"yaxis\":\"y\",\"type\":\"box\"},{\"alignmentgroup\":\"True\",\"hovertemplate\":\"Type 1=%{x}<br>Speed=%{y}<extra></extra>\",\"legendgroup\":\"Dragon\",\"marker\":{\"color\":\"#FFA15A\"},\"name\":\"Dragon\",\"notched\":false,\"offsetgroup\":\"Dragon\",\"orientation\":\"v\",\"showlegend\":true,\"x\":[\"Dragon\",\"Dragon\",\"Dragon\",\"Dragon\",\"Dragon\",\"Dragon\",\"Dragon\",\"Dragon\",\"Dragon\",\"Dragon\",\"Dragon\",\"Dragon\",\"Dragon\",\"Dragon\",\"Dragon\",\"Dragon\",\"Dragon\",\"Dragon\",\"Dragon\",\"Dragon\",\"Dragon\",\"Dragon\",\"Dragon\",\"Dragon\",\"Dragon\",\"Dragon\",\"Dragon\",\"Dragon\",\"Dragon\",\"Dragon\",\"Dragon\",\"Dragon\"],\"x0\":\" \",\"xaxis\":\"x\",\"y\":[50,70,80,80,80,50,50,100,120,110,110,110,110,95,115,42,82,102,92,57,67,97,48,90,90,95,95,95,40,60,80,95],\"y0\":\" \",\"yaxis\":\"y\",\"type\":\"box\"},{\"alignmentgroup\":\"True\",\"hovertemplate\":\"Type 1=%{x}<br>Speed=%{y}<extra></extra>\",\"legendgroup\":\"Dark\",\"marker\":{\"color\":\"#19d3f3\"},\"name\":\"Dark\",\"notched\":false,\"offsetgroup\":\"Dark\",\"orientation\":\"v\",\"showlegend\":true,\"x\":[\"Dark\",\"Dark\",\"Dark\",\"Dark\",\"Dark\",\"Dark\",\"Dark\",\"Dark\",\"Dark\",\"Dark\",\"Dark\",\"Dark\",\"Dark\",\"Dark\",\"Dark\",\"Dark\",\"Dark\",\"Dark\",\"Dark\",\"Dark\",\"Dark\",\"Dark\",\"Dark\",\"Dark\",\"Dark\",\"Dark\",\"Dark\",\"Dark\",\"Dark\",\"Dark\",\"Dark\"],\"x0\":\" \",\"xaxis\":\"x\",\"y\":[65,91,115,65,95,115,35,70,50,20,75,115,71,125,125,66,106,48,58,65,105,60,70,60,80,38,58,98,45,73,99],\"y0\":\" \",\"yaxis\":\"y\",\"type\":\"box\"},{\"alignmentgroup\":\"True\",\"hovertemplate\":\"Type 1=%{x}<br>Speed=%{y}<extra></extra>\",\"legendgroup\":\"Steel\",\"marker\":{\"color\":\"#FF6692\"},\"name\":\"Steel\",\"notched\":false,\"offsetgroup\":\"Steel\",\"orientation\":\"v\",\"showlegend\":true,\"x\":[\"Steel\",\"Steel\",\"Steel\",\"Steel\",\"Steel\",\"Steel\",\"Steel\",\"Steel\",\"Steel\",\"Steel\",\"Steel\",\"Steel\",\"Steel\",\"Steel\",\"Steel\",\"Steel\",\"Steel\",\"Steel\",\"Steel\",\"Steel\",\"Steel\",\"Steel\",\"Steel\",\"Steel\",\"Steel\",\"Steel\",\"Steel\"],\"x0\":\" \",\"xaxis\":\"x\",\"y\":[30,30,70,50,50,30,40,50,50,30,50,70,110,50,100,23,33,90,30,50,90,108,28,35,60,60,75],\"y0\":\" \",\"yaxis\":\"y\",\"type\":\"box\"},{\"alignmentgroup\":\"True\",\"hovertemplate\":\"Type 1=%{x}<br>Speed=%{y}<extra></extra>\",\"legendgroup\":\"Flying\",\"marker\":{\"color\":\"#B6E880\"},\"name\":\"Flying\",\"notched\":false,\"offsetgroup\":\"Flying\",\"orientation\":\"v\",\"showlegend\":true,\"x\":[\"Flying\",\"Flying\",\"Flying\",\"Flying\"],\"x0\":\" \",\"xaxis\":\"x\",\"y\":[111,121,55,123],\"y0\":\" \",\"yaxis\":\"y\",\"type\":\"box\"}],                        {\"template\":{\"data\":{\"bar\":[{\"error_x\":{\"color\":\"#2a3f5f\"},\"error_y\":{\"color\":\"#2a3f5f\"},\"marker\":{\"line\":{\"color\":\"#E5ECF6\",\"width\":0.5},\"pattern\":{\"fillmode\":\"overlay\",\"size\":10,\"solidity\":0.2}},\"type\":\"bar\"}],\"barpolar\":[{\"marker\":{\"line\":{\"color\":\"#E5ECF6\",\"width\":0.5},\"pattern\":{\"fillmode\":\"overlay\",\"size\":10,\"solidity\":0.2}},\"type\":\"barpolar\"}],\"carpet\":[{\"aaxis\":{\"endlinecolor\":\"#2a3f5f\",\"gridcolor\":\"white\",\"linecolor\":\"white\",\"minorgridcolor\":\"white\",\"startlinecolor\":\"#2a3f5f\"},\"baxis\":{\"endlinecolor\":\"#2a3f5f\",\"gridcolor\":\"white\",\"linecolor\":\"white\",\"minorgridcolor\":\"white\",\"startlinecolor\":\"#2a3f5f\"},\"type\":\"carpet\"}],\"choropleth\":[{\"colorbar\":{\"outlinewidth\":0,\"ticks\":\"\"},\"type\":\"choropleth\"}],\"contour\":[{\"colorbar\":{\"outlinewidth\":0,\"ticks\":\"\"},\"colorscale\":[[0.0,\"#0d0887\"],[0.1111111111111111,\"#46039f\"],[0.2222222222222222,\"#7201a8\"],[0.3333333333333333,\"#9c179e\"],[0.4444444444444444,\"#bd3786\"],[0.5555555555555556,\"#d8576b\"],[0.6666666666666666,\"#ed7953\"],[0.7777777777777778,\"#fb9f3a\"],[0.8888888888888888,\"#fdca26\"],[1.0,\"#f0f921\"]],\"type\":\"contour\"}],\"contourcarpet\":[{\"colorbar\":{\"outlinewidth\":0,\"ticks\":\"\"},\"type\":\"contourcarpet\"}],\"heatmap\":[{\"colorbar\":{\"outlinewidth\":0,\"ticks\":\"\"},\"colorscale\":[[0.0,\"#0d0887\"],[0.1111111111111111,\"#46039f\"],[0.2222222222222222,\"#7201a8\"],[0.3333333333333333,\"#9c179e\"],[0.4444444444444444,\"#bd3786\"],[0.5555555555555556,\"#d8576b\"],[0.6666666666666666,\"#ed7953\"],[0.7777777777777778,\"#fb9f3a\"],[0.8888888888888888,\"#fdca26\"],[1.0,\"#f0f921\"]],\"type\":\"heatmap\"}],\"heatmapgl\":[{\"colorbar\":{\"outlinewidth\":0,\"ticks\":\"\"},\"colorscale\":[[0.0,\"#0d0887\"],[0.1111111111111111,\"#46039f\"],[0.2222222222222222,\"#7201a8\"],[0.3333333333333333,\"#9c179e\"],[0.4444444444444444,\"#bd3786\"],[0.5555555555555556,\"#d8576b\"],[0.6666666666666666,\"#ed7953\"],[0.7777777777777778,\"#fb9f3a\"],[0.8888888888888888,\"#fdca26\"],[1.0,\"#f0f921\"]],\"type\":\"heatmapgl\"}],\"histogram\":[{\"marker\":{\"pattern\":{\"fillmode\":\"overlay\",\"size\":10,\"solidity\":0.2}},\"type\":\"histogram\"}],\"histogram2d\":[{\"colorbar\":{\"outlinewidth\":0,\"ticks\":\"\"},\"colorscale\":[[0.0,\"#0d0887\"],[0.1111111111111111,\"#46039f\"],[0.2222222222222222,\"#7201a8\"],[0.3333333333333333,\"#9c179e\"],[0.4444444444444444,\"#bd3786\"],[0.5555555555555556,\"#d8576b\"],[0.6666666666666666,\"#ed7953\"],[0.7777777777777778,\"#fb9f3a\"],[0.8888888888888888,\"#fdca26\"],[1.0,\"#f0f921\"]],\"type\":\"histogram2d\"}],\"histogram2dcontour\":[{\"colorbar\":{\"outlinewidth\":0,\"ticks\":\"\"},\"colorscale\":[[0.0,\"#0d0887\"],[0.1111111111111111,\"#46039f\"],[0.2222222222222222,\"#7201a8\"],[0.3333333333333333,\"#9c179e\"],[0.4444444444444444,\"#bd3786\"],[0.5555555555555556,\"#d8576b\"],[0.6666666666666666,\"#ed7953\"],[0.7777777777777778,\"#fb9f3a\"],[0.8888888888888888,\"#fdca26\"],[1.0,\"#f0f921\"]],\"type\":\"histogram2dcontour\"}],\"mesh3d\":[{\"colorbar\":{\"outlinewidth\":0,\"ticks\":\"\"},\"type\":\"mesh3d\"}],\"parcoords\":[{\"line\":{\"colorbar\":{\"outlinewidth\":0,\"ticks\":\"\"}},\"type\":\"parcoords\"}],\"pie\":[{\"automargin\":true,\"type\":\"pie\"}],\"scatter\":[{\"marker\":{\"colorbar\":{\"outlinewidth\":0,\"ticks\":\"\"}},\"type\":\"scatter\"}],\"scatter3d\":[{\"line\":{\"colorbar\":{\"outlinewidth\":0,\"ticks\":\"\"}},\"marker\":{\"colorbar\":{\"outlinewidth\":0,\"ticks\":\"\"}},\"type\":\"scatter3d\"}],\"scattercarpet\":[{\"marker\":{\"colorbar\":{\"outlinewidth\":0,\"ticks\":\"\"}},\"type\":\"scattercarpet\"}],\"scattergeo\":[{\"marker\":{\"colorbar\":{\"outlinewidth\":0,\"ticks\":\"\"}},\"type\":\"scattergeo\"}],\"scattergl\":[{\"marker\":{\"colorbar\":{\"outlinewidth\":0,\"ticks\":\"\"}},\"type\":\"scattergl\"}],\"scattermapbox\":[{\"marker\":{\"colorbar\":{\"outlinewidth\":0,\"ticks\":\"\"}},\"type\":\"scattermapbox\"}],\"scatterpolar\":[{\"marker\":{\"colorbar\":{\"outlinewidth\":0,\"ticks\":\"\"}},\"type\":\"scatterpolar\"}],\"scatterpolargl\":[{\"marker\":{\"colorbar\":{\"outlinewidth\":0,\"ticks\":\"\"}},\"type\":\"scatterpolargl\"}],\"scatterternary\":[{\"marker\":{\"colorbar\":{\"outlinewidth\":0,\"ticks\":\"\"}},\"type\":\"scatterternary\"}],\"surface\":[{\"colorbar\":{\"outlinewidth\":0,\"ticks\":\"\"},\"colorscale\":[[0.0,\"#0d0887\"],[0.1111111111111111,\"#46039f\"],[0.2222222222222222,\"#7201a8\"],[0.3333333333333333,\"#9c179e\"],[0.4444444444444444,\"#bd3786\"],[0.5555555555555556,\"#d8576b\"],[0.6666666666666666,\"#ed7953\"],[0.7777777777777778,\"#fb9f3a\"],[0.8888888888888888,\"#fdca26\"],[1.0,\"#f0f921\"]],\"type\":\"surface\"}],\"table\":[{\"cells\":{\"fill\":{\"color\":\"#EBF0F8\"},\"line\":{\"color\":\"white\"}},\"header\":{\"fill\":{\"color\":\"#C8D4E3\"},\"line\":{\"color\":\"white\"}},\"type\":\"table\"}]},\"layout\":{\"annotationdefaults\":{\"arrowcolor\":\"#2a3f5f\",\"arrowhead\":0,\"arrowwidth\":1},\"autotypenumbers\":\"strict\",\"coloraxis\":{\"colorbar\":{\"outlinewidth\":0,\"ticks\":\"\"}},\"colorscale\":{\"diverging\":[[0,\"#8e0152\"],[0.1,\"#c51b7d\"],[0.2,\"#de77ae\"],[0.3,\"#f1b6da\"],[0.4,\"#fde0ef\"],[0.5,\"#f7f7f7\"],[0.6,\"#e6f5d0\"],[0.7,\"#b8e186\"],[0.8,\"#7fbc41\"],[0.9,\"#4d9221\"],[1,\"#276419\"]],\"sequential\":[[0.0,\"#0d0887\"],[0.1111111111111111,\"#46039f\"],[0.2222222222222222,\"#7201a8\"],[0.3333333333333333,\"#9c179e\"],[0.4444444444444444,\"#bd3786\"],[0.5555555555555556,\"#d8576b\"],[0.6666666666666666,\"#ed7953\"],[0.7777777777777778,\"#fb9f3a\"],[0.8888888888888888,\"#fdca26\"],[1.0,\"#f0f921\"]],\"sequentialminus\":[[0.0,\"#0d0887\"],[0.1111111111111111,\"#46039f\"],[0.2222222222222222,\"#7201a8\"],[0.3333333333333333,\"#9c179e\"],[0.4444444444444444,\"#bd3786\"],[0.5555555555555556,\"#d8576b\"],[0.6666666666666666,\"#ed7953\"],[0.7777777777777778,\"#fb9f3a\"],[0.8888888888888888,\"#fdca26\"],[1.0,\"#f0f921\"]]},\"colorway\":[\"#636efa\",\"#EF553B\",\"#00cc96\",\"#ab63fa\",\"#FFA15A\",\"#19d3f3\",\"#FF6692\",\"#B6E880\",\"#FF97FF\",\"#FECB52\"],\"font\":{\"color\":\"#2a3f5f\"},\"geo\":{\"bgcolor\":\"white\",\"lakecolor\":\"white\",\"landcolor\":\"#E5ECF6\",\"showlakes\":true,\"showland\":true,\"subunitcolor\":\"white\"},\"hoverlabel\":{\"align\":\"left\"},\"hovermode\":\"closest\",\"mapbox\":{\"style\":\"light\"},\"paper_bgcolor\":\"white\",\"plot_bgcolor\":\"#E5ECF6\",\"polar\":{\"angularaxis\":{\"gridcolor\":\"white\",\"linecolor\":\"white\",\"ticks\":\"\"},\"bgcolor\":\"#E5ECF6\",\"radialaxis\":{\"gridcolor\":\"white\",\"linecolor\":\"white\",\"ticks\":\"\"}},\"scene\":{\"xaxis\":{\"backgroundcolor\":\"#E5ECF6\",\"gridcolor\":\"white\",\"gridwidth\":2,\"linecolor\":\"white\",\"showbackground\":true,\"ticks\":\"\",\"zerolinecolor\":\"white\"},\"yaxis\":{\"backgroundcolor\":\"#E5ECF6\",\"gridcolor\":\"white\",\"gridwidth\":2,\"linecolor\":\"white\",\"showbackground\":true,\"ticks\":\"\",\"zerolinecolor\":\"white\"},\"zaxis\":{\"backgroundcolor\":\"#E5ECF6\",\"gridcolor\":\"white\",\"gridwidth\":2,\"linecolor\":\"white\",\"showbackground\":true,\"ticks\":\"\",\"zerolinecolor\":\"white\"}},\"shapedefaults\":{\"line\":{\"color\":\"#2a3f5f\"}},\"ternary\":{\"aaxis\":{\"gridcolor\":\"white\",\"linecolor\":\"white\",\"ticks\":\"\"},\"baxis\":{\"gridcolor\":\"white\",\"linecolor\":\"white\",\"ticks\":\"\"},\"bgcolor\":\"#E5ECF6\",\"caxis\":{\"gridcolor\":\"white\",\"linecolor\":\"white\",\"ticks\":\"\"}},\"title\":{\"x\":0.05},\"xaxis\":{\"automargin\":true,\"gridcolor\":\"white\",\"linecolor\":\"white\",\"ticks\":\"\",\"title\":{\"standoff\":15},\"zerolinecolor\":\"white\",\"zerolinewidth\":2},\"yaxis\":{\"automargin\":true,\"gridcolor\":\"white\",\"linecolor\":\"white\",\"ticks\":\"\",\"title\":{\"standoff\":15},\"zerolinecolor\":\"white\",\"zerolinewidth\":2}}},\"xaxis\":{\"anchor\":\"y\",\"domain\":[0.0,1.0],\"title\":{\"text\":\"Type 1\"},\"categoryorder\":\"array\",\"categoryarray\":[\"Grass\",\"Fire\",\"Water\",\"Bug\",\"Normal\",\"Poison\",\"Electric\",\"Ground\",\"Fairy\",\"Fighting\",\"Psychic\",\"Rock\",\"Ghost\",\"Ice\",\"Dragon\",\"Dark\",\"Steel\",\"Flying\"]},\"yaxis\":{\"anchor\":\"x\",\"domain\":[0.0,1.0],\"title\":{\"text\":\"Speed\"}},\"legend\":{\"title\":{\"text\":\"Type 1\"},\"tracegroupgap\":0},\"margin\":{\"t\":60},\"boxmode\":\"overlay\"},                        {\"responsive\": true}                    ).then(function(){\n",
       "                            \n",
       "var gd = document.getElementById('95c44f9d-c845-4e05-89bf-64e29a424b6d');\n",
       "var x = new MutationObserver(function (mutations, observer) {{\n",
       "        var display = window.getComputedStyle(gd).display;\n",
       "        if (!display || display === 'none') {{\n",
       "            console.log([gd, 'removed!']);\n",
       "            Plotly.purge(gd);\n",
       "            observer.disconnect();\n",
       "        }}\n",
       "}});\n",
       "\n",
       "// Listen for the removal of the full notebook cells\n",
       "var notebookContainer = gd.closest('#notebook-container');\n",
       "if (notebookContainer) {{\n",
       "    x.observe(notebookContainer, {childList: true});\n",
       "}}\n",
       "\n",
       "// Listen for the clearing of the current output cell\n",
       "var outputEl = gd.closest('.output');\n",
       "if (outputEl) {{\n",
       "    x.observe(outputEl, {childList: true});\n",
       "}}\n",
       "\n",
       "                        })                };                });            </script>        </div>"
      ]
     },
     "metadata": {},
     "output_type": "display_data"
    }
   ],
   "source": [
    "px.box(data_frame=df, x=\"Type 1\", y= \"Speed\", color = \"Type 1\")"
   ]
  },
  {
   "cell_type": "code",
   "execution_count": null,
   "id": "38061f66-2e08-4c69-b6cb-2c5b84897ebf",
   "metadata": {
    "tags": []
   },
   "outputs": [],
   "source": [
    "IQR = q3-q1\n",
    "q1*r45  q3*ar4"
   ]
  },
  {
   "cell_type": "code",
   "execution_count": null,
   "id": "f0aafa22-a10d-45e7-bac8-e625d8a9c215",
   "metadata": {},
   "outputs": [],
   "source": []
  },
  {
   "cell_type": "code",
   "execution_count": 13,
   "id": "9550b2be-8d4f-41b9-9d58-4f13cbb2c702",
   "metadata": {},
   "outputs": [
    {
     "data": {
      "text/html": [
       "<div>\n",
       "<style scoped>\n",
       "    .dataframe tbody tr th:only-of-type {\n",
       "        vertical-align: middle;\n",
       "    }\n",
       "\n",
       "    .dataframe tbody tr th {\n",
       "        vertical-align: top;\n",
       "    }\n",
       "\n",
       "    .dataframe thead th {\n",
       "        text-align: right;\n",
       "    }\n",
       "</style>\n",
       "<table border=\"1\" class=\"dataframe\">\n",
       "  <thead>\n",
       "    <tr style=\"text-align: right;\">\n",
       "      <th></th>\n",
       "      <th>#</th>\n",
       "      <th>Name_x</th>\n",
       "      <th>Type 1</th>\n",
       "      <th>Type 2</th>\n",
       "      <th>Total</th>\n",
       "      <th>HP</th>\n",
       "      <th>Attack</th>\n",
       "      <th>Defense</th>\n",
       "      <th>Sp. Atk</th>\n",
       "      <th>Sp. Def</th>\n",
       "      <th>Speed</th>\n",
       "      <th>Generation</th>\n",
       "      <th>Legendary</th>\n",
       "      <th>Name_y</th>\n",
       "      <th>Name-Percentage</th>\n",
       "    </tr>\n",
       "  </thead>\n",
       "  <tbody>\n",
       "    <tr>\n",
       "      <th>0</th>\n",
       "      <td>7</td>\n",
       "      <td>Squirtle</td>\n",
       "      <td>Water</td>\n",
       "      <td>NaN</td>\n",
       "      <td>314</td>\n",
       "      <td>44</td>\n",
       "      <td>48</td>\n",
       "      <td>65</td>\n",
       "      <td>50</td>\n",
       "      <td>64</td>\n",
       "      <td>43</td>\n",
       "      <td>1</td>\n",
       "      <td>False</td>\n",
       "      <td>112</td>\n",
       "      <td>14.000</td>\n",
       "    </tr>\n",
       "    <tr>\n",
       "      <th>1</th>\n",
       "      <td>8</td>\n",
       "      <td>Wartortle</td>\n",
       "      <td>Water</td>\n",
       "      <td>NaN</td>\n",
       "      <td>405</td>\n",
       "      <td>59</td>\n",
       "      <td>63</td>\n",
       "      <td>80</td>\n",
       "      <td>65</td>\n",
       "      <td>80</td>\n",
       "      <td>58</td>\n",
       "      <td>1</td>\n",
       "      <td>False</td>\n",
       "      <td>112</td>\n",
       "      <td>14.000</td>\n",
       "    </tr>\n",
       "    <tr>\n",
       "      <th>2</th>\n",
       "      <td>9</td>\n",
       "      <td>Blastoise</td>\n",
       "      <td>Water</td>\n",
       "      <td>NaN</td>\n",
       "      <td>530</td>\n",
       "      <td>79</td>\n",
       "      <td>83</td>\n",
       "      <td>100</td>\n",
       "      <td>85</td>\n",
       "      <td>105</td>\n",
       "      <td>78</td>\n",
       "      <td>1</td>\n",
       "      <td>False</td>\n",
       "      <td>112</td>\n",
       "      <td>14.000</td>\n",
       "    </tr>\n",
       "    <tr>\n",
       "      <th>3</th>\n",
       "      <td>9</td>\n",
       "      <td>BlastoiseMega Blastoise</td>\n",
       "      <td>Water</td>\n",
       "      <td>NaN</td>\n",
       "      <td>630</td>\n",
       "      <td>79</td>\n",
       "      <td>103</td>\n",
       "      <td>120</td>\n",
       "      <td>135</td>\n",
       "      <td>115</td>\n",
       "      <td>78</td>\n",
       "      <td>1</td>\n",
       "      <td>False</td>\n",
       "      <td>112</td>\n",
       "      <td>14.000</td>\n",
       "    </tr>\n",
       "    <tr>\n",
       "      <th>4</th>\n",
       "      <td>54</td>\n",
       "      <td>Psyduck</td>\n",
       "      <td>Water</td>\n",
       "      <td>NaN</td>\n",
       "      <td>320</td>\n",
       "      <td>50</td>\n",
       "      <td>52</td>\n",
       "      <td>48</td>\n",
       "      <td>65</td>\n",
       "      <td>50</td>\n",
       "      <td>55</td>\n",
       "      <td>1</td>\n",
       "      <td>False</td>\n",
       "      <td>112</td>\n",
       "      <td>14.000</td>\n",
       "    </tr>\n",
       "    <tr>\n",
       "      <th>...</th>\n",
       "      <td>...</td>\n",
       "      <td>...</td>\n",
       "      <td>...</td>\n",
       "      <td>...</td>\n",
       "      <td>...</td>\n",
       "      <td>...</td>\n",
       "      <td>...</td>\n",
       "      <td>...</td>\n",
       "      <td>...</td>\n",
       "      <td>...</td>\n",
       "      <td>...</td>\n",
       "      <td>...</td>\n",
       "      <td>...</td>\n",
       "      <td>...</td>\n",
       "      <td>...</td>\n",
       "    </tr>\n",
       "    <tr>\n",
       "      <th>795</th>\n",
       "      <td>716</td>\n",
       "      <td>Xerneas</td>\n",
       "      <td>Fairy</td>\n",
       "      <td>NaN</td>\n",
       "      <td>680</td>\n",
       "      <td>126</td>\n",
       "      <td>131</td>\n",
       "      <td>95</td>\n",
       "      <td>131</td>\n",
       "      <td>98</td>\n",
       "      <td>99</td>\n",
       "      <td>6</td>\n",
       "      <td>True</td>\n",
       "      <td>17</td>\n",
       "      <td>2.125</td>\n",
       "    </tr>\n",
       "    <tr>\n",
       "      <th>796</th>\n",
       "      <td>641</td>\n",
       "      <td>TornadusIncarnate Forme</td>\n",
       "      <td>Flying</td>\n",
       "      <td>NaN</td>\n",
       "      <td>580</td>\n",
       "      <td>79</td>\n",
       "      <td>115</td>\n",
       "      <td>70</td>\n",
       "      <td>125</td>\n",
       "      <td>80</td>\n",
       "      <td>111</td>\n",
       "      <td>5</td>\n",
       "      <td>True</td>\n",
       "      <td>4</td>\n",
       "      <td>0.500</td>\n",
       "    </tr>\n",
       "    <tr>\n",
       "      <th>797</th>\n",
       "      <td>641</td>\n",
       "      <td>TornadusTherian Forme</td>\n",
       "      <td>Flying</td>\n",
       "      <td>NaN</td>\n",
       "      <td>580</td>\n",
       "      <td>79</td>\n",
       "      <td>100</td>\n",
       "      <td>80</td>\n",
       "      <td>110</td>\n",
       "      <td>90</td>\n",
       "      <td>121</td>\n",
       "      <td>5</td>\n",
       "      <td>True</td>\n",
       "      <td>4</td>\n",
       "      <td>0.500</td>\n",
       "    </tr>\n",
       "    <tr>\n",
       "      <th>798</th>\n",
       "      <td>714</td>\n",
       "      <td>Noibat</td>\n",
       "      <td>Flying</td>\n",
       "      <td>Dragon</td>\n",
       "      <td>245</td>\n",
       "      <td>40</td>\n",
       "      <td>30</td>\n",
       "      <td>35</td>\n",
       "      <td>45</td>\n",
       "      <td>40</td>\n",
       "      <td>55</td>\n",
       "      <td>6</td>\n",
       "      <td>False</td>\n",
       "      <td>4</td>\n",
       "      <td>0.500</td>\n",
       "    </tr>\n",
       "    <tr>\n",
       "      <th>799</th>\n",
       "      <td>715</td>\n",
       "      <td>Noivern</td>\n",
       "      <td>Flying</td>\n",
       "      <td>Dragon</td>\n",
       "      <td>535</td>\n",
       "      <td>85</td>\n",
       "      <td>70</td>\n",
       "      <td>80</td>\n",
       "      <td>97</td>\n",
       "      <td>80</td>\n",
       "      <td>123</td>\n",
       "      <td>6</td>\n",
       "      <td>False</td>\n",
       "      <td>4</td>\n",
       "      <td>0.500</td>\n",
       "    </tr>\n",
       "  </tbody>\n",
       "</table>\n",
       "<p>800 rows × 15 columns</p>\n",
       "</div>"
      ],
      "text/plain": [
       "       #                   Name_x  Type 1  Type 2  Total   HP  Attack  \\\n",
       "0      7                 Squirtle   Water     NaN    314   44      48   \n",
       "1      8                Wartortle   Water     NaN    405   59      63   \n",
       "2      9                Blastoise   Water     NaN    530   79      83   \n",
       "3      9  BlastoiseMega Blastoise   Water     NaN    630   79     103   \n",
       "4     54                  Psyduck   Water     NaN    320   50      52   \n",
       "..   ...                      ...     ...     ...    ...  ...     ...   \n",
       "795  716                  Xerneas   Fairy     NaN    680  126     131   \n",
       "796  641  TornadusIncarnate Forme  Flying     NaN    580   79     115   \n",
       "797  641    TornadusTherian Forme  Flying     NaN    580   79     100   \n",
       "798  714                   Noibat  Flying  Dragon    245   40      30   \n",
       "799  715                  Noivern  Flying  Dragon    535   85      70   \n",
       "\n",
       "     Defense  Sp. Atk  Sp. Def  Speed  Generation  Legendary  Name_y  \\\n",
       "0         65       50       64     43           1      False     112   \n",
       "1         80       65       80     58           1      False     112   \n",
       "2        100       85      105     78           1      False     112   \n",
       "3        120      135      115     78           1      False     112   \n",
       "4         48       65       50     55           1      False     112   \n",
       "..       ...      ...      ...    ...         ...        ...     ...   \n",
       "795       95      131       98     99           6       True      17   \n",
       "796       70      125       80    111           5       True       4   \n",
       "797       80      110       90    121           5       True       4   \n",
       "798       35       45       40     55           6      False       4   \n",
       "799       80       97       80    123           6      False       4   \n",
       "\n",
       "     Name-Percentage  \n",
       "0             14.000  \n",
       "1             14.000  \n",
       "2             14.000  \n",
       "3             14.000  \n",
       "4             14.000  \n",
       "..               ...  \n",
       "795            2.125  \n",
       "796            0.500  \n",
       "797            0.500  \n",
       "798            0.500  \n",
       "799            0.500  \n",
       "\n",
       "[800 rows x 15 columns]"
      ]
     },
     "execution_count": 13,
     "metadata": {},
     "output_type": "execute_result"
    }
   ],
   "source": [
    "df5 = df.merge(df2, on=\"Type 1\", how=\"right\")\n",
    "df5"
   ]
  },
  {
   "cell_type": "code",
   "execution_count": 19,
   "id": "d6cc0bee-7e21-4504-829a-e46e94822839",
   "metadata": {},
   "outputs": [],
   "source": [
    "for i in range(len(df)):\n",
    "    if df5[\"Type 1\"][i] == \"Fire\" and df5[\"HP\"][i] > 30:\n",
    "        df5[\"Results\"][i] = 1\n",
    "    else:\n",
    "        df5[\"Results\"][i] = 0"
   ]
  },
  {
   "cell_type": "code",
   "execution_count": 20,
   "id": "f5fcd501-4e99-461f-8b0f-af5a47c63b4f",
   "metadata": {},
   "outputs": [
    {
     "data": {
      "text/html": [
       "<div>\n",
       "<style scoped>\n",
       "    .dataframe tbody tr th:only-of-type {\n",
       "        vertical-align: middle;\n",
       "    }\n",
       "\n",
       "    .dataframe tbody tr th {\n",
       "        vertical-align: top;\n",
       "    }\n",
       "\n",
       "    .dataframe thead th {\n",
       "        text-align: right;\n",
       "    }\n",
       "</style>\n",
       "<table border=\"1\" class=\"dataframe\">\n",
       "  <thead>\n",
       "    <tr style=\"text-align: right;\">\n",
       "      <th></th>\n",
       "      <th>#</th>\n",
       "      <th>Name_x</th>\n",
       "      <th>Type 1</th>\n",
       "      <th>Type 2</th>\n",
       "      <th>Total</th>\n",
       "      <th>HP</th>\n",
       "      <th>Attack</th>\n",
       "      <th>Defense</th>\n",
       "      <th>Sp. Atk</th>\n",
       "      <th>Sp. Def</th>\n",
       "      <th>Speed</th>\n",
       "      <th>Generation</th>\n",
       "      <th>Legendary</th>\n",
       "      <th>Name_y</th>\n",
       "      <th>Name-Percentage</th>\n",
       "      <th>Results</th>\n",
       "    </tr>\n",
       "  </thead>\n",
       "  <tbody>\n",
       "    <tr>\n",
       "      <th>404</th>\n",
       "      <td>720</td>\n",
       "      <td>HoopaHoopa Confined</td>\n",
       "      <td>Psychic</td>\n",
       "      <td>Ghost</td>\n",
       "      <td>600</td>\n",
       "      <td>80</td>\n",
       "      <td>110</td>\n",
       "      <td>60</td>\n",
       "      <td>150</td>\n",
       "      <td>130</td>\n",
       "      <td>70</td>\n",
       "      <td>6</td>\n",
       "      <td>True</td>\n",
       "      <td>57</td>\n",
       "      <td>7.125</td>\n",
       "      <td>0</td>\n",
       "    </tr>\n",
       "    <tr>\n",
       "      <th>405</th>\n",
       "      <td>720</td>\n",
       "      <td>HoopaHoopa Unbound</td>\n",
       "      <td>Psychic</td>\n",
       "      <td>Dark</td>\n",
       "      <td>680</td>\n",
       "      <td>80</td>\n",
       "      <td>160</td>\n",
       "      <td>60</td>\n",
       "      <td>170</td>\n",
       "      <td>130</td>\n",
       "      <td>80</td>\n",
       "      <td>6</td>\n",
       "      <td>True</td>\n",
       "      <td>57</td>\n",
       "      <td>7.125</td>\n",
       "      <td>0</td>\n",
       "    </tr>\n",
       "    <tr>\n",
       "      <th>406</th>\n",
       "      <td>4</td>\n",
       "      <td>Charmander</td>\n",
       "      <td>Fire</td>\n",
       "      <td>NaN</td>\n",
       "      <td>309</td>\n",
       "      <td>39</td>\n",
       "      <td>52</td>\n",
       "      <td>43</td>\n",
       "      <td>60</td>\n",
       "      <td>50</td>\n",
       "      <td>65</td>\n",
       "      <td>1</td>\n",
       "      <td>False</td>\n",
       "      <td>52</td>\n",
       "      <td>6.500</td>\n",
       "      <td>1</td>\n",
       "    </tr>\n",
       "    <tr>\n",
       "      <th>407</th>\n",
       "      <td>5</td>\n",
       "      <td>Charmeleon</td>\n",
       "      <td>Fire</td>\n",
       "      <td>NaN</td>\n",
       "      <td>405</td>\n",
       "      <td>58</td>\n",
       "      <td>64</td>\n",
       "      <td>58</td>\n",
       "      <td>80</td>\n",
       "      <td>65</td>\n",
       "      <td>80</td>\n",
       "      <td>1</td>\n",
       "      <td>False</td>\n",
       "      <td>52</td>\n",
       "      <td>6.500</td>\n",
       "      <td>1</td>\n",
       "    </tr>\n",
       "    <tr>\n",
       "      <th>408</th>\n",
       "      <td>6</td>\n",
       "      <td>Charizard</td>\n",
       "      <td>Fire</td>\n",
       "      <td>Flying</td>\n",
       "      <td>534</td>\n",
       "      <td>78</td>\n",
       "      <td>84</td>\n",
       "      <td>78</td>\n",
       "      <td>109</td>\n",
       "      <td>85</td>\n",
       "      <td>100</td>\n",
       "      <td>1</td>\n",
       "      <td>False</td>\n",
       "      <td>52</td>\n",
       "      <td>6.500</td>\n",
       "      <td>1</td>\n",
       "    </tr>\n",
       "    <tr>\n",
       "      <th>409</th>\n",
       "      <td>6</td>\n",
       "      <td>CharizardMega Charizard X</td>\n",
       "      <td>Fire</td>\n",
       "      <td>Dragon</td>\n",
       "      <td>634</td>\n",
       "      <td>78</td>\n",
       "      <td>130</td>\n",
       "      <td>111</td>\n",
       "      <td>130</td>\n",
       "      <td>85</td>\n",
       "      <td>100</td>\n",
       "      <td>1</td>\n",
       "      <td>False</td>\n",
       "      <td>52</td>\n",
       "      <td>6.500</td>\n",
       "      <td>1</td>\n",
       "    </tr>\n",
       "    <tr>\n",
       "      <th>410</th>\n",
       "      <td>6</td>\n",
       "      <td>CharizardMega Charizard Y</td>\n",
       "      <td>Fire</td>\n",
       "      <td>Flying</td>\n",
       "      <td>634</td>\n",
       "      <td>78</td>\n",
       "      <td>104</td>\n",
       "      <td>78</td>\n",
       "      <td>159</td>\n",
       "      <td>115</td>\n",
       "      <td>100</td>\n",
       "      <td>1</td>\n",
       "      <td>False</td>\n",
       "      <td>52</td>\n",
       "      <td>6.500</td>\n",
       "      <td>1</td>\n",
       "    </tr>\n",
       "    <tr>\n",
       "      <th>411</th>\n",
       "      <td>37</td>\n",
       "      <td>Vulpix</td>\n",
       "      <td>Fire</td>\n",
       "      <td>NaN</td>\n",
       "      <td>299</td>\n",
       "      <td>38</td>\n",
       "      <td>41</td>\n",
       "      <td>40</td>\n",
       "      <td>50</td>\n",
       "      <td>65</td>\n",
       "      <td>65</td>\n",
       "      <td>1</td>\n",
       "      <td>False</td>\n",
       "      <td>52</td>\n",
       "      <td>6.500</td>\n",
       "      <td>1</td>\n",
       "    </tr>\n",
       "    <tr>\n",
       "      <th>412</th>\n",
       "      <td>38</td>\n",
       "      <td>Ninetales</td>\n",
       "      <td>Fire</td>\n",
       "      <td>NaN</td>\n",
       "      <td>505</td>\n",
       "      <td>73</td>\n",
       "      <td>76</td>\n",
       "      <td>75</td>\n",
       "      <td>81</td>\n",
       "      <td>100</td>\n",
       "      <td>100</td>\n",
       "      <td>1</td>\n",
       "      <td>False</td>\n",
       "      <td>52</td>\n",
       "      <td>6.500</td>\n",
       "      <td>1</td>\n",
       "    </tr>\n",
       "    <tr>\n",
       "      <th>413</th>\n",
       "      <td>58</td>\n",
       "      <td>Growlithe</td>\n",
       "      <td>Fire</td>\n",
       "      <td>NaN</td>\n",
       "      <td>350</td>\n",
       "      <td>55</td>\n",
       "      <td>70</td>\n",
       "      <td>45</td>\n",
       "      <td>70</td>\n",
       "      <td>50</td>\n",
       "      <td>60</td>\n",
       "      <td>1</td>\n",
       "      <td>False</td>\n",
       "      <td>52</td>\n",
       "      <td>6.500</td>\n",
       "      <td>1</td>\n",
       "    </tr>\n",
       "    <tr>\n",
       "      <th>414</th>\n",
       "      <td>59</td>\n",
       "      <td>Arcanine</td>\n",
       "      <td>Fire</td>\n",
       "      <td>NaN</td>\n",
       "      <td>555</td>\n",
       "      <td>90</td>\n",
       "      <td>110</td>\n",
       "      <td>80</td>\n",
       "      <td>100</td>\n",
       "      <td>80</td>\n",
       "      <td>95</td>\n",
       "      <td>1</td>\n",
       "      <td>False</td>\n",
       "      <td>52</td>\n",
       "      <td>6.500</td>\n",
       "      <td>1</td>\n",
       "    </tr>\n",
       "    <tr>\n",
       "      <th>415</th>\n",
       "      <td>77</td>\n",
       "      <td>Ponyta</td>\n",
       "      <td>Fire</td>\n",
       "      <td>NaN</td>\n",
       "      <td>410</td>\n",
       "      <td>50</td>\n",
       "      <td>85</td>\n",
       "      <td>55</td>\n",
       "      <td>65</td>\n",
       "      <td>65</td>\n",
       "      <td>90</td>\n",
       "      <td>1</td>\n",
       "      <td>False</td>\n",
       "      <td>52</td>\n",
       "      <td>6.500</td>\n",
       "      <td>1</td>\n",
       "    </tr>\n",
       "    <tr>\n",
       "      <th>416</th>\n",
       "      <td>78</td>\n",
       "      <td>Rapidash</td>\n",
       "      <td>Fire</td>\n",
       "      <td>NaN</td>\n",
       "      <td>500</td>\n",
       "      <td>65</td>\n",
       "      <td>100</td>\n",
       "      <td>70</td>\n",
       "      <td>80</td>\n",
       "      <td>80</td>\n",
       "      <td>105</td>\n",
       "      <td>1</td>\n",
       "      <td>False</td>\n",
       "      <td>52</td>\n",
       "      <td>6.500</td>\n",
       "      <td>1</td>\n",
       "    </tr>\n",
       "    <tr>\n",
       "      <th>417</th>\n",
       "      <td>126</td>\n",
       "      <td>Magmar</td>\n",
       "      <td>Fire</td>\n",
       "      <td>NaN</td>\n",
       "      <td>495</td>\n",
       "      <td>65</td>\n",
       "      <td>95</td>\n",
       "      <td>57</td>\n",
       "      <td>100</td>\n",
       "      <td>85</td>\n",
       "      <td>93</td>\n",
       "      <td>1</td>\n",
       "      <td>False</td>\n",
       "      <td>52</td>\n",
       "      <td>6.500</td>\n",
       "      <td>1</td>\n",
       "    </tr>\n",
       "    <tr>\n",
       "      <th>418</th>\n",
       "      <td>136</td>\n",
       "      <td>Flareon</td>\n",
       "      <td>Fire</td>\n",
       "      <td>NaN</td>\n",
       "      <td>525</td>\n",
       "      <td>65</td>\n",
       "      <td>130</td>\n",
       "      <td>60</td>\n",
       "      <td>95</td>\n",
       "      <td>110</td>\n",
       "      <td>65</td>\n",
       "      <td>1</td>\n",
       "      <td>False</td>\n",
       "      <td>52</td>\n",
       "      <td>6.500</td>\n",
       "      <td>1</td>\n",
       "    </tr>\n",
       "    <tr>\n",
       "      <th>419</th>\n",
       "      <td>146</td>\n",
       "      <td>Moltres</td>\n",
       "      <td>Fire</td>\n",
       "      <td>Flying</td>\n",
       "      <td>580</td>\n",
       "      <td>90</td>\n",
       "      <td>100</td>\n",
       "      <td>90</td>\n",
       "      <td>125</td>\n",
       "      <td>85</td>\n",
       "      <td>90</td>\n",
       "      <td>1</td>\n",
       "      <td>True</td>\n",
       "      <td>52</td>\n",
       "      <td>6.500</td>\n",
       "      <td>1</td>\n",
       "    </tr>\n",
       "    <tr>\n",
       "      <th>420</th>\n",
       "      <td>155</td>\n",
       "      <td>Cyndaquil</td>\n",
       "      <td>Fire</td>\n",
       "      <td>NaN</td>\n",
       "      <td>309</td>\n",
       "      <td>39</td>\n",
       "      <td>52</td>\n",
       "      <td>43</td>\n",
       "      <td>60</td>\n",
       "      <td>50</td>\n",
       "      <td>65</td>\n",
       "      <td>2</td>\n",
       "      <td>False</td>\n",
       "      <td>52</td>\n",
       "      <td>6.500</td>\n",
       "      <td>1</td>\n",
       "    </tr>\n",
       "    <tr>\n",
       "      <th>421</th>\n",
       "      <td>156</td>\n",
       "      <td>Quilava</td>\n",
       "      <td>Fire</td>\n",
       "      <td>NaN</td>\n",
       "      <td>405</td>\n",
       "      <td>58</td>\n",
       "      <td>64</td>\n",
       "      <td>58</td>\n",
       "      <td>80</td>\n",
       "      <td>65</td>\n",
       "      <td>80</td>\n",
       "      <td>2</td>\n",
       "      <td>False</td>\n",
       "      <td>52</td>\n",
       "      <td>6.500</td>\n",
       "      <td>1</td>\n",
       "    </tr>\n",
       "    <tr>\n",
       "      <th>422</th>\n",
       "      <td>157</td>\n",
       "      <td>Typhlosion</td>\n",
       "      <td>Fire</td>\n",
       "      <td>NaN</td>\n",
       "      <td>534</td>\n",
       "      <td>78</td>\n",
       "      <td>84</td>\n",
       "      <td>78</td>\n",
       "      <td>109</td>\n",
       "      <td>85</td>\n",
       "      <td>100</td>\n",
       "      <td>2</td>\n",
       "      <td>False</td>\n",
       "      <td>52</td>\n",
       "      <td>6.500</td>\n",
       "      <td>1</td>\n",
       "    </tr>\n",
       "    <tr>\n",
       "      <th>423</th>\n",
       "      <td>218</td>\n",
       "      <td>Slugma</td>\n",
       "      <td>Fire</td>\n",
       "      <td>NaN</td>\n",
       "      <td>250</td>\n",
       "      <td>40</td>\n",
       "      <td>40</td>\n",
       "      <td>40</td>\n",
       "      <td>70</td>\n",
       "      <td>40</td>\n",
       "      <td>20</td>\n",
       "      <td>2</td>\n",
       "      <td>False</td>\n",
       "      <td>52</td>\n",
       "      <td>6.500</td>\n",
       "      <td>1</td>\n",
       "    </tr>\n",
       "    <tr>\n",
       "      <th>424</th>\n",
       "      <td>219</td>\n",
       "      <td>Magcargo</td>\n",
       "      <td>Fire</td>\n",
       "      <td>Rock</td>\n",
       "      <td>410</td>\n",
       "      <td>50</td>\n",
       "      <td>50</td>\n",
       "      <td>120</td>\n",
       "      <td>80</td>\n",
       "      <td>80</td>\n",
       "      <td>30</td>\n",
       "      <td>2</td>\n",
       "      <td>False</td>\n",
       "      <td>52</td>\n",
       "      <td>6.500</td>\n",
       "      <td>1</td>\n",
       "    </tr>\n",
       "    <tr>\n",
       "      <th>425</th>\n",
       "      <td>240</td>\n",
       "      <td>Magby</td>\n",
       "      <td>Fire</td>\n",
       "      <td>NaN</td>\n",
       "      <td>365</td>\n",
       "      <td>45</td>\n",
       "      <td>75</td>\n",
       "      <td>37</td>\n",
       "      <td>70</td>\n",
       "      <td>55</td>\n",
       "      <td>83</td>\n",
       "      <td>2</td>\n",
       "      <td>False</td>\n",
       "      <td>52</td>\n",
       "      <td>6.500</td>\n",
       "      <td>1</td>\n",
       "    </tr>\n",
       "    <tr>\n",
       "      <th>426</th>\n",
       "      <td>244</td>\n",
       "      <td>Entei</td>\n",
       "      <td>Fire</td>\n",
       "      <td>NaN</td>\n",
       "      <td>580</td>\n",
       "      <td>115</td>\n",
       "      <td>115</td>\n",
       "      <td>85</td>\n",
       "      <td>90</td>\n",
       "      <td>75</td>\n",
       "      <td>100</td>\n",
       "      <td>2</td>\n",
       "      <td>True</td>\n",
       "      <td>52</td>\n",
       "      <td>6.500</td>\n",
       "      <td>1</td>\n",
       "    </tr>\n",
       "    <tr>\n",
       "      <th>427</th>\n",
       "      <td>250</td>\n",
       "      <td>Ho-oh</td>\n",
       "      <td>Fire</td>\n",
       "      <td>Flying</td>\n",
       "      <td>680</td>\n",
       "      <td>106</td>\n",
       "      <td>130</td>\n",
       "      <td>90</td>\n",
       "      <td>110</td>\n",
       "      <td>154</td>\n",
       "      <td>90</td>\n",
       "      <td>2</td>\n",
       "      <td>True</td>\n",
       "      <td>52</td>\n",
       "      <td>6.500</td>\n",
       "      <td>1</td>\n",
       "    </tr>\n",
       "    <tr>\n",
       "      <th>428</th>\n",
       "      <td>255</td>\n",
       "      <td>Torchic</td>\n",
       "      <td>Fire</td>\n",
       "      <td>NaN</td>\n",
       "      <td>310</td>\n",
       "      <td>45</td>\n",
       "      <td>60</td>\n",
       "      <td>40</td>\n",
       "      <td>70</td>\n",
       "      <td>50</td>\n",
       "      <td>45</td>\n",
       "      <td>3</td>\n",
       "      <td>False</td>\n",
       "      <td>52</td>\n",
       "      <td>6.500</td>\n",
       "      <td>1</td>\n",
       "    </tr>\n",
       "    <tr>\n",
       "      <th>429</th>\n",
       "      <td>256</td>\n",
       "      <td>Combusken</td>\n",
       "      <td>Fire</td>\n",
       "      <td>Fighting</td>\n",
       "      <td>405</td>\n",
       "      <td>60</td>\n",
       "      <td>85</td>\n",
       "      <td>60</td>\n",
       "      <td>85</td>\n",
       "      <td>60</td>\n",
       "      <td>55</td>\n",
       "      <td>3</td>\n",
       "      <td>False</td>\n",
       "      <td>52</td>\n",
       "      <td>6.500</td>\n",
       "      <td>1</td>\n",
       "    </tr>\n",
       "    <tr>\n",
       "      <th>430</th>\n",
       "      <td>257</td>\n",
       "      <td>Blaziken</td>\n",
       "      <td>Fire</td>\n",
       "      <td>Fighting</td>\n",
       "      <td>530</td>\n",
       "      <td>80</td>\n",
       "      <td>120</td>\n",
       "      <td>70</td>\n",
       "      <td>110</td>\n",
       "      <td>70</td>\n",
       "      <td>80</td>\n",
       "      <td>3</td>\n",
       "      <td>False</td>\n",
       "      <td>52</td>\n",
       "      <td>6.500</td>\n",
       "      <td>1</td>\n",
       "    </tr>\n",
       "    <tr>\n",
       "      <th>431</th>\n",
       "      <td>257</td>\n",
       "      <td>BlazikenMega Blaziken</td>\n",
       "      <td>Fire</td>\n",
       "      <td>Fighting</td>\n",
       "      <td>630</td>\n",
       "      <td>80</td>\n",
       "      <td>160</td>\n",
       "      <td>80</td>\n",
       "      <td>130</td>\n",
       "      <td>80</td>\n",
       "      <td>100</td>\n",
       "      <td>3</td>\n",
       "      <td>False</td>\n",
       "      <td>52</td>\n",
       "      <td>6.500</td>\n",
       "      <td>1</td>\n",
       "    </tr>\n",
       "    <tr>\n",
       "      <th>432</th>\n",
       "      <td>322</td>\n",
       "      <td>Numel</td>\n",
       "      <td>Fire</td>\n",
       "      <td>Ground</td>\n",
       "      <td>305</td>\n",
       "      <td>60</td>\n",
       "      <td>60</td>\n",
       "      <td>40</td>\n",
       "      <td>65</td>\n",
       "      <td>45</td>\n",
       "      <td>35</td>\n",
       "      <td>3</td>\n",
       "      <td>False</td>\n",
       "      <td>52</td>\n",
       "      <td>6.500</td>\n",
       "      <td>1</td>\n",
       "    </tr>\n",
       "    <tr>\n",
       "      <th>433</th>\n",
       "      <td>323</td>\n",
       "      <td>Camerupt</td>\n",
       "      <td>Fire</td>\n",
       "      <td>Ground</td>\n",
       "      <td>460</td>\n",
       "      <td>70</td>\n",
       "      <td>100</td>\n",
       "      <td>70</td>\n",
       "      <td>105</td>\n",
       "      <td>75</td>\n",
       "      <td>40</td>\n",
       "      <td>3</td>\n",
       "      <td>False</td>\n",
       "      <td>52</td>\n",
       "      <td>6.500</td>\n",
       "      <td>1</td>\n",
       "    </tr>\n",
       "    <tr>\n",
       "      <th>434</th>\n",
       "      <td>323</td>\n",
       "      <td>CameruptMega Camerupt</td>\n",
       "      <td>Fire</td>\n",
       "      <td>Ground</td>\n",
       "      <td>560</td>\n",
       "      <td>70</td>\n",
       "      <td>120</td>\n",
       "      <td>100</td>\n",
       "      <td>145</td>\n",
       "      <td>105</td>\n",
       "      <td>20</td>\n",
       "      <td>3</td>\n",
       "      <td>False</td>\n",
       "      <td>52</td>\n",
       "      <td>6.500</td>\n",
       "      <td>1</td>\n",
       "    </tr>\n",
       "    <tr>\n",
       "      <th>435</th>\n",
       "      <td>324</td>\n",
       "      <td>Torkoal</td>\n",
       "      <td>Fire</td>\n",
       "      <td>NaN</td>\n",
       "      <td>470</td>\n",
       "      <td>70</td>\n",
       "      <td>85</td>\n",
       "      <td>140</td>\n",
       "      <td>85</td>\n",
       "      <td>70</td>\n",
       "      <td>20</td>\n",
       "      <td>3</td>\n",
       "      <td>False</td>\n",
       "      <td>52</td>\n",
       "      <td>6.500</td>\n",
       "      <td>1</td>\n",
       "    </tr>\n",
       "    <tr>\n",
       "      <th>436</th>\n",
       "      <td>390</td>\n",
       "      <td>Chimchar</td>\n",
       "      <td>Fire</td>\n",
       "      <td>NaN</td>\n",
       "      <td>309</td>\n",
       "      <td>44</td>\n",
       "      <td>58</td>\n",
       "      <td>44</td>\n",
       "      <td>58</td>\n",
       "      <td>44</td>\n",
       "      <td>61</td>\n",
       "      <td>4</td>\n",
       "      <td>False</td>\n",
       "      <td>52</td>\n",
       "      <td>6.500</td>\n",
       "      <td>1</td>\n",
       "    </tr>\n",
       "    <tr>\n",
       "      <th>437</th>\n",
       "      <td>391</td>\n",
       "      <td>Monferno</td>\n",
       "      <td>Fire</td>\n",
       "      <td>Fighting</td>\n",
       "      <td>405</td>\n",
       "      <td>64</td>\n",
       "      <td>78</td>\n",
       "      <td>52</td>\n",
       "      <td>78</td>\n",
       "      <td>52</td>\n",
       "      <td>81</td>\n",
       "      <td>4</td>\n",
       "      <td>False</td>\n",
       "      <td>52</td>\n",
       "      <td>6.500</td>\n",
       "      <td>1</td>\n",
       "    </tr>\n",
       "    <tr>\n",
       "      <th>438</th>\n",
       "      <td>392</td>\n",
       "      <td>Infernape</td>\n",
       "      <td>Fire</td>\n",
       "      <td>Fighting</td>\n",
       "      <td>534</td>\n",
       "      <td>76</td>\n",
       "      <td>104</td>\n",
       "      <td>71</td>\n",
       "      <td>104</td>\n",
       "      <td>71</td>\n",
       "      <td>108</td>\n",
       "      <td>4</td>\n",
       "      <td>False</td>\n",
       "      <td>52</td>\n",
       "      <td>6.500</td>\n",
       "      <td>1</td>\n",
       "    </tr>\n",
       "    <tr>\n",
       "      <th>439</th>\n",
       "      <td>467</td>\n",
       "      <td>Magmortar</td>\n",
       "      <td>Fire</td>\n",
       "      <td>NaN</td>\n",
       "      <td>540</td>\n",
       "      <td>75</td>\n",
       "      <td>95</td>\n",
       "      <td>67</td>\n",
       "      <td>125</td>\n",
       "      <td>95</td>\n",
       "      <td>83</td>\n",
       "      <td>4</td>\n",
       "      <td>False</td>\n",
       "      <td>52</td>\n",
       "      <td>6.500</td>\n",
       "      <td>1</td>\n",
       "    </tr>\n",
       "    <tr>\n",
       "      <th>440</th>\n",
       "      <td>485</td>\n",
       "      <td>Heatran</td>\n",
       "      <td>Fire</td>\n",
       "      <td>Steel</td>\n",
       "      <td>600</td>\n",
       "      <td>91</td>\n",
       "      <td>90</td>\n",
       "      <td>106</td>\n",
       "      <td>130</td>\n",
       "      <td>106</td>\n",
       "      <td>77</td>\n",
       "      <td>4</td>\n",
       "      <td>True</td>\n",
       "      <td>52</td>\n",
       "      <td>6.500</td>\n",
       "      <td>1</td>\n",
       "    </tr>\n",
       "    <tr>\n",
       "      <th>441</th>\n",
       "      <td>498</td>\n",
       "      <td>Tepig</td>\n",
       "      <td>Fire</td>\n",
       "      <td>NaN</td>\n",
       "      <td>308</td>\n",
       "      <td>65</td>\n",
       "      <td>63</td>\n",
       "      <td>45</td>\n",
       "      <td>45</td>\n",
       "      <td>45</td>\n",
       "      <td>45</td>\n",
       "      <td>5</td>\n",
       "      <td>False</td>\n",
       "      <td>52</td>\n",
       "      <td>6.500</td>\n",
       "      <td>1</td>\n",
       "    </tr>\n",
       "    <tr>\n",
       "      <th>442</th>\n",
       "      <td>499</td>\n",
       "      <td>Pignite</td>\n",
       "      <td>Fire</td>\n",
       "      <td>Fighting</td>\n",
       "      <td>418</td>\n",
       "      <td>90</td>\n",
       "      <td>93</td>\n",
       "      <td>55</td>\n",
       "      <td>70</td>\n",
       "      <td>55</td>\n",
       "      <td>55</td>\n",
       "      <td>5</td>\n",
       "      <td>False</td>\n",
       "      <td>52</td>\n",
       "      <td>6.500</td>\n",
       "      <td>1</td>\n",
       "    </tr>\n",
       "    <tr>\n",
       "      <th>443</th>\n",
       "      <td>500</td>\n",
       "      <td>Emboar</td>\n",
       "      <td>Fire</td>\n",
       "      <td>Fighting</td>\n",
       "      <td>528</td>\n",
       "      <td>110</td>\n",
       "      <td>123</td>\n",
       "      <td>65</td>\n",
       "      <td>100</td>\n",
       "      <td>65</td>\n",
       "      <td>65</td>\n",
       "      <td>5</td>\n",
       "      <td>False</td>\n",
       "      <td>52</td>\n",
       "      <td>6.500</td>\n",
       "      <td>1</td>\n",
       "    </tr>\n",
       "    <tr>\n",
       "      <th>444</th>\n",
       "      <td>513</td>\n",
       "      <td>Pansear</td>\n",
       "      <td>Fire</td>\n",
       "      <td>NaN</td>\n",
       "      <td>316</td>\n",
       "      <td>50</td>\n",
       "      <td>53</td>\n",
       "      <td>48</td>\n",
       "      <td>53</td>\n",
       "      <td>48</td>\n",
       "      <td>64</td>\n",
       "      <td>5</td>\n",
       "      <td>False</td>\n",
       "      <td>52</td>\n",
       "      <td>6.500</td>\n",
       "      <td>1</td>\n",
       "    </tr>\n",
       "    <tr>\n",
       "      <th>445</th>\n",
       "      <td>514</td>\n",
       "      <td>Simisear</td>\n",
       "      <td>Fire</td>\n",
       "      <td>NaN</td>\n",
       "      <td>498</td>\n",
       "      <td>75</td>\n",
       "      <td>98</td>\n",
       "      <td>63</td>\n",
       "      <td>98</td>\n",
       "      <td>63</td>\n",
       "      <td>101</td>\n",
       "      <td>5</td>\n",
       "      <td>False</td>\n",
       "      <td>52</td>\n",
       "      <td>6.500</td>\n",
       "      <td>1</td>\n",
       "    </tr>\n",
       "    <tr>\n",
       "      <th>446</th>\n",
       "      <td>554</td>\n",
       "      <td>Darumaka</td>\n",
       "      <td>Fire</td>\n",
       "      <td>NaN</td>\n",
       "      <td>315</td>\n",
       "      <td>70</td>\n",
       "      <td>90</td>\n",
       "      <td>45</td>\n",
       "      <td>15</td>\n",
       "      <td>45</td>\n",
       "      <td>50</td>\n",
       "      <td>5</td>\n",
       "      <td>False</td>\n",
       "      <td>52</td>\n",
       "      <td>6.500</td>\n",
       "      <td>1</td>\n",
       "    </tr>\n",
       "    <tr>\n",
       "      <th>447</th>\n",
       "      <td>555</td>\n",
       "      <td>DarmanitanStandard Mode</td>\n",
       "      <td>Fire</td>\n",
       "      <td>NaN</td>\n",
       "      <td>480</td>\n",
       "      <td>105</td>\n",
       "      <td>140</td>\n",
       "      <td>55</td>\n",
       "      <td>30</td>\n",
       "      <td>55</td>\n",
       "      <td>95</td>\n",
       "      <td>5</td>\n",
       "      <td>False</td>\n",
       "      <td>52</td>\n",
       "      <td>6.500</td>\n",
       "      <td>1</td>\n",
       "    </tr>\n",
       "    <tr>\n",
       "      <th>448</th>\n",
       "      <td>555</td>\n",
       "      <td>DarmanitanZen Mode</td>\n",
       "      <td>Fire</td>\n",
       "      <td>Psychic</td>\n",
       "      <td>540</td>\n",
       "      <td>105</td>\n",
       "      <td>30</td>\n",
       "      <td>105</td>\n",
       "      <td>140</td>\n",
       "      <td>105</td>\n",
       "      <td>55</td>\n",
       "      <td>5</td>\n",
       "      <td>False</td>\n",
       "      <td>52</td>\n",
       "      <td>6.500</td>\n",
       "      <td>1</td>\n",
       "    </tr>\n",
       "    <tr>\n",
       "      <th>449</th>\n",
       "      <td>631</td>\n",
       "      <td>Heatmor</td>\n",
       "      <td>Fire</td>\n",
       "      <td>NaN</td>\n",
       "      <td>484</td>\n",
       "      <td>85</td>\n",
       "      <td>97</td>\n",
       "      <td>66</td>\n",
       "      <td>105</td>\n",
       "      <td>66</td>\n",
       "      <td>65</td>\n",
       "      <td>5</td>\n",
       "      <td>False</td>\n",
       "      <td>52</td>\n",
       "      <td>6.500</td>\n",
       "      <td>1</td>\n",
       "    </tr>\n",
       "    <tr>\n",
       "      <th>450</th>\n",
       "      <td>653</td>\n",
       "      <td>Fennekin</td>\n",
       "      <td>Fire</td>\n",
       "      <td>NaN</td>\n",
       "      <td>307</td>\n",
       "      <td>40</td>\n",
       "      <td>45</td>\n",
       "      <td>40</td>\n",
       "      <td>62</td>\n",
       "      <td>60</td>\n",
       "      <td>60</td>\n",
       "      <td>6</td>\n",
       "      <td>False</td>\n",
       "      <td>52</td>\n",
       "      <td>6.500</td>\n",
       "      <td>1</td>\n",
       "    </tr>\n",
       "    <tr>\n",
       "      <th>451</th>\n",
       "      <td>654</td>\n",
       "      <td>Braixen</td>\n",
       "      <td>Fire</td>\n",
       "      <td>NaN</td>\n",
       "      <td>409</td>\n",
       "      <td>59</td>\n",
       "      <td>59</td>\n",
       "      <td>58</td>\n",
       "      <td>90</td>\n",
       "      <td>70</td>\n",
       "      <td>73</td>\n",
       "      <td>6</td>\n",
       "      <td>False</td>\n",
       "      <td>52</td>\n",
       "      <td>6.500</td>\n",
       "      <td>1</td>\n",
       "    </tr>\n",
       "    <tr>\n",
       "      <th>452</th>\n",
       "      <td>655</td>\n",
       "      <td>Delphox</td>\n",
       "      <td>Fire</td>\n",
       "      <td>Psychic</td>\n",
       "      <td>534</td>\n",
       "      <td>75</td>\n",
       "      <td>69</td>\n",
       "      <td>72</td>\n",
       "      <td>114</td>\n",
       "      <td>100</td>\n",
       "      <td>104</td>\n",
       "      <td>6</td>\n",
       "      <td>False</td>\n",
       "      <td>52</td>\n",
       "      <td>6.500</td>\n",
       "      <td>1</td>\n",
       "    </tr>\n",
       "    <tr>\n",
       "      <th>453</th>\n",
       "      <td>662</td>\n",
       "      <td>Fletchinder</td>\n",
       "      <td>Fire</td>\n",
       "      <td>Flying</td>\n",
       "      <td>382</td>\n",
       "      <td>62</td>\n",
       "      <td>73</td>\n",
       "      <td>55</td>\n",
       "      <td>56</td>\n",
       "      <td>52</td>\n",
       "      <td>84</td>\n",
       "      <td>6</td>\n",
       "      <td>False</td>\n",
       "      <td>52</td>\n",
       "      <td>6.500</td>\n",
       "      <td>1</td>\n",
       "    </tr>\n",
       "    <tr>\n",
       "      <th>454</th>\n",
       "      <td>663</td>\n",
       "      <td>Talonflame</td>\n",
       "      <td>Fire</td>\n",
       "      <td>Flying</td>\n",
       "      <td>499</td>\n",
       "      <td>78</td>\n",
       "      <td>81</td>\n",
       "      <td>71</td>\n",
       "      <td>74</td>\n",
       "      <td>69</td>\n",
       "      <td>126</td>\n",
       "      <td>6</td>\n",
       "      <td>False</td>\n",
       "      <td>52</td>\n",
       "      <td>6.500</td>\n",
       "      <td>1</td>\n",
       "    </tr>\n",
       "    <tr>\n",
       "      <th>455</th>\n",
       "      <td>667</td>\n",
       "      <td>Litleo</td>\n",
       "      <td>Fire</td>\n",
       "      <td>Normal</td>\n",
       "      <td>369</td>\n",
       "      <td>62</td>\n",
       "      <td>50</td>\n",
       "      <td>58</td>\n",
       "      <td>73</td>\n",
       "      <td>54</td>\n",
       "      <td>72</td>\n",
       "      <td>6</td>\n",
       "      <td>False</td>\n",
       "      <td>52</td>\n",
       "      <td>6.500</td>\n",
       "      <td>1</td>\n",
       "    </tr>\n",
       "    <tr>\n",
       "      <th>456</th>\n",
       "      <td>668</td>\n",
       "      <td>Pyroar</td>\n",
       "      <td>Fire</td>\n",
       "      <td>Normal</td>\n",
       "      <td>507</td>\n",
       "      <td>86</td>\n",
       "      <td>68</td>\n",
       "      <td>72</td>\n",
       "      <td>109</td>\n",
       "      <td>66</td>\n",
       "      <td>106</td>\n",
       "      <td>6</td>\n",
       "      <td>False</td>\n",
       "      <td>52</td>\n",
       "      <td>6.500</td>\n",
       "      <td>1</td>\n",
       "    </tr>\n",
       "    <tr>\n",
       "      <th>457</th>\n",
       "      <td>721</td>\n",
       "      <td>Volcanion</td>\n",
       "      <td>Fire</td>\n",
       "      <td>Water</td>\n",
       "      <td>600</td>\n",
       "      <td>80</td>\n",
       "      <td>110</td>\n",
       "      <td>120</td>\n",
       "      <td>130</td>\n",
       "      <td>90</td>\n",
       "      <td>70</td>\n",
       "      <td>6</td>\n",
       "      <td>True</td>\n",
       "      <td>52</td>\n",
       "      <td>6.500</td>\n",
       "      <td>1</td>\n",
       "    </tr>\n",
       "    <tr>\n",
       "      <th>458</th>\n",
       "      <td>25</td>\n",
       "      <td>Pikachu</td>\n",
       "      <td>Electric</td>\n",
       "      <td>NaN</td>\n",
       "      <td>320</td>\n",
       "      <td>35</td>\n",
       "      <td>55</td>\n",
       "      <td>40</td>\n",
       "      <td>50</td>\n",
       "      <td>50</td>\n",
       "      <td>90</td>\n",
       "      <td>1</td>\n",
       "      <td>False</td>\n",
       "      <td>44</td>\n",
       "      <td>5.500</td>\n",
       "      <td>0</td>\n",
       "    </tr>\n",
       "    <tr>\n",
       "      <th>459</th>\n",
       "      <td>26</td>\n",
       "      <td>Raichu</td>\n",
       "      <td>Electric</td>\n",
       "      <td>NaN</td>\n",
       "      <td>485</td>\n",
       "      <td>60</td>\n",
       "      <td>90</td>\n",
       "      <td>55</td>\n",
       "      <td>90</td>\n",
       "      <td>80</td>\n",
       "      <td>110</td>\n",
       "      <td>1</td>\n",
       "      <td>False</td>\n",
       "      <td>44</td>\n",
       "      <td>5.500</td>\n",
       "      <td>0</td>\n",
       "    </tr>\n",
       "  </tbody>\n",
       "</table>\n",
       "</div>"
      ],
      "text/plain": [
       "       #                     Name_x    Type 1    Type 2  Total   HP  Attack  \\\n",
       "404  720        HoopaHoopa Confined   Psychic     Ghost    600   80     110   \n",
       "405  720         HoopaHoopa Unbound   Psychic      Dark    680   80     160   \n",
       "406    4                 Charmander      Fire       NaN    309   39      52   \n",
       "407    5                 Charmeleon      Fire       NaN    405   58      64   \n",
       "408    6                  Charizard      Fire    Flying    534   78      84   \n",
       "409    6  CharizardMega Charizard X      Fire    Dragon    634   78     130   \n",
       "410    6  CharizardMega Charizard Y      Fire    Flying    634   78     104   \n",
       "411   37                     Vulpix      Fire       NaN    299   38      41   \n",
       "412   38                  Ninetales      Fire       NaN    505   73      76   \n",
       "413   58                  Growlithe      Fire       NaN    350   55      70   \n",
       "414   59                   Arcanine      Fire       NaN    555   90     110   \n",
       "415   77                     Ponyta      Fire       NaN    410   50      85   \n",
       "416   78                   Rapidash      Fire       NaN    500   65     100   \n",
       "417  126                     Magmar      Fire       NaN    495   65      95   \n",
       "418  136                    Flareon      Fire       NaN    525   65     130   \n",
       "419  146                    Moltres      Fire    Flying    580   90     100   \n",
       "420  155                  Cyndaquil      Fire       NaN    309   39      52   \n",
       "421  156                    Quilava      Fire       NaN    405   58      64   \n",
       "422  157                 Typhlosion      Fire       NaN    534   78      84   \n",
       "423  218                     Slugma      Fire       NaN    250   40      40   \n",
       "424  219                   Magcargo      Fire      Rock    410   50      50   \n",
       "425  240                      Magby      Fire       NaN    365   45      75   \n",
       "426  244                      Entei      Fire       NaN    580  115     115   \n",
       "427  250                      Ho-oh      Fire    Flying    680  106     130   \n",
       "428  255                    Torchic      Fire       NaN    310   45      60   \n",
       "429  256                  Combusken      Fire  Fighting    405   60      85   \n",
       "430  257                   Blaziken      Fire  Fighting    530   80     120   \n",
       "431  257      BlazikenMega Blaziken      Fire  Fighting    630   80     160   \n",
       "432  322                      Numel      Fire    Ground    305   60      60   \n",
       "433  323                   Camerupt      Fire    Ground    460   70     100   \n",
       "434  323      CameruptMega Camerupt      Fire    Ground    560   70     120   \n",
       "435  324                    Torkoal      Fire       NaN    470   70      85   \n",
       "436  390                   Chimchar      Fire       NaN    309   44      58   \n",
       "437  391                   Monferno      Fire  Fighting    405   64      78   \n",
       "438  392                  Infernape      Fire  Fighting    534   76     104   \n",
       "439  467                  Magmortar      Fire       NaN    540   75      95   \n",
       "440  485                    Heatran      Fire     Steel    600   91      90   \n",
       "441  498                      Tepig      Fire       NaN    308   65      63   \n",
       "442  499                    Pignite      Fire  Fighting    418   90      93   \n",
       "443  500                     Emboar      Fire  Fighting    528  110     123   \n",
       "444  513                    Pansear      Fire       NaN    316   50      53   \n",
       "445  514                   Simisear      Fire       NaN    498   75      98   \n",
       "446  554                   Darumaka      Fire       NaN    315   70      90   \n",
       "447  555    DarmanitanStandard Mode      Fire       NaN    480  105     140   \n",
       "448  555         DarmanitanZen Mode      Fire   Psychic    540  105      30   \n",
       "449  631                    Heatmor      Fire       NaN    484   85      97   \n",
       "450  653                   Fennekin      Fire       NaN    307   40      45   \n",
       "451  654                    Braixen      Fire       NaN    409   59      59   \n",
       "452  655                    Delphox      Fire   Psychic    534   75      69   \n",
       "453  662                Fletchinder      Fire    Flying    382   62      73   \n",
       "454  663                 Talonflame      Fire    Flying    499   78      81   \n",
       "455  667                     Litleo      Fire    Normal    369   62      50   \n",
       "456  668                     Pyroar      Fire    Normal    507   86      68   \n",
       "457  721                  Volcanion      Fire     Water    600   80     110   \n",
       "458   25                    Pikachu  Electric       NaN    320   35      55   \n",
       "459   26                     Raichu  Electric       NaN    485   60      90   \n",
       "\n",
       "     Defense  Sp. Atk  Sp. Def  Speed  Generation  Legendary  Name_y  \\\n",
       "404       60      150      130     70           6       True      57   \n",
       "405       60      170      130     80           6       True      57   \n",
       "406       43       60       50     65           1      False      52   \n",
       "407       58       80       65     80           1      False      52   \n",
       "408       78      109       85    100           1      False      52   \n",
       "409      111      130       85    100           1      False      52   \n",
       "410       78      159      115    100           1      False      52   \n",
       "411       40       50       65     65           1      False      52   \n",
       "412       75       81      100    100           1      False      52   \n",
       "413       45       70       50     60           1      False      52   \n",
       "414       80      100       80     95           1      False      52   \n",
       "415       55       65       65     90           1      False      52   \n",
       "416       70       80       80    105           1      False      52   \n",
       "417       57      100       85     93           1      False      52   \n",
       "418       60       95      110     65           1      False      52   \n",
       "419       90      125       85     90           1       True      52   \n",
       "420       43       60       50     65           2      False      52   \n",
       "421       58       80       65     80           2      False      52   \n",
       "422       78      109       85    100           2      False      52   \n",
       "423       40       70       40     20           2      False      52   \n",
       "424      120       80       80     30           2      False      52   \n",
       "425       37       70       55     83           2      False      52   \n",
       "426       85       90       75    100           2       True      52   \n",
       "427       90      110      154     90           2       True      52   \n",
       "428       40       70       50     45           3      False      52   \n",
       "429       60       85       60     55           3      False      52   \n",
       "430       70      110       70     80           3      False      52   \n",
       "431       80      130       80    100           3      False      52   \n",
       "432       40       65       45     35           3      False      52   \n",
       "433       70      105       75     40           3      False      52   \n",
       "434      100      145      105     20           3      False      52   \n",
       "435      140       85       70     20           3      False      52   \n",
       "436       44       58       44     61           4      False      52   \n",
       "437       52       78       52     81           4      False      52   \n",
       "438       71      104       71    108           4      False      52   \n",
       "439       67      125       95     83           4      False      52   \n",
       "440      106      130      106     77           4       True      52   \n",
       "441       45       45       45     45           5      False      52   \n",
       "442       55       70       55     55           5      False      52   \n",
       "443       65      100       65     65           5      False      52   \n",
       "444       48       53       48     64           5      False      52   \n",
       "445       63       98       63    101           5      False      52   \n",
       "446       45       15       45     50           5      False      52   \n",
       "447       55       30       55     95           5      False      52   \n",
       "448      105      140      105     55           5      False      52   \n",
       "449       66      105       66     65           5      False      52   \n",
       "450       40       62       60     60           6      False      52   \n",
       "451       58       90       70     73           6      False      52   \n",
       "452       72      114      100    104           6      False      52   \n",
       "453       55       56       52     84           6      False      52   \n",
       "454       71       74       69    126           6      False      52   \n",
       "455       58       73       54     72           6      False      52   \n",
       "456       72      109       66    106           6      False      52   \n",
       "457      120      130       90     70           6       True      52   \n",
       "458       40       50       50     90           1      False      44   \n",
       "459       55       90       80    110           1      False      44   \n",
       "\n",
       "     Name-Percentage  Results  \n",
       "404            7.125        0  \n",
       "405            7.125        0  \n",
       "406            6.500        1  \n",
       "407            6.500        1  \n",
       "408            6.500        1  \n",
       "409            6.500        1  \n",
       "410            6.500        1  \n",
       "411            6.500        1  \n",
       "412            6.500        1  \n",
       "413            6.500        1  \n",
       "414            6.500        1  \n",
       "415            6.500        1  \n",
       "416            6.500        1  \n",
       "417            6.500        1  \n",
       "418            6.500        1  \n",
       "419            6.500        1  \n",
       "420            6.500        1  \n",
       "421            6.500        1  \n",
       "422            6.500        1  \n",
       "423            6.500        1  \n",
       "424            6.500        1  \n",
       "425            6.500        1  \n",
       "426            6.500        1  \n",
       "427            6.500        1  \n",
       "428            6.500        1  \n",
       "429            6.500        1  \n",
       "430            6.500        1  \n",
       "431            6.500        1  \n",
       "432            6.500        1  \n",
       "433            6.500        1  \n",
       "434            6.500        1  \n",
       "435            6.500        1  \n",
       "436            6.500        1  \n",
       "437            6.500        1  \n",
       "438            6.500        1  \n",
       "439            6.500        1  \n",
       "440            6.500        1  \n",
       "441            6.500        1  \n",
       "442            6.500        1  \n",
       "443            6.500        1  \n",
       "444            6.500        1  \n",
       "445            6.500        1  \n",
       "446            6.500        1  \n",
       "447            6.500        1  \n",
       "448            6.500        1  \n",
       "449            6.500        1  \n",
       "450            6.500        1  \n",
       "451            6.500        1  \n",
       "452            6.500        1  \n",
       "453            6.500        1  \n",
       "454            6.500        1  \n",
       "455            6.500        1  \n",
       "456            6.500        1  \n",
       "457            6.500        1  \n",
       "458            5.500        0  \n",
       "459            5.500        0  "
      ]
     },
     "execution_count": 20,
     "metadata": {},
     "output_type": "execute_result"
    }
   ],
   "source": [
    "df5[404:460]"
   ]
  },
  {
   "cell_type": "code",
   "execution_count": 250,
   "id": "80e5a19c-9194-4909-845b-a6df0794727e",
   "metadata": {},
   "outputs": [
    {
     "data": {
      "application/vnd.plotly.v1+json": {
       "config": {
        "plotlyServerURL": "https://plot.ly"
       },
       "data": [
        {
         "alignmentgroup": "True",
         "bingroup": "x",
         "hovertemplate": "Type 1=%{x}<br>count=%{y}<extra></extra>",
         "legendgroup": "Water",
         "marker": {
          "color": "#636efa",
          "pattern": {
           "shape": ""
          }
         },
         "name": "Water",
         "offsetgroup": "Water",
         "orientation": "v",
         "showlegend": true,
         "type": "histogram",
         "x": [
          "Water",
          "Water",
          "Water",
          "Water",
          "Water",
          "Water",
          "Water",
          "Water",
          "Water",
          "Water",
          "Water",
          "Water",
          "Water",
          "Water",
          "Water",
          "Water",
          "Water",
          "Water",
          "Water",
          "Water",
          "Water",
          "Water",
          "Water",
          "Water",
          "Water",
          "Water",
          "Water",
          "Water",
          "Water",
          "Water",
          "Water",
          "Water",
          "Water",
          "Water",
          "Water",
          "Water",
          "Water",
          "Water",
          "Water",
          "Water",
          "Water",
          "Water",
          "Water",
          "Water",
          "Water",
          "Water",
          "Water",
          "Water",
          "Water",
          "Water",
          "Water",
          "Water",
          "Water",
          "Water",
          "Water",
          "Water",
          "Water",
          "Water",
          "Water",
          "Water",
          "Water",
          "Water",
          "Water",
          "Water",
          "Water",
          "Water",
          "Water",
          "Water",
          "Water",
          "Water",
          "Water",
          "Water",
          "Water",
          "Water",
          "Water",
          "Water",
          "Water",
          "Water",
          "Water",
          "Water",
          "Water",
          "Water",
          "Water",
          "Water",
          "Water",
          "Water",
          "Water",
          "Water",
          "Water",
          "Water",
          "Water",
          "Water",
          "Water",
          "Water",
          "Water",
          "Water",
          "Water",
          "Water",
          "Water",
          "Water",
          "Water",
          "Water",
          "Water",
          "Water",
          "Water",
          "Water",
          "Water",
          "Water",
          "Water",
          "Water",
          "Water",
          "Water"
         ],
         "xaxis": "x",
         "yaxis": "y"
        },
        {
         "alignmentgroup": "True",
         "bingroup": "x",
         "hovertemplate": "Type 1=%{x}<br>count=%{y}<extra></extra>",
         "legendgroup": "Normal",
         "marker": {
          "color": "#EF553B",
          "pattern": {
           "shape": ""
          }
         },
         "name": "Normal",
         "offsetgroup": "Normal",
         "orientation": "v",
         "showlegend": true,
         "type": "histogram",
         "x": [
          "Normal",
          "Normal",
          "Normal",
          "Normal",
          "Normal",
          "Normal",
          "Normal",
          "Normal",
          "Normal",
          "Normal",
          "Normal",
          "Normal",
          "Normal",
          "Normal",
          "Normal",
          "Normal",
          "Normal",
          "Normal",
          "Normal",
          "Normal",
          "Normal",
          "Normal",
          "Normal",
          "Normal",
          "Normal",
          "Normal",
          "Normal",
          "Normal",
          "Normal",
          "Normal",
          "Normal",
          "Normal",
          "Normal",
          "Normal",
          "Normal",
          "Normal",
          "Normal",
          "Normal",
          "Normal",
          "Normal",
          "Normal",
          "Normal",
          "Normal",
          "Normal",
          "Normal",
          "Normal",
          "Normal",
          "Normal",
          "Normal",
          "Normal",
          "Normal",
          "Normal",
          "Normal",
          "Normal",
          "Normal",
          "Normal",
          "Normal",
          "Normal",
          "Normal",
          "Normal",
          "Normal",
          "Normal",
          "Normal",
          "Normal",
          "Normal",
          "Normal",
          "Normal",
          "Normal",
          "Normal",
          "Normal",
          "Normal",
          "Normal",
          "Normal",
          "Normal",
          "Normal",
          "Normal",
          "Normal",
          "Normal",
          "Normal",
          "Normal",
          "Normal",
          "Normal",
          "Normal",
          "Normal",
          "Normal",
          "Normal",
          "Normal",
          "Normal",
          "Normal",
          "Normal",
          "Normal",
          "Normal",
          "Normal",
          "Normal",
          "Normal",
          "Normal",
          "Normal",
          "Normal"
         ],
         "xaxis": "x",
         "yaxis": "y"
        },
        {
         "alignmentgroup": "True",
         "bingroup": "x",
         "hovertemplate": "Type 1=%{x}<br>count=%{y}<extra></extra>",
         "legendgroup": "Grass",
         "marker": {
          "color": "#00cc96",
          "pattern": {
           "shape": ""
          }
         },
         "name": "Grass",
         "offsetgroup": "Grass",
         "orientation": "v",
         "showlegend": true,
         "type": "histogram",
         "x": [
          "Grass",
          "Grass",
          "Grass",
          "Grass",
          "Grass",
          "Grass",
          "Grass",
          "Grass",
          "Grass",
          "Grass",
          "Grass",
          "Grass",
          "Grass",
          "Grass",
          "Grass",
          "Grass",
          "Grass",
          "Grass",
          "Grass",
          "Grass",
          "Grass",
          "Grass",
          "Grass",
          "Grass",
          "Grass",
          "Grass",
          "Grass",
          "Grass",
          "Grass",
          "Grass",
          "Grass",
          "Grass",
          "Grass",
          "Grass",
          "Grass",
          "Grass",
          "Grass",
          "Grass",
          "Grass",
          "Grass",
          "Grass",
          "Grass",
          "Grass",
          "Grass",
          "Grass",
          "Grass",
          "Grass",
          "Grass",
          "Grass",
          "Grass",
          "Grass",
          "Grass",
          "Grass",
          "Grass",
          "Grass",
          "Grass",
          "Grass",
          "Grass",
          "Grass",
          "Grass",
          "Grass",
          "Grass",
          "Grass",
          "Grass",
          "Grass",
          "Grass",
          "Grass",
          "Grass",
          "Grass",
          "Grass"
         ],
         "xaxis": "x",
         "yaxis": "y"
        },
        {
         "alignmentgroup": "True",
         "bingroup": "x",
         "hovertemplate": "Type 1=%{x}<br>count=%{y}<extra></extra>",
         "legendgroup": "Bug",
         "marker": {
          "color": "#ab63fa",
          "pattern": {
           "shape": ""
          }
         },
         "name": "Bug",
         "offsetgroup": "Bug",
         "orientation": "v",
         "showlegend": true,
         "type": "histogram",
         "x": [
          "Bug",
          "Bug",
          "Bug",
          "Bug",
          "Bug",
          "Bug",
          "Bug",
          "Bug",
          "Bug",
          "Bug",
          "Bug",
          "Bug",
          "Bug",
          "Bug",
          "Bug",
          "Bug",
          "Bug",
          "Bug",
          "Bug",
          "Bug",
          "Bug",
          "Bug",
          "Bug",
          "Bug",
          "Bug",
          "Bug",
          "Bug",
          "Bug",
          "Bug",
          "Bug",
          "Bug",
          "Bug",
          "Bug",
          "Bug",
          "Bug",
          "Bug",
          "Bug",
          "Bug",
          "Bug",
          "Bug",
          "Bug",
          "Bug",
          "Bug",
          "Bug",
          "Bug",
          "Bug",
          "Bug",
          "Bug",
          "Bug",
          "Bug",
          "Bug",
          "Bug",
          "Bug",
          "Bug",
          "Bug",
          "Bug",
          "Bug",
          "Bug",
          "Bug",
          "Bug",
          "Bug",
          "Bug",
          "Bug",
          "Bug",
          "Bug",
          "Bug",
          "Bug",
          "Bug",
          "Bug"
         ],
         "xaxis": "x",
         "yaxis": "y"
        },
        {
         "alignmentgroup": "True",
         "bingroup": "x",
         "hovertemplate": "Type 1=%{x}<br>count=%{y}<extra></extra>",
         "legendgroup": "Psychic",
         "marker": {
          "color": "#FFA15A",
          "pattern": {
           "shape": ""
          }
         },
         "name": "Psychic",
         "offsetgroup": "Psychic",
         "orientation": "v",
         "showlegend": true,
         "type": "histogram",
         "x": [
          "Psychic",
          "Psychic",
          "Psychic",
          "Psychic",
          "Psychic",
          "Psychic",
          "Psychic",
          "Psychic",
          "Psychic",
          "Psychic",
          "Psychic",
          "Psychic",
          "Psychic",
          "Psychic",
          "Psychic",
          "Psychic",
          "Psychic",
          "Psychic",
          "Psychic",
          "Psychic",
          "Psychic",
          "Psychic",
          "Psychic",
          "Psychic",
          "Psychic",
          "Psychic",
          "Psychic",
          "Psychic",
          "Psychic",
          "Psychic",
          "Psychic",
          "Psychic",
          "Psychic",
          "Psychic",
          "Psychic",
          "Psychic",
          "Psychic",
          "Psychic",
          "Psychic",
          "Psychic",
          "Psychic",
          "Psychic",
          "Psychic",
          "Psychic",
          "Psychic",
          "Psychic",
          "Psychic",
          "Psychic",
          "Psychic",
          "Psychic",
          "Psychic",
          "Psychic",
          "Psychic",
          "Psychic",
          "Psychic",
          "Psychic",
          "Psychic"
         ],
         "xaxis": "x",
         "yaxis": "y"
        },
        {
         "alignmentgroup": "True",
         "bingroup": "x",
         "hovertemplate": "Type 1=%{x}<br>count=%{y}<extra></extra>",
         "legendgroup": "Fire",
         "marker": {
          "color": "#19d3f3",
          "pattern": {
           "shape": ""
          }
         },
         "name": "Fire",
         "offsetgroup": "Fire",
         "orientation": "v",
         "showlegend": true,
         "type": "histogram",
         "x": [
          "Fire",
          "Fire",
          "Fire",
          "Fire",
          "Fire",
          "Fire",
          "Fire",
          "Fire",
          "Fire",
          "Fire",
          "Fire",
          "Fire",
          "Fire",
          "Fire",
          "Fire",
          "Fire",
          "Fire",
          "Fire",
          "Fire",
          "Fire",
          "Fire",
          "Fire",
          "Fire",
          "Fire",
          "Fire",
          "Fire",
          "Fire",
          "Fire",
          "Fire",
          "Fire",
          "Fire",
          "Fire",
          "Fire",
          "Fire",
          "Fire",
          "Fire",
          "Fire",
          "Fire",
          "Fire",
          "Fire",
          "Fire",
          "Fire",
          "Fire",
          "Fire",
          "Fire",
          "Fire",
          "Fire",
          "Fire",
          "Fire",
          "Fire",
          "Fire",
          "Fire"
         ],
         "xaxis": "x",
         "yaxis": "y"
        },
        {
         "alignmentgroup": "True",
         "bingroup": "x",
         "hovertemplate": "Type 1=%{x}<br>count=%{y}<extra></extra>",
         "legendgroup": "Electric",
         "marker": {
          "color": "#FF6692",
          "pattern": {
           "shape": ""
          }
         },
         "name": "Electric",
         "offsetgroup": "Electric",
         "orientation": "v",
         "showlegend": true,
         "type": "histogram",
         "x": [
          "Electric",
          "Electric",
          "Electric",
          "Electric",
          "Electric",
          "Electric",
          "Electric",
          "Electric",
          "Electric",
          "Electric",
          "Electric",
          "Electric",
          "Electric",
          "Electric",
          "Electric",
          "Electric",
          "Electric",
          "Electric",
          "Electric",
          "Electric",
          "Electric",
          "Electric",
          "Electric",
          "Electric",
          "Electric",
          "Electric",
          "Electric",
          "Electric",
          "Electric",
          "Electric",
          "Electric",
          "Electric",
          "Electric",
          "Electric",
          "Electric",
          "Electric",
          "Electric",
          "Electric",
          "Electric",
          "Electric",
          "Electric",
          "Electric",
          "Electric",
          "Electric"
         ],
         "xaxis": "x",
         "yaxis": "y"
        },
        {
         "alignmentgroup": "True",
         "bingroup": "x",
         "hovertemplate": "Type 1=%{x}<br>count=%{y}<extra></extra>",
         "legendgroup": "Rock",
         "marker": {
          "color": "#B6E880",
          "pattern": {
           "shape": ""
          }
         },
         "name": "Rock",
         "offsetgroup": "Rock",
         "orientation": "v",
         "showlegend": true,
         "type": "histogram",
         "x": [
          "Rock",
          "Rock",
          "Rock",
          "Rock",
          "Rock",
          "Rock",
          "Rock",
          "Rock",
          "Rock",
          "Rock",
          "Rock",
          "Rock",
          "Rock",
          "Rock",
          "Rock",
          "Rock",
          "Rock",
          "Rock",
          "Rock",
          "Rock",
          "Rock",
          "Rock",
          "Rock",
          "Rock",
          "Rock",
          "Rock",
          "Rock",
          "Rock",
          "Rock",
          "Rock",
          "Rock",
          "Rock",
          "Rock",
          "Rock",
          "Rock",
          "Rock",
          "Rock",
          "Rock",
          "Rock",
          "Rock",
          "Rock",
          "Rock",
          "Rock",
          "Rock"
         ],
         "xaxis": "x",
         "yaxis": "y"
        },
        {
         "alignmentgroup": "True",
         "bingroup": "x",
         "hovertemplate": "Type 1=%{x}<br>count=%{y}<extra></extra>",
         "legendgroup": "Ghost",
         "marker": {
          "color": "#FF97FF",
          "pattern": {
           "shape": ""
          }
         },
         "name": "Ghost",
         "offsetgroup": "Ghost",
         "orientation": "v",
         "showlegend": true,
         "type": "histogram",
         "x": [
          "Ghost",
          "Ghost",
          "Ghost",
          "Ghost",
          "Ghost",
          "Ghost",
          "Ghost",
          "Ghost",
          "Ghost",
          "Ghost",
          "Ghost",
          "Ghost",
          "Ghost",
          "Ghost",
          "Ghost",
          "Ghost",
          "Ghost",
          "Ghost",
          "Ghost",
          "Ghost",
          "Ghost",
          "Ghost",
          "Ghost",
          "Ghost",
          "Ghost",
          "Ghost",
          "Ghost",
          "Ghost",
          "Ghost",
          "Ghost",
          "Ghost",
          "Ghost"
         ],
         "xaxis": "x",
         "yaxis": "y"
        },
        {
         "alignmentgroup": "True",
         "bingroup": "x",
         "hovertemplate": "Type 1=%{x}<br>count=%{y}<extra></extra>",
         "legendgroup": "Ground",
         "marker": {
          "color": "#FECB52",
          "pattern": {
           "shape": ""
          }
         },
         "name": "Ground",
         "offsetgroup": "Ground",
         "orientation": "v",
         "showlegend": true,
         "type": "histogram",
         "x": [
          "Ground",
          "Ground",
          "Ground",
          "Ground",
          "Ground",
          "Ground",
          "Ground",
          "Ground",
          "Ground",
          "Ground",
          "Ground",
          "Ground",
          "Ground",
          "Ground",
          "Ground",
          "Ground",
          "Ground",
          "Ground",
          "Ground",
          "Ground",
          "Ground",
          "Ground",
          "Ground",
          "Ground",
          "Ground",
          "Ground",
          "Ground",
          "Ground",
          "Ground",
          "Ground",
          "Ground",
          "Ground"
         ],
         "xaxis": "x",
         "yaxis": "y"
        },
        {
         "alignmentgroup": "True",
         "bingroup": "x",
         "hovertemplate": "Type 1=%{x}<br>count=%{y}<extra></extra>",
         "legendgroup": "Dragon",
         "marker": {
          "color": "#636efa",
          "pattern": {
           "shape": ""
          }
         },
         "name": "Dragon",
         "offsetgroup": "Dragon",
         "orientation": "v",
         "showlegend": true,
         "type": "histogram",
         "x": [
          "Dragon",
          "Dragon",
          "Dragon",
          "Dragon",
          "Dragon",
          "Dragon",
          "Dragon",
          "Dragon",
          "Dragon",
          "Dragon",
          "Dragon",
          "Dragon",
          "Dragon",
          "Dragon",
          "Dragon",
          "Dragon",
          "Dragon",
          "Dragon",
          "Dragon",
          "Dragon",
          "Dragon",
          "Dragon",
          "Dragon",
          "Dragon",
          "Dragon",
          "Dragon",
          "Dragon",
          "Dragon",
          "Dragon",
          "Dragon",
          "Dragon",
          "Dragon"
         ],
         "xaxis": "x",
         "yaxis": "y"
        },
        {
         "alignmentgroup": "True",
         "bingroup": "x",
         "hovertemplate": "Type 1=%{x}<br>count=%{y}<extra></extra>",
         "legendgroup": "Dark",
         "marker": {
          "color": "#EF553B",
          "pattern": {
           "shape": ""
          }
         },
         "name": "Dark",
         "offsetgroup": "Dark",
         "orientation": "v",
         "showlegend": true,
         "type": "histogram",
         "x": [
          "Dark",
          "Dark",
          "Dark",
          "Dark",
          "Dark",
          "Dark",
          "Dark",
          "Dark",
          "Dark",
          "Dark",
          "Dark",
          "Dark",
          "Dark",
          "Dark",
          "Dark",
          "Dark",
          "Dark",
          "Dark",
          "Dark",
          "Dark",
          "Dark",
          "Dark",
          "Dark",
          "Dark",
          "Dark",
          "Dark",
          "Dark",
          "Dark",
          "Dark",
          "Dark",
          "Dark"
         ],
         "xaxis": "x",
         "yaxis": "y"
        },
        {
         "alignmentgroup": "True",
         "bingroup": "x",
         "hovertemplate": "Type 1=%{x}<br>count=%{y}<extra></extra>",
         "legendgroup": "Poison",
         "marker": {
          "color": "#00cc96",
          "pattern": {
           "shape": ""
          }
         },
         "name": "Poison",
         "offsetgroup": "Poison",
         "orientation": "v",
         "showlegend": true,
         "type": "histogram",
         "x": [
          "Poison",
          "Poison",
          "Poison",
          "Poison",
          "Poison",
          "Poison",
          "Poison",
          "Poison",
          "Poison",
          "Poison",
          "Poison",
          "Poison",
          "Poison",
          "Poison",
          "Poison",
          "Poison",
          "Poison",
          "Poison",
          "Poison",
          "Poison",
          "Poison",
          "Poison",
          "Poison",
          "Poison",
          "Poison",
          "Poison",
          "Poison",
          "Poison"
         ],
         "xaxis": "x",
         "yaxis": "y"
        },
        {
         "alignmentgroup": "True",
         "bingroup": "x",
         "hovertemplate": "Type 1=%{x}<br>count=%{y}<extra></extra>",
         "legendgroup": "Fighting",
         "marker": {
          "color": "#ab63fa",
          "pattern": {
           "shape": ""
          }
         },
         "name": "Fighting",
         "offsetgroup": "Fighting",
         "orientation": "v",
         "showlegend": true,
         "type": "histogram",
         "x": [
          "Fighting",
          "Fighting",
          "Fighting",
          "Fighting",
          "Fighting",
          "Fighting",
          "Fighting",
          "Fighting",
          "Fighting",
          "Fighting",
          "Fighting",
          "Fighting",
          "Fighting",
          "Fighting",
          "Fighting",
          "Fighting",
          "Fighting",
          "Fighting",
          "Fighting",
          "Fighting",
          "Fighting",
          "Fighting",
          "Fighting",
          "Fighting",
          "Fighting",
          "Fighting",
          "Fighting"
         ],
         "xaxis": "x",
         "yaxis": "y"
        },
        {
         "alignmentgroup": "True",
         "bingroup": "x",
         "hovertemplate": "Type 1=%{x}<br>count=%{y}<extra></extra>",
         "legendgroup": "Steel",
         "marker": {
          "color": "#FFA15A",
          "pattern": {
           "shape": ""
          }
         },
         "name": "Steel",
         "offsetgroup": "Steel",
         "orientation": "v",
         "showlegend": true,
         "type": "histogram",
         "x": [
          "Steel",
          "Steel",
          "Steel",
          "Steel",
          "Steel",
          "Steel",
          "Steel",
          "Steel",
          "Steel",
          "Steel",
          "Steel",
          "Steel",
          "Steel",
          "Steel",
          "Steel",
          "Steel",
          "Steel",
          "Steel",
          "Steel",
          "Steel",
          "Steel",
          "Steel",
          "Steel",
          "Steel",
          "Steel",
          "Steel",
          "Steel"
         ],
         "xaxis": "x",
         "yaxis": "y"
        },
        {
         "alignmentgroup": "True",
         "bingroup": "x",
         "hovertemplate": "Type 1=%{x}<br>count=%{y}<extra></extra>",
         "legendgroup": "Ice",
         "marker": {
          "color": "#19d3f3",
          "pattern": {
           "shape": ""
          }
         },
         "name": "Ice",
         "offsetgroup": "Ice",
         "orientation": "v",
         "showlegend": true,
         "type": "histogram",
         "x": [
          "Ice",
          "Ice",
          "Ice",
          "Ice",
          "Ice",
          "Ice",
          "Ice",
          "Ice",
          "Ice",
          "Ice",
          "Ice",
          "Ice",
          "Ice",
          "Ice",
          "Ice",
          "Ice",
          "Ice",
          "Ice",
          "Ice",
          "Ice",
          "Ice",
          "Ice",
          "Ice",
          "Ice"
         ],
         "xaxis": "x",
         "yaxis": "y"
        },
        {
         "alignmentgroup": "True",
         "bingroup": "x",
         "hovertemplate": "Type 1=%{x}<br>count=%{y}<extra></extra>",
         "legendgroup": "Fairy",
         "marker": {
          "color": "#FF6692",
          "pattern": {
           "shape": ""
          }
         },
         "name": "Fairy",
         "offsetgroup": "Fairy",
         "orientation": "v",
         "showlegend": true,
         "type": "histogram",
         "x": [
          "Fairy",
          "Fairy",
          "Fairy",
          "Fairy",
          "Fairy",
          "Fairy",
          "Fairy",
          "Fairy",
          "Fairy",
          "Fairy",
          "Fairy",
          "Fairy",
          "Fairy",
          "Fairy",
          "Fairy",
          "Fairy",
          "Fairy"
         ],
         "xaxis": "x",
         "yaxis": "y"
        },
        {
         "alignmentgroup": "True",
         "bingroup": "x",
         "hovertemplate": "Type 1=%{x}<br>count=%{y}<extra></extra>",
         "legendgroup": "Flying",
         "marker": {
          "color": "#B6E880",
          "pattern": {
           "shape": ""
          }
         },
         "name": "Flying",
         "offsetgroup": "Flying",
         "orientation": "v",
         "showlegend": true,
         "type": "histogram",
         "x": [
          "Flying",
          "Flying",
          "Flying",
          "Flying"
         ],
         "xaxis": "x",
         "yaxis": "y"
        }
       ],
       "layout": {
        "autosize": true,
        "barmode": "relative",
        "legend": {
         "title": {
          "text": "Type 1"
         },
         "tracegroupgap": 0
        },
        "margin": {
         "t": 60
        },
        "template": {
         "data": {
          "bar": [
           {
            "error_x": {
             "color": "#2a3f5f"
            },
            "error_y": {
             "color": "#2a3f5f"
            },
            "marker": {
             "line": {
              "color": "#E5ECF6",
              "width": 0.5
             },
             "pattern": {
              "fillmode": "overlay",
              "size": 10,
              "solidity": 0.2
             }
            },
            "type": "bar"
           }
          ],
          "barpolar": [
           {
            "marker": {
             "line": {
              "color": "#E5ECF6",
              "width": 0.5
             },
             "pattern": {
              "fillmode": "overlay",
              "size": 10,
              "solidity": 0.2
             }
            },
            "type": "barpolar"
           }
          ],
          "carpet": [
           {
            "aaxis": {
             "endlinecolor": "#2a3f5f",
             "gridcolor": "white",
             "linecolor": "white",
             "minorgridcolor": "white",
             "startlinecolor": "#2a3f5f"
            },
            "baxis": {
             "endlinecolor": "#2a3f5f",
             "gridcolor": "white",
             "linecolor": "white",
             "minorgridcolor": "white",
             "startlinecolor": "#2a3f5f"
            },
            "type": "carpet"
           }
          ],
          "choropleth": [
           {
            "colorbar": {
             "outlinewidth": 0,
             "ticks": ""
            },
            "type": "choropleth"
           }
          ],
          "contour": [
           {
            "colorbar": {
             "outlinewidth": 0,
             "ticks": ""
            },
            "colorscale": [
             [
              0,
              "#0d0887"
             ],
             [
              0.1111111111111111,
              "#46039f"
             ],
             [
              0.2222222222222222,
              "#7201a8"
             ],
             [
              0.3333333333333333,
              "#9c179e"
             ],
             [
              0.4444444444444444,
              "#bd3786"
             ],
             [
              0.5555555555555556,
              "#d8576b"
             ],
             [
              0.6666666666666666,
              "#ed7953"
             ],
             [
              0.7777777777777778,
              "#fb9f3a"
             ],
             [
              0.8888888888888888,
              "#fdca26"
             ],
             [
              1,
              "#f0f921"
             ]
            ],
            "type": "contour"
           }
          ],
          "contourcarpet": [
           {
            "colorbar": {
             "outlinewidth": 0,
             "ticks": ""
            },
            "type": "contourcarpet"
           }
          ],
          "heatmap": [
           {
            "colorbar": {
             "outlinewidth": 0,
             "ticks": ""
            },
            "colorscale": [
             [
              0,
              "#0d0887"
             ],
             [
              0.1111111111111111,
              "#46039f"
             ],
             [
              0.2222222222222222,
              "#7201a8"
             ],
             [
              0.3333333333333333,
              "#9c179e"
             ],
             [
              0.4444444444444444,
              "#bd3786"
             ],
             [
              0.5555555555555556,
              "#d8576b"
             ],
             [
              0.6666666666666666,
              "#ed7953"
             ],
             [
              0.7777777777777778,
              "#fb9f3a"
             ],
             [
              0.8888888888888888,
              "#fdca26"
             ],
             [
              1,
              "#f0f921"
             ]
            ],
            "type": "heatmap"
           }
          ],
          "heatmapgl": [
           {
            "colorbar": {
             "outlinewidth": 0,
             "ticks": ""
            },
            "colorscale": [
             [
              0,
              "#0d0887"
             ],
             [
              0.1111111111111111,
              "#46039f"
             ],
             [
              0.2222222222222222,
              "#7201a8"
             ],
             [
              0.3333333333333333,
              "#9c179e"
             ],
             [
              0.4444444444444444,
              "#bd3786"
             ],
             [
              0.5555555555555556,
              "#d8576b"
             ],
             [
              0.6666666666666666,
              "#ed7953"
             ],
             [
              0.7777777777777778,
              "#fb9f3a"
             ],
             [
              0.8888888888888888,
              "#fdca26"
             ],
             [
              1,
              "#f0f921"
             ]
            ],
            "type": "heatmapgl"
           }
          ],
          "histogram": [
           {
            "marker": {
             "pattern": {
              "fillmode": "overlay",
              "size": 10,
              "solidity": 0.2
             }
            },
            "type": "histogram"
           }
          ],
          "histogram2d": [
           {
            "colorbar": {
             "outlinewidth": 0,
             "ticks": ""
            },
            "colorscale": [
             [
              0,
              "#0d0887"
             ],
             [
              0.1111111111111111,
              "#46039f"
             ],
             [
              0.2222222222222222,
              "#7201a8"
             ],
             [
              0.3333333333333333,
              "#9c179e"
             ],
             [
              0.4444444444444444,
              "#bd3786"
             ],
             [
              0.5555555555555556,
              "#d8576b"
             ],
             [
              0.6666666666666666,
              "#ed7953"
             ],
             [
              0.7777777777777778,
              "#fb9f3a"
             ],
             [
              0.8888888888888888,
              "#fdca26"
             ],
             [
              1,
              "#f0f921"
             ]
            ],
            "type": "histogram2d"
           }
          ],
          "histogram2dcontour": [
           {
            "colorbar": {
             "outlinewidth": 0,
             "ticks": ""
            },
            "colorscale": [
             [
              0,
              "#0d0887"
             ],
             [
              0.1111111111111111,
              "#46039f"
             ],
             [
              0.2222222222222222,
              "#7201a8"
             ],
             [
              0.3333333333333333,
              "#9c179e"
             ],
             [
              0.4444444444444444,
              "#bd3786"
             ],
             [
              0.5555555555555556,
              "#d8576b"
             ],
             [
              0.6666666666666666,
              "#ed7953"
             ],
             [
              0.7777777777777778,
              "#fb9f3a"
             ],
             [
              0.8888888888888888,
              "#fdca26"
             ],
             [
              1,
              "#f0f921"
             ]
            ],
            "type": "histogram2dcontour"
           }
          ],
          "mesh3d": [
           {
            "colorbar": {
             "outlinewidth": 0,
             "ticks": ""
            },
            "type": "mesh3d"
           }
          ],
          "parcoords": [
           {
            "line": {
             "colorbar": {
              "outlinewidth": 0,
              "ticks": ""
             }
            },
            "type": "parcoords"
           }
          ],
          "pie": [
           {
            "automargin": true,
            "type": "pie"
           }
          ],
          "scatter": [
           {
            "marker": {
             "colorbar": {
              "outlinewidth": 0,
              "ticks": ""
             }
            },
            "type": "scatter"
           }
          ],
          "scatter3d": [
           {
            "line": {
             "colorbar": {
              "outlinewidth": 0,
              "ticks": ""
             }
            },
            "marker": {
             "colorbar": {
              "outlinewidth": 0,
              "ticks": ""
             }
            },
            "type": "scatter3d"
           }
          ],
          "scattercarpet": [
           {
            "marker": {
             "colorbar": {
              "outlinewidth": 0,
              "ticks": ""
             }
            },
            "type": "scattercarpet"
           }
          ],
          "scattergeo": [
           {
            "marker": {
             "colorbar": {
              "outlinewidth": 0,
              "ticks": ""
             }
            },
            "type": "scattergeo"
           }
          ],
          "scattergl": [
           {
            "marker": {
             "colorbar": {
              "outlinewidth": 0,
              "ticks": ""
             }
            },
            "type": "scattergl"
           }
          ],
          "scattermapbox": [
           {
            "marker": {
             "colorbar": {
              "outlinewidth": 0,
              "ticks": ""
             }
            },
            "type": "scattermapbox"
           }
          ],
          "scatterpolar": [
           {
            "marker": {
             "colorbar": {
              "outlinewidth": 0,
              "ticks": ""
             }
            },
            "type": "scatterpolar"
           }
          ],
          "scatterpolargl": [
           {
            "marker": {
             "colorbar": {
              "outlinewidth": 0,
              "ticks": ""
             }
            },
            "type": "scatterpolargl"
           }
          ],
          "scatterternary": [
           {
            "marker": {
             "colorbar": {
              "outlinewidth": 0,
              "ticks": ""
             }
            },
            "type": "scatterternary"
           }
          ],
          "surface": [
           {
            "colorbar": {
             "outlinewidth": 0,
             "ticks": ""
            },
            "colorscale": [
             [
              0,
              "#0d0887"
             ],
             [
              0.1111111111111111,
              "#46039f"
             ],
             [
              0.2222222222222222,
              "#7201a8"
             ],
             [
              0.3333333333333333,
              "#9c179e"
             ],
             [
              0.4444444444444444,
              "#bd3786"
             ],
             [
              0.5555555555555556,
              "#d8576b"
             ],
             [
              0.6666666666666666,
              "#ed7953"
             ],
             [
              0.7777777777777778,
              "#fb9f3a"
             ],
             [
              0.8888888888888888,
              "#fdca26"
             ],
             [
              1,
              "#f0f921"
             ]
            ],
            "type": "surface"
           }
          ],
          "table": [
           {
            "cells": {
             "fill": {
              "color": "#EBF0F8"
             },
             "line": {
              "color": "white"
             }
            },
            "header": {
             "fill": {
              "color": "#C8D4E3"
             },
             "line": {
              "color": "white"
             }
            },
            "type": "table"
           }
          ]
         },
         "layout": {
          "annotationdefaults": {
           "arrowcolor": "#2a3f5f",
           "arrowhead": 0,
           "arrowwidth": 1
          },
          "autotypenumbers": "strict",
          "coloraxis": {
           "colorbar": {
            "outlinewidth": 0,
            "ticks": ""
           }
          },
          "colorscale": {
           "diverging": [
            [
             0,
             "#8e0152"
            ],
            [
             0.1,
             "#c51b7d"
            ],
            [
             0.2,
             "#de77ae"
            ],
            [
             0.3,
             "#f1b6da"
            ],
            [
             0.4,
             "#fde0ef"
            ],
            [
             0.5,
             "#f7f7f7"
            ],
            [
             0.6,
             "#e6f5d0"
            ],
            [
             0.7,
             "#b8e186"
            ],
            [
             0.8,
             "#7fbc41"
            ],
            [
             0.9,
             "#4d9221"
            ],
            [
             1,
             "#276419"
            ]
           ],
           "sequential": [
            [
             0,
             "#0d0887"
            ],
            [
             0.1111111111111111,
             "#46039f"
            ],
            [
             0.2222222222222222,
             "#7201a8"
            ],
            [
             0.3333333333333333,
             "#9c179e"
            ],
            [
             0.4444444444444444,
             "#bd3786"
            ],
            [
             0.5555555555555556,
             "#d8576b"
            ],
            [
             0.6666666666666666,
             "#ed7953"
            ],
            [
             0.7777777777777778,
             "#fb9f3a"
            ],
            [
             0.8888888888888888,
             "#fdca26"
            ],
            [
             1,
             "#f0f921"
            ]
           ],
           "sequentialminus": [
            [
             0,
             "#0d0887"
            ],
            [
             0.1111111111111111,
             "#46039f"
            ],
            [
             0.2222222222222222,
             "#7201a8"
            ],
            [
             0.3333333333333333,
             "#9c179e"
            ],
            [
             0.4444444444444444,
             "#bd3786"
            ],
            [
             0.5555555555555556,
             "#d8576b"
            ],
            [
             0.6666666666666666,
             "#ed7953"
            ],
            [
             0.7777777777777778,
             "#fb9f3a"
            ],
            [
             0.8888888888888888,
             "#fdca26"
            ],
            [
             1,
             "#f0f921"
            ]
           ]
          },
          "colorway": [
           "#636efa",
           "#EF553B",
           "#00cc96",
           "#ab63fa",
           "#FFA15A",
           "#19d3f3",
           "#FF6692",
           "#B6E880",
           "#FF97FF",
           "#FECB52"
          ],
          "font": {
           "color": "#2a3f5f"
          },
          "geo": {
           "bgcolor": "white",
           "lakecolor": "white",
           "landcolor": "#E5ECF6",
           "showlakes": true,
           "showland": true,
           "subunitcolor": "white"
          },
          "hoverlabel": {
           "align": "left"
          },
          "hovermode": "closest",
          "mapbox": {
           "style": "light"
          },
          "paper_bgcolor": "white",
          "plot_bgcolor": "#E5ECF6",
          "polar": {
           "angularaxis": {
            "gridcolor": "white",
            "linecolor": "white",
            "ticks": ""
           },
           "bgcolor": "#E5ECF6",
           "radialaxis": {
            "gridcolor": "white",
            "linecolor": "white",
            "ticks": ""
           }
          },
          "scene": {
           "xaxis": {
            "backgroundcolor": "#E5ECF6",
            "gridcolor": "white",
            "gridwidth": 2,
            "linecolor": "white",
            "showbackground": true,
            "ticks": "",
            "zerolinecolor": "white"
           },
           "yaxis": {
            "backgroundcolor": "#E5ECF6",
            "gridcolor": "white",
            "gridwidth": 2,
            "linecolor": "white",
            "showbackground": true,
            "ticks": "",
            "zerolinecolor": "white"
           },
           "zaxis": {
            "backgroundcolor": "#E5ECF6",
            "gridcolor": "white",
            "gridwidth": 2,
            "linecolor": "white",
            "showbackground": true,
            "ticks": "",
            "zerolinecolor": "white"
           }
          },
          "shapedefaults": {
           "line": {
            "color": "#2a3f5f"
           }
          },
          "ternary": {
           "aaxis": {
            "gridcolor": "white",
            "linecolor": "white",
            "ticks": ""
           },
           "baxis": {
            "gridcolor": "white",
            "linecolor": "white",
            "ticks": ""
           },
           "bgcolor": "#E5ECF6",
           "caxis": {
            "gridcolor": "white",
            "linecolor": "white",
            "ticks": ""
           }
          },
          "title": {
           "x": 0.05
          },
          "xaxis": {
           "automargin": true,
           "gridcolor": "white",
           "linecolor": "white",
           "ticks": "",
           "title": {
            "standoff": 15
           },
           "zerolinecolor": "white",
           "zerolinewidth": 2
          },
          "yaxis": {
           "automargin": true,
           "gridcolor": "white",
           "linecolor": "white",
           "ticks": "",
           "title": {
            "standoff": 15
           },
           "zerolinecolor": "white",
           "zerolinewidth": 2
          }
         }
        },
        "xaxis": {
         "anchor": "y",
         "autorange": true,
         "categoryarray": [
          "Water",
          "Normal",
          "Grass",
          "Bug",
          "Psychic",
          "Fire",
          "Electric",
          "Rock",
          "Ghost",
          "Ground",
          "Dragon",
          "Dark",
          "Poison",
          "Fighting",
          "Steel",
          "Ice",
          "Fairy",
          "Flying"
         ],
         "categoryorder": "array",
         "domain": [
          0,
          1
         ],
         "range": [
          -0.5,
          17.5
         ],
         "title": {
          "text": "Type 1"
         },
         "type": "category"
        },
        "yaxis": {
         "anchor": "x",
         "autorange": true,
         "domain": [
          0,
          1
         ],
         "range": [
          0,
          117.89473684210526
         ],
         "title": {
          "text": "count"
         }
        }
       }
      },
      "image/png": "[encoded data removed]",
      "text/html": [
       "<div>                            <div id=\"7caea80f-e0b3-48fc-a83c-85737d726539\" class=\"plotly-graph-div\" style=\"height:525px; width:100%;\"></div>            <script type=\"text/javascript\">                require([\"plotly\"], function(Plotly) {                    window.PLOTLYENV=window.PLOTLYENV || {};                                    if (document.getElementById(\"7caea80f-e0b3-48fc-a83c-85737d726539\")) {                    Plotly.newPlot(                        \"7caea80f-e0b3-48fc-a83c-85737d726539\",                        [{\"alignmentgroup\":\"True\",\"bingroup\":\"x\",\"hovertemplate\":\"Type 1=%{x}<br>count=%{y}<extra></extra>\",\"legendgroup\":\"Water\",\"marker\":{\"color\":\"#636efa\",\"pattern\":{\"shape\":\"\"}},\"name\":\"Water\",\"offsetgroup\":\"Water\",\"orientation\":\"v\",\"showlegend\":true,\"x\":[\"Water\",\"Water\",\"Water\",\"Water\",\"Water\",\"Water\",\"Water\",\"Water\",\"Water\",\"Water\",\"Water\",\"Water\",\"Water\",\"Water\",\"Water\",\"Water\",\"Water\",\"Water\",\"Water\",\"Water\",\"Water\",\"Water\",\"Water\",\"Water\",\"Water\",\"Water\",\"Water\",\"Water\",\"Water\",\"Water\",\"Water\",\"Water\",\"Water\",\"Water\",\"Water\",\"Water\",\"Water\",\"Water\",\"Water\",\"Water\",\"Water\",\"Water\",\"Water\",\"Water\",\"Water\",\"Water\",\"Water\",\"Water\",\"Water\",\"Water\",\"Water\",\"Water\",\"Water\",\"Water\",\"Water\",\"Water\",\"Water\",\"Water\",\"Water\",\"Water\",\"Water\",\"Water\",\"Water\",\"Water\",\"Water\",\"Water\",\"Water\",\"Water\",\"Water\",\"Water\",\"Water\",\"Water\",\"Water\",\"Water\",\"Water\",\"Water\",\"Water\",\"Water\",\"Water\",\"Water\",\"Water\",\"Water\",\"Water\",\"Water\",\"Water\",\"Water\",\"Water\",\"Water\",\"Water\",\"Water\",\"Water\",\"Water\",\"Water\",\"Water\",\"Water\",\"Water\",\"Water\",\"Water\",\"Water\",\"Water\",\"Water\",\"Water\",\"Water\",\"Water\",\"Water\",\"Water\",\"Water\",\"Water\",\"Water\",\"Water\",\"Water\",\"Water\"],\"xaxis\":\"x\",\"yaxis\":\"y\",\"type\":\"histogram\"},{\"alignmentgroup\":\"True\",\"bingroup\":\"x\",\"hovertemplate\":\"Type 1=%{x}<br>count=%{y}<extra></extra>\",\"legendgroup\":\"Normal\",\"marker\":{\"color\":\"#EF553B\",\"pattern\":{\"shape\":\"\"}},\"name\":\"Normal\",\"offsetgroup\":\"Normal\",\"orientation\":\"v\",\"showlegend\":true,\"x\":[\"Normal\",\"Normal\",\"Normal\",\"Normal\",\"Normal\",\"Normal\",\"Normal\",\"Normal\",\"Normal\",\"Normal\",\"Normal\",\"Normal\",\"Normal\",\"Normal\",\"Normal\",\"Normal\",\"Normal\",\"Normal\",\"Normal\",\"Normal\",\"Normal\",\"Normal\",\"Normal\",\"Normal\",\"Normal\",\"Normal\",\"Normal\",\"Normal\",\"Normal\",\"Normal\",\"Normal\",\"Normal\",\"Normal\",\"Normal\",\"Normal\",\"Normal\",\"Normal\",\"Normal\",\"Normal\",\"Normal\",\"Normal\",\"Normal\",\"Normal\",\"Normal\",\"Normal\",\"Normal\",\"Normal\",\"Normal\",\"Normal\",\"Normal\",\"Normal\",\"Normal\",\"Normal\",\"Normal\",\"Normal\",\"Normal\",\"Normal\",\"Normal\",\"Normal\",\"Normal\",\"Normal\",\"Normal\",\"Normal\",\"Normal\",\"Normal\",\"Normal\",\"Normal\",\"Normal\",\"Normal\",\"Normal\",\"Normal\",\"Normal\",\"Normal\",\"Normal\",\"Normal\",\"Normal\",\"Normal\",\"Normal\",\"Normal\",\"Normal\",\"Normal\",\"Normal\",\"Normal\",\"Normal\",\"Normal\",\"Normal\",\"Normal\",\"Normal\",\"Normal\",\"Normal\",\"Normal\",\"Normal\",\"Normal\",\"Normal\",\"Normal\",\"Normal\",\"Normal\",\"Normal\"],\"xaxis\":\"x\",\"yaxis\":\"y\",\"type\":\"histogram\"},{\"alignmentgroup\":\"True\",\"bingroup\":\"x\",\"hovertemplate\":\"Type 1=%{x}<br>count=%{y}<extra></extra>\",\"legendgroup\":\"Grass\",\"marker\":{\"color\":\"#00cc96\",\"pattern\":{\"shape\":\"\"}},\"name\":\"Grass\",\"offsetgroup\":\"Grass\",\"orientation\":\"v\",\"showlegend\":true,\"x\":[\"Grass\",\"Grass\",\"Grass\",\"Grass\",\"Grass\",\"Grass\",\"Grass\",\"Grass\",\"Grass\",\"Grass\",\"Grass\",\"Grass\",\"Grass\",\"Grass\",\"Grass\",\"Grass\",\"Grass\",\"Grass\",\"Grass\",\"Grass\",\"Grass\",\"Grass\",\"Grass\",\"Grass\",\"Grass\",\"Grass\",\"Grass\",\"Grass\",\"Grass\",\"Grass\",\"Grass\",\"Grass\",\"Grass\",\"Grass\",\"Grass\",\"Grass\",\"Grass\",\"Grass\",\"Grass\",\"Grass\",\"Grass\",\"Grass\",\"Grass\",\"Grass\",\"Grass\",\"Grass\",\"Grass\",\"Grass\",\"Grass\",\"Grass\",\"Grass\",\"Grass\",\"Grass\",\"Grass\",\"Grass\",\"Grass\",\"Grass\",\"Grass\",\"Grass\",\"Grass\",\"Grass\",\"Grass\",\"Grass\",\"Grass\",\"Grass\",\"Grass\",\"Grass\",\"Grass\",\"Grass\",\"Grass\"],\"xaxis\":\"x\",\"yaxis\":\"y\",\"type\":\"histogram\"},{\"alignmentgroup\":\"True\",\"bingroup\":\"x\",\"hovertemplate\":\"Type 1=%{x}<br>count=%{y}<extra></extra>\",\"legendgroup\":\"Bug\",\"marker\":{\"color\":\"#ab63fa\",\"pattern\":{\"shape\":\"\"}},\"name\":\"Bug\",\"offsetgroup\":\"Bug\",\"orientation\":\"v\",\"showlegend\":true,\"x\":[\"Bug\",\"Bug\",\"Bug\",\"Bug\",\"Bug\",\"Bug\",\"Bug\",\"Bug\",\"Bug\",\"Bug\",\"Bug\",\"Bug\",\"Bug\",\"Bug\",\"Bug\",\"Bug\",\"Bug\",\"Bug\",\"Bug\",\"Bug\",\"Bug\",\"Bug\",\"Bug\",\"Bug\",\"Bug\",\"Bug\",\"Bug\",\"Bug\",\"Bug\",\"Bug\",\"Bug\",\"Bug\",\"Bug\",\"Bug\",\"Bug\",\"Bug\",\"Bug\",\"Bug\",\"Bug\",\"Bug\",\"Bug\",\"Bug\",\"Bug\",\"Bug\",\"Bug\",\"Bug\",\"Bug\",\"Bug\",\"Bug\",\"Bug\",\"Bug\",\"Bug\",\"Bug\",\"Bug\",\"Bug\",\"Bug\",\"Bug\",\"Bug\",\"Bug\",\"Bug\",\"Bug\",\"Bug\",\"Bug\",\"Bug\",\"Bug\",\"Bug\",\"Bug\",\"Bug\",\"Bug\"],\"xaxis\":\"x\",\"yaxis\":\"y\",\"type\":\"histogram\"},{\"alignmentgroup\":\"True\",\"bingroup\":\"x\",\"hovertemplate\":\"Type 1=%{x}<br>count=%{y}<extra></extra>\",\"legendgroup\":\"Psychic\",\"marker\":{\"color\":\"#FFA15A\",\"pattern\":{\"shape\":\"\"}},\"name\":\"Psychic\",\"offsetgroup\":\"Psychic\",\"orientation\":\"v\",\"showlegend\":true,\"x\":[\"Psychic\",\"Psychic\",\"Psychic\",\"Psychic\",\"Psychic\",\"Psychic\",\"Psychic\",\"Psychic\",\"Psychic\",\"Psychic\",\"Psychic\",\"Psychic\",\"Psychic\",\"Psychic\",\"Psychic\",\"Psychic\",\"Psychic\",\"Psychic\",\"Psychic\",\"Psychic\",\"Psychic\",\"Psychic\",\"Psychic\",\"Psychic\",\"Psychic\",\"Psychic\",\"Psychic\",\"Psychic\",\"Psychic\",\"Psychic\",\"Psychic\",\"Psychic\",\"Psychic\",\"Psychic\",\"Psychic\",\"Psychic\",\"Psychic\",\"Psychic\",\"Psychic\",\"Psychic\",\"Psychic\",\"Psychic\",\"Psychic\",\"Psychic\",\"Psychic\",\"Psychic\",\"Psychic\",\"Psychic\",\"Psychic\",\"Psychic\",\"Psychic\",\"Psychic\",\"Psychic\",\"Psychic\",\"Psychic\",\"Psychic\",\"Psychic\"],\"xaxis\":\"x\",\"yaxis\":\"y\",\"type\":\"histogram\"},{\"alignmentgroup\":\"True\",\"bingroup\":\"x\",\"hovertemplate\":\"Type 1=%{x}<br>count=%{y}<extra></extra>\",\"legendgroup\":\"Fire\",\"marker\":{\"color\":\"#19d3f3\",\"pattern\":{\"shape\":\"\"}},\"name\":\"Fire\",\"offsetgroup\":\"Fire\",\"orientation\":\"v\",\"showlegend\":true,\"x\":[\"Fire\",\"Fire\",\"Fire\",\"Fire\",\"Fire\",\"Fire\",\"Fire\",\"Fire\",\"Fire\",\"Fire\",\"Fire\",\"Fire\",\"Fire\",\"Fire\",\"Fire\",\"Fire\",\"Fire\",\"Fire\",\"Fire\",\"Fire\",\"Fire\",\"Fire\",\"Fire\",\"Fire\",\"Fire\",\"Fire\",\"Fire\",\"Fire\",\"Fire\",\"Fire\",\"Fire\",\"Fire\",\"Fire\",\"Fire\",\"Fire\",\"Fire\",\"Fire\",\"Fire\",\"Fire\",\"Fire\",\"Fire\",\"Fire\",\"Fire\",\"Fire\",\"Fire\",\"Fire\",\"Fire\",\"Fire\",\"Fire\",\"Fire\",\"Fire\",\"Fire\"],\"xaxis\":\"x\",\"yaxis\":\"y\",\"type\":\"histogram\"},{\"alignmentgroup\":\"True\",\"bingroup\":\"x\",\"hovertemplate\":\"Type 1=%{x}<br>count=%{y}<extra></extra>\",\"legendgroup\":\"Electric\",\"marker\":{\"color\":\"#FF6692\",\"pattern\":{\"shape\":\"\"}},\"name\":\"Electric\",\"offsetgroup\":\"Electric\",\"orientation\":\"v\",\"showlegend\":true,\"x\":[\"Electric\",\"Electric\",\"Electric\",\"Electric\",\"Electric\",\"Electric\",\"Electric\",\"Electric\",\"Electric\",\"Electric\",\"Electric\",\"Electric\",\"Electric\",\"Electric\",\"Electric\",\"Electric\",\"Electric\",\"Electric\",\"Electric\",\"Electric\",\"Electric\",\"Electric\",\"Electric\",\"Electric\",\"Electric\",\"Electric\",\"Electric\",\"Electric\",\"Electric\",\"Electric\",\"Electric\",\"Electric\",\"Electric\",\"Electric\",\"Electric\",\"Electric\",\"Electric\",\"Electric\",\"Electric\",\"Electric\",\"Electric\",\"Electric\",\"Electric\",\"Electric\"],\"xaxis\":\"x\",\"yaxis\":\"y\",\"type\":\"histogram\"},{\"alignmentgroup\":\"True\",\"bingroup\":\"x\",\"hovertemplate\":\"Type 1=%{x}<br>count=%{y}<extra></extra>\",\"legendgroup\":\"Rock\",\"marker\":{\"color\":\"#B6E880\",\"pattern\":{\"shape\":\"\"}},\"name\":\"Rock\",\"offsetgroup\":\"Rock\",\"orientation\":\"v\",\"showlegend\":true,\"x\":[\"Rock\",\"Rock\",\"Rock\",\"Rock\",\"Rock\",\"Rock\",\"Rock\",\"Rock\",\"Rock\",\"Rock\",\"Rock\",\"Rock\",\"Rock\",\"Rock\",\"Rock\",\"Rock\",\"Rock\",\"Rock\",\"Rock\",\"Rock\",\"Rock\",\"Rock\",\"Rock\",\"Rock\",\"Rock\",\"Rock\",\"Rock\",\"Rock\",\"Rock\",\"Rock\",\"Rock\",\"Rock\",\"Rock\",\"Rock\",\"Rock\",\"Rock\",\"Rock\",\"Rock\",\"Rock\",\"Rock\",\"Rock\",\"Rock\",\"Rock\",\"Rock\"],\"xaxis\":\"x\",\"yaxis\":\"y\",\"type\":\"histogram\"},{\"alignmentgroup\":\"True\",\"bingroup\":\"x\",\"hovertemplate\":\"Type 1=%{x}<br>count=%{y}<extra></extra>\",\"legendgroup\":\"Ghost\",\"marker\":{\"color\":\"#FF97FF\",\"pattern\":{\"shape\":\"\"}},\"name\":\"Ghost\",\"offsetgroup\":\"Ghost\",\"orientation\":\"v\",\"showlegend\":true,\"x\":[\"Ghost\",\"Ghost\",\"Ghost\",\"Ghost\",\"Ghost\",\"Ghost\",\"Ghost\",\"Ghost\",\"Ghost\",\"Ghost\",\"Ghost\",\"Ghost\",\"Ghost\",\"Ghost\",\"Ghost\",\"Ghost\",\"Ghost\",\"Ghost\",\"Ghost\",\"Ghost\",\"Ghost\",\"Ghost\",\"Ghost\",\"Ghost\",\"Ghost\",\"Ghost\",\"Ghost\",\"Ghost\",\"Ghost\",\"Ghost\",\"Ghost\",\"Ghost\"],\"xaxis\":\"x\",\"yaxis\":\"y\",\"type\":\"histogram\"},{\"alignmentgroup\":\"True\",\"bingroup\":\"x\",\"hovertemplate\":\"Type 1=%{x}<br>count=%{y}<extra></extra>\",\"legendgroup\":\"Ground\",\"marker\":{\"color\":\"#FECB52\",\"pattern\":{\"shape\":\"\"}},\"name\":\"Ground\",\"offsetgroup\":\"Ground\",\"orientation\":\"v\",\"showlegend\":true,\"x\":[\"Ground\",\"Ground\",\"Ground\",\"Ground\",\"Ground\",\"Ground\",\"Ground\",\"Ground\",\"Ground\",\"Ground\",\"Ground\",\"Ground\",\"Ground\",\"Ground\",\"Ground\",\"Ground\",\"Ground\",\"Ground\",\"Ground\",\"Ground\",\"Ground\",\"Ground\",\"Ground\",\"Ground\",\"Ground\",\"Ground\",\"Ground\",\"Ground\",\"Ground\",\"Ground\",\"Ground\",\"Ground\"],\"xaxis\":\"x\",\"yaxis\":\"y\",\"type\":\"histogram\"},{\"alignmentgroup\":\"True\",\"bingroup\":\"x\",\"hovertemplate\":\"Type 1=%{x}<br>count=%{y}<extra></extra>\",\"legendgroup\":\"Dragon\",\"marker\":{\"color\":\"#636efa\",\"pattern\":{\"shape\":\"\"}},\"name\":\"Dragon\",\"offsetgroup\":\"Dragon\",\"orientation\":\"v\",\"showlegend\":true,\"x\":[\"Dragon\",\"Dragon\",\"Dragon\",\"Dragon\",\"Dragon\",\"Dragon\",\"Dragon\",\"Dragon\",\"Dragon\",\"Dragon\",\"Dragon\",\"Dragon\",\"Dragon\",\"Dragon\",\"Dragon\",\"Dragon\",\"Dragon\",\"Dragon\",\"Dragon\",\"Dragon\",\"Dragon\",\"Dragon\",\"Dragon\",\"Dragon\",\"Dragon\",\"Dragon\",\"Dragon\",\"Dragon\",\"Dragon\",\"Dragon\",\"Dragon\",\"Dragon\"],\"xaxis\":\"x\",\"yaxis\":\"y\",\"type\":\"histogram\"},{\"alignmentgroup\":\"True\",\"bingroup\":\"x\",\"hovertemplate\":\"Type 1=%{x}<br>count=%{y}<extra></extra>\",\"legendgroup\":\"Dark\",\"marker\":{\"color\":\"#EF553B\",\"pattern\":{\"shape\":\"\"}},\"name\":\"Dark\",\"offsetgroup\":\"Dark\",\"orientation\":\"v\",\"showlegend\":true,\"x\":[\"Dark\",\"Dark\",\"Dark\",\"Dark\",\"Dark\",\"Dark\",\"Dark\",\"Dark\",\"Dark\",\"Dark\",\"Dark\",\"Dark\",\"Dark\",\"Dark\",\"Dark\",\"Dark\",\"Dark\",\"Dark\",\"Dark\",\"Dark\",\"Dark\",\"Dark\",\"Dark\",\"Dark\",\"Dark\",\"Dark\",\"Dark\",\"Dark\",\"Dark\",\"Dark\",\"Dark\"],\"xaxis\":\"x\",\"yaxis\":\"y\",\"type\":\"histogram\"},{\"alignmentgroup\":\"True\",\"bingroup\":\"x\",\"hovertemplate\":\"Type 1=%{x}<br>count=%{y}<extra></extra>\",\"legendgroup\":\"Poison\",\"marker\":{\"color\":\"#00cc96\",\"pattern\":{\"shape\":\"\"}},\"name\":\"Poison\",\"offsetgroup\":\"Poison\",\"orientation\":\"v\",\"showlegend\":true,\"x\":[\"Poison\",\"Poison\",\"Poison\",\"Poison\",\"Poison\",\"Poison\",\"Poison\",\"Poison\",\"Poison\",\"Poison\",\"Poison\",\"Poison\",\"Poison\",\"Poison\",\"Poison\",\"Poison\",\"Poison\",\"Poison\",\"Poison\",\"Poison\",\"Poison\",\"Poison\",\"Poison\",\"Poison\",\"Poison\",\"Poison\",\"Poison\",\"Poison\"],\"xaxis\":\"x\",\"yaxis\":\"y\",\"type\":\"histogram\"},{\"alignmentgroup\":\"True\",\"bingroup\":\"x\",\"hovertemplate\":\"Type 1=%{x}<br>count=%{y}<extra></extra>\",\"legendgroup\":\"Fighting\",\"marker\":{\"color\":\"#ab63fa\",\"pattern\":{\"shape\":\"\"}},\"name\":\"Fighting\",\"offsetgroup\":\"Fighting\",\"orientation\":\"v\",\"showlegend\":true,\"x\":[\"Fighting\",\"Fighting\",\"Fighting\",\"Fighting\",\"Fighting\",\"Fighting\",\"Fighting\",\"Fighting\",\"Fighting\",\"Fighting\",\"Fighting\",\"Fighting\",\"Fighting\",\"Fighting\",\"Fighting\",\"Fighting\",\"Fighting\",\"Fighting\",\"Fighting\",\"Fighting\",\"Fighting\",\"Fighting\",\"Fighting\",\"Fighting\",\"Fighting\",\"Fighting\",\"Fighting\"],\"xaxis\":\"x\",\"yaxis\":\"y\",\"type\":\"histogram\"},{\"alignmentgroup\":\"True\",\"bingroup\":\"x\",\"hovertemplate\":\"Type 1=%{x}<br>count=%{y}<extra></extra>\",\"legendgroup\":\"Steel\",\"marker\":{\"color\":\"#FFA15A\",\"pattern\":{\"shape\":\"\"}},\"name\":\"Steel\",\"offsetgroup\":\"Steel\",\"orientation\":\"v\",\"showlegend\":true,\"x\":[\"Steel\",\"Steel\",\"Steel\",\"Steel\",\"Steel\",\"Steel\",\"Steel\",\"Steel\",\"Steel\",\"Steel\",\"Steel\",\"Steel\",\"Steel\",\"Steel\",\"Steel\",\"Steel\",\"Steel\",\"Steel\",\"Steel\",\"Steel\",\"Steel\",\"Steel\",\"Steel\",\"Steel\",\"Steel\",\"Steel\",\"Steel\"],\"xaxis\":\"x\",\"yaxis\":\"y\",\"type\":\"histogram\"},{\"alignmentgroup\":\"True\",\"bingroup\":\"x\",\"hovertemplate\":\"Type 1=%{x}<br>count=%{y}<extra></extra>\",\"legendgroup\":\"Ice\",\"marker\":{\"color\":\"#19d3f3\",\"pattern\":{\"shape\":\"\"}},\"name\":\"Ice\",\"offsetgroup\":\"Ice\",\"orientation\":\"v\",\"showlegend\":true,\"x\":[\"Ice\",\"Ice\",\"Ice\",\"Ice\",\"Ice\",\"Ice\",\"Ice\",\"Ice\",\"Ice\",\"Ice\",\"Ice\",\"Ice\",\"Ice\",\"Ice\",\"Ice\",\"Ice\",\"Ice\",\"Ice\",\"Ice\",\"Ice\",\"Ice\",\"Ice\",\"Ice\",\"Ice\"],\"xaxis\":\"x\",\"yaxis\":\"y\",\"type\":\"histogram\"},{\"alignmentgroup\":\"True\",\"bingroup\":\"x\",\"hovertemplate\":\"Type 1=%{x}<br>count=%{y}<extra></extra>\",\"legendgroup\":\"Fairy\",\"marker\":{\"color\":\"#FF6692\",\"pattern\":{\"shape\":\"\"}},\"name\":\"Fairy\",\"offsetgroup\":\"Fairy\",\"orientation\":\"v\",\"showlegend\":true,\"x\":[\"Fairy\",\"Fairy\",\"Fairy\",\"Fairy\",\"Fairy\",\"Fairy\",\"Fairy\",\"Fairy\",\"Fairy\",\"Fairy\",\"Fairy\",\"Fairy\",\"Fairy\",\"Fairy\",\"Fairy\",\"Fairy\",\"Fairy\"],\"xaxis\":\"x\",\"yaxis\":\"y\",\"type\":\"histogram\"},{\"alignmentgroup\":\"True\",\"bingroup\":\"x\",\"hovertemplate\":\"Type 1=%{x}<br>count=%{y}<extra></extra>\",\"legendgroup\":\"Flying\",\"marker\":{\"color\":\"#B6E880\",\"pattern\":{\"shape\":\"\"}},\"name\":\"Flying\",\"offsetgroup\":\"Flying\",\"orientation\":\"v\",\"showlegend\":true,\"x\":[\"Flying\",\"Flying\",\"Flying\",\"Flying\"],\"xaxis\":\"x\",\"yaxis\":\"y\",\"type\":\"histogram\"}],                        {\"template\":{\"data\":{\"bar\":[{\"error_x\":{\"color\":\"#2a3f5f\"},\"error_y\":{\"color\":\"#2a3f5f\"},\"marker\":{\"line\":{\"color\":\"#E5ECF6\",\"width\":0.5},\"pattern\":{\"fillmode\":\"overlay\",\"size\":10,\"solidity\":0.2}},\"type\":\"bar\"}],\"barpolar\":[{\"marker\":{\"line\":{\"color\":\"#E5ECF6\",\"width\":0.5},\"pattern\":{\"fillmode\":\"overlay\",\"size\":10,\"solidity\":0.2}},\"type\":\"barpolar\"}],\"carpet\":[{\"aaxis\":{\"endlinecolor\":\"#2a3f5f\",\"gridcolor\":\"white\",\"linecolor\":\"white\",\"minorgridcolor\":\"white\",\"startlinecolor\":\"#2a3f5f\"},\"baxis\":{\"endlinecolor\":\"#2a3f5f\",\"gridcolor\":\"white\",\"linecolor\":\"white\",\"minorgridcolor\":\"white\",\"startlinecolor\":\"#2a3f5f\"},\"type\":\"carpet\"}],\"choropleth\":[{\"colorbar\":{\"outlinewidth\":0,\"ticks\":\"\"},\"type\":\"choropleth\"}],\"contour\":[{\"colorbar\":{\"outlinewidth\":0,\"ticks\":\"\"},\"colorscale\":[[0.0,\"#0d0887\"],[0.1111111111111111,\"#46039f\"],[0.2222222222222222,\"#7201a8\"],[0.3333333333333333,\"#9c179e\"],[0.4444444444444444,\"#bd3786\"],[0.5555555555555556,\"#d8576b\"],[0.6666666666666666,\"#ed7953\"],[0.7777777777777778,\"#fb9f3a\"],[0.8888888888888888,\"#fdca26\"],[1.0,\"#f0f921\"]],\"type\":\"contour\"}],\"contourcarpet\":[{\"colorbar\":{\"outlinewidth\":0,\"ticks\":\"\"},\"type\":\"contourcarpet\"}],\"heatmap\":[{\"colorbar\":{\"outlinewidth\":0,\"ticks\":\"\"},\"colorscale\":[[0.0,\"#0d0887\"],[0.1111111111111111,\"#46039f\"],[0.2222222222222222,\"#7201a8\"],[0.3333333333333333,\"#9c179e\"],[0.4444444444444444,\"#bd3786\"],[0.5555555555555556,\"#d8576b\"],[0.6666666666666666,\"#ed7953\"],[0.7777777777777778,\"#fb9f3a\"],[0.8888888888888888,\"#fdca26\"],[1.0,\"#f0f921\"]],\"type\":\"heatmap\"}],\"heatmapgl\":[{\"colorbar\":{\"outlinewidth\":0,\"ticks\":\"\"},\"colorscale\":[[0.0,\"#0d0887\"],[0.1111111111111111,\"#46039f\"],[0.2222222222222222,\"#7201a8\"],[0.3333333333333333,\"#9c179e\"],[0.4444444444444444,\"#bd3786\"],[0.5555555555555556,\"#d8576b\"],[0.6666666666666666,\"#ed7953\"],[0.7777777777777778,\"#fb9f3a\"],[0.8888888888888888,\"#fdca26\"],[1.0,\"#f0f921\"]],\"type\":\"heatmapgl\"}],\"histogram\":[{\"marker\":{\"pattern\":{\"fillmode\":\"overlay\",\"size\":10,\"solidity\":0.2}},\"type\":\"histogram\"}],\"histogram2d\":[{\"colorbar\":{\"outlinewidth\":0,\"ticks\":\"\"},\"colorscale\":[[0.0,\"#0d0887\"],[0.1111111111111111,\"#46039f\"],[0.2222222222222222,\"#7201a8\"],[0.3333333333333333,\"#9c179e\"],[0.4444444444444444,\"#bd3786\"],[0.5555555555555556,\"#d8576b\"],[0.6666666666666666,\"#ed7953\"],[0.7777777777777778,\"#fb9f3a\"],[0.8888888888888888,\"#fdca26\"],[1.0,\"#f0f921\"]],\"type\":\"histogram2d\"}],\"histogram2dcontour\":[{\"colorbar\":{\"outlinewidth\":0,\"ticks\":\"\"},\"colorscale\":[[0.0,\"#0d0887\"],[0.1111111111111111,\"#46039f\"],[0.2222222222222222,\"#7201a8\"],[0.3333333333333333,\"#9c179e\"],[0.4444444444444444,\"#bd3786\"],[0.5555555555555556,\"#d8576b\"],[0.6666666666666666,\"#ed7953\"],[0.7777777777777778,\"#fb9f3a\"],[0.8888888888888888,\"#fdca26\"],[1.0,\"#f0f921\"]],\"type\":\"histogram2dcontour\"}],\"mesh3d\":[{\"colorbar\":{\"outlinewidth\":0,\"ticks\":\"\"},\"type\":\"mesh3d\"}],\"parcoords\":[{\"line\":{\"colorbar\":{\"outlinewidth\":0,\"ticks\":\"\"}},\"type\":\"parcoords\"}],\"pie\":[{\"automargin\":true,\"type\":\"pie\"}],\"scatter\":[{\"marker\":{\"colorbar\":{\"outlinewidth\":0,\"ticks\":\"\"}},\"type\":\"scatter\"}],\"scatter3d\":[{\"line\":{\"colorbar\":{\"outlinewidth\":0,\"ticks\":\"\"}},\"marker\":{\"colorbar\":{\"outlinewidth\":0,\"ticks\":\"\"}},\"type\":\"scatter3d\"}],\"scattercarpet\":[{\"marker\":{\"colorbar\":{\"outlinewidth\":0,\"ticks\":\"\"}},\"type\":\"scattercarpet\"}],\"scattergeo\":[{\"marker\":{\"colorbar\":{\"outlinewidth\":0,\"ticks\":\"\"}},\"type\":\"scattergeo\"}],\"scattergl\":[{\"marker\":{\"colorbar\":{\"outlinewidth\":0,\"ticks\":\"\"}},\"type\":\"scattergl\"}],\"scattermapbox\":[{\"marker\":{\"colorbar\":{\"outlinewidth\":0,\"ticks\":\"\"}},\"type\":\"scattermapbox\"}],\"scatterpolar\":[{\"marker\":{\"colorbar\":{\"outlinewidth\":0,\"ticks\":\"\"}},\"type\":\"scatterpolar\"}],\"scatterpolargl\":[{\"marker\":{\"colorbar\":{\"outlinewidth\":0,\"ticks\":\"\"}},\"type\":\"scatterpolargl\"}],\"scatterternary\":[{\"marker\":{\"colorbar\":{\"outlinewidth\":0,\"ticks\":\"\"}},\"type\":\"scatterternary\"}],\"surface\":[{\"colorbar\":{\"outlinewidth\":0,\"ticks\":\"\"},\"colorscale\":[[0.0,\"#0d0887\"],[0.1111111111111111,\"#46039f\"],[0.2222222222222222,\"#7201a8\"],[0.3333333333333333,\"#9c179e\"],[0.4444444444444444,\"#bd3786\"],[0.5555555555555556,\"#d8576b\"],[0.6666666666666666,\"#ed7953\"],[0.7777777777777778,\"#fb9f3a\"],[0.8888888888888888,\"#fdca26\"],[1.0,\"#f0f921\"]],\"type\":\"surface\"}],\"table\":[{\"cells\":{\"fill\":{\"color\":\"#EBF0F8\"},\"line\":{\"color\":\"white\"}},\"header\":{\"fill\":{\"color\":\"#C8D4E3\"},\"line\":{\"color\":\"white\"}},\"type\":\"table\"}]},\"layout\":{\"annotationdefaults\":{\"arrowcolor\":\"#2a3f5f\",\"arrowhead\":0,\"arrowwidth\":1},\"autotypenumbers\":\"strict\",\"coloraxis\":{\"colorbar\":{\"outlinewidth\":0,\"ticks\":\"\"}},\"colorscale\":{\"diverging\":[[0,\"#8e0152\"],[0.1,\"#c51b7d\"],[0.2,\"#de77ae\"],[0.3,\"#f1b6da\"],[0.4,\"#fde0ef\"],[0.5,\"#f7f7f7\"],[0.6,\"#e6f5d0\"],[0.7,\"#b8e186\"],[0.8,\"#7fbc41\"],[0.9,\"#4d9221\"],[1,\"#276419\"]],\"sequential\":[[0.0,\"#0d0887\"],[0.1111111111111111,\"#46039f\"],[0.2222222222222222,\"#7201a8\"],[0.3333333333333333,\"#9c179e\"],[0.4444444444444444,\"#bd3786\"],[0.5555555555555556,\"#d8576b\"],[0.6666666666666666,\"#ed7953\"],[0.7777777777777778,\"#fb9f3a\"],[0.8888888888888888,\"#fdca26\"],[1.0,\"#f0f921\"]],\"sequentialminus\":[[0.0,\"#0d0887\"],[0.1111111111111111,\"#46039f\"],[0.2222222222222222,\"#7201a8\"],[0.3333333333333333,\"#9c179e\"],[0.4444444444444444,\"#bd3786\"],[0.5555555555555556,\"#d8576b\"],[0.6666666666666666,\"#ed7953\"],[0.7777777777777778,\"#fb9f3a\"],[0.8888888888888888,\"#fdca26\"],[1.0,\"#f0f921\"]]},\"colorway\":[\"#636efa\",\"#EF553B\",\"#00cc96\",\"#ab63fa\",\"#FFA15A\",\"#19d3f3\",\"#FF6692\",\"#B6E880\",\"#FF97FF\",\"#FECB52\"],\"font\":{\"color\":\"#2a3f5f\"},\"geo\":{\"bgcolor\":\"white\",\"lakecolor\":\"white\",\"landcolor\":\"#E5ECF6\",\"showlakes\":true,\"showland\":true,\"subunitcolor\":\"white\"},\"hoverlabel\":{\"align\":\"left\"},\"hovermode\":\"closest\",\"mapbox\":{\"style\":\"light\"},\"paper_bgcolor\":\"white\",\"plot_bgcolor\":\"#E5ECF6\",\"polar\":{\"angularaxis\":{\"gridcolor\":\"white\",\"linecolor\":\"white\",\"ticks\":\"\"},\"bgcolor\":\"#E5ECF6\",\"radialaxis\":{\"gridcolor\":\"white\",\"linecolor\":\"white\",\"ticks\":\"\"}},\"scene\":{\"xaxis\":{\"backgroundcolor\":\"#E5ECF6\",\"gridcolor\":\"white\",\"gridwidth\":2,\"linecolor\":\"white\",\"showbackground\":true,\"ticks\":\"\",\"zerolinecolor\":\"white\"},\"yaxis\":{\"backgroundcolor\":\"#E5ECF6\",\"gridcolor\":\"white\",\"gridwidth\":2,\"linecolor\":\"white\",\"showbackground\":true,\"ticks\":\"\",\"zerolinecolor\":\"white\"},\"zaxis\":{\"backgroundcolor\":\"#E5ECF6\",\"gridcolor\":\"white\",\"gridwidth\":2,\"linecolor\":\"white\",\"showbackground\":true,\"ticks\":\"\",\"zerolinecolor\":\"white\"}},\"shapedefaults\":{\"line\":{\"color\":\"#2a3f5f\"}},\"ternary\":{\"aaxis\":{\"gridcolor\":\"white\",\"linecolor\":\"white\",\"ticks\":\"\"},\"baxis\":{\"gridcolor\":\"white\",\"linecolor\":\"white\",\"ticks\":\"\"},\"bgcolor\":\"#E5ECF6\",\"caxis\":{\"gridcolor\":\"white\",\"linecolor\":\"white\",\"ticks\":\"\"}},\"title\":{\"x\":0.05},\"xaxis\":{\"automargin\":true,\"gridcolor\":\"white\",\"linecolor\":\"white\",\"ticks\":\"\",\"title\":{\"standoff\":15},\"zerolinecolor\":\"white\",\"zerolinewidth\":2},\"yaxis\":{\"automargin\":true,\"gridcolor\":\"white\",\"linecolor\":\"white\",\"ticks\":\"\",\"title\":{\"standoff\":15},\"zerolinecolor\":\"white\",\"zerolinewidth\":2}}},\"xaxis\":{\"anchor\":\"y\",\"domain\":[0.0,1.0],\"title\":{\"text\":\"Type 1\"},\"categoryorder\":\"array\",\"categoryarray\":[\"Water\",\"Normal\",\"Grass\",\"Bug\",\"Psychic\",\"Fire\",\"Electric\",\"Rock\",\"Ghost\",\"Ground\",\"Dragon\",\"Dark\",\"Poison\",\"Fighting\",\"Steel\",\"Ice\",\"Fairy\",\"Flying\"]},\"yaxis\":{\"anchor\":\"x\",\"domain\":[0.0,1.0],\"title\":{\"text\":\"count\"}},\"legend\":{\"title\":{\"text\":\"Type 1\"},\"tracegroupgap\":0},\"margin\":{\"t\":60},\"barmode\":\"relative\"},                        {\"responsive\": true}                    ).then(function(){\n",
       "                            \n",
       "var gd = document.getElementById('7caea80f-e0b3-48fc-a83c-85737d726539');\n",
       "var x = new MutationObserver(function (mutations, observer) {{\n",
       "        var display = window.getComputedStyle(gd).display;\n",
       "        if (!display || display === 'none') {{\n",
       "            console.log([gd, 'removed!']);\n",
       "            Plotly.purge(gd);\n",
       "            observer.disconnect();\n",
       "        }}\n",
       "}});\n",
       "\n",
       "// Listen for the removal of the full notebook cells\n",
       "var notebookContainer = gd.closest('#notebook-container');\n",
       "if (notebookContainer) {{\n",
       "    x.observe(notebookContainer, {childList: true});\n",
       "}}\n",
       "\n",
       "// Listen for the clearing of the current output cell\n",
       "var outputEl = gd.closest('.output');\n",
       "if (outputEl) {{\n",
       "    x.observe(outputEl, {childList: true});\n",
       "}}\n",
       "\n",
       "                        })                };                });            </script>        </div>"
      ]
     },
     "metadata": {},
     "output_type": "display_data"
    }
   ],
   "source": [
    "px.histogram(data_frame = df5, x= \"Type 1\", color= \"Type 1\")"
   ]
  },
  {
   "cell_type": "code",
   "execution_count": 253,
   "id": "375ffc62-0f4e-4517-a9de-6969e244c8ab",
   "metadata": {},
   "outputs": [
    {
     "data": {
      "application/vnd.plotly.v1+json": {
       "config": {
        "plotlyServerURL": "https://plot.ly"
       },
       "data": [
        {
         "alignmentgroup": "True",
         "bingroup": "x",
         "hovertemplate": "Results=%{x}<br>count=%{y}<extra></extra>",
         "legendgroup": "0",
         "marker": {
          "color": "#636efa",
          "pattern": {
           "shape": ""
          }
         },
         "name": "0",
         "offsetgroup": "0",
         "orientation": "v",
         "showlegend": true,
         "type": "histogram",
         "x": [
          0,
          0,
          0,
          0,
          0,
          0,
          0,
          0,
          0,
          0,
          0,
          0,
          0,
          0,
          0,
          0,
          0,
          0,
          0,
          0,
          0,
          0,
          0,
          0,
          0,
          0,
          0,
          0,
          0,
          0,
          0,
          0,
          0,
          0,
          0,
          0,
          0,
          0,
          0,
          0,
          0,
          0,
          0,
          0,
          0,
          0,
          0,
          0,
          0,
          0,
          0,
          0,
          0,
          0,
          0,
          0,
          0,
          0,
          0,
          0,
          0,
          0,
          0,
          0,
          0,
          0,
          0,
          0,
          0,
          0,
          0,
          0,
          0,
          0,
          0,
          0,
          0,
          0,
          0,
          0,
          0,
          0,
          0,
          0,
          0,
          0,
          0,
          0,
          0,
          0,
          0,
          0,
          0,
          0,
          0,
          0,
          0,
          0,
          0,
          0,
          0,
          0,
          0,
          0,
          0,
          0,
          0,
          0,
          0,
          0,
          0,
          0,
          0,
          0,
          0,
          0,
          0,
          0,
          0,
          0,
          0,
          0,
          0,
          0,
          0,
          0,
          0,
          0,
          0,
          0,
          0,
          0,
          0,
          0,
          0,
          0,
          0,
          0,
          0,
          0,
          0,
          0,
          0,
          0,
          0,
          0,
          0,
          0,
          0,
          0,
          0,
          0,
          0,
          0,
          0,
          0,
          0,
          0,
          0,
          0,
          0,
          0,
          0,
          0,
          0,
          0,
          0,
          0,
          0,
          0,
          0,
          0,
          0,
          0,
          0,
          0,
          0,
          0,
          0,
          0,
          0,
          0,
          0,
          0,
          0,
          0,
          0,
          0,
          0,
          0,
          0,
          0,
          0,
          0,
          0,
          0,
          0,
          0,
          0,
          0,
          0,
          0,
          0,
          0,
          0,
          0,
          0,
          0,
          0,
          0,
          0,
          0,
          0,
          0,
          0,
          0,
          0,
          0,
          0,
          0,
          0,
          0,
          0,
          0,
          0,
          0,
          0,
          0,
          0,
          0,
          0,
          0,
          0,
          0,
          0,
          0,
          0,
          0,
          0,
          0,
          0,
          0,
          0,
          0,
          0,
          0,
          0,
          0,
          0,
          0,
          0,
          0,
          0,
          0,
          0,
          0,
          0,
          0,
          0,
          0,
          0,
          0,
          0,
          0,
          0,
          0,
          0,
          0,
          0,
          0,
          0,
          0,
          0,
          0,
          0,
          0,
          0,
          0,
          0,
          0,
          0,
          0,
          0,
          0,
          0,
          0,
          0,
          0,
          0,
          0,
          0,
          0,
          0,
          0,
          0,
          0,
          0,
          0,
          0,
          0,
          0,
          0,
          0,
          0,
          0,
          0,
          0,
          0,
          0,
          0,
          0,
          0,
          0,
          0,
          0,
          0,
          0,
          0,
          0,
          0,
          0,
          0,
          0,
          0,
          0,
          0,
          0,
          0,
          0,
          0,
          0,
          0,
          0,
          0,
          0,
          0,
          0,
          0,
          0,
          0,
          0,
          0,
          0,
          0,
          0,
          0,
          0,
          0,
          0,
          0,
          0,
          0,
          0,
          0,
          0,
          0,
          0,
          0,
          0,
          0,
          0,
          0,
          0,
          0,
          0,
          0,
          0,
          0,
          0,
          0,
          0,
          0,
          0,
          0,
          0,
          0,
          0,
          0,
          0,
          0,
          0,
          0,
          0,
          0,
          0,
          0,
          0,
          0,
          0,
          0,
          0,
          0,
          0,
          0,
          0,
          0,
          0,
          0,
          0,
          0,
          0,
          0,
          0,
          0,
          0,
          0,
          0,
          0,
          0,
          0,
          0,
          0,
          0,
          0,
          0,
          0,
          0,
          0,
          0,
          0,
          0,
          0,
          0,
          0,
          0,
          0,
          0,
          0,
          0,
          0,
          0,
          0,
          0,
          0,
          0,
          0,
          0,
          0,
          0,
          0,
          0,
          0,
          0,
          0,
          0,
          0,
          0,
          0,
          0,
          0,
          0,
          0,
          0,
          0,
          0,
          0,
          0,
          0,
          0,
          0,
          0,
          0,
          0,
          0,
          0,
          0,
          0,
          0,
          0,
          0,
          0,
          0,
          0,
          0,
          0,
          0,
          0,
          0,
          0,
          0,
          0,
          0,
          0,
          0,
          0,
          0,
          0,
          0,
          0,
          0,
          0,
          0,
          0,
          0,
          0,
          0,
          0,
          0,
          0,
          0,
          0,
          0,
          0,
          0,
          0,
          0,
          0,
          0,
          0,
          0,
          0,
          0,
          0,
          0,
          0,
          0,
          0,
          0,
          0,
          0,
          0,
          0,
          0,
          0,
          0,
          0,
          0,
          0,
          0,
          0,
          0,
          0,
          0,
          0,
          0,
          0,
          0,
          0,
          0,
          0,
          0,
          0,
          0,
          0,
          0,
          0,
          0,
          0,
          0,
          0,
          0,
          0,
          0,
          0,
          0,
          0,
          0,
          0,
          0,
          0,
          0,
          0,
          0,
          0,
          0,
          0,
          0,
          0,
          0,
          0,
          0,
          0,
          0,
          0,
          0,
          0,
          0,
          0,
          0,
          0,
          0,
          0,
          0,
          0,
          0,
          0,
          0,
          0,
          0,
          0,
          0,
          0,
          0,
          0,
          0,
          0,
          0,
          0,
          0,
          0,
          0,
          0,
          0,
          0,
          0,
          0,
          0,
          0,
          0,
          0,
          0,
          0,
          0,
          0,
          0,
          0,
          0,
          0,
          0,
          0,
          0,
          0,
          0,
          0,
          0,
          0,
          0,
          0,
          0,
          0,
          0,
          0,
          0,
          0,
          0,
          0,
          0,
          0,
          0,
          0,
          0,
          0,
          0,
          0,
          0,
          0,
          0,
          0,
          0,
          0,
          0,
          0,
          0,
          0,
          0,
          0,
          0,
          0,
          0,
          0,
          0,
          0,
          0,
          0,
          0,
          0,
          0,
          0,
          0,
          0,
          0,
          0,
          0,
          0,
          0,
          0,
          0,
          0,
          0,
          0,
          0,
          0,
          0,
          0,
          0,
          0,
          0,
          0,
          0,
          0,
          0,
          0,
          0,
          0,
          0,
          0,
          0,
          0,
          0,
          0,
          0,
          0,
          0,
          0,
          0,
          0,
          0,
          0,
          0,
          0,
          0,
          0,
          0,
          0,
          0,
          0,
          0,
          0,
          0,
          0,
          0,
          0,
          0,
          0,
          0,
          0,
          0,
          0,
          0,
          0,
          0,
          0,
          0,
          0,
          0,
          0,
          0,
          0,
          0,
          0,
          0,
          0,
          0,
          0,
          0,
          0,
          0,
          0
         ],
         "xaxis": "x",
         "yaxis": "y"
        },
        {
         "alignmentgroup": "True",
         "bingroup": "x",
         "hovertemplate": "Results=%{x}<br>count=%{y}<extra></extra>",
         "legendgroup": "1",
         "marker": {
          "color": "#EF553B",
          "pattern": {
           "shape": ""
          }
         },
         "name": "1",
         "offsetgroup": "1",
         "orientation": "v",
         "showlegend": true,
         "type": "histogram",
         "x": [
          1,
          1,
          1,
          1,
          1,
          1,
          1,
          1,
          1,
          1,
          1,
          1,
          1,
          1,
          1,
          1,
          1,
          1,
          1,
          1,
          1,
          1,
          1,
          1,
          1,
          1,
          1,
          1,
          1,
          1,
          1,
          1,
          1,
          1,
          1,
          1,
          1,
          1,
          1,
          1,
          1,
          1,
          1,
          1,
          1,
          1,
          1,
          1,
          1,
          1,
          1,
          1
         ],
         "xaxis": "x",
         "yaxis": "y"
        }
       ],
       "layout": {
        "autosize": true,
        "barmode": "relative",
        "legend": {
         "title": {
          "text": "Results"
         },
         "tracegroupgap": 0
        },
        "margin": {
         "t": 60
        },
        "template": {
         "data": {
          "bar": [
           {
            "error_x": {
             "color": "#2a3f5f"
            },
            "error_y": {
             "color": "#2a3f5f"
            },
            "marker": {
             "line": {
              "color": "#E5ECF6",
              "width": 0.5
             },
             "pattern": {
              "fillmode": "overlay",
              "size": 10,
              "solidity": 0.2
             }
            },
            "type": "bar"
           }
          ],
          "barpolar": [
           {
            "marker": {
             "line": {
              "color": "#E5ECF6",
              "width": 0.5
             },
             "pattern": {
              "fillmode": "overlay",
              "size": 10,
              "solidity": 0.2
             }
            },
            "type": "barpolar"
           }
          ],
          "carpet": [
           {
            "aaxis": {
             "endlinecolor": "#2a3f5f",
             "gridcolor": "white",
             "linecolor": "white",
             "minorgridcolor": "white",
             "startlinecolor": "#2a3f5f"
            },
            "baxis": {
             "endlinecolor": "#2a3f5f",
             "gridcolor": "white",
             "linecolor": "white",
             "minorgridcolor": "white",
             "startlinecolor": "#2a3f5f"
            },
            "type": "carpet"
           }
          ],
          "choropleth": [
           {
            "colorbar": {
             "outlinewidth": 0,
             "ticks": ""
            },
            "type": "choropleth"
           }
          ],
          "contour": [
           {
            "colorbar": {
             "outlinewidth": 0,
             "ticks": ""
            },
            "colorscale": [
             [
              0,
              "#0d0887"
             ],
             [
              0.1111111111111111,
              "#46039f"
             ],
             [
              0.2222222222222222,
              "#7201a8"
             ],
             [
              0.3333333333333333,
              "#9c179e"
             ],
             [
              0.4444444444444444,
              "#bd3786"
             ],
             [
              0.5555555555555556,
              "#d8576b"
             ],
             [
              0.6666666666666666,
              "#ed7953"
             ],
             [
              0.7777777777777778,
              "#fb9f3a"
             ],
             [
              0.8888888888888888,
              "#fdca26"
             ],
             [
              1,
              "#f0f921"
             ]
            ],
            "type": "contour"
           }
          ],
          "contourcarpet": [
           {
            "colorbar": {
             "outlinewidth": 0,
             "ticks": ""
            },
            "type": "contourcarpet"
           }
          ],
          "heatmap": [
           {
            "colorbar": {
             "outlinewidth": 0,
             "ticks": ""
            },
            "colorscale": [
             [
              0,
              "#0d0887"
             ],
             [
              0.1111111111111111,
              "#46039f"
             ],
             [
              0.2222222222222222,
              "#7201a8"
             ],
             [
              0.3333333333333333,
              "#9c179e"
             ],
             [
              0.4444444444444444,
              "#bd3786"
             ],
             [
              0.5555555555555556,
              "#d8576b"
             ],
             [
              0.6666666666666666,
              "#ed7953"
             ],
             [
              0.7777777777777778,
              "#fb9f3a"
             ],
             [
              0.8888888888888888,
              "#fdca26"
             ],
             [
              1,
              "#f0f921"
             ]
            ],
            "type": "heatmap"
           }
          ],
          "heatmapgl": [
           {
            "colorbar": {
             "outlinewidth": 0,
             "ticks": ""
            },
            "colorscale": [
             [
              0,
              "#0d0887"
             ],
             [
              0.1111111111111111,
              "#46039f"
             ],
             [
              0.2222222222222222,
              "#7201a8"
             ],
             [
              0.3333333333333333,
              "#9c179e"
             ],
             [
              0.4444444444444444,
              "#bd3786"
             ],
             [
              0.5555555555555556,
              "#d8576b"
             ],
             [
              0.6666666666666666,
              "#ed7953"
             ],
             [
              0.7777777777777778,
              "#fb9f3a"
             ],
             [
              0.8888888888888888,
              "#fdca26"
             ],
             [
              1,
              "#f0f921"
             ]
            ],
            "type": "heatmapgl"
           }
          ],
          "histogram": [
           {
            "marker": {
             "pattern": {
              "fillmode": "overlay",
              "size": 10,
              "solidity": 0.2
             }
            },
            "type": "histogram"
           }
          ],
          "histogram2d": [
           {
            "colorbar": {
             "outlinewidth": 0,
             "ticks": ""
            },
            "colorscale": [
             [
              0,
              "#0d0887"
             ],
             [
              0.1111111111111111,
              "#46039f"
             ],
             [
              0.2222222222222222,
              "#7201a8"
             ],
             [
              0.3333333333333333,
              "#9c179e"
             ],
             [
              0.4444444444444444,
              "#bd3786"
             ],
             [
              0.5555555555555556,
              "#d8576b"
             ],
             [
              0.6666666666666666,
              "#ed7953"
             ],
             [
              0.7777777777777778,
              "#fb9f3a"
             ],
             [
              0.8888888888888888,
              "#fdca26"
             ],
             [
              1,
              "#f0f921"
             ]
            ],
            "type": "histogram2d"
           }
          ],
          "histogram2dcontour": [
           {
            "colorbar": {
             "outlinewidth": 0,
             "ticks": ""
            },
            "colorscale": [
             [
              0,
              "#0d0887"
             ],
             [
              0.1111111111111111,
              "#46039f"
             ],
             [
              0.2222222222222222,
              "#7201a8"
             ],
             [
              0.3333333333333333,
              "#9c179e"
             ],
             [
              0.4444444444444444,
              "#bd3786"
             ],
             [
              0.5555555555555556,
              "#d8576b"
             ],
             [
              0.6666666666666666,
              "#ed7953"
             ],
             [
              0.7777777777777778,
              "#fb9f3a"
             ],
             [
              0.8888888888888888,
              "#fdca26"
             ],
             [
              1,
              "#f0f921"
             ]
            ],
            "type": "histogram2dcontour"
           }
          ],
          "mesh3d": [
           {
            "colorbar": {
             "outlinewidth": 0,
             "ticks": ""
            },
            "type": "mesh3d"
           }
          ],
          "parcoords": [
           {
            "line": {
             "colorbar": {
              "outlinewidth": 0,
              "ticks": ""
             }
            },
            "type": "parcoords"
           }
          ],
          "pie": [
           {
            "automargin": true,
            "type": "pie"
           }
          ],
          "scatter": [
           {
            "marker": {
             "colorbar": {
              "outlinewidth": 0,
              "ticks": ""
             }
            },
            "type": "scatter"
           }
          ],
          "scatter3d": [
           {
            "line": {
             "colorbar": {
              "outlinewidth": 0,
              "ticks": ""
             }
            },
            "marker": {
             "colorbar": {
              "outlinewidth": 0,
              "ticks": ""
             }
            },
            "type": "scatter3d"
           }
          ],
          "scattercarpet": [
           {
            "marker": {
             "colorbar": {
              "outlinewidth": 0,
              "ticks": ""
             }
            },
            "type": "scattercarpet"
           }
          ],
          "scattergeo": [
           {
            "marker": {
             "colorbar": {
              "outlinewidth": 0,
              "ticks": ""
             }
            },
            "type": "scattergeo"
           }
          ],
          "scattergl": [
           {
            "marker": {
             "colorbar": {
              "outlinewidth": 0,
              "ticks": ""
             }
            },
            "type": "scattergl"
           }
          ],
          "scattermapbox": [
           {
            "marker": {
             "colorbar": {
              "outlinewidth": 0,
              "ticks": ""
             }
            },
            "type": "scattermapbox"
           }
          ],
          "scatterpolar": [
           {
            "marker": {
             "colorbar": {
              "outlinewidth": 0,
              "ticks": ""
             }
            },
            "type": "scatterpolar"
           }
          ],
          "scatterpolargl": [
           {
            "marker": {
             "colorbar": {
              "outlinewidth": 0,
              "ticks": ""
             }
            },
            "type": "scatterpolargl"
           }
          ],
          "scatterternary": [
           {
            "marker": {
             "colorbar": {
              "outlinewidth": 0,
              "ticks": ""
             }
            },
            "type": "scatterternary"
           }
          ],
          "surface": [
           {
            "colorbar": {
             "outlinewidth": 0,
             "ticks": ""
            },
            "colorscale": [
             [
              0,
              "#0d0887"
             ],
             [
              0.1111111111111111,
              "#46039f"
             ],
             [
              0.2222222222222222,
              "#7201a8"
             ],
             [
              0.3333333333333333,
              "#9c179e"
             ],
             [
              0.4444444444444444,
              "#bd3786"
             ],
             [
              0.5555555555555556,
              "#d8576b"
             ],
             [
              0.6666666666666666,
              "#ed7953"
             ],
             [
              0.7777777777777778,
              "#fb9f3a"
             ],
             [
              0.8888888888888888,
              "#fdca26"
             ],
             [
              1,
              "#f0f921"
             ]
            ],
            "type": "surface"
           }
          ],
          "table": [
           {
            "cells": {
             "fill": {
              "color": "#EBF0F8"
             },
             "line": {
              "color": "white"
             }
            },
            "header": {
             "fill": {
              "color": "#C8D4E3"
             },
             "line": {
              "color": "white"
             }
            },
            "type": "table"
           }
          ]
         },
         "layout": {
          "annotationdefaults": {
           "arrowcolor": "#2a3f5f",
           "arrowhead": 0,
           "arrowwidth": 1
          },
          "autotypenumbers": "strict",
          "coloraxis": {
           "colorbar": {
            "outlinewidth": 0,
            "ticks": ""
           }
          },
          "colorscale": {
           "diverging": [
            [
             0,
             "#8e0152"
            ],
            [
             0.1,
             "#c51b7d"
            ],
            [
             0.2,
             "#de77ae"
            ],
            [
             0.3,
             "#f1b6da"
            ],
            [
             0.4,
             "#fde0ef"
            ],
            [
             0.5,
             "#f7f7f7"
            ],
            [
             0.6,
             "#e6f5d0"
            ],
            [
             0.7,
             "#b8e186"
            ],
            [
             0.8,
             "#7fbc41"
            ],
            [
             0.9,
             "#4d9221"
            ],
            [
             1,
             "#276419"
            ]
           ],
           "sequential": [
            [
             0,
             "#0d0887"
            ],
            [
             0.1111111111111111,
             "#46039f"
            ],
            [
             0.2222222222222222,
             "#7201a8"
            ],
            [
             0.3333333333333333,
             "#9c179e"
            ],
            [
             0.4444444444444444,
             "#bd3786"
            ],
            [
             0.5555555555555556,
             "#d8576b"
            ],
            [
             0.6666666666666666,
             "#ed7953"
            ],
            [
             0.7777777777777778,
             "#fb9f3a"
            ],
            [
             0.8888888888888888,
             "#fdca26"
            ],
            [
             1,
             "#f0f921"
            ]
           ],
           "sequentialminus": [
            [
             0,
             "#0d0887"
            ],
            [
             0.1111111111111111,
             "#46039f"
            ],
            [
             0.2222222222222222,
             "#7201a8"
            ],
            [
             0.3333333333333333,
             "#9c179e"
            ],
            [
             0.4444444444444444,
             "#bd3786"
            ],
            [
             0.5555555555555556,
             "#d8576b"
            ],
            [
             0.6666666666666666,
             "#ed7953"
            ],
            [
             0.7777777777777778,
             "#fb9f3a"
            ],
            [
             0.8888888888888888,
             "#fdca26"
            ],
            [
             1,
             "#f0f921"
            ]
           ]
          },
          "colorway": [
           "#636efa",
           "#EF553B",
           "#00cc96",
           "#ab63fa",
           "#FFA15A",
           "#19d3f3",
           "#FF6692",
           "#B6E880",
           "#FF97FF",
           "#FECB52"
          ],
          "font": {
           "color": "#2a3f5f"
          },
          "geo": {
           "bgcolor": "white",
           "lakecolor": "white",
           "landcolor": "#E5ECF6",
           "showlakes": true,
           "showland": true,
           "subunitcolor": "white"
          },
          "hoverlabel": {
           "align": "left"
          },
          "hovermode": "closest",
          "mapbox": {
           "style": "light"
          },
          "paper_bgcolor": "white",
          "plot_bgcolor": "#E5ECF6",
          "polar": {
           "angularaxis": {
            "gridcolor": "white",
            "linecolor": "white",
            "ticks": ""
           },
           "bgcolor": "#E5ECF6",
           "radialaxis": {
            "gridcolor": "white",
            "linecolor": "white",
            "ticks": ""
           }
          },
          "scene": {
           "xaxis": {
            "backgroundcolor": "#E5ECF6",
            "gridcolor": "white",
            "gridwidth": 2,
            "linecolor": "white",
            "showbackground": true,
            "ticks": "",
            "zerolinecolor": "white"
           },
           "yaxis": {
            "backgroundcolor": "#E5ECF6",
            "gridcolor": "white",
            "gridwidth": 2,
            "linecolor": "white",
            "showbackground": true,
            "ticks": "",
            "zerolinecolor": "white"
           },
           "zaxis": {
            "backgroundcolor": "#E5ECF6",
            "gridcolor": "white",
            "gridwidth": 2,
            "linecolor": "white",
            "showbackground": true,
            "ticks": "",
            "zerolinecolor": "white"
           }
          },
          "shapedefaults": {
           "line": {
            "color": "#2a3f5f"
           }
          },
          "ternary": {
           "aaxis": {
            "gridcolor": "white",
            "linecolor": "white",
            "ticks": ""
           },
           "baxis": {
            "gridcolor": "white",
            "linecolor": "white",
            "ticks": ""
           },
           "bgcolor": "#E5ECF6",
           "caxis": {
            "gridcolor": "white",
            "linecolor": "white",
            "ticks": ""
           }
          },
          "title": {
           "x": 0.05
          },
          "xaxis": {
           "automargin": true,
           "gridcolor": "white",
           "linecolor": "white",
           "ticks": "",
           "title": {
            "standoff": 15
           },
           "zerolinecolor": "white",
           "zerolinewidth": 2
          },
          "yaxis": {
           "automargin": true,
           "gridcolor": "white",
           "linecolor": "white",
           "ticks": "",
           "title": {
            "standoff": 15
           },
           "zerolinecolor": "white",
           "zerolinewidth": 2
          }
         }
        },
        "xaxis": {
         "anchor": "y",
         "autorange": true,
         "categoryarray": [
          0,
          1
         ],
         "categoryorder": "array",
         "domain": [
          0,
          1
         ],
         "range": [
          -0.5,
          1.5
         ],
         "title": {
          "text": "Results"
         },
         "type": "linear"
        },
        "yaxis": {
         "anchor": "x",
         "autorange": true,
         "domain": [
          0,
          1
         ],
         "range": [
          0,
          787.3684210526316
         ],
         "title": {
          "text": "count"
         }
        }
       }
      },
      "image/png": "[encoded data removed]",
      "text/html": [
       "<div>                            <div id=\"17147bff-4552-447c-8039-9c97c008288a\" class=\"plotly-graph-div\" style=\"height:525px; width:100%;\"></div>            <script type=\"text/javascript\">                require([\"plotly\"], function(Plotly) {                    window.PLOTLYENV=window.PLOTLYENV || {};                                    if (document.getElementById(\"17147bff-4552-447c-8039-9c97c008288a\")) {                    Plotly.newPlot(                        \"17147bff-4552-447c-8039-9c97c008288a\",                        [{\"alignmentgroup\":\"True\",\"bingroup\":\"x\",\"hovertemplate\":\"Results=%{x}<br>count=%{y}<extra></extra>\",\"legendgroup\":\"0\",\"marker\":{\"color\":\"#636efa\",\"pattern\":{\"shape\":\"\"}},\"name\":\"0\",\"offsetgroup\":\"0\",\"orientation\":\"v\",\"showlegend\":true,\"x\":[0,0,0,0,0,0,0,0,0,0,0,0,0,0,0,0,0,0,0,0,0,0,0,0,0,0,0,0,0,0,0,0,0,0,0,0,0,0,0,0,0,0,0,0,0,0,0,0,0,0,0,0,0,0,0,0,0,0,0,0,0,0,0,0,0,0,0,0,0,0,0,0,0,0,0,0,0,0,0,0,0,0,0,0,0,0,0,0,0,0,0,0,0,0,0,0,0,0,0,0,0,0,0,0,0,0,0,0,0,0,0,0,0,0,0,0,0,0,0,0,0,0,0,0,0,0,0,0,0,0,0,0,0,0,0,0,0,0,0,0,0,0,0,0,0,0,0,0,0,0,0,0,0,0,0,0,0,0,0,0,0,0,0,0,0,0,0,0,0,0,0,0,0,0,0,0,0,0,0,0,0,0,0,0,0,0,0,0,0,0,0,0,0,0,0,0,0,0,0,0,0,0,0,0,0,0,0,0,0,0,0,0,0,0,0,0,0,0,0,0,0,0,0,0,0,0,0,0,0,0,0,0,0,0,0,0,0,0,0,0,0,0,0,0,0,0,0,0,0,0,0,0,0,0,0,0,0,0,0,0,0,0,0,0,0,0,0,0,0,0,0,0,0,0,0,0,0,0,0,0,0,0,0,0,0,0,0,0,0,0,0,0,0,0,0,0,0,0,0,0,0,0,0,0,0,0,0,0,0,0,0,0,0,0,0,0,0,0,0,0,0,0,0,0,0,0,0,0,0,0,0,0,0,0,0,0,0,0,0,0,0,0,0,0,0,0,0,0,0,0,0,0,0,0,0,0,0,0,0,0,0,0,0,0,0,0,0,0,0,0,0,0,0,0,0,0,0,0,0,0,0,0,0,0,0,0,0,0,0,0,0,0,0,0,0,0,0,0,0,0,0,0,0,0,0,0,0,0,0,0,0,0,0,0,0,0,0,0,0,0,0,0,0,0,0,0,0,0,0,0,0,0,0,0,0,0,0,0,0,0,0,0,0,0,0,0,0,0,0,0,0,0,0,0,0,0,0,0,0,0,0,0,0,0,0,0,0,0,0,0,0,0,0,0,0,0,0,0,0,0,0,0,0,0,0,0,0,0,0,0,0,0,0,0,0,0,0,0,0,0,0,0,0,0,0,0,0,0,0,0,0,0,0,0,0,0,0,0,0,0,0,0,0,0,0,0,0,0,0,0,0,0,0,0,0,0,0,0,0,0,0,0,0,0,0,0,0,0,0,0,0,0,0,0,0,0,0,0,0,0,0,0,0,0,0,0,0,0,0,0,0,0,0,0,0,0,0,0,0,0,0,0,0,0,0,0,0,0,0,0,0,0,0,0,0,0,0,0,0,0,0,0,0,0,0,0,0,0,0,0,0,0,0,0,0,0,0,0,0,0,0,0,0,0,0,0,0,0,0,0,0,0,0,0,0,0,0,0,0,0,0,0,0,0,0,0,0,0,0,0,0,0,0,0,0,0,0,0,0,0,0,0,0,0,0,0,0,0,0,0,0,0,0,0,0,0,0,0,0,0,0,0,0,0,0,0,0,0,0,0,0,0,0,0,0,0,0,0,0,0,0,0,0,0,0,0,0,0,0,0,0,0,0,0,0,0,0,0,0,0,0,0,0,0,0,0,0,0,0,0,0,0,0,0,0,0,0,0,0,0,0,0,0,0,0,0,0,0],\"xaxis\":\"x\",\"yaxis\":\"y\",\"type\":\"histogram\"},{\"alignmentgroup\":\"True\",\"bingroup\":\"x\",\"hovertemplate\":\"Results=%{x}<br>count=%{y}<extra></extra>\",\"legendgroup\":\"1\",\"marker\":{\"color\":\"#EF553B\",\"pattern\":{\"shape\":\"\"}},\"name\":\"1\",\"offsetgroup\":\"1\",\"orientation\":\"v\",\"showlegend\":true,\"x\":[1,1,1,1,1,1,1,1,1,1,1,1,1,1,1,1,1,1,1,1,1,1,1,1,1,1,1,1,1,1,1,1,1,1,1,1,1,1,1,1,1,1,1,1,1,1,1,1,1,1,1,1],\"xaxis\":\"x\",\"yaxis\":\"y\",\"type\":\"histogram\"}],                        {\"template\":{\"data\":{\"bar\":[{\"error_x\":{\"color\":\"#2a3f5f\"},\"error_y\":{\"color\":\"#2a3f5f\"},\"marker\":{\"line\":{\"color\":\"#E5ECF6\",\"width\":0.5},\"pattern\":{\"fillmode\":\"overlay\",\"size\":10,\"solidity\":0.2}},\"type\":\"bar\"}],\"barpolar\":[{\"marker\":{\"line\":{\"color\":\"#E5ECF6\",\"width\":0.5},\"pattern\":{\"fillmode\":\"overlay\",\"size\":10,\"solidity\":0.2}},\"type\":\"barpolar\"}],\"carpet\":[{\"aaxis\":{\"endlinecolor\":\"#2a3f5f\",\"gridcolor\":\"white\",\"linecolor\":\"white\",\"minorgridcolor\":\"white\",\"startlinecolor\":\"#2a3f5f\"},\"baxis\":{\"endlinecolor\":\"#2a3f5f\",\"gridcolor\":\"white\",\"linecolor\":\"white\",\"minorgridcolor\":\"white\",\"startlinecolor\":\"#2a3f5f\"},\"type\":\"carpet\"}],\"choropleth\":[{\"colorbar\":{\"outlinewidth\":0,\"ticks\":\"\"},\"type\":\"choropleth\"}],\"contour\":[{\"colorbar\":{\"outlinewidth\":0,\"ticks\":\"\"},\"colorscale\":[[0.0,\"#0d0887\"],[0.1111111111111111,\"#46039f\"],[0.2222222222222222,\"#7201a8\"],[0.3333333333333333,\"#9c179e\"],[0.4444444444444444,\"#bd3786\"],[0.5555555555555556,\"#d8576b\"],[0.6666666666666666,\"#ed7953\"],[0.7777777777777778,\"#fb9f3a\"],[0.8888888888888888,\"#fdca26\"],[1.0,\"#f0f921\"]],\"type\":\"contour\"}],\"contourcarpet\":[{\"colorbar\":{\"outlinewidth\":0,\"ticks\":\"\"},\"type\":\"contourcarpet\"}],\"heatmap\":[{\"colorbar\":{\"outlinewidth\":0,\"ticks\":\"\"},\"colorscale\":[[0.0,\"#0d0887\"],[0.1111111111111111,\"#46039f\"],[0.2222222222222222,\"#7201a8\"],[0.3333333333333333,\"#9c179e\"],[0.4444444444444444,\"#bd3786\"],[0.5555555555555556,\"#d8576b\"],[0.6666666666666666,\"#ed7953\"],[0.7777777777777778,\"#fb9f3a\"],[0.8888888888888888,\"#fdca26\"],[1.0,\"#f0f921\"]],\"type\":\"heatmap\"}],\"heatmapgl\":[{\"colorbar\":{\"outlinewidth\":0,\"ticks\":\"\"},\"colorscale\":[[0.0,\"#0d0887\"],[0.1111111111111111,\"#46039f\"],[0.2222222222222222,\"#7201a8\"],[0.3333333333333333,\"#9c179e\"],[0.4444444444444444,\"#bd3786\"],[0.5555555555555556,\"#d8576b\"],[0.6666666666666666,\"#ed7953\"],[0.7777777777777778,\"#fb9f3a\"],[0.8888888888888888,\"#fdca26\"],[1.0,\"#f0f921\"]],\"type\":\"heatmapgl\"}],\"histogram\":[{\"marker\":{\"pattern\":{\"fillmode\":\"overlay\",\"size\":10,\"solidity\":0.2}},\"type\":\"histogram\"}],\"histogram2d\":[{\"colorbar\":{\"outlinewidth\":0,\"ticks\":\"\"},\"colorscale\":[[0.0,\"#0d0887\"],[0.1111111111111111,\"#46039f\"],[0.2222222222222222,\"#7201a8\"],[0.3333333333333333,\"#9c179e\"],[0.4444444444444444,\"#bd3786\"],[0.5555555555555556,\"#d8576b\"],[0.6666666666666666,\"#ed7953\"],[0.7777777777777778,\"#fb9f3a\"],[0.8888888888888888,\"#fdca26\"],[1.0,\"#f0f921\"]],\"type\":\"histogram2d\"}],\"histogram2dcontour\":[{\"colorbar\":{\"outlinewidth\":0,\"ticks\":\"\"},\"colorscale\":[[0.0,\"#0d0887\"],[0.1111111111111111,\"#46039f\"],[0.2222222222222222,\"#7201a8\"],[0.3333333333333333,\"#9c179e\"],[0.4444444444444444,\"#bd3786\"],[0.5555555555555556,\"#d8576b\"],[0.6666666666666666,\"#ed7953\"],[0.7777777777777778,\"#fb9f3a\"],[0.8888888888888888,\"#fdca26\"],[1.0,\"#f0f921\"]],\"type\":\"histogram2dcontour\"}],\"mesh3d\":[{\"colorbar\":{\"outlinewidth\":0,\"ticks\":\"\"},\"type\":\"mesh3d\"}],\"parcoords\":[{\"line\":{\"colorbar\":{\"outlinewidth\":0,\"ticks\":\"\"}},\"type\":\"parcoords\"}],\"pie\":[{\"automargin\":true,\"type\":\"pie\"}],\"scatter\":[{\"marker\":{\"colorbar\":{\"outlinewidth\":0,\"ticks\":\"\"}},\"type\":\"scatter\"}],\"scatter3d\":[{\"line\":{\"colorbar\":{\"outlinewidth\":0,\"ticks\":\"\"}},\"marker\":{\"colorbar\":{\"outlinewidth\":0,\"ticks\":\"\"}},\"type\":\"scatter3d\"}],\"scattercarpet\":[{\"marker\":{\"colorbar\":{\"outlinewidth\":0,\"ticks\":\"\"}},\"type\":\"scattercarpet\"}],\"scattergeo\":[{\"marker\":{\"colorbar\":{\"outlinewidth\":0,\"ticks\":\"\"}},\"type\":\"scattergeo\"}],\"scattergl\":[{\"marker\":{\"colorbar\":{\"outlinewidth\":0,\"ticks\":\"\"}},\"type\":\"scattergl\"}],\"scattermapbox\":[{\"marker\":{\"colorbar\":{\"outlinewidth\":0,\"ticks\":\"\"}},\"type\":\"scattermapbox\"}],\"scatterpolar\":[{\"marker\":{\"colorbar\":{\"outlinewidth\":0,\"ticks\":\"\"}},\"type\":\"scatterpolar\"}],\"scatterpolargl\":[{\"marker\":{\"colorbar\":{\"outlinewidth\":0,\"ticks\":\"\"}},\"type\":\"scatterpolargl\"}],\"scatterternary\":[{\"marker\":{\"colorbar\":{\"outlinewidth\":0,\"ticks\":\"\"}},\"type\":\"scatterternary\"}],\"surface\":[{\"colorbar\":{\"outlinewidth\":0,\"ticks\":\"\"},\"colorscale\":[[0.0,\"#0d0887\"],[0.1111111111111111,\"#46039f\"],[0.2222222222222222,\"#7201a8\"],[0.3333333333333333,\"#9c179e\"],[0.4444444444444444,\"#bd3786\"],[0.5555555555555556,\"#d8576b\"],[0.6666666666666666,\"#ed7953\"],[0.7777777777777778,\"#fb9f3a\"],[0.8888888888888888,\"#fdca26\"],[1.0,\"#f0f921\"]],\"type\":\"surface\"}],\"table\":[{\"cells\":{\"fill\":{\"color\":\"#EBF0F8\"},\"line\":{\"color\":\"white\"}},\"header\":{\"fill\":{\"color\":\"#C8D4E3\"},\"line\":{\"color\":\"white\"}},\"type\":\"table\"}]},\"layout\":{\"annotationdefaults\":{\"arrowcolor\":\"#2a3f5f\",\"arrowhead\":0,\"arrowwidth\":1},\"autotypenumbers\":\"strict\",\"coloraxis\":{\"colorbar\":{\"outlinewidth\":0,\"ticks\":\"\"}},\"colorscale\":{\"diverging\":[[0,\"#8e0152\"],[0.1,\"#c51b7d\"],[0.2,\"#de77ae\"],[0.3,\"#f1b6da\"],[0.4,\"#fde0ef\"],[0.5,\"#f7f7f7\"],[0.6,\"#e6f5d0\"],[0.7,\"#b8e186\"],[0.8,\"#7fbc41\"],[0.9,\"#4d9221\"],[1,\"#276419\"]],\"sequential\":[[0.0,\"#0d0887\"],[0.1111111111111111,\"#46039f\"],[0.2222222222222222,\"#7201a8\"],[0.3333333333333333,\"#9c179e\"],[0.4444444444444444,\"#bd3786\"],[0.5555555555555556,\"#d8576b\"],[0.6666666666666666,\"#ed7953\"],[0.7777777777777778,\"#fb9f3a\"],[0.8888888888888888,\"#fdca26\"],[1.0,\"#f0f921\"]],\"sequentialminus\":[[0.0,\"#0d0887\"],[0.1111111111111111,\"#46039f\"],[0.2222222222222222,\"#7201a8\"],[0.3333333333333333,\"#9c179e\"],[0.4444444444444444,\"#bd3786\"],[0.5555555555555556,\"#d8576b\"],[0.6666666666666666,\"#ed7953\"],[0.7777777777777778,\"#fb9f3a\"],[0.8888888888888888,\"#fdca26\"],[1.0,\"#f0f921\"]]},\"colorway\":[\"#636efa\",\"#EF553B\",\"#00cc96\",\"#ab63fa\",\"#FFA15A\",\"#19d3f3\",\"#FF6692\",\"#B6E880\",\"#FF97FF\",\"#FECB52\"],\"font\":{\"color\":\"#2a3f5f\"},\"geo\":{\"bgcolor\":\"white\",\"lakecolor\":\"white\",\"landcolor\":\"#E5ECF6\",\"showlakes\":true,\"showland\":true,\"subunitcolor\":\"white\"},\"hoverlabel\":{\"align\":\"left\"},\"hovermode\":\"closest\",\"mapbox\":{\"style\":\"light\"},\"paper_bgcolor\":\"white\",\"plot_bgcolor\":\"#E5ECF6\",\"polar\":{\"angularaxis\":{\"gridcolor\":\"white\",\"linecolor\":\"white\",\"ticks\":\"\"},\"bgcolor\":\"#E5ECF6\",\"radialaxis\":{\"gridcolor\":\"white\",\"linecolor\":\"white\",\"ticks\":\"\"}},\"scene\":{\"xaxis\":{\"backgroundcolor\":\"#E5ECF6\",\"gridcolor\":\"white\",\"gridwidth\":2,\"linecolor\":\"white\",\"showbackground\":true,\"ticks\":\"\",\"zerolinecolor\":\"white\"},\"yaxis\":{\"backgroundcolor\":\"#E5ECF6\",\"gridcolor\":\"white\",\"gridwidth\":2,\"linecolor\":\"white\",\"showbackground\":true,\"ticks\":\"\",\"zerolinecolor\":\"white\"},\"zaxis\":{\"backgroundcolor\":\"#E5ECF6\",\"gridcolor\":\"white\",\"gridwidth\":2,\"linecolor\":\"white\",\"showbackground\":true,\"ticks\":\"\",\"zerolinecolor\":\"white\"}},\"shapedefaults\":{\"line\":{\"color\":\"#2a3f5f\"}},\"ternary\":{\"aaxis\":{\"gridcolor\":\"white\",\"linecolor\":\"white\",\"ticks\":\"\"},\"baxis\":{\"gridcolor\":\"white\",\"linecolor\":\"white\",\"ticks\":\"\"},\"bgcolor\":\"#E5ECF6\",\"caxis\":{\"gridcolor\":\"white\",\"linecolor\":\"white\",\"ticks\":\"\"}},\"title\":{\"x\":0.05},\"xaxis\":{\"automargin\":true,\"gridcolor\":\"white\",\"linecolor\":\"white\",\"ticks\":\"\",\"title\":{\"standoff\":15},\"zerolinecolor\":\"white\",\"zerolinewidth\":2},\"yaxis\":{\"automargin\":true,\"gridcolor\":\"white\",\"linecolor\":\"white\",\"ticks\":\"\",\"title\":{\"standoff\":15},\"zerolinecolor\":\"white\",\"zerolinewidth\":2}}},\"xaxis\":{\"anchor\":\"y\",\"domain\":[0.0,1.0],\"title\":{\"text\":\"Results\"},\"categoryorder\":\"array\",\"categoryarray\":[0,1]},\"yaxis\":{\"anchor\":\"x\",\"domain\":[0.0,1.0],\"title\":{\"text\":\"count\"}},\"legend\":{\"title\":{\"text\":\"Results\"},\"tracegroupgap\":0},\"margin\":{\"t\":60},\"barmode\":\"relative\"},                        {\"responsive\": true}                    ).then(function(){\n",
       "                            \n",
       "var gd = document.getElementById('17147bff-4552-447c-8039-9c97c008288a');\n",
       "var x = new MutationObserver(function (mutations, observer) {{\n",
       "        var display = window.getComputedStyle(gd).display;\n",
       "        if (!display || display === 'none') {{\n",
       "            console.log([gd, 'removed!']);\n",
       "            Plotly.purge(gd);\n",
       "            observer.disconnect();\n",
       "        }}\n",
       "}});\n",
       "\n",
       "// Listen for the removal of the full notebook cells\n",
       "var notebookContainer = gd.closest('#notebook-container');\n",
       "if (notebookContainer) {{\n",
       "    x.observe(notebookContainer, {childList: true});\n",
       "}}\n",
       "\n",
       "// Listen for the clearing of the current output cell\n",
       "var outputEl = gd.closest('.output');\n",
       "if (outputEl) {{\n",
       "    x.observe(outputEl, {childList: true});\n",
       "}}\n",
       "\n",
       "                        })                };                });            </script>        </div>"
      ]
     },
     "metadata": {},
     "output_type": "display_data"
    }
   ],
   "source": [
    "px.histogram(data_frame = df5, x= \"Results\", color= \"Results\")"
   ]
  },
  {
   "cell_type": "code",
   "execution_count": 254,
   "id": "7f6b04eb-c773-432b-ba59-813cc31d8efb",
   "metadata": {},
   "outputs": [
    {
     "data": {
      "text/plain": [
       "Type 1\n",
       "Water       112\n",
       "Normal       98\n",
       "Grass        70\n",
       "Bug          69\n",
       "Psychic      57\n",
       "Fire         52\n",
       "Electric     44\n",
       "Rock         44\n",
       "Ghost        32\n",
       "Ground       32\n",
       "Dragon       32\n",
       "Dark         31\n",
       "Poison       28\n",
       "Fighting     27\n",
       "Steel        27\n",
       "Ice          24\n",
       "Fairy        17\n",
       "Flying        4\n",
       "dtype: int64"
      ]
     },
     "execution_count": 254,
     "metadata": {},
     "output_type": "execute_result"
    }
   ],
   "source": [
    "df5.value_counts(\"Type 1\")"
   ]
  },
  {
   "cell_type": "code",
   "execution_count": null,
   "id": "743894d2-6246-4c07-ad5d-9aff952d9b2c",
   "metadata": {},
   "outputs": [],
   "source": []
  }
 ],
 "metadata": {
  "kernelspec": {
   "display_name": "Python 3 (ipykernel)",
   "language": "python",
   "name": "python3"
  },
  "language_info": {
   "codemirror_mode": {
    "name": "ipython",
    "version": 3
   },
   "file_extension": ".py",
   "mimetype": "text/x-python",
   "name": "python",
   "nbconvert_exporter": "python",
   "pygments_lexer": "ipython3",
   "version": "3.9.13"
  }
 },
 "nbformat": 4,
 "nbformat_minor": 5
}
